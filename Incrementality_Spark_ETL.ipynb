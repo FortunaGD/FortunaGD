{
 "cells": [
  {
   "cell_type": "code",
   "execution_count": 1,
   "id": "9636e2e6",
   "metadata": {},
   "outputs": [
    {
     "data": {
      "application/vnd.jupyter.widget-view+json": {
       "model_id": "e7012bc3f0b0429ebb6013263eeee954",
       "version_major": 2,
       "version_minor": 0
      },
      "text/plain": [
       "VBox()"
      ]
     },
     "metadata": {},
     "output_type": "display_data"
    },
    {
     "name": "stdout",
     "output_type": "stream",
     "text": [
      "Starting Spark application\n"
     ]
    },
    {
     "data": {
      "text/html": [
       "<table>\n",
       "<tr><th>ID</th><th>YARN Application ID</th><th>Kind</th><th>State</th><th>Spark UI</th><th>Driver log</th><th>User</th><th>Current session?</th></tr><tr><td>0</td><td>application_1672841601030_0001</td><td>pyspark</td><td>idle</td><td></td><td></td><td>None</td><td>✔</td></tr></table>"
      ],
      "text/plain": [
       "<IPython.core.display.HTML object>"
      ]
     },
     "metadata": {},
     "output_type": "display_data"
    },
    {
     "data": {
      "application/vnd.jupyter.widget-view+json": {
       "model_id": "",
       "version_major": 2,
       "version_minor": 0
      },
      "text/plain": [
       "FloatProgress(value=0.0, bar_style='info', description='Progress:', layout=Layout(height='25px', width='50%'),…"
      ]
     },
     "metadata": {},
     "output_type": "display_data"
    },
    {
     "name": "stdout",
     "output_type": "stream",
     "text": [
      "SparkSession available as 'spark'.\n"
     ]
    },
    {
     "data": {
      "application/vnd.jupyter.widget-view+json": {
       "model_id": "",
       "version_major": 2,
       "version_minor": 0
      },
      "text/plain": [
       "FloatProgress(value=0.0, bar_style='info', description='Progress:', layout=Layout(height='25px', width='50%'),…"
      ]
     },
     "metadata": {},
     "output_type": "display_data"
    }
   ],
   "source": [
    "import pyspark\n",
    "from pyspark.context import SparkContext\n",
    "import pyspark.sql.functions as F\n",
    "from pyspark.sql.functions import row_number, expr, explode, udf, col,  monotonically_increasing_id, when\n",
    "from pyspark.sql.types import StructType, IntegerType, StringType, ByteType\n",
    "from pyspark.sql.window import Window\n",
    "import datetime, time\n",
    "import random"
   ]
  },
  {
   "cell_type": "markdown",
   "id": "9f79a7d2",
   "metadata": {},
   "source": [
    "# Data Preparation"
   ]
  },
  {
   "cell_type": "code",
   "execution_count": 2,
   "id": "34defee2",
   "metadata": {},
   "outputs": [
    {
     "data": {
      "application/vnd.jupyter.widget-view+json": {
       "model_id": "80bb6a072cbc4c5ab8009988698233e1",
       "version_major": 2,
       "version_minor": 0
      },
      "text/plain": [
       "VBox()"
      ]
     },
     "metadata": {},
     "output_type": "display_data"
    },
    {
     "data": {
      "application/vnd.jupyter.widget-view+json": {
       "model_id": "",
       "version_major": 2,
       "version_minor": 0
      },
      "text/plain": [
       "FloatProgress(value=0.0, bar_style='info', description='Progress:', layout=Layout(height='25px', width='50%'),…"
      ]
     },
     "metadata": {},
     "output_type": "display_data"
    }
   ],
   "source": [
    "# Read campaign experiment data\n",
    "h1 = spark.read \\\n",
    "    .parquet('s3://panel-ml-incrementality-data/incrementality/flipper-experiment-data/3bc859c4-5398-4eb1-89d5-17466537a8bf/*/*')\n",
    "h1.createOrReplaceTempView(\"h1_v\")\n",
    "\n",
    "h2 = spark.read \\\n",
    "    .parquet('s3://panel-ml-incrementality-data/incrementality/flipper-experiment-data/22d45946-f091-4be3-92e5-c45ed375de30/*/*')\n",
    "h2.createOrReplaceTempView(\"h2_v\")"
   ]
  },
  {
   "cell_type": "code",
   "execution_count": 3,
   "id": "ef6dab0d",
   "metadata": {},
   "outputs": [
    {
     "data": {
      "application/vnd.jupyter.widget-view+json": {
       "model_id": "522e2381b2f44c6591a9a7a65327790a",
       "version_major": 2,
       "version_minor": 0
      },
      "text/plain": [
       "VBox()"
      ]
     },
     "metadata": {},
     "output_type": "display_data"
    },
    {
     "data": {
      "application/vnd.jupyter.widget-view+json": {
       "model_id": "",
       "version_major": 2,
       "version_minor": 0
      },
      "text/plain": [
       "FloatProgress(value=0.0, bar_style='info', description='Progress:', layout=Layout(height='25px', width='50%'),…"
      ]
     },
     "metadata": {},
     "output_type": "display_data"
    }
   ],
   "source": [
    "# Union camapign experiment data\n",
    "full_data = spark.sql(\"\"\"\n",
    "select *,\n",
    "'Halloween1' as experiment \n",
    "from h1_v \n",
    "where audienceFunnel = 'FLIPPER_AD_EXPOSURE_AUDIENCE'\n",
    "union\n",
    "select adUserId, audienceFunnel, recordedTreatmentStatus, date,'Halloween2' as experiment  \n",
    "from h2_v\n",
    "where audienceFunnel = 'FLIPPER_EXPERIMENT_AUDIENCE'\n",
    "\"\"\")\n",
    "full_data.createOrReplaceTempView(\"df\")"
   ]
  },
  {
   "cell_type": "code",
   "execution_count": 4,
   "id": "722fad27",
   "metadata": {},
   "outputs": [
    {
     "data": {
      "application/vnd.jupyter.widget-view+json": {
       "model_id": "d2acf0c066244bf3963519695c69019c",
       "version_major": 2,
       "version_minor": 0
      },
      "text/plain": [
       "VBox()"
      ]
     },
     "metadata": {},
     "output_type": "display_data"
    },
    {
     "data": {
      "application/vnd.jupyter.widget-view+json": {
       "model_id": "",
       "version_major": 2,
       "version_minor": 0
      },
      "text/plain": [
       "FloatProgress(value=0.0, bar_style='info', description='Progress:', layout=Layout(height='25px', width='50%'),…"
      ]
     },
     "metadata": {},
     "output_type": "display_data"
    },
    {
     "name": "stdout",
     "output_type": "stream",
     "text": [
      "+----------+----------+\n",
      "| min(date)| max(date)|\n",
      "+----------+----------+\n",
      "|2022-08-15|2022-10-31|\n",
      "+----------+----------+"
     ]
    }
   ],
   "source": [
    "# Check camapign date\n",
    "spark.sql(\"\"\"select min(date), max(date) from df\"\"\").show()"
   ]
  },
  {
   "cell_type": "code",
   "execution_count": 25,
   "id": "f80eef78",
   "metadata": {},
   "outputs": [
    {
     "data": {
      "application/vnd.jupyter.widget-view+json": {
       "model_id": "09d33b807252474683450749d0278cfa",
       "version_major": 2,
       "version_minor": 0
      },
      "text/plain": [
       "VBox()"
      ]
     },
     "metadata": {},
     "output_type": "display_data"
    },
    {
     "data": {
      "application/vnd.jupyter.widget-view+json": {
       "model_id": "",
       "version_major": 2,
       "version_minor": 0
      },
      "text/plain": [
       "FloatProgress(value=0.0, bar_style='info', description='Progress:', layout=Layout(height='25px', width='50%'),…"
      ]
     },
     "metadata": {},
     "output_type": "display_data"
    },
    {
     "name": "stdout",
     "output_type": "stream",
     "text": [
      "'20230104'"
     ]
    }
   ],
   "source": [
    "# today date\n",
    "today = spark.sql(\"\"\"select date_format(current_date(), \"yyyyMMDD\")\"\"\").first()[0]\n",
    "today"
   ]
  },
  {
   "cell_type": "code",
   "execution_count": 10,
   "id": "868120f2",
   "metadata": {},
   "outputs": [
    {
     "data": {
      "application/vnd.jupyter.widget-view+json": {
       "model_id": "6970ed25f6c04958b7bdc9c5f19824d1",
       "version_major": 2,
       "version_minor": 0
      },
      "text/plain": [
       "VBox()"
      ]
     },
     "metadata": {},
     "output_type": "display_data"
    },
    {
     "data": {
      "application/vnd.jupyter.widget-view+json": {
       "model_id": "",
       "version_major": 2,
       "version_minor": 0
      },
      "text/plain": [
       "FloatProgress(value=0.0, bar_style='info', description='Progress:', layout=Layout(height='25px', width='50%'),…"
      ]
     },
     "metadata": {},
     "output_type": "display_data"
    }
   ],
   "source": [
    "experiment = 'halloween'"
   ]
  },
  {
   "cell_type": "code",
   "execution_count": 5,
   "id": "da7b22ae",
   "metadata": {},
   "outputs": [
    {
     "data": {
      "application/vnd.jupyter.widget-view+json": {
       "model_id": "c4c8cde46a264687a4d1f2e0d6d6963d",
       "version_major": 2,
       "version_minor": 0
      },
      "text/plain": [
       "VBox()"
      ]
     },
     "metadata": {},
     "output_type": "display_data"
    },
    {
     "data": {
      "application/vnd.jupyter.widget-view+json": {
       "model_id": "",
       "version_major": 2,
       "version_minor": 0
      },
      "text/plain": [
       "FloatProgress(value=0.0, bar_style='info', description='Progress:', layout=Layout(height='25px', width='50%'),…"
      ]
     },
     "metadata": {},
     "output_type": "display_data"
    }
   ],
   "source": [
    "# Hershey's brands\n",
    "brandaidids = \"\"\"\n",
    "('BRAND|BRAND_AID|188fab47-dd2f-3ca6-ae64-efc94d762157',\n",
    "         'BRAND|BRAND_AID|1de8f676-e136-3a10-a9b1-bbb62445b067',\n",
    "         'BRAND|BRAND_AID|2bbc78e8-d532-39ad-b0e0-9f94dd0ccf9d',\n",
    "         'BRAND|BRAND_AID|44af4ccd-f346-38de-9712-6986c0c55604',\n",
    "         'BRAND|BRAND_AID|4acc765e-10a9-37ab-a5db-b71b60e676e7',\n",
    "         'BRAND|BRAND_AID|4dd231fa-7959-3816-97ff-f4870c165edb',\n",
    "         'BRAND|BRAND_AID|4e8b140d-b7a5-31f9-aa55-ca700f9391e9',\n",
    "         'BRAND|BRAND_AID|6e2e645c-6641-3c1a-8a4e-384fbd1654ef',\n",
    "         'BRAND|BRAND_AID|7c28d380-6e2a-3b57-9c5e-ad1113a56d47',\n",
    "         'BRAND|BRAND_AID|7cc191d1-6226-370b-94b0-e97cf44cf33d',\n",
    "         'BRAND|BRAND_AID|8ccd4650-9a1d-3244-a7cd-dac899b81cab',\n",
    "         'BRAND|BRAND_AID|c0193602-6a44-391d-a65c-87183d5a695b',\n",
    "         'BRAND|BRAND_AID|cda0ae9f-a145-3110-9a3b-c4d1c064bcb2',\n",
    "         'BRAND|BRAND_AID|d23eb567-2d82-3eea-af2b-6766f995788b',\n",
    "         'BRAND|BRAND_AID|d6a1e8bd-c39b-3984-be75-31003d4aa49e',\n",
    "         'BRAND|BRAND_AID|de6e7b73-4030-3978-85a5-b084634f27f4',\n",
    "         'BRAND|BRAND_AID|e0680ca5-4ff5-3b4d-99a5-6aabd8c4a932',\n",
    "         'BRAND|BRAND_AID|fdbb33c1-602c-3c7b-94b1-3fca11816c0a',\n",
    "         'BRAND|BRAND_AID|2bbc78e8-d532-39ad-b0e0-9f94dd0ccf9d',\n",
    "         'BRAND|BRAND_AID|44af4ccd-f346-38de-9712-6986c0c55604',\n",
    "         'BRAND|BRAND_AID|4acc765e-10a9-37ab-a5db-b71b60e676e7',\n",
    "         'BRAND|BRAND_AID|4dd231fa-7959-3816-97ff-f4870c165edb',\n",
    "         'BRAND|BRAND_AID|7cc191d1-6226-370b-94b0-e97cf44cf33d',\n",
    "         'BRAND|BRAND_AID|d6a1e8bd-c39b-3984-be75-31003d4aa49e',\n",
    "         'BRAND|BRAND_AID|e0680ca5-4ff5-3b4d-99a5-6aabd8c4a932')\n",
    "\"\"\""
   ]
  },
  {
   "cell_type": "code",
   "execution_count": 6,
   "id": "7a0b8c5a",
   "metadata": {},
   "outputs": [
    {
     "data": {
      "application/vnd.jupyter.widget-view+json": {
       "model_id": "5068353a5cb14cdba7b86cc97de3ddea",
       "version_major": 2,
       "version_minor": 0
      },
      "text/plain": [
       "VBox()"
      ]
     },
     "metadata": {},
     "output_type": "display_data"
    },
    {
     "data": {
      "application/vnd.jupyter.widget-view+json": {
       "model_id": "",
       "version_major": 2,
       "version_minor": 0
      },
      "text/plain": [
       "FloatProgress(value=0.0, bar_style='info', description='Progress:', layout=Layout(height='25px', width='50%'),…"
      ]
     },
     "metadata": {},
     "output_type": "display_data"
    },
    {
     "name": "stdout",
     "output_type": "stream",
     "text": [
      "+--------------------+-----------------------+--------------------+----------+----------+--------------+------------+--------------+\n",
      "|      audienceFunnel|recordedTreatmentStatus|            adUserId|      date|experiment|exp_start_date|exp_end_date|ads_exp_length|\n",
      "+--------------------+-----------------------+--------------------+----------+----------+--------------+------------+--------------+\n",
      "|FLIPPER_AD_EXPOSU...|                     V3|010100005e1968887...|2022-08-15|Halloween1|    2022-08-15|  2022-10-31|            78|\n",
      "|FLIPPER_AD_EXPOSU...|                      T|01010001d6dbe7b23...|2022-08-27|Halloween1|    2022-08-15|  2022-10-31|            78|\n",
      "|FLIPPER_EXPERIMEN...|                      T|010100022d242307e...|2022-10-21|Halloween2|    2022-08-15|  2022-10-31|            78|\n",
      "|FLIPPER_EXPERIMEN...|                     V3|01010002c3abeb152...|2022-10-29|Halloween2|    2022-08-15|  2022-10-31|            78|\n",
      "|FLIPPER_AD_EXPOSU...|                      T|010100030d404de20...|2022-08-26|Halloween1|    2022-08-15|  2022-10-31|            78|\n",
      "|FLIPPER_AD_EXPOSU...|                      T|0101000367a67148c...|2022-08-16|Halloween1|    2022-08-15|  2022-10-31|            78|\n",
      "|FLIPPER_EXPERIMEN...|                     V3|010100042374ee9b3...|2022-10-15|Halloween2|    2022-08-15|  2022-10-31|            78|\n",
      "|FLIPPER_AD_EXPOSU...|                     V3|0101000466603b3c8...|2022-08-26|Halloween1|    2022-08-15|  2022-10-31|            78|\n",
      "|FLIPPER_AD_EXPOSU...|                     V3|0101000476b629299...|2022-08-15|Halloween1|    2022-08-15|  2022-10-31|            78|\n",
      "|FLIPPER_EXPERIMEN...|                      T|010100048afae5981...|2022-10-27|Halloween2|    2022-08-15|  2022-10-31|            78|\n",
      "|FLIPPER_AD_EXPOSU...|                     V3|01010004cf47ea329...|2022-08-15|Halloween1|    2022-08-15|  2022-10-31|            78|\n",
      "|FLIPPER_AD_EXPOSU...|                     V3|01010004e850b496b...|2022-08-17|Halloween1|    2022-08-15|  2022-10-31|            78|\n",
      "|FLIPPER_EXPERIMEN...|                      T|010100056b4b1c56a...|2022-10-16|Halloween2|    2022-08-15|  2022-10-31|            78|\n",
      "|FLIPPER_AD_EXPOSU...|                     V3|01010005f322cd5e4...|2022-08-19|Halloween1|    2022-08-15|  2022-10-31|            78|\n",
      "|FLIPPER_AD_EXPOSU...|                      T|010100068bb21066b...|2022-08-21|Halloween1|    2022-08-15|  2022-10-31|            78|\n",
      "|FLIPPER_EXPERIMEN...|                     V3|01010006eba156215...|2022-10-27|Halloween2|    2022-08-15|  2022-10-31|            78|\n",
      "|FLIPPER_EXPERIMEN...|                     V3|0101000739468c634...|2022-10-13|Halloween2|    2022-08-15|  2022-10-31|            78|\n",
      "|FLIPPER_EXPERIMEN...|                     V3|0101000915c9d99c4...|2022-10-24|Halloween2|    2022-08-15|  2022-10-31|            78|\n",
      "|FLIPPER_EXPERIMEN...|                     V3|0101000930ab61549...|2022-10-21|Halloween2|    2022-08-15|  2022-10-31|            78|\n",
      "|FLIPPER_AD_EXPOSU...|                     V3|01010009e6d41ce9a...|2022-08-30|Halloween1|    2022-08-15|  2022-10-31|            78|\n",
      "+--------------------+-----------------------+--------------------+----------+----------+--------------+------------+--------------+\n",
      "only showing top 20 rows"
     ]
    }
   ],
   "source": [
    "# Create experiment table for future use\n",
    "exposure = spark.sql(\"\"\"\n",
    "    select audienceFunnel, recordedTreatmentStatus, adUserId, date, experiment,\n",
    "        min(date)over() as exp_start_date, max(date)over() as exp_end_date,\n",
    "        (datediff(max(date)over(), min(date)over()) + 1) as ads_exp_length\n",
    "    from df \n",
    "    group by 1,2,3,4,5\n",
    "    CLUSTER BY adUserId, date\"\"\")\n",
    "\n",
    "exposure.createOrReplaceTempView(\"exposure\")\n",
    "\n",
    "exposure.show()"
   ]
  },
  {
   "cell_type": "code",
   "execution_count": 7,
   "id": "4cd1bdec",
   "metadata": {},
   "outputs": [
    {
     "data": {
      "application/vnd.jupyter.widget-view+json": {
       "model_id": "c3e4da426ae74261bfea0207dcc8a11d",
       "version_major": 2,
       "version_minor": 0
      },
      "text/plain": [
       "VBox()"
      ]
     },
     "metadata": {},
     "output_type": "display_data"
    },
    {
     "data": {
      "application/vnd.jupyter.widget-view+json": {
       "model_id": "",
       "version_major": 2,
       "version_minor": 0
      },
      "text/plain": [
       "FloatProgress(value=0.0, bar_style='info', description='Progress:', layout=Layout(height='25px', width='50%'),…"
      ]
     },
     "metadata": {},
     "output_type": "display_data"
    },
    {
     "name": "stdout",
     "output_type": "stream",
     "text": [
      "+----------------+------------------------+--------------------+--------------------+--------------------+--------------------+--------------+--------------------+------------------+-------------+\n",
      "|transaction_date|transaction_date_imputed|         customer_id|          receipt_id|      transaction_id|         brandaid_id|ubi_brand_name|          item_price|item_price_imputed|retailer_name|\n",
      "+----------------+------------------------+--------------------+--------------------+--------------------+--------------------+--------------+--------------------+------------------+-------------+\n",
      "|      2022-12-12|              2022-12-12|0101000260b1049d6...|010150c7bdf53e5dc...|0101458408c5edd65...|BRAND|BRAND_AID|4...|          null|2.000000000000000000|               2.0|      Walmart|\n",
      "|      2022-12-12|              2022-12-12|0101000260b1049d6...|010150c7bdf53e5dc...|0101458408c5edd65...|BRAND|BRAND_AID|4...|          null|2.000000000000000000|               2.0|      Walmart|\n",
      "|            null|              2022-03-18|01010005bb9a44c1a...|0101d7b7fb24cdb5f...|010189f8f9f3366a1...|BRAND|BRAND_AID|4...|     Hershey's|0.880000000000000000|              0.88|    Walgreens|\n",
      "|            null|              2022-04-15|010100146255d1556...|01010226f116716c9...|0101cd21f8c63fcdd...|BRAND|BRAND_AID|c...|         ROLO®|                null|  3.82099668508287|         null|\n",
      "|            null|              2022-04-15|010100146255d1556...|01010226f116716c9...|0101cd21f8c63fcdd...|BRAND|BRAND_AID|c...|         ROLO®|                null|  3.82099668508287|         null|\n",
      "|            null|              2022-03-02|010100191b00e1c1c...|01019c8ea8a7a19b4...|0101487ce0dad91de...|BRAND|BRAND_AID|4...|       Hershey|2.480000000000000000|              2.48|      Walmart|\n",
      "|            null|              2022-03-02|010100191b00e1c1c...|01019c8ea8a7a19b4...|0101487ce0dad91de...|BRAND|BRAND_AID|4...|       Hershey|2.480000000000000000|              2.48|      Walmart|\n",
      "|      2022-05-24|              2022-05-24|010100452197191d2...|0101277c5568618bf...|01016f3132c4a05e4...|BRAND|BRAND_AID|f...|       Kit Kat|0.489999999999999990|              0.49|       Target|\n",
      "|      2022-05-24|              2022-05-24|010100452197191d2...|0101277c5568618bf...|01016f3132c4a05e4...|BRAND|BRAND_AID|f...|       Kit Kat|0.489999999999999990|              0.49|       Target|\n",
      "|      2022-05-24|              2022-05-24|010100452197191d2...|0101277c5568618bf...|01016f3132c4a05e4...|BRAND|BRAND_AID|f...|       Kit Kat|0.489999999999999990|              0.49|       Target|\n",
      "|      2022-05-24|              2022-05-24|010100452197191d2...|0101277c5568618bf...|01016f3132c4a05e4...|BRAND|BRAND_AID|f...|       Kit Kat|0.489999999999999990|              0.49|       Target|\n",
      "|      2022-02-14|              2022-02-14|0101004bd1366c26f...|0101b478c5411c575...|01019395147b68a57...|BRAND|BRAND_AID|4...|     TWIZZLERS|3.290000000000000000|              3.29|    Walgreens|\n",
      "|      2022-02-14|              2022-02-14|0101004bd1366c26f...|0101b478c5411c575...|01019395147b68a57...|BRAND|BRAND_AID|4...|     TWIZZLERS|3.290000000000000000|              3.29|    Walgreens|\n",
      "|      2022-02-14|              2022-02-14|0101004bd1366c26f...|0101b478c5411c575...|01019395147b68a57...|BRAND|BRAND_AID|4...|     TWIZZLERS|3.290000000000000000|              3.29|    Walgreens|\n",
      "|      2022-02-14|              2022-02-14|0101004bd1366c26f...|0101b478c5411c575...|01019395147b68a57...|BRAND|BRAND_AID|4...|     TWIZZLERS|3.290000000000000000|              3.29|    Walgreens|\n",
      "|      2022-02-14|              2022-02-14|0101004bd1366c26f...|0101b478c5411c575...|01015128a2c81e604...|BRAND|BRAND_AID|4...|     Twizzlers|3.290000000000000000|              3.29|    Walgreens|\n",
      "|      2022-02-14|              2022-02-14|0101004bd1366c26f...|0101b478c5411c575...|01015128a2c81e604...|BRAND|BRAND_AID|4...|     Twizzlers|3.290000000000000000|              3.29|    Walgreens|\n",
      "|      2022-02-14|              2022-02-14|0101004bd1366c26f...|0101b478c5411c575...|01015128a2c81e604...|BRAND|BRAND_AID|4...|     Twizzlers|3.290000000000000000|              3.29|    Walgreens|\n",
      "|      2022-02-14|              2022-02-14|0101004bd1366c26f...|0101b478c5411c575...|01015128a2c81e604...|BRAND|BRAND_AID|4...|     Twizzlers|3.290000000000000000|              3.29|    Walgreens|\n",
      "|      2022-07-23|              2022-07-23|01010058b430d5d5b...|010126672ea83b0ed...|010157849471f3c44...|BRAND|BRAND_AID|4...|     Hershey's|1.139999999999999900|              1.14|      Walmart|\n",
      "+----------------+------------------------+--------------------+--------------------+--------------------+--------------------+--------------+--------------------+------------------+-------------+\n",
      "only showing top 20 rows"
     ]
    }
   ],
   "source": [
    "# Create shopper panel table of Hershey's brand for future use\n",
    "shopper_panel = spark.sql(\"\"\"\n",
    "    select \n",
    "        date(transaction_date) as transaction_date,\n",
    "        p.purchase_date_impute as transaction_date_imputed,\n",
    "        customer_id,\n",
    "        t.receipt_id,\n",
    "        t.transaction_id,\n",
    "        brandaid_id,\n",
    "        ubi_brand_name,\n",
    "        item_price,\n",
    "        p.raw_item_price_brand_5iqr_median_impute as item_price_imputed,    \n",
    "        retailer_name\n",
    "    from spektr_shopperpanel.panel_receipts_v2 r\n",
    "         join spektr_shopperpanel.panel_transactions_v3 t\n",
    "         on r.receipt_id = t.receipt_id\n",
    "    left join spektr_shopperpanel.panel_transactions_quality_score_impute_price_trial p\n",
    "         on p.line_item_id = t.transaction_id\n",
    "    where status = 'APPROVED'\n",
    "        and r.marketplace_id = 'ATVPDKIKX0DER'\n",
    "        and customer_id <> 'XXXXXXXXXXXXXXXXXXXXXXXXXXXXXXXXXXXXXXXXXXXXXXXXXXXXXXXXXXXXXXXXXXXX'\n",
    "        and customer_id is not null\n",
    "        and brandaid_id in {0}\n",
    "    CLUSTER BY  customer_id, transaction_date_imputed\n",
    "    \"\"\".format(brandaidids))\n",
    "\n",
    "shopper_panel.createOrReplaceTempView(\"sp\")\n",
    "\n",
    "shopper_panel.show()\n"
   ]
  },
  {
   "cell_type": "code",
   "execution_count": 8,
   "id": "9e4359b8",
   "metadata": {},
   "outputs": [
    {
     "data": {
      "application/vnd.jupyter.widget-view+json": {
       "model_id": "e4c0d1dd93084b8fb3e65bde241d6783",
       "version_major": 2,
       "version_minor": 0
      },
      "text/plain": [
       "VBox()"
      ]
     },
     "metadata": {},
     "output_type": "display_data"
    },
    {
     "data": {
      "application/vnd.jupyter.widget-view+json": {
       "model_id": "",
       "version_major": 2,
       "version_minor": 0
      },
      "text/plain": [
       "FloatProgress(value=0.0, bar_style='info', description='Progress:', layout=Layout(height='25px', width='50%'),…"
      ]
     },
     "metadata": {},
     "output_type": "display_data"
    },
    {
     "name": "stdout",
     "output_type": "stream",
     "text": [
      "+----------------+------------------------+--------------------+--------------------+--------------------+--------------------+--------------------+--------------------+------------------+----------------+\n",
      "|transaction_date|transaction_date_imputed|         customer_id|          receipt_id|      transaction_id|         brandaid_id|      ubi_brand_name|          item_price|item_price_imputed|   retailer_name|\n",
      "+----------------+------------------------+--------------------+--------------------+--------------------+--------------------+--------------------+--------------------+------------------+----------------+\n",
      "|      2022-10-02|              2022-10-02|010100003f31b563e...|010180e52abad7570...|010115ec0f95611f7...|BRAND|BRAND_AID|e...|  Kirkland Signature|16.98999999999999...|             16.99|Costco Wholesale|\n",
      "|      2022-10-02|              2022-10-02|010100003f31b563e...|010180e52abad7570...|010115ec0f95611f7...|BRAND|BRAND_AID|e...|  Kirkland Signature|16.98999999999999...|             16.99|Costco Wholesale|\n",
      "|      2022-10-02|              2022-10-02|010100003f31b563e...|010180e52abad7570...|010115ec0f95611f7...|BRAND|BRAND_AID|e...|  Kirkland Signature|16.98999999999999...|             16.99|Costco Wholesale|\n",
      "|      2022-10-02|              2022-10-02|010100003f31b563e...|010180e52abad7570...|010115ec0f95611f7...|BRAND|BRAND_AID|e...|  Kirkland Signature|16.98999999999999...|             16.99|Costco Wholesale|\n",
      "|      2022-10-02|              2022-10-02|010100003f31b563e...|010180e52abad7570...|0101c3dc13af4d3ac...|BRAND|BRAND_AID|f...|             Mateo's|6.990000000000000200|              6.99|Costco Wholesale|\n",
      "|      2022-10-02|              2022-10-02|010100003f31b563e...|010180e52abad7570...|0101c3dc13af4d3ac...|BRAND|BRAND_AID|f...|             Mateo's|6.990000000000000200|              6.99|Costco Wholesale|\n",
      "|      2022-10-02|              2022-10-02|010100003f31b563e...|010180e52abad7570...|0101c3dc13af4d3ac...|BRAND|BRAND_AID|f...|             Mateo's|6.990000000000000200|              6.99|Costco Wholesale|\n",
      "|      2022-10-02|              2022-10-02|010100003f31b563e...|010180e52abad7570...|0101c3dc13af4d3ac...|BRAND|BRAND_AID|f...|             Mateo's|6.990000000000000200|              6.99|Costco Wholesale|\n",
      "|      2022-01-07|              2022-01-07|0101000080deb7378...|01012fc0a00579037...|0101bea388add3ac0...|                null|U BY KOTEX ALL NI...|10.48000000000000...|             10.48|       Walgreens|\n",
      "|      2022-01-07|              2022-01-07|0101000080deb7378...|01012fc0a00579037...|0101bea388add3ac0...|                null|U BY KOTEX ALL NI...|10.48000000000000...|             10.48|       Walgreens|\n",
      "|      2022-01-07|              2022-01-07|0101000080deb7378...|01012fc0a00579037...|0101bea388add3ac0...|                null|U BY KOTEX ALL NI...|10.48000000000000...|             10.48|       Walgreens|\n",
      "|      2022-01-07|              2022-01-07|0101000080deb7378...|01012fc0a00579037...|0101bea388add3ac0...|                null|U BY KOTEX ALL NI...|10.48000000000000...|             10.48|       Walgreens|\n",
      "|      2022-01-07|              2022-01-07|0101000080deb7378...|01012fc0a00579037...|01018ce750bcb0696...|BRAND|BRAND_AID|0...|             Turtles|1.990000000000000000|              1.99|       Walgreens|\n",
      "|      2022-01-07|              2022-01-07|0101000080deb7378...|01012fc0a00579037...|01018ce750bcb0696...|BRAND|BRAND_AID|0...|             Turtles|1.990000000000000000|              1.99|       Walgreens|\n",
      "|      2022-01-07|              2022-01-07|0101000080deb7378...|01012fc0a00579037...|01018ce750bcb0696...|BRAND|BRAND_AID|0...|             Turtles|1.990000000000000000|              1.99|       Walgreens|\n",
      "|      2022-01-07|              2022-01-07|0101000080deb7378...|01012fc0a00579037...|01018ce750bcb0696...|BRAND|BRAND_AID|0...|             Turtles|1.990000000000000000|              1.99|       Walgreens|\n",
      "|      2022-01-07|              2022-01-07|0101000080deb7378...|01012fc0a00579037...|01017b35bacced9f4...|BRAND|BRAND_AID|5...|            BAND-AID|2.910000000000000100|              2.91|       Walgreens|\n",
      "|      2022-01-07|              2022-01-07|0101000080deb7378...|01012fc0a00579037...|01017b35bacced9f4...|BRAND|BRAND_AID|5...|            BAND-AID|2.910000000000000100|              2.91|       Walgreens|\n",
      "|      2022-01-07|              2022-01-07|0101000080deb7378...|01012fc0a00579037...|01017b35bacced9f4...|BRAND|BRAND_AID|5...|            BAND-AID|2.910000000000000100|              2.91|       Walgreens|\n",
      "|      2022-01-07|              2022-01-07|0101000080deb7378...|01012fc0a00579037...|01017b35bacced9f4...|BRAND|BRAND_AID|5...|            BAND-AID|2.910000000000000100|              2.91|       Walgreens|\n",
      "+----------------+------------------------+--------------------+--------------------+--------------------+--------------------+--------------------+--------------------+------------------+----------------+\n",
      "only showing top 20 rows"
     ]
    }
   ],
   "source": [
    "# Create shopper panel table of all brands for future use (matching)\n",
    "shopper_panel_total = spark.sql(\"\"\"\n",
    "    select \n",
    "        date(transaction_date) as transaction_date,\n",
    "        p.purchase_date_impute as transaction_date_imputed,\n",
    "        customer_id,\n",
    "        t.receipt_id,\n",
    "        t.transaction_id,\n",
    "        brandaid_id,\n",
    "        ubi_brand_name,\n",
    "        item_price,\n",
    "        p.raw_item_price_brand_5iqr_median_impute as item_price_imputed,    \n",
    "        retailer_name\n",
    "    from spektr_shopperpanel.panel_receipts_v2 r\n",
    "         join spektr_shopperpanel.panel_transactions_v3 t\n",
    "         on r.receipt_id = t.receipt_id\n",
    "    left join spektr_shopperpanel.panel_transactions_quality_score_impute_price_trial p\n",
    "         on p.line_item_id = t.transaction_id\n",
    "    where status = 'APPROVED'\n",
    "        and r.marketplace_id = 'ATVPDKIKX0DER'\n",
    "        and customer_id <> 'XXXXXXXXXXXXXXXXXXXXXXXXXXXXXXXXXXXXXXXXXXXXXXXXXXXXXXXXXXXXXXXXXXXX'\n",
    "        and customer_id is not null\n",
    "    CLUSTER BY  customer_id, transaction_date_imputed\n",
    "    \"\"\")\n",
    "\n",
    "shopper_panel_total.createOrReplaceTempView(\"sp_total\")\n",
    "\n",
    "shopper_panel_total.show()"
   ]
  },
  {
   "cell_type": "markdown",
   "id": "2d474616",
   "metadata": {},
   "source": [
    "# Scaling Factor"
   ]
  },
  {
   "cell_type": "code",
   "execution_count": 11,
   "id": "67a0cf46",
   "metadata": {},
   "outputs": [
    {
     "data": {
      "application/vnd.jupyter.widget-view+json": {
       "model_id": "e8fd8215b7c44244a9280efda631706f",
       "version_major": 2,
       "version_minor": 0
      },
      "text/plain": [
       "VBox()"
      ]
     },
     "metadata": {},
     "output_type": "display_data"
    },
    {
     "data": {
      "application/vnd.jupyter.widget-view+json": {
       "model_id": "",
       "version_major": 2,
       "version_minor": 0
      },
      "text/plain": [
       "FloatProgress(value=0.0, bar_style='info', description='Progress:', layout=Layout(height='25px', width='50%'),…"
      ]
     },
     "metadata": {},
     "output_type": "display_data"
    },
    {
     "name": "stdout",
     "output_type": "stream",
     "text": [
      "+----------+-----------------------+--------------------+------------------+\n",
      "|experiment|recordedTreatmentStatus|       matching_rate|    scaling_factor|\n",
      "+----------+-----------------------+--------------------+------------------+\n",
      "|Halloween1|                     V3| 0.00395353018439633|252.93850137954402|\n",
      "|Halloween1|                      T|0.003949988043811757|253.16532326386368|\n",
      "|Halloween2|                      T|0.004879254599147...|204.94933799411018|\n",
      "|Halloween2|                     V3|0.004916337084066291|203.40346540536686|\n",
      "+----------+-----------------------+--------------------+------------------+"
     ]
    }
   ],
   "source": [
    "# Scaling factor\n",
    "sf_results = spark.sql(\"\"\"\n",
    "with exposure as (\n",
    "    select date, audienceFunnel, recordedTreatmentStatus, adUserId, experiment\n",
    "    from df \n",
    "    group by 1,2,3,4,5)\n",
    "    \n",
    ",  panelist as (\n",
    "    select \n",
    "        distinct customer_id\n",
    "    from spektr_shopperpanel.panel_receipts_v2 r\n",
    "    join spektr_shopperpanel.panel_transactions_v3 t\n",
    "        on r.receipt_id = t.receipt_id\n",
    "    where status = 'APPROVED'\n",
    "        and r.marketplace_id = 'ATVPDKIKX0DER'\n",
    "        and customer_id <> 'XXXXXXXXXXXXXXXXXXXXXXXXXXXXXXXXXXXXXXXXXXXXXXXXXXXXXXXXXXXXXXXXXXXX'\n",
    "        and customer_id is not null)\n",
    "\n",
    ", match as (\n",
    "    select \n",
    "        date, \n",
    "        experiment,\n",
    "        recordedTreatmentStatus,\n",
    "        count(distinct adUserId) as count_users,\n",
    "        count(distinct panelist.customer_id) as count_mapped\n",
    "    from exposure \n",
    "    left join panelist on exposure.adUserId = panelist.customer_id\n",
    "    group by 1,2,3\n",
    "    order by date, recordedTreatmentStatus)\n",
    "\n",
    "select \n",
    "    experiment,\n",
    "    recordedTreatmentStatus,\n",
    "    sum(count_mapped)/sum(count_users) as matching_rate,\n",
    "    sum(count_users)/sum(count_mapped) as scaling_factor\n",
    "from match\n",
    "group by 1,2\n",
    "\n",
    "\"\"\")\n",
    "\n",
    "sf_results.show()\n",
    "\n",
    "sf_results.createOrReplaceTempView(\"sf_results\")"
   ]
  },
  {
   "cell_type": "markdown",
   "id": "6d4b67f4",
   "metadata": {},
   "source": [
    "# Direct Scaling Method"
   ]
  },
  {
   "cell_type": "markdown",
   "id": "583ff0c4",
   "metadata": {},
   "source": [
    "# TTE"
   ]
  },
  {
   "cell_type": "code",
   "execution_count": 39,
   "id": "5dc10dcb",
   "metadata": {},
   "outputs": [
    {
     "data": {
      "application/vnd.jupyter.widget-view+json": {
       "model_id": "f764c597d3e94e958f333c964606a925",
       "version_major": 2,
       "version_minor": 0
      },
      "text/plain": [
       "VBox()"
      ]
     },
     "metadata": {},
     "output_type": "display_data"
    },
    {
     "data": {
      "application/vnd.jupyter.widget-view+json": {
       "model_id": "",
       "version_major": 2,
       "version_minor": 0
      },
      "text/plain": [
       "FloatProgress(value=0.0, bar_style='info', description='Progress:', layout=Layout(height='25px', width='50%'),…"
      ]
     },
     "metadata": {},
     "output_type": "display_data"
    }
   ],
   "source": [
    "## If calculate in Excel\n",
    "\n",
    "# attr_1 = spark.sql(\"\"\"\n",
    "# with exposure as \n",
    "#     (select audienceFunnel, recordedTreatmentStatus, adUserId, date, experiment,\n",
    "#     min(date) over() as exp_start_date, max(date) over() as exp_end_date\n",
    "#     from df \n",
    "#     where experiment='Halloween1'\n",
    "#     group by 1,2,3,4,5)\n",
    "\n",
    "# ,  sp as \n",
    "#     (select \n",
    "#     date(transaction_date) as transaction_date,\n",
    "#     p.purchase_date_impute as transaction_date_imputed,\n",
    "#     customer_id,\n",
    "#     t.receipt_id,\n",
    "#     t.transaction_id,\n",
    "#     brandaid_id,\n",
    "#     ubi_brand_name,\n",
    "#     item_price,\n",
    "#     p.raw_item_price_brand_5iqr_median_impute as item_price_imputed,    \n",
    "#     retailer_name\n",
    "#     from spektr_shopperpanel.panel_receipts_v2 r\n",
    "#          join spektr_shopperpanel.panel_transactions_v3 t\n",
    "#          on r.receipt_id = t.receipt_id\n",
    "#     left join spektr_shopperpanel.panel_transactions_quality_score_impute_price_trial p\n",
    "#          on p.line_item_id = t.transaction_id\n",
    "#     where status = 'APPROVED'\n",
    "#     and r.marketplace_id = 'ATVPDKIKX0DER'\n",
    "#     and customer_id <> 'XXXXXXXXXXXXXXXXXXXXXXXXXXXXXXXXXXXXXXXXXXXXXXXXXXXXXXXXXXXXXXXXXXXX'\n",
    "#     and customer_id is not null\n",
    "#     and brandaid_id in {0} \n",
    "#     and p.purchase_date_impute >= '2022-08-01'\n",
    "#     )\n",
    "    \n",
    "# select\n",
    "# transaction_date,\n",
    "# transaction_date_imputed,\n",
    "# recordedTreatmentStatus,\n",
    "# retailer_name,\n",
    "# customer_id,\n",
    "# receipt_id,\n",
    "# transaction_id,\n",
    "# item_price,\n",
    "# item_price_imputed,\n",
    "# max(date) as ads_exp_date\n",
    "# from exposure join sp on exposure.adUserId = sp.customer_id\n",
    "# -- total window method\n",
    "# and transaction_date_imputed between exp_start_date and date_add(exp_end_date, 14)\n",
    "# -- remove transactions before each exposure\n",
    "# and transaction_date_imputed >=date\n",
    "# group by 1,2,3,4,5,6,7,8,9\"\"\".format(brandaidids))\n",
    "\n",
    "# attr_1.repartition(1) \\\n",
    "# .write.mode('overwrite').csv(\"s3a://panel-ml-incrementality-data/incrementality/results_1205/attr_halloween_1\",header=True)\n",
    "\n",
    "# attr_1.createOrReplaceTempView('attr_1_v')"
   ]
  },
  {
   "cell_type": "code",
   "execution_count": 38,
   "id": "94ed4525",
   "metadata": {},
   "outputs": [
    {
     "data": {
      "application/vnd.jupyter.widget-view+json": {
       "model_id": "b89e695e4b8b47d5be5577bc17acfe50",
       "version_major": 2,
       "version_minor": 0
      },
      "text/plain": [
       "VBox()"
      ]
     },
     "metadata": {},
     "output_type": "display_data"
    },
    {
     "data": {
      "application/vnd.jupyter.widget-view+json": {
       "model_id": "",
       "version_major": 2,
       "version_minor": 0
      },
      "text/plain": [
       "FloatProgress(value=0.0, bar_style='info', description='Progress:', layout=Layout(height='25px', width='50%'),…"
      ]
     },
     "metadata": {},
     "output_type": "display_data"
    }
   ],
   "source": [
    "# attr_2 = spark.sql(\"\"\"\n",
    "# with exposure as \n",
    "#     (select audienceFunnel, recordedTreatmentStatus, adUserId, date, experiment,\n",
    "#     min(date) over() as exp_start_date, max(date) over() as exp_end_date\n",
    "#     from df \n",
    "#     where experiment='Halloween2'\n",
    "#     group by 1,2,3,4,5)\n",
    "\n",
    "# ,  sp as \n",
    "#     (select \n",
    "#     date(transaction_date) as transaction_date,\n",
    "#     p.purchase_date_impute as transaction_date_imputed,\n",
    "#     customer_id,\n",
    "#     t.receipt_id,\n",
    "#     t.transaction_id,\n",
    "#     brandaid_id,\n",
    "#     ubi_brand_name,\n",
    "#     item_price,\n",
    "#     p.raw_item_price_brand_5iqr_median_impute as item_price_imputed,    \n",
    "#     retailer_name\n",
    "#     from spektr_shopperpanel.panel_receipts_v2 r\n",
    "#          join spektr_shopperpanel.panel_transactions_v3 t\n",
    "#          on r.receipt_id = t.receipt_id\n",
    "#     left join spektr_shopperpanel.panel_transactions_quality_score_impute_price_trial p\n",
    "#          on p.line_item_id = t.transaction_id\n",
    "#     where status = 'APPROVED'\n",
    "#     and r.marketplace_id = 'ATVPDKIKX0DER'\n",
    "#     and customer_id <> 'XXXXXXXXXXXXXXXXXXXXXXXXXXXXXXXXXXXXXXXXXXXXXXXXXXXXXXXXXXXXXXXXXXXX'\n",
    "#     and customer_id is not null\n",
    "#     and brandaid_id in {0} \n",
    "#     and p.purchase_date_impute >= '2022-08-01'\n",
    "#     )\n",
    "    \n",
    "# select\n",
    "# transaction_date,\n",
    "# transaction_date_imputed,\n",
    "# recordedTreatmentStatus,\n",
    "# retailer_name,\n",
    "# customer_id,\n",
    "# receipt_id,\n",
    "# transaction_id,\n",
    "# item_price,\n",
    "# item_price_imputed,\n",
    "# max(date) as ads_exp_date\n",
    "# from exposure join sp on exposure.adUserId = sp.customer_id\n",
    "# -- total window method\n",
    "# and transaction_date_imputed between exp_start_date and date_add(exp_end_date, 14)\n",
    "# -- remove transactions before each exposure\n",
    "# and transaction_date_imputed >=date\n",
    "# group by 1,2,3,4,5,6,7,8,9\"\"\".format(brandaidids))\n",
    "\n",
    "# attr_2.repartition(1) \\\n",
    "# .write.mode('overwrite').csv(\"s3a://panel-ml-incrementality-data/incrementality/results_1205/attr_halloween_2\",header=True)\n",
    "\n",
    "# attr_2.createOrReplaceTempView('attr_2_v')\n"
   ]
  },
  {
   "cell_type": "code",
   "execution_count": 26,
   "id": "12123a9e",
   "metadata": {},
   "outputs": [
    {
     "data": {
      "application/vnd.jupyter.widget-view+json": {
       "model_id": "f8219302607344f281becdcbd8c3d844",
       "version_major": 2,
       "version_minor": 0
      },
      "text/plain": [
       "VBox()"
      ]
     },
     "metadata": {},
     "output_type": "display_data"
    },
    {
     "data": {
      "application/vnd.jupyter.widget-view+json": {
       "model_id": "",
       "version_major": 2,
       "version_minor": 0
      },
      "text/plain": [
       "FloatProgress(value=0.0, bar_style='info', description='Progress:', layout=Layout(height='25px', width='50%'),…"
      ]
     },
     "metadata": {},
     "output_type": "display_data"
    },
    {
     "name": "stdout",
     "output_type": "stream",
     "text": [
      "+-----------------------+--------------------------------------------------------------------+--------------------------------------------------------------------+------------------+------------------+-------------------------+\n",
      "|recordedTreatmentStatus|customer_id                                                         |adUserId                                                            |item_price_imputed|scaling_factor    |scaled_item_price_imputed|\n",
      "+-----------------------+--------------------------------------------------------------------+--------------------------------------------------------------------+------------------+------------------+-------------------------+\n",
      "|T                      |0101015f0b7fd393e09a07ba6ae033c39bb1604827304c0190f56b1a1790134f99de|0101015f0b7fd393e09a07ba6ae033c39bb1604827304c0190f56b1a1790134f99de|3.0               |204.94933799411018|614.8480139823305        |\n",
      "|V3                     |0101015f0b7fd393e09a07ba6ae033c39bb1604827304c0190f56b1a1790134f99de|0101015f0b7fd393e09a07ba6ae033c39bb1604827304c0190f56b1a1790134f99de|157.73999999999998|252.93850137954402|39898.51920760927        |\n",
      "|T                      |0101017bde19ae1ceda60c803917bd7f3247b7552e606aedfd95386ecf8d06468d20|0101017bde19ae1ceda60c803917bd7f3247b7552e606aedfd95386ecf8d06468d20|12.72             |253.16532326386368|3220.262911916346        |\n",
      "|V3                     |010102673efa77f7edffa53063a2f075c08e84c70796b5265bfb23844086e5423ef9|010102673efa77f7edffa53063a2f075c08e84c70796b5265bfb23844086e5423ef9|5.56              |203.40346540536686|1130.9232676538397       |\n",
      "|T                      |010102db3d5665cd80e42b8212fb3cbfb904bafd60a90476f561db11b76140053373|010102db3d5665cd80e42b8212fb3cbfb904bafd60a90476f561db11b76140053373|2.9699999999999998|253.16532326386368|751.901010093675         |\n",
      "|V3                     |010103806eb248d4a79db53eba43e706f02124dedf1e8e2e26b6cf5beec2b5d4b3eb|010103806eb248d4a79db53eba43e706f02124dedf1e8e2e26b6cf5beec2b5d4b3eb|5.16              |252.93850137954402|1305.1626671184472       |\n",
      "|T                      |010103806eb248d4a79db53eba43e706f02124dedf1e8e2e26b6cf5beec2b5d4b3eb|010103806eb248d4a79db53eba43e706f02124dedf1e8e2e26b6cf5beec2b5d4b3eb|5.16              |204.94933799411018|1057.5385840496085       |\n",
      "|T                      |010104114aff76e794f2f598a5a49a91917626565167bb158f1d25a4cd0926a7e641|010104114aff76e794f2f598a5a49a91917626565167bb158f1d25a4cd0926a7e641|47.96             |204.94933799411018|9829.370250197524        |\n",
      "|V3                     |0101042eda8bb871f84299f12dff3ca7ac85ab077b66c45aed691fc98ea99f21353e|0101042eda8bb871f84299f12dff3ca7ac85ab077b66c45aed691fc98ea99f21353e|59.97001333672703 |252.93850137954402|15168.725301103002       |\n",
      "|V3                     |0101042eda8bb871f84299f12dff3ca7ac85ab077b66c45aed691fc98ea99f21353e|0101042eda8bb871f84299f12dff3ca7ac85ab077b66c45aed691fc98ea99f21353e|43.96             |203.40346540536686|8941.616339219927        |\n",
      "|T                      |010104b0fc563b6ee365cc5b4aa21cedfa3c368d311fea5c066bcd02802cf520f785|010104b0fc563b6ee365cc5b4aa21cedfa3c368d311fea5c066bcd02802cf520f785|6.6               |253.16532326386368|1670.8911335415003       |\n",
      "|T                      |0101066fd267e351e3dc26d4fc830362fa808ae5b692bfc902f697b5559f101c1839|0101066fd267e351e3dc26d4fc830362fa808ae5b692bfc902f697b5559f101c1839|5.0               |204.94933799411018|1024.746689970551        |\n",
      "|T                      |0101066fd267e351e3dc26d4fc830362fa808ae5b692bfc902f697b5559f101c1839|0101066fd267e351e3dc26d4fc830362fa808ae5b692bfc902f697b5559f101c1839|5.0               |253.16532326386368|1265.8266163193184       |\n",
      "|T                      |01010904f66d3a736ae8a5a374471342a9b51f6b13c2c88f4a54c46454db1f7b3da1|01010904f66d3a736ae8a5a374471342a9b51f6b13c2c88f4a54c46454db1f7b3da1|10.0              |253.16532326386368|2531.653232638637        |\n",
      "|V3                     |01010c5a92a05c15819cc341596b0eb3c35042c45052bb2ea5aea6f231c77f914822|01010c5a92a05c15819cc341596b0eb3c35042c45052bb2ea5aea6f231c77f914822|4.32              |252.93850137954402|1092.6943259596303       |\n",
      "|T                      |01010cd4a72aa3907b0d0af8c32a4647ad46c37183bcdc32b9e2e2ac2c70d0fc9560|01010cd4a72aa3907b0d0af8c32a4647ad46c37183bcdc32b9e2e2ac2c70d0fc9560|25.519999999999996|253.16532326386368|6460.7790496938005       |\n",
      "|T                      |0101118c900b8b5645d8534241a89a1c401e1fa8bfe1285659c70b6fca5bf8161424|0101118c900b8b5645d8534241a89a1c401e1fa8bfe1285659c70b6fca5bf8161424|14.479999999999999|204.94933799411018|2967.6664141547153       |\n",
      "|T                      |01011191fb21bb41947366a79446226d342c1def53316566adff8412c9e36797d441|01011191fb21bb41947366a79446226d342c1def53316566adff8412c9e36797d441|38.25001333672703 |204.94933799411018|7839.31491162809         |\n",
      "|V3                     |0101121598d1a8fce6100b348a5ac7d437ddd65a305fe08e8422254deb48265a6e25|0101121598d1a8fce6100b348a5ac7d437ddd65a305fe08e8422254deb48265a6e25|14.76             |252.93850137954402|3733.37228036207         |\n",
      "|V3                     |010113cb458716b6182731a78e192558bed82b24c551d4574d2a7431a6dc9e0fd093|010113cb458716b6182731a78e192558bed82b24c551d4574d2a7431a6dc9e0fd093|6.0               |252.93850137954402|1517.631008277264        |\n",
      "|V3                     |0101142bdb175efe2d0cc06ce94ace9c4bdddd0e5f2e15e1ba68ddddbb46cb15edba|0101142bdb175efe2d0cc06ce94ace9c4bdddd0e5f2e15e1ba68ddddbb46cb15edba|39.76             |252.93850137954402|10056.83481485067        |\n",
      "|V3                     |01011600b94c662b91dbf53241370c931af8e26bf0c75267ae1d5d1ef109a5cb333b|01011600b94c662b91dbf53241370c931af8e26bf0c75267ae1d5d1ef109a5cb333b|7.92              |252.93850137954402|2003.2729309259887       |\n",
      "|V3                     |010116413e72130877299cf737b0f302f729457b892da38337400b03ec3aad3ebbf0|010116413e72130877299cf737b0f302f729457b892da38337400b03ec3aad3ebbf0|72.11             |252.93850137954402|18239.39533447892        |\n",
      "|T                      |0101172a405903ffe10214693c687a39f09364a09d3c72ca86be5969357b4a1ffe46|0101172a405903ffe10214693c687a39f09364a09d3c72ca86be5969357b4a1ffe46|4.32              |253.16532326386368|1093.6741964998912       |\n",
      "|V3                     |010117678253d6ba5452783f97800f74b6102efe9d96a83d3f32bad856071d3884bc|010117678253d6ba5452783f97800f74b6102efe9d96a83d3f32bad856071d3884bc|15.92             |252.93850137954402|4026.780941962341        |\n",
      "|V3                     |01011915c211b2ff116902f70f49133eae8bbc025bee3c431db6c586f4bbcec9c6db|01011915c211b2ff116902f70f49133eae8bbc025bee3c431db6c586f4bbcec9c6db|65.19             |252.93850137954402|16489.060904932474       |\n",
      "|T                      |01011978150405665850a9a43aad348ec0177e23a3c1d3cbd7da420cce011fdfcb76|01011978150405665850a9a43aad348ec0177e23a3c1d3cbd7da420cce011fdfcb76|23.36             |253.16532326386368|5913.941951443856        |\n",
      "|T                      |01011a184ed7f9ab400c76b23feb76d2193e239d6c2250eb66109141c2d68786dcc4|01011a184ed7f9ab400c76b23feb76d2193e239d6c2250eb66109141c2d68786dcc4|172.05999999999992|204.94933799411018|35263.58309526658        |\n",
      "|T                      |01011a184ed7f9ab400c76b23feb76d2193e239d6c2250eb66109141c2d68786dcc4|01011a184ed7f9ab400c76b23feb76d2193e239d6c2250eb66109141c2d68786dcc4|172.05999999999992|253.16532326386368|43559.62552078036        |\n",
      "|T                      |01011aaca4fceb96aba2cc332b5f2c9fd5200c6b5c8cbcc9c07fd0b43e7f52fe299b|01011aaca4fceb96aba2cc332b5f2c9fd5200c6b5c8cbcc9c07fd0b43e7f52fe299b|6.96              |253.16532326386368|1762.0306499164913       |\n",
      "|V3                     |01011badd8369d5d9c759f07c197f380535bc4d3640e044b02cd630111e18e071618|01011badd8369d5d9c759f07c197f380535bc4d3640e044b02cd630111e18e071618|42.928535005337935|252.93850137954402|10858.279310669473       |\n",
      "|T                      |01011e717c97deb2f35996128fe4736718b5bf5887d6839e9cb7bbddbb5519f0c96a|01011e717c97deb2f35996128fe4736718b5bf5887d6839e9cb7bbddbb5519f0c96a|15.96             |253.16532326386368|4040.5185592912644       |\n",
      "|T                      |010121c2c06ca2075fa4284a5d7b602c00980e760ed93aee26dfa1b53e21b1c349af|010121c2c06ca2075fa4284a5d7b602c00980e760ed93aee26dfa1b53e21b1c349af|4.56              |253.16532326386368|1154.4338740832184       |\n",
      "|V3                     |01012381525b0ba8bb7ba5c30d556ced61eaaab16daf49d18dd1fef0f80e1a3adcda|01012381525b0ba8bb7ba5c30d556ced61eaaab16daf49d18dd1fef0f80e1a3adcda|11.92             |252.93850137954402|3015.0269364441647       |\n",
      "|T                      |0101238c8321a1d707f8073a42ff108aa5ad9e749537536cd31f09352866fbee5988|0101238c8321a1d707f8073a42ff108aa5ad9e749537536cd31f09352866fbee5988|27.84             |253.16532326386368|7048.122599665965        |\n",
      "|V3                     |0101254f4c8a6284cbfd38cc6c04cf8abc89c762a46ea91130718011128c2cbdd79e|0101254f4c8a6284cbfd38cc6c04cf8abc89c762a46ea91130718011128c2cbdd79e|5.56              |252.93850137954402|1406.3380676702648       |\n",
      "|T                      |010125a39254864fb796f008381d6c5b6d41c980ebfc16e20fe745fa36ac7dc87175|010125a39254864fb796f008381d6c5b6d41c980ebfc16e20fe745fa36ac7dc87175|11.92             |253.16532326386368|3017.730653305255        |\n",
      "|T                      |0101269f6ac2de2202f9ef2c7fce027c0817b7bca2067531786c124e1e8c87c2b51e|0101269f6ac2de2202f9ef2c7fce027c0817b7bca2067531786c124e1e8c87c2b51e|4.76              |253.16532326386368|1205.066938735991        |\n",
      "|T                      |010128a0d49467f578d046b741f48bc64357548567bde4d577078ee41b92a485f456|010128a0d49467f578d046b741f48bc64357548567bde4d577078ee41b92a485f456|2.76              |253.16532326386368|698.7362922082638        |\n",
      "|V3                     |010128a668231d74a1d7306e11975e028e165aa71057c0333a429417dc7bf8c6761b|010128a668231d74a1d7306e11975e028e165aa71057c0333a429417dc7bf8c6761b|37.91750804255917 |252.93850137954402|9590.797660331724        |\n",
      "|T                      |010128c6cff28ec2077baa297e094c9b0c1cc6d5fb28afbaa7c2a7f6bd660854c5e1|010128c6cff28ec2077baa297e094c9b0c1cc6d5fb28afbaa7c2a7f6bd660854c5e1|29.92             |253.16532326386368|7574.706472054801        |\n",
      "|V3                     |0101297fe87ad7f95deea0d9cd588db67610d9f1713c3daea1ae66fa1627b87d7520|0101297fe87ad7f95deea0d9cd588db67610d9f1713c3daea1ae66fa1627b87d7520|27.84             |252.93850137954402|7041.807878406506        |\n",
      "|T                      |01012fd172e2022c724c1b58da024673d4d26e9f0d02323c858877d774ccd850f9ae|01012fd172e2022c724c1b58da024673d4d26e9f0d02323c858877d774ccd850f9ae|27.680000000000003|253.16532326386368|7007.616147943748        |\n",
      "|T                      |010131ebaef2bee4123950fac5f08fd581928ad5d1dfba94fea428e35b4b277a307e|010131ebaef2bee4123950fac5f08fd581928ad5d1dfba94fea428e35b4b277a307e|35.96             |253.16532326386368|9103.825024568538        |\n",
      "|V3                     |01013400ea87e499f678847623a96836711c48e620a71148a7f482820821adf81ade|01013400ea87e499f678847623a96836711c48e620a71148a7f482820821adf81ade|8.672999999999998 |252.93850137954402|2193.7356224647847       |\n",
      "|T                      |010134fe05440d4eaadc9c483ab17f6ae7e7ae3b3db71dd59abc9e6feab0129fe227|010134fe05440d4eaadc9c483ab17f6ae7e7ae3b3db71dd59abc9e6feab0129fe227|16.01001333672703 |253.16532326386368|4053.1802018512676       |\n",
      "|T                      |0101350be3fee32dd285ca46a04ad725593900edd28c451860a458fcbc2d3cdd2d09|0101350be3fee32dd285ca46a04ad725593900edd28c451860a458fcbc2d3cdd2d09|24.0              |253.16532326386368|6075.967758332728        |\n",
      "|T                      |010137646d60039a993dbb59ab14e643144db14916c8740e7d121e9f41f7e64e2f05|010137646d60039a993dbb59ab14e643144db14916c8740e7d121e9f41f7e64e2f05|17.04             |253.16532326386368|4313.937108416237        |\n",
      "|V3                     |01013a9f214e82fddff7d70307ae5f65e263217259db22ec957a50fe3bc440ee9df2|01013a9f214e82fddff7d70307ae5f65e263217259db22ec957a50fe3bc440ee9df2|15.840000000000002|252.93850137954402|4006.545861851978        |\n",
      "|T                      |01013d1317b44fad594189e59413b0d107d90ff71bb75c5dbf7657836a8c2b7efbec|01013d1317b44fad594189e59413b0d107d90ff71bb75c5dbf7657836a8c2b7efbec|4.48              |204.94933799411018|918.1730342136137        |\n",
      "|T                      |01013f2ccc73ff768975cf938edb8872b6de3c7b0f813c1d1322258d0f5eb27b6429|01013f2ccc73ff768975cf938edb8872b6de3c7b0f813c1d1322258d0f5eb27b6429|22.92             |253.16532326386368|5802.549209207756        |\n",
      "|T                      |01013f6e9bce0d63a15e3735405027f9d26bb115156ba61a44ee594e392ef391d88b|01013f6e9bce0d63a15e3735405027f9d26bb115156ba61a44ee594e392ef391d88b|5.0               |253.16532326386368|1265.8266163193184       |\n",
      "|V3                     |010143fa6369d5d8b366ac4a28036a66d985ed088eccafbe1a376adb9b0c374f9bc7|010143fa6369d5d8b366ac4a28036a66d985ed088eccafbe1a376adb9b0c374f9bc7|95.72000000000001 |252.93850137954402|24211.273352049957       |\n",
      "|T                      |010143fa6369d5d8b366ac4a28036a66d985ed088eccafbe1a376adb9b0c374f9bc7|010143fa6369d5d8b366ac4a28036a66d985ed088eccafbe1a376adb9b0c374f9bc7|62.24000000000001 |204.94933799411018|12756.046796753419       |\n",
      "|V3                     |0101459b9d7ae91fde3d1f4499da5d141d18321dac027c6490a84e99e34e41f33de6|0101459b9d7ae91fde3d1f4499da5d141d18321dac027c6490a84e99e34e41f33de6|95.84000000000002 |203.40346540536686|19494.188124450364       |\n",
      "|V3                     |0101476a6024004583732e5f804a650b13f359f237c3e0c36fae1d8a90577330e77f|0101476a6024004583732e5f804a650b13f359f237c3e0c36fae1d8a90577330e77f|47.92             |252.93850137954402|12120.81298610775        |\n",
      "|V3                     |010147953e3155375299b482f51890fecc792dcfb28a1bd46acaed94ffc9f528d6d6|010147953e3155375299b482f51890fecc792dcfb28a1bd46acaed94ffc9f528d6d6|21.7              |252.93850137954402|5488.765479936105        |\n",
      "|V3                     |0101486c4197a1228406a150402f1925213299016da06ec4efd57dbae0b6601db3d7|0101486c4197a1228406a150402f1925213299016da06ec4efd57dbae0b6601db3d7|6.68              |203.40346540536686|1358.7351489078505       |\n",
      "|V3                     |01014900aaa301fe3ad969e342c478415c7adc757509f20f1952b06b263005f1585f|01014900aaa301fe3ad969e342c478415c7adc757509f20f1952b06b263005f1585f|47.16             |252.93850137954402|11928.579725059295       |\n",
      "|V3                     |01014d0e01984f0174b9cc135bd42b90d5d34cf256a6d411e41fbbb7962683f0c728|01014d0e01984f0174b9cc135bd42b90d5d34cf256a6d411e41fbbb7962683f0c728|17.36             |252.93850137954402|4391.012383948884        |\n",
      "|T                      |01014d65fd076fb7d0e8788740bde6c2f2333892c3945d8e6e9219a38d41084f0574|01014d65fd076fb7d0e8788740bde6c2f2333892c3945d8e6e9219a38d41084f0574|8.96              |253.16532326386368|2268.3612964442186       |\n",
      "|T                      |01015175e7dd04bb4c89ac52527b87f9a7884133e0dc4ad23ff9a30d01e58b144d37|01015175e7dd04bb4c89ac52527b87f9a7884133e0dc4ad23ff9a30d01e58b144d37|67.28             |253.16532326386368|17032.962949192748       |\n",
      "|V3                     |0101537e26ae2b4ddad0336b8f87cbe18ca3a7d2cad25212679b8c76c1e936dbdded|0101537e26ae2b4ddad0336b8f87cbe18ca3a7d2cad25212679b8c76c1e936dbdded|84.65001333672703 |252.93850137954402|21411.24751515015        |\n",
      "|V3                     |01015695107f7fb76215858339fefce9ce888629f5325096a3cb674ffa2f9855f320|01015695107f7fb76215858339fefce9ce888629f5325096a3cb674ffa2f9855f320|3.8               |252.93850137954402|961.1663052422672        |\n",
      "|T                      |01015826e68fdcc3f95cabf1b551a038d8be4a7f5cdc2a5fe5822b4bcc30659d65fc|01015826e68fdcc3f95cabf1b551a038d8be4a7f5cdc2a5fe5822b4bcc30659d65fc|53.88000000000002 |253.16532326386368|13640.54761745698        |\n",
      "|T                      |010159df2138664da9207fc1f035cfbbbc2784aa3687bd2b1c1ffaa97703b9eeeb99|010159df2138664da9207fc1f035cfbbbc2784aa3687bd2b1c1ffaa97703b9eeeb99|5.4               |253.16532326386368|1367.092745624864        |\n",
      "|V3                     |01015c14c9389a376bb89cadfa2b8f7717692ee87ababd4238fd1b1f4771fa32140b|01015c14c9389a376bb89cadfa2b8f7717692ee87ababd4238fd1b1f4771fa32140b|13.92             |252.93850137954402|3520.903939203253        |\n",
      "|T                      |01015c9b318d25cd939ef7672ec8810d05cc2978094a755a8f0c2d419fecebb99cd2|01015c9b318d25cd939ef7672ec8810d05cc2978094a755a8f0c2d419fecebb99cd2|9.88              |253.16532326386368|2501.2733938469732       |\n",
      "|T                      |01015da72f4a9c21b2d81736c673a2dc968b13bb24690d5271bd0bc9748887f55e72|01015da72f4a9c21b2d81736c673a2dc968b13bb24690d5271bd0bc9748887f55e72|5.0               |253.16532326386368|1265.8266163193184       |\n",
      "|V3                     |01015e370266f8aeddd5df139e85a3605a4c4bd1ee3f10b38ca3479f3ff992ac321e|01015e370266f8aeddd5df139e85a3605a4c4bd1ee3f10b38ca3479f3ff992ac321e|9.96              |252.93850137954402|2519.2674737402585       |\n",
      "|T                      |01015f825c43c9ebe9d85be0d278a4e9866737713e0641ce43e2678fc8150fd5f484|01015f825c43c9ebe9d85be0d278a4e9866737713e0641ce43e2678fc8150fd5f484|1.26              |253.16532326386368|318.98830731246824       |\n",
      "|T                      |01016303d33d60549a4d258d9dbf18199829ebac396a4b05146d6d85b39d1eafe20f|01016303d33d60549a4d258d9dbf18199829ebac396a4b05146d6d85b39d1eafe20f|72.47             |204.94933799411018|14852.678524433164       |\n",
      "|V3                     |0101647a06d481be5f0317b7dec1b1c870b8f63648672165fbb0598402c5f73b4222|0101647a06d481be5f0317b7dec1b1c870b8f63648672165fbb0598402c5f73b4222|47.92             |203.40346540536686|9747.09406222518         |\n",
      "|T                      |01016661ff289e1afda6d0ff3f4f04da3c6f958cd688f2b155084f58f6adcdcf9c3e|01016661ff289e1afda6d0ff3f4f04da3c6f958cd688f2b155084f58f6adcdcf9c3e|41.75999999999999 |253.16532326386368|10572.183899498945       |\n",
      "|V3                     |01016661ff289e1afda6d0ff3f4f04da3c6f958cd688f2b155084f58f6adcdcf9c3e|01016661ff289e1afda6d0ff3f4f04da3c6f958cd688f2b155084f58f6adcdcf9c3e|41.75999999999999 |203.40346540536686|8494.128715328117        |\n",
      "|T                      |0101667b575f0726a1bb19086c340f100364f525fb8e6ae6132153078d9957b654aa|0101667b575f0726a1bb19086c340f100364f525fb8e6ae6132153078d9957b654aa|29.96             |204.94933799411018|6140.282166303541        |\n",
      "|V3                     |0101667b575f0726a1bb19086c340f100364f525fb8e6ae6132153078d9957b654aa|0101667b575f0726a1bb19086c340f100364f525fb8e6ae6132153078d9957b654aa|29.96             |252.93850137954402|7578.0375013311395       |\n",
      "|V3                     |010167ca312caf5fe41957d184eb4b835629bb5102620357ca73a5c13fc225a57cb4|010167ca312caf5fe41957d184eb4b835629bb5102620357ca73a5c13fc225a57cb4|31.520000000000003|203.40346540536686|6411.277229577164        |\n",
      "|T                      |010167ca312caf5fe41957d184eb4b835629bb5102620357ca73a5c13fc225a57cb4|010167ca312caf5fe41957d184eb4b835629bb5102620357ca73a5c13fc225a57cb4|31.520000000000003|253.16532326386368|7979.770989276984        |\n",
      "|V3                     |0101685d73fadb183bb40a6822d6fef2c6113138ee8b965676d072bc68945998a8fc|0101685d73fadb183bb40a6822d6fef2c6113138ee8b965676d072bc68945998a8fc|11.48             |252.93850137954402|2903.7339958371654       |\n",
      "|T                      |010168c387633ef9f2fe900ed6d1b4d3a17056eb22e5437deeadee5ddf5594dfb803|010168c387633ef9f2fe900ed6d1b4d3a17056eb22e5437deeadee5ddf5594dfb803|144.22            |253.16532326386368|36511.50292111442        |\n",
      "|V3                     |01016e19cadaff9d0354e85833fbcb2116b6637b06d8520da3fbfb3a1f52c1484cc2|01016e19cadaff9d0354e85833fbcb2116b6637b06d8520da3fbfb3a1f52c1484cc2|69.00000000000003 |252.93850137954402|17452.756595188544       |\n",
      "|T                      |01016fc6cbe9ba4ed02b5cb9400ef3152340b690fba18ceec478061d34b862219e6f|01016fc6cbe9ba4ed02b5cb9400ef3152340b690fba18ceec478061d34b862219e6f|19.96             |204.94933799411018|4090.788786362439        |\n",
      "|V3                     |010174e18e6177d1a7960351d03a215ad372bde1542b995fda20946bf3b310662ba3|010174e18e6177d1a7960351d03a215ad372bde1542b995fda20946bf3b310662ba3|5.0               |252.93850137954402|1264.69250689772         |\n",
      "|T                      |010174f2c302c5c15fcfaa6c6a7e5d80cfdcd67069adecffe3bf19c1d13b8e37ece2|010174f2c302c5c15fcfaa6c6a7e5d80cfdcd67069adecffe3bf19c1d13b8e37ece2|69.0              |253.16532326386368|17468.407305206594       |\n",
      "|T                      |0101753d3e8652f234d8bb7e40fb772909218addba0a3498f155493b017344b3f7f5|0101753d3e8652f234d8bb7e40fb772909218addba0a3498f155493b017344b3f7f5|144.94            |253.16532326386368|36693.7819538644         |\n",
      "|V3                     |0101765292c046072bc9c08375038df289c79f436c51cbc8cd707c55701c68584b45|0101765292c046072bc9c08375038df289c79f436c51cbc8cd707c55701c68584b45|10.0              |252.93850137954402|2529.38501379544         |\n",
      "|T                      |01017c184254f433e6b72733e4bf7aeec10b8a1b450098d7376b885abc8270a05fd1|01017c184254f433e6b72733e4bf7aeec10b8a1b450098d7376b885abc8270a05fd1|39.92000000000001 |253.16532326386368|10106.359704693441       |\n",
      "|T                      |01017c184254f433e6b72733e4bf7aeec10b8a1b450098d7376b885abc8270a05fd1|01017c184254f433e6b72733e4bf7aeec10b8a1b450098d7376b885abc8270a05fd1|15.96             |204.94933799411018|3270.9914343859987       |\n",
      "|T                      |01017c9ffc44670e8262346b0a22290274e377af337d9a51b2f8f53c69f0bb91157e|01017c9ffc44670e8262346b0a22290274e377af337d9a51b2f8f53c69f0bb91157e|29.92             |253.16532326386368|7574.706472054801        |\n",
      "|V3                     |01017d59ba9b42f1db84e2ba4e8846d487dec642999cd18a82c95cc8164851f73d62|01017d59ba9b42f1db84e2ba4e8846d487dec642999cd18a82c95cc8164851f73d62|31.840000000000003|252.93850137954402|8053.561883924683        |\n",
      "|V3                     |01017d59ba9b42f1db84e2ba4e8846d487dec642999cd18a82c95cc8164851f73d62|01017d59ba9b42f1db84e2ba4e8846d487dec642999cd18a82c95cc8164851f73d62|6.0               |203.40346540536686|1220.420792432201        |\n",
      "|T                      |01017d5e9cded6608b246cd2e46d5e72d95f23fc587955e5eef479c6866ba661c35e|01017d5e9cded6608b246cd2e46d5e72d95f23fc587955e5eef479c6866ba661c35e|23.52             |253.16532326386368|5954.448403166074        |\n",
      "|T                      |01017f635e2a9273abff7f78b082156b75654a82ce0990e61a68e4cfe4a779855741|01017f635e2a9273abff7f78b082156b75654a82ce0990e61a68e4cfe4a779855741|10.44             |204.94933799411018|2139.67108865851         |\n",
      "|T                      |0101814506b57f7d0af1af35e5b0c39753186c910951871d32f432e134ed5095d4fb|0101814506b57f7d0af1af35e5b0c39753186c910951871d32f432e134ed5095d4fb|7.92              |253.16532326386368|2005.0693602498004       |\n",
      "|T                      |010181e29192432d549da748d3ab04192d2ad10dd1f89aa48a00771d8e8a8c0e4b7e|010181e29192432d549da748d3ab04192d2ad10dd1f89aa48a00771d8e8a8c0e4b7e|19.599999999999998|253.16532326386368|4962.0403359717275       |\n",
      "|V3                     |010182648b9f12081bb020f029e7ce61bba43c47ee03c530f313c62ae9c6146e98ba|010182648b9f12081bb020f029e7ce61bba43c47ee03c530f313c62ae9c6146e98ba|6.36              |252.93850137954402|1608.6888687739001       |\n",
      "|T                      |010182fffc028d6fe605c4aa0ca008eab2dad6551806c47fc7fc617579a64b8f0236|010182fffc028d6fe605c4aa0ca008eab2dad6551806c47fc7fc617579a64b8f0236|7.92              |204.94933799411018|1623.1987569133526       |\n",
      "|T                      |01018350036f1afae33a0f63fedea601592a58732b6459c671f33d13c5e356215c6e|01018350036f1afae33a0f63fedea601592a58732b6459c671f33d13c5e356215c6e|72.47             |204.94933799411018|14852.678524433164       |\n",
      "|T                      |0101851b3ab44bfdc83d1fb996149226ddfd1def37867684f695a0cc36e79512e94e|0101851b3ab44bfdc83d1fb996149226ddfd1def37867684f695a0cc36e79512e94e|15.92             |204.94933799411018|3262.793460866234        |\n",
      "+-----------------------+--------------------------------------------------------------------+--------------------------------------------------------------------+------------------+------------------+-------------------------+\n",
      "only showing top 100 rows"
     ]
    }
   ],
   "source": [
    "sales_post_details = spark.sql(\"\"\"\n",
    "select \n",
    "    recordedTreatmentStatus,\n",
    "    customer_id,\n",
    "    adUserId,\n",
    "    item_price_imputed,\n",
    "    scaling_factor,\n",
    "    scaled_item_price_imputed\n",
    "from (\n",
    "    select \n",
    "        exposure.recordedTreatmentStatus,\n",
    "        adUserId,\n",
    "        customer_id,\n",
    "        sum(item_price_imputed) as item_price_imputed,\n",
    "        scaling_factor,\n",
    "        scaling_factor*sum(item_price_imputed) as scaled_item_price_imputed,\n",
    "        max(date) as ads_exp_date \n",
    "    from exposure \n",
    "    left join sp on exposure.adUserId = sp.customer_id\n",
    "        -- total window method\n",
    "        and transaction_date_imputed between exp_start_date and date_add(exp_end_date, 14)\n",
    "        -- remove transactions before each exposure\n",
    "        and transaction_date_imputed >=date\n",
    "    left join sf_results\n",
    "        on exposure.experiment = sf_results.experiment\n",
    "        and exposure.recordedTreatmentStatus = sf_results.recordedTreatmentStatus\n",
    "    group by 1,2,3,scaling_factor\n",
    "    )\n",
    "\"\"\")\n",
    "\n",
    "sales_post_details.show(100,False)\n",
    "sales_post_details.createOrReplaceTempView(\"sales_post_details\")\n",
    "\n",
    "sales_post_details \\\n",
    "    .repartition(1) \\\n",
    "    .write.mode('overwrite') \\\n",
    "    .csv('s3a://panel-ml-incrementality-data/incrementality/results/results_'+experiment+'/'+today+'/sales_post_details/'\n",
    "         , header=True)\n"
   ]
  },
  {
   "cell_type": "code",
   "execution_count": 27,
   "id": "4fab7c6e",
   "metadata": {},
   "outputs": [
    {
     "data": {
      "application/vnd.jupyter.widget-view+json": {
       "model_id": "661625090d854ad6888fc99ee1db1e5d",
       "version_major": 2,
       "version_minor": 0
      },
      "text/plain": [
       "VBox()"
      ]
     },
     "metadata": {},
     "output_type": "display_data"
    },
    {
     "data": {
      "application/vnd.jupyter.widget-view+json": {
       "model_id": "",
       "version_major": 2,
       "version_minor": 0
      },
      "text/plain": [
       "FloatProgress(value=0.0, bar_style='info', description='Progress:', layout=Layout(height='25px', width='50%'),…"
      ]
     },
     "metadata": {},
     "output_type": "display_data"
    },
    {
     "name": "stdout",
     "output_type": "stream",
     "text": [
      "+--------------------------------------------------------------------+-----------------------+------------+\n",
      "|adUserId                                                            |recordedTreatmentStatus|convert_flag|\n",
      "+--------------------------------------------------------------------+-----------------------+------------+\n",
      "|0101000080deb73785c55df2bd61249cfbc32c96bfd2e02042ca182cdfc4eaaee31c|T                      |0           |\n",
      "|0101000218b2f35b4821119af19a44577a6c7ac684796e718577e0988186b16e14a0|T                      |0           |\n",
      "|01010002d7da8481d9f112676cc0631de58b515247ad33038db8f1800aeb3558db43|V3                     |0           |\n",
      "|010100033caa0e6df0fc9f65807c749bb7e5b245bf3d086a4d6e5111e78472c0f38c|T                      |0           |\n",
      "|010100046c1d157eab523c8a612bc990a8b497478f1cbafc4f993014cd4a64b7c949|V3                     |0           |\n",
      "|010100051ae331bcf65ec335aef240c761d964c9a271141470e74bd172423b098df6|V3                     |0           |\n",
      "|0101000574bbd0c60e315594ddbe741ccfcbc90f0cb866d8465438fa03dc8d7481a0|T                      |1           |\n",
      "|0101000574bbd0c60e315594ddbe741ccfcbc90f0cb866d8465438fa03dc8d7481a0|V3                     |0           |\n",
      "|010100069d9694848cffc28bd0b808a57045cf6d89f0c7c3f6a89d39a6f81fbe2013|T                      |0           |\n",
      "|01010007315c20751d8555137999d87aa6f5ae980f6a30c7a0f6ff2ce316f8ea1b65|T                      |0           |\n",
      "|010100073eb8d6f7c3096a83c0cd8187d6cf60467d95eaefdc62e6d33d75d616486f|T                      |0           |\n",
      "|01010007de407a2161f3efa83c3dc68952b128fb2b7d4a0c1a002a1980b8e12ee149|T                      |0           |\n",
      "|01010007de407a2161f3efa83c3dc68952b128fb2b7d4a0c1a002a1980b8e12ee149|V3                     |0           |\n",
      "|0101000864d25576fad8e2240b9cddad5ee58ee6119c2cca6d94943f76247ff1da4e|V3                     |1           |\n",
      "|010100086eace33a76062afebbe1b3062f299153bc6ec118d8de762e65444fbea876|T                      |0           |\n",
      "|010100086eace33a76062afebbe1b3062f299153bc6ec118d8de762e65444fbea876|V3                     |0           |\n",
      "|010100090864716a0c8787cfb49380f762e778f6f9a00205c8f8ebe40cb7f34fe5d0|V3                     |1           |\n",
      "|01010009895b5e00db6b09fe001db9eadc94309f26e74d25ed3cc09d6231918410e0|V3                     |0           |\n",
      "|0101000996afd68d8d64380c9f47fa5c15ee64f2b9393c4471f5af12afc56dca36d8|T                      |0           |\n",
      "|01010009e2311595f7c6d5a4d9bb09d3069f700282274039cbd9ff131ba8dc65e0f9|T                      |0           |\n",
      "|01010009e2311595f7c6d5a4d9bb09d3069f700282274039cbd9ff131ba8dc65e0f9|V3                     |1           |\n",
      "|0101000a25a596b43c95d75d45e051601cb45322d7de646e521b4bdda9f1616c22d9|T                      |1           |\n",
      "|0101000a54844aadaecff95d124f91275f746c29481eedf6909c8ad543f4e32ea3c1|T                      |0           |\n",
      "|0101000b23834dfd08a591c87d203c56c7092e768e8739ae7ba9759a5e25b26d7a83|V3                     |0           |\n",
      "|0101000b364e422f51793000d70cea077804f0a68313edb803a35cf4b194ce158418|T                      |0           |\n",
      "|0101000b70a4f30c5886c8b01a470abc24f5054540752e2ac2dc3be6a0bb27c2b389|V3                     |0           |\n",
      "|0101000b9bf51ee51c49593563c38b66c0d8e5b354e53b158c455af2ea4a838f4cc5|V3                     |0           |\n",
      "|0101000bfe74f80352c5388c81469c8ad85fe56ab00e0a973fa655e695f0172c3406|V3                     |0           |\n",
      "|0101000c6cfd2eb4db903d2b74a96162f8ec0542d9c37fbfbe263dcaae914a9c2946|V3                     |0           |\n",
      "|0101000d2a202ad37b1332649dcec460cfe9772909085f251bd42b74e4061a899962|V3                     |0           |\n",
      "|0101000d9290fdb5c98c44d09bcfd3fcdcaae2d1773c9f63ef51d26aeca07d432075|V3                     |0           |\n",
      "|0101000db1e2fe9c858f06e363aceef1cc847408990c6c9aa70e2dd11bd35b5fc86f|V3                     |0           |\n",
      "|0101000db4f7bb929ae02ff58398748f4876658e57f259acf70a1242d30485f9cd07|T                      |0           |\n",
      "|0101000e4af26256d2b2e3e2cc1678122d167f3213f686c204c1a2089aa73b750e44|T                      |0           |\n",
      "|0101000edf0e75ab87ef4723bb60dfe400a6ef655de4a8678d548b37a475114c8e37|T                      |1           |\n",
      "|0101000ef27d855b24b6dad5655132e6dbd90572aeb42971e8d20e79755aab04d9cc|V3                     |0           |\n",
      "|0101000efbaef6befd41f2ffc0e9d823ab6626da023a95b8ccd5a8a2675e3e9223ff|V3                     |0           |\n",
      "|0101000f3328411e6493c4c96b99f39d9b7da1ddd6cbd0a6b817f9bad4debc90fbf1|T                      |1           |\n",
      "|0101000f67a5bc68e6e341fd1771f1f78bf5e5c916540c364fd14fc1098d4c51505b|V3                     |0           |\n",
      "|0101000f9b1760e2d246489e747f8b2edae850b3a4c62ec8d469ee684edbe65cca56|V3                     |0           |\n",
      "|0101000fb70583042cf78ba3b4e8d0d21e0911b33ef7f8afebaaf75a75e6a72b7f3e|T                      |0           |\n",
      "|0101000fb70583042cf78ba3b4e8d0d21e0911b33ef7f8afebaaf75a75e6a72b7f3e|V3                     |0           |\n",
      "|0101000fb9fcc303a0b7fe70d6aa2de98bf6679c4f69a28dfd292885850fa255ec8f|V3                     |0           |\n",
      "|010100109a632ceb46425d530a06f4b8ec29be1710bf5f215a90b7ef8a1920880c48|T                      |0           |\n",
      "|0101001125ce1aa9465ddb31831c6d468a75c4c971987c184df1f45d27e3f9129371|T                      |1           |\n",
      "|0101001125ce1aa9465ddb31831c6d468a75c4c971987c184df1f45d27e3f9129371|V3                     |0           |\n",
      "|0101001195fbcfcf4e07382e25536443ef6cf1256767d1b23255bca533e437764be8|T                      |0           |\n",
      "|0101001275a1389c083b659d846609d605a6dfb90a984d6236c45418f813580b2e54|T                      |0           |\n",
      "|010100127ad317cfb975ffb57e9a0b25428e61bc8c72b19af2d4be4921db2343ad05|T                      |0           |\n",
      "|010100127ad317cfb975ffb57e9a0b25428e61bc8c72b19af2d4be4921db2343ad05|V3                     |0           |\n",
      "|01010012d12750020aebfc1d946e6ad5f5984afd6a169c941416811236af6d5696ca|V3                     |0           |\n",
      "|01010012fc63a52149d4f723da255fb0d474998c36cac53bd885e2fa094d597ad7df|V3                     |1           |\n",
      "|010100139d1ef119064d302e9567905c0181022478f5c6aec2496a9ad82388f4f0e8|T                      |0           |\n",
      "|01010013b5fb716d25d892023365cc96c61d8e7af387ee4b9237f812196ecb129ae7|V3                     |0           |\n",
      "|01010013ed25c345788edda1d30ebd502708a900f4cb3cb16247c9bfb29360728983|V3                     |0           |\n",
      "|010100158632a70f626d1e3834c6a1c7b5875c78d567adfb7dd4f97322449292c572|T                      |0           |\n",
      "|01010015f6ae9c632d9840e9f99a7edf102b54c78db5072ddadb3e2732d1e642b8cb|T                      |0           |\n",
      "|01010015f6ae9c632d9840e9f99a7edf102b54c78db5072ddadb3e2732d1e642b8cb|V3                     |0           |\n",
      "|01010017254ca6beafccc994079452481d27bfe7a4a423982c24a7d63ff2e5eb4912|V3                     |0           |\n",
      "|010100173152d620bbf456b9fd859d984455d203319d366042eccf968f17c9bdad39|T                      |0           |\n",
      "|010100174521219ae91665f4c3c032dc13e5a08bddfd3afc0ef0a377308edb7c1881|V3                     |0           |\n",
      "|0101001786c412bd0718343a397b9ff0d6d892172dc5c898d455ea22d75721c73d1d|V3                     |0           |\n",
      "|010100178ddac44e7e0b90392323a43d500715ebaa983ed950a2f4ae2a32a4c12067|V3                     |0           |\n",
      "|010100191ac4b529f21be4e29343c6b66b5633c264255066b5de2279e9d5ca6c8d9d|T                      |0           |\n",
      "|010100191b00e1c1c8a735a70437f5a1b94e335453936f9f9faef4b192f009b76f8d|T                      |0           |\n",
      "|010100198616a241aa904823e86ef1b247f04a53585ba7ebdd01f62fc4d9781f5224|T                      |0           |\n",
      "|01010019e1d5f0e22c9339a557e767e95f8679550b3ccb5c17deae4ea657b44a4319|V3                     |0           |\n",
      "|0101001abee4e5822198c95a0d43a1d8394ff38d5c9d31da8175fe76220ca75c7167|T                      |0           |\n",
      "|0101001abee4e5822198c95a0d43a1d8394ff38d5c9d31da8175fe76220ca75c7167|V3                     |0           |\n",
      "|0101001ae331b9ab580d77a970c8a71c1a163f9981af0f95533c3e31f84302db5d68|V3                     |0           |\n",
      "|0101001c3529b021692a4f5ecfd2c1018075f82c4803c3c9284e4d763bc28a782289|V3                     |1           |\n",
      "|0101001c52ab6e651432b77a2bccd5e78aa9277c89b3f0165173b2b3148a93f2f320|V3                     |0           |\n",
      "|0101001c57e7b695d4971ecd2c95c2df48a402e0328c890c6deed2362387912df75d|V3                     |0           |\n",
      "|0101001ca749a74be225564b62fd4090a268dbb9bbe447547aec62dc548df88ab4c1|V3                     |1           |\n",
      "|0101001d949900c05eeea6317e5aac0cf65ef4ad7c911bb3b448493fa06d43741622|T                      |0           |\n",
      "|0101001db4e68438e82d0f4d290b6c0758f34ad274b31e08b73e3462c8899bf6e7ae|T                      |0           |\n",
      "|0101001dd1f94c4f8460482abf9cfa7d88c86021117dea698023aef6af32fbf85a86|V3                     |0           |\n",
      "|0101001dd3a5afb0b3afa2120d679f3f3b6349654426b4b94f30709b996a6bf7b241|T                      |0           |\n",
      "|0101001ddebba5a9b8e044d1dfc8a67943137de0c12fe67311c5227456d2ab05b9cd|T                      |0           |\n",
      "|0101001e5ed24fe09733a43a045287f92e1a34641793f305961a91164335cbab9c91|T                      |0           |\n",
      "|0101001ee1da4c3dd490bc47a249672ec539c9a20c6202555fcb79ff0f11c07600d5|T                      |0           |\n",
      "|0101001ee1da4c3dd490bc47a249672ec539c9a20c6202555fcb79ff0f11c07600d5|V3                     |1           |\n",
      "|0101001f7298bfeba8fa086ca8cf617e977d3301cc383bac08074d067c008d37c5bc|T                      |0           |\n",
      "|0101001f872b78ac0efa01c39578147f0026ffb5afba90c08804e168496a99b52111|T                      |0           |\n",
      "|0101002003b438bb7988637cf3d06ca944453976d588e546537f652bbe48b0798ca5|T                      |0           |\n",
      "|0101002026b4ca08c5d60ce5a37f8e38bfc4cc4444399c8c61eb4eccbb5d37efddd9|V3                     |0           |\n",
      "|01010020e5f94081920fdd1bf25bc58dec229af0afcafd2c4894f557c05bfe19ffd4|V3                     |0           |\n",
      "|0101002135e4b4c2e88803a9bf319bb435d96fca1870384e2e514a65a417fe73472c|V3                     |0           |\n",
      "|010100221b5a1d4b31ec2f94d16017725a9b59b7f93f7de7ae3a9c6f3ad00fb4277e|T                      |0           |\n",
      "|010100221b5a1d4b31ec2f94d16017725a9b59b7f93f7de7ae3a9c6f3ad00fb4277e|V3                     |0           |\n",
      "|01010022c461cbf6781329d22858e383bbdc0fd9f4713965040783ecbbaac61460c3|V3                     |0           |\n",
      "|01010023cd087206b27be0ccfb0810052c6c9b1b14e97eb54a8f90370fa9f0621033|V3                     |0           |\n",
      "|010100243b31f016e2116641e2895cad011728defadafe4a8e3cce8f4d2d10559153|T                      |0           |\n",
      "|010100244e561d7d703117354ecbfea7477f3a943f807fc13eb454ec73a6cce715ee|V3                     |0           |\n",
      "|01010024a4dd4b2b973f62881b58758908dee6d975c7d7fd394aabd047dec9e1c61a|T                      |0           |\n",
      "|010100267cec6525b08d2f2ed45f7e6132e697302b0308d43d34b0d981414a805da0|V3                     |1           |\n",
      "|010100269cf77099ed346c15b3b88115f98251fe953e875d078bd5e495b4ee73710c|T                      |0           |\n",
      "|010100269cf77099ed346c15b3b88115f98251fe953e875d078bd5e495b4ee73710c|V3                     |0           |\n",
      "|010100275bfe511f978d6ea9d22a96322f6a4627e0e24d23e0ead98cbdee04aa4872|V3                     |0           |\n",
      "|01010027b1eb87a24c396edc0e92a7840b25ed8efc8631504b7ae17089b8e7aa7c8f|T                      |1           |\n",
      "+--------------------------------------------------------------------+-----------------------+------------+\n",
      "only showing top 100 rows"
     ]
    }
   ],
   "source": [
    "purchase_post_details = spark.sql(\"\"\"\n",
    "with joined as (\n",
    "select\n",
    "    transaction_date_imputed,\n",
    "    recordedTreatmentStatus,\n",
    "    exposure.adUserId,\n",
    "    sp.customer_id,\n",
    "    receipt_id,\n",
    "    transaction_id,\n",
    "    item_price_imputed,\n",
    "    max(date) as ads_exp_date\n",
    "from exposure \n",
    "left join sp on exposure.adUserId = sp.customer_id\n",
    "    -- total window method\n",
    "    and transaction_date_imputed between exp_start_date and date_add(exp_end_date, 14)\n",
    "    -- remove transactions before each exposure\n",
    "    and transaction_date_imputed >=date\n",
    "group by 1,2,3,4,5,6,7\n",
    ")\n",
    "\n",
    "select \n",
    "    adUserId,\n",
    "    recordedTreatmentStatus,\n",
    "    case when customer_id is not null then 1 else 0 end as convert_flag\n",
    "from joined\n",
    "-- only take matched ads exposure and shopper panel users\n",
    "where adUserId in (select distinct customer_id from sp_total)\n",
    "group by 1,2,3\n",
    "order by 1,2\n",
    "\"\"\")\n",
    "\n",
    "purchase_post_details.show(100,False)\n",
    "purchase_post_details.createOrReplaceTempView(\"purchase_post_details\")\n",
    "\n",
    "purchase_post_details \\\n",
    "    .repartition(1) \\\n",
    "    .write.mode('overwrite') \\\n",
    "    .csv('s3a://panel-ml-incrementality-data/incrementality/results/results_'+experiment+'/'+today+'/purchase_post_details/'\n",
    "         , header=True)\n"
   ]
  },
  {
   "cell_type": "markdown",
   "id": "4515e9ca",
   "metadata": {},
   "source": [
    "# DID"
   ]
  },
  {
   "cell_type": "markdown",
   "id": "6cb9ac40",
   "metadata": {},
   "source": [
    "### DID Sales"
   ]
  },
  {
   "cell_type": "code",
   "execution_count": 28,
   "id": "d5283fdd",
   "metadata": {},
   "outputs": [
    {
     "data": {
      "application/vnd.jupyter.widget-view+json": {
       "model_id": "1de17d6d5cc3429ab9d859dcebcd710b",
       "version_major": 2,
       "version_minor": 0
      },
      "text/plain": [
       "VBox()"
      ]
     },
     "metadata": {},
     "output_type": "display_data"
    },
    {
     "data": {
      "application/vnd.jupyter.widget-view+json": {
       "model_id": "",
       "version_major": 2,
       "version_minor": 0
      },
      "text/plain": [
       "FloatProgress(value=0.0, bar_style='info', description='Progress:', layout=Layout(height='25px', width='50%'),…"
      ]
     },
     "metadata": {},
     "output_type": "display_data"
    },
    {
     "name": "stdout",
     "output_type": "stream",
     "text": [
      "+-----------------------+--------------------------------------------------------------------+--------------------------------------------------------------------+------------------+------------------+-------------------------+\n",
      "|recordedTreatmentStatus|adUserId                                                            |customer_id                                                         |item_price_imputed|scaling_factor    |scaled_item_price_imputed|\n",
      "+-----------------------+--------------------------------------------------------------------+--------------------------------------------------------------------+------------------+------------------+-------------------------+\n",
      "|T                      |0101015f0b7fd393e09a07ba6ae033c39bb1604827304c0190f56b1a1790134f99de|0101015f0b7fd393e09a07ba6ae033c39bb1604827304c0190f56b1a1790134f99de|7.92              |204.94933799411018|1623.1987569133526       |\n",
      "|V3                     |0101015f0b7fd393e09a07ba6ae033c39bb1604827304c0190f56b1a1790134f99de|0101015f0b7fd393e09a07ba6ae033c39bb1604827304c0190f56b1a1790134f99de|7.92              |252.93850137954402|2003.2729309259887       |\n",
      "|T                      |0101017bde19ae1ceda60c803917bd7f3247b7552e606aedfd95386ecf8d06468d20|0101017bde19ae1ceda60c803917bd7f3247b7552e606aedfd95386ecf8d06468d20|4.56              |253.16532326386368|1154.4338740832184       |\n",
      "|T                      |01010268ebcbd6aace907d65a94af1f5fc1febafcd748719280a4cf7701fd88b07ea|01010268ebcbd6aace907d65a94af1f5fc1febafcd748719280a4cf7701fd88b07ea|3.92              |204.94933799411018|803.401404936912         |\n",
      "|T                      |010102db3d5665cd80e42b8212fb3cbfb904bafd60a90476f561db11b76140053373|010102db3d5665cd80e42b8212fb3cbfb904bafd60a90476f561db11b76140053373|6.0               |253.16532326386368|1518.991939583182        |\n",
      "|T                      |0101066fd267e351e3dc26d4fc830362fa808ae5b692bfc902f697b5559f101c1839|0101066fd267e351e3dc26d4fc830362fa808ae5b692bfc902f697b5559f101c1839|88.38999999999999 |253.16532326386368|22377.282923292907       |\n",
      "|T                      |0101066fd267e351e3dc26d4fc830362fa808ae5b692bfc902f697b5559f101c1839|0101066fd267e351e3dc26d4fc830362fa808ae5b692bfc902f697b5559f101c1839|88.38999999999999 |204.94933799411018|18115.471985299395       |\n",
      "|T                      |01010815a3010067b04503e1399affb7197f7ab790f61fc3013a7ab2a839b331839d|01010815a3010067b04503e1399affb7197f7ab790f61fc3013a7ab2a839b331839d|43.92000000000001 |204.94933799411018|9001.37492470132         |\n",
      "|V3                     |01010815a3010067b04503e1399affb7197f7ab790f61fc3013a7ab2a839b331839d|01010815a3010067b04503e1399affb7197f7ab790f61fc3013a7ab2a839b331839d|43.92000000000001 |252.93850137954402|11109.058980589576       |\n",
      "|T                      |01010a2d4a9cc0871254697d82f31e80fd344dac843bfe5174cb2c1e7bdfe2a09250|01010a2d4a9cc0871254697d82f31e80fd344dac843bfe5174cb2c1e7bdfe2a09250|25.800000000000004|204.94933799411018|5287.692920248043        |\n",
      "|V3                     |01010a361ca2778bea269e6c08af84635861cdeb62588eb289ae7a66550ca3d654c3|01010a361ca2778bea269e6c08af84635861cdeb62588eb289ae7a66550ca3d654c3|22.96             |203.40346540536686|4670.143565707223        |\n",
      "|T                      |01010a361ca2778bea269e6c08af84635861cdeb62588eb289ae7a66550ca3d654c3|01010a361ca2778bea269e6c08af84635861cdeb62588eb289ae7a66550ca3d654c3|22.96             |253.16532326386368|5812.675822138311        |\n",
      "|T                      |01010b393f52badfb04fbcdfddcb911d8b4e09a6a8aec78871598928870389138b73|01010b393f52badfb04fbcdfddcb911d8b4e09a6a8aec78871598928870389138b73|20.04             |253.16532326386368|5073.433078207828        |\n",
      "|T                      |01010c18b698bc6941a2413f6fbe49f328a470d0f7b181aefdb2ab9dc37ee6146665|01010c18b698bc6941a2413f6fbe49f328a470d0f7b181aefdb2ab9dc37ee6146665|18.759999999999998|204.94933799411018|3844.8495807695067       |\n",
      "|V3                     |01010d3de0dbdb011d99e26cb44c4cb8bec480f64105db3d84beb55bae57135513d5|01010d3de0dbdb011d99e26cb44c4cb8bec480f64105db3d84beb55bae57135513d5|43.96             |252.93850137954402|11119.176520644756       |\n",
      "|T                      |01010d3de0dbdb011d99e26cb44c4cb8bec480f64105db3d84beb55bae57135513d5|01010d3de0dbdb011d99e26cb44c4cb8bec480f64105db3d84beb55bae57135513d5|43.96             |204.94933799411018|9009.572898221084        |\n",
      "|T                      |01010ef30f6bed34db15e1f52c76ba6d7170abf04b88ffeacd417692dfe458219dbc|01010ef30f6bed34db15e1f52c76ba6d7170abf04b88ffeacd417692dfe458219dbc|10.5482381487466  |204.94933799411018|2161.854425589834        |\n",
      "|T                      |0101118c900b8b5645d8534241a89a1c401e1fa8bfe1285659c70b6fca5bf8161424|0101118c900b8b5645d8534241a89a1c401e1fa8bfe1285659c70b6fca5bf8161424|7.08              |204.94933799411018|1451.0413129983          |\n",
      "|T                      |01011191fb21bb41947366a79446226d342c1def53316566adff8412c9e36797d441|01011191fb21bb41947366a79446226d342c1def53316566adff8412c9e36797d441|20.720000000000002|204.94933799411018|4246.550283237963        |\n",
      "|V3                     |010111c3a5a36d38e76d249b4a1f9c1261edb3ca9cf9e5a54fd7fe7feb3bf9d66276|010111c3a5a36d38e76d249b4a1f9c1261edb3ca9cf9e5a54fd7fe7feb3bf9d66276|31.84             |203.40346540536686|6476.36633850688         |\n",
      "|V3                     |0101124415d835bc90fe1859e14e45a5e74f622c34618e2772e853e9093ced76b5a6|0101124415d835bc90fe1859e14e45a5e74f622c34618e2772e853e9093ced76b5a6|6.56              |203.40346540536686|1334.3267330592066       |\n",
      "|V3                     |010113bb30291df3b296722e9e6c95c4895048d00795c0a1be196c10c9647ac8808e|010113bb30291df3b296722e9e6c95c4895048d00795c0a1be196c10c9647ac8808e|4.0               |203.40346540536686|813.6138616214674        |\n",
      "|V3                     |0101142bdb175efe2d0cc06ce94ace9c4bdddd0e5f2e15e1ba68ddddbb46cb15edba|0101142bdb175efe2d0cc06ce94ace9c4bdddd0e5f2e15e1ba68ddddbb46cb15edba|72.47             |252.93850137954402|18330.453194975555       |\n",
      "|V3                     |0101142bdb175efe2d0cc06ce94ace9c4bdddd0e5f2e15e1ba68ddddbb46cb15edba|0101142bdb175efe2d0cc06ce94ace9c4bdddd0e5f2e15e1ba68ddddbb46cb15edba|72.47             |203.40346540536686|14740.649137926936       |\n",
      "|V3                     |010115442d3194710dae15ccad09ceddc4c23f16f6f686170d7ef184f45026b1391f|010115442d3194710dae15ccad09ceddc4c23f16f6f686170d7ef184f45026b1391f|20.0              |203.40346540536686|4068.0693081073373       |\n",
      "|T                      |010115442d3194710dae15ccad09ceddc4c23f16f6f686170d7ef184f45026b1391f|010115442d3194710dae15ccad09ceddc4c23f16f6f686170d7ef184f45026b1391f|20.0              |253.16532326386368|5063.306465277274        |\n",
      "|V3                     |0101157f19e2b58162baeeca0bfd46566c5fbe5de9b0448d10cb604f1bce4fde374f|0101157f19e2b58162baeeca0bfd46566c5fbe5de9b0448d10cb604f1bce4fde374f|34.25001333672703 |252.93850137954402|8663.14704562113         |\n",
      "|V3                     |0101157f19e2b58162baeeca0bfd46566c5fbe5de9b0448d10cb604f1bce4fde374f|0101157f19e2b58162baeeca0bfd46566c5fbe5de9b0448d10cb604f1bce4fde374f|34.25001333672703 |203.40346540536686|6966.57140287031         |\n",
      "|T                      |0101172a405903ffe10214693c687a39f09364a09d3c72ca86be5969357b4a1ffe46|0101172a405903ffe10214693c687a39f09364a09d3c72ca86be5969357b4a1ffe46|0.0               |253.16532326386368|0.0                      |\n",
      "|V3                     |0101172a405903ffe10214693c687a39f09364a09d3c72ca86be5969357b4a1ffe46|0101172a405903ffe10214693c687a39f09364a09d3c72ca86be5969357b4a1ffe46|0.0               |203.40346540536686|0.0                      |\n",
      "|V3                     |010117678253d6ba5452783f97800f74b6102efe9d96a83d3f32bad856071d3884bc|010117678253d6ba5452783f97800f74b6102efe9d96a83d3f32bad856071d3884bc|21.0              |203.40346540536686|4271.472773512704        |\n",
      "|V3                     |010117678253d6ba5452783f97800f74b6102efe9d96a83d3f32bad856071d3884bc|010117678253d6ba5452783f97800f74b6102efe9d96a83d3f32bad856071d3884bc|21.0              |252.93850137954402|5311.708528970425        |\n",
      "|T                      |01011978150405665850a9a43aad348ec0177e23a3c1d3cbd7da420cce011fdfcb76|01011978150405665850a9a43aad348ec0177e23a3c1d3cbd7da420cce011fdfcb76|8.72              |253.16532326386368|2207.6016188608914       |\n",
      "|V3                     |01011de23fb96c57a5791c33504a7cb358dfdb57cd6553f0a87395f4a0ccb3661b39|01011de23fb96c57a5791c33504a7cb358dfdb57cd6553f0a87395f4a0ccb3661b39|17.96             |203.40346540536686|3653.126238680389        |\n",
      "|T                      |01011de9a12043ec2665dde1cf79472398bb8e8a907dea76d10b337675ebb1ad0589|01011de9a12043ec2665dde1cf79472398bb8e8a907dea76d10b337675ebb1ad0589|32.020026673454055|204.94933799411018|6562.483269278158        |\n",
      "|T                      |01011e15964e72eb3cc187ca9ea176fa9c2b49d12c139e704109f8667fad31410e18|01011e15964e72eb3cc187ca9ea176fa9c2b49d12c139e704109f8667fad31410e18|74.40005334690811 |204.94933799411018|15248.241680175299       |\n",
      "|V3                     |01011e270555a45e6801451e740fab5e52707fb2522ccd1acc999ea4acf3a8b7e507|01011e270555a45e6801451e740fab5e52707fb2522ccd1acc999ea4acf3a8b7e507|72.11             |203.40346540536686|14667.423890381004       |\n",
      "|T                      |01011e717c97deb2f35996128fe4736718b5bf5887d6839e9cb7bbddbb5519f0c96a|01011e717c97deb2f35996128fe4736718b5bf5887d6839e9cb7bbddbb5519f0c96a|10.548238148746599|253.16532326386368|2670.4481207916515       |\n",
      "|T                      |01011fe109b9cc5e0308551831ff9ca1cf2aa3dad8093ab76a3da952cd69b47424eb|01011fe109b9cc5e0308551831ff9ca1cf2aa3dad8093ab76a3da952cd69b47424eb|8.72              |253.16532326386368|2207.6016188608914       |\n",
      "|T                      |01011fe109b9cc5e0308551831ff9ca1cf2aa3dad8093ab76a3da952cd69b47424eb|01011fe109b9cc5e0308551831ff9ca1cf2aa3dad8093ab76a3da952cd69b47424eb|8.72              |204.94933799411018|1787.158227308641        |\n",
      "|T                      |01012159df36c02f165bf8d9efda2e2635823ff8dc67eaa678a76b293332679bcaf3|01012159df36c02f165bf8d9efda2e2635823ff8dc67eaa678a76b293332679bcaf3|13.56             |204.94933799411018|2779.113023200134        |\n",
      "|V3                     |01012381525b0ba8bb7ba5c30d556ced61eaaab16daf49d18dd1fef0f80e1a3adcda|01012381525b0ba8bb7ba5c30d556ced61eaaab16daf49d18dd1fef0f80e1a3adcda|11.92             |252.93850137954402|3015.0269364441647       |\n",
      "|T                      |010125a39254864fb796f008381d6c5b6d41c980ebfc16e20fe745fa36ac7dc87175|010125a39254864fb796f008381d6c5b6d41c980ebfc16e20fe745fa36ac7dc87175|10.6              |253.16532326386368|2683.552426596955        |\n",
      "|V3                     |0101269f6ac2de2202f9ef2c7fce027c0817b7bca2067531786c124e1e8c87c2b51e|0101269f6ac2de2202f9ef2c7fce027c0817b7bca2067531786c124e1e8c87c2b51e|8.879999999999999 |203.40346540536686|1806.2227727996576       |\n",
      "|T                      |0101269f6ac2de2202f9ef2c7fce027c0817b7bca2067531786c124e1e8c87c2b51e|0101269f6ac2de2202f9ef2c7fce027c0817b7bca2067531786c124e1e8c87c2b51e|8.879999999999999 |253.16532326386368|2248.108070583109        |\n",
      "|T                      |010128c6cff28ec2077baa297e094c9b0c1cc6d5fb28afbaa7c2a7f6bd660854c5e1|010128c6cff28ec2077baa297e094c9b0c1cc6d5fb28afbaa7c2a7f6bd660854c5e1|15.92             |253.16532326386368|4030.39194636071         |\n",
      "|V3                     |0101297fe87ad7f95deea0d9cd588db67610d9f1713c3daea1ae66fa1627b87d7520|0101297fe87ad7f95deea0d9cd588db67610d9f1713c3daea1ae66fa1627b87d7520|10.6              |252.93850137954402|2681.1481146231667       |\n",
      "|T                      |010129c62548cd299a5e0b63a449f8810ec38a222e9af4f336cb9c256a3027e1d773|010129c62548cd299a5e0b63a449f8810ec38a222e9af4f336cb9c256a3027e1d773|11.92             |253.16532326386368|3017.730653305255        |\n",
      "|V3                     |010129c62548cd299a5e0b63a449f8810ec38a222e9af4f336cb9c256a3027e1d773|010129c62548cd299a5e0b63a449f8810ec38a222e9af4f336cb9c256a3027e1d773|11.92             |203.40346540536686|2424.569307631973        |\n",
      "|V3                     |01012acc86348dbac68e09695856235bb8f3c2142bf4b31a8865adb17bd75b6204a3|01012acc86348dbac68e09695856235bb8f3c2142bf4b31a8865adb17bd75b6204a3|11.0              |252.93850137954402|2782.323515174984        |\n",
      "|V3                     |01012f78244ca2bcbc6a24102646588731e53023463cba74070a7a3eee5275222985|01012f78244ca2bcbc6a24102646588731e53023463cba74070a7a3eee5275222985|75.63999999999997 |203.40346540536686|15385.438123261943       |\n",
      "|V3                     |0101312f61308220b9ef3a305bddb06326060702ff38588b532ee408914855666d13|0101312f61308220b9ef3a305bddb06326060702ff38588b532ee408914855666d13|11.15332031976433 |203.40346540536686|2268.624003816159        |\n",
      "|V3                     |0101312f61308220b9ef3a305bddb06326060702ff38588b532ee408914855666d13|0101312f61308220b9ef3a305bddb06326060702ff38588b532ee408914855666d13|11.15332031976433 |252.93850137954402|2821.104127087206        |\n",
      "|V3                     |01013251ead5db6d33eb34ec07d5912b8a2a921912441c9e3efc45703c0958ed4d5e|01013251ead5db6d33eb34ec07d5912b8a2a921912441c9e3efc45703c0958ed4d5e|4.0               |252.93850137954402|1011.7540055181761       |\n",
      "|T                      |01013317b5e0e0a4739a696475bdb6ca37d22fbe8e5aae3d379a46c84be2a28f918f|01013317b5e0e0a4739a696475bdb6ca37d22fbe8e5aae3d379a46c84be2a28f918f|24.17538079363883 |204.94933799411018|4954.728289411804        |\n",
      "|T                      |010133c24f338ebebc63a338367779b4c249ef8eb8f812b1c0b20691ff0b2de38248|010133c24f338ebebc63a338367779b4c249ef8eb8f812b1c0b20691ff0b2de38248|4.0               |253.16532326386368|1012.6612930554547       |\n",
      "|T                      |010133c24f338ebebc63a338367779b4c249ef8eb8f812b1c0b20691ff0b2de38248|010133c24f338ebebc63a338367779b4c249ef8eb8f812b1c0b20691ff0b2de38248|4.0               |204.94933799411018|819.7973519764407        |\n",
      "|T                      |010134fe05440d4eaadc9c483ab17f6ae7e7ae3b3db71dd59abc9e6feab0129fe227|010134fe05440d4eaadc9c483ab17f6ae7e7ae3b3db71dd59abc9e6feab0129fe227|8.0               |253.16532326386368|2025.3225861109095       |\n",
      "|T                      |010137646d60039a993dbb59ab14e643144db14916c8740e7d121e9f41f7e64e2f05|010137646d60039a993dbb59ab14e643144db14916c8740e7d121e9f41f7e64e2f05|15.92             |253.16532326386368|4030.39194636071         |\n",
      "|T                      |010137c7a050625934fcb82d8499c859fc3e93acf5d827d70d6a45b53c66d7f8fdff|010137c7a050625934fcb82d8499c859fc3e93acf5d827d70d6a45b53c66d7f8fdff|25.120000000000005|204.94933799411018|5148.327370412048        |\n",
      "|T                      |0101393487793e9a826b3e25e2e60f538f7843b3016de0d6a899f0b9895ce0db3bd2|0101393487793e9a826b3e25e2e60f538f7843b3016de0d6a899f0b9895ce0db3bd2|8.72              |253.16532326386368|2207.6016188608914       |\n",
      "|T                      |0101393487793e9a826b3e25e2e60f538f7843b3016de0d6a899f0b9895ce0db3bd2|0101393487793e9a826b3e25e2e60f538f7843b3016de0d6a899f0b9895ce0db3bd2|8.72              |204.94933799411018|1787.158227308641        |\n",
      "|T                      |010139ba0a4b3fcc00c12c700877d1ac2081436b61187055f0f291dedc0fa592ea7a|010139ba0a4b3fcc00c12c700877d1ac2081436b61187055f0f291dedc0fa592ea7a|47.92000000000001 |204.94933799411018|9821.172276677762        |\n",
      "|V3                     |01013a9f214e82fddff7d70307ae5f65e263217259db22ec957a50fe3bc440ee9df2|01013a9f214e82fddff7d70307ae5f65e263217259db22ec957a50fe3bc440ee9df2|104.47            |252.93850137954402|26424.485239120964       |\n",
      "|V3                     |01013b2a059c0dbb10fb663ea7c8ec9c4c305bbc0699e596c49314b683d9ea9b9af1|01013b2a059c0dbb10fb663ea7c8ec9c4c305bbc0699e596c49314b683d9ea9b9af1|5.56              |252.93850137954402|1406.3380676702648       |\n",
      "|T                      |01013cdec55c7b3f61e13019ade66c1a9483876918ccae7585ca96edb6e4309f0036|01013cdec55c7b3f61e13019ade66c1a9483876918ccae7585ca96edb6e4309f0036|57.60000000000002 |204.94933799411018|11805.081868460751       |\n",
      "|T                      |01013d1317b44fad594189e59413b0d107d90ff71bb75c5dbf7657836a8c2b7efbec|01013d1317b44fad594189e59413b0d107d90ff71bb75c5dbf7657836a8c2b7efbec|23.88             |204.94933799411018|4894.190191299351        |\n",
      "|V3                     |01013d9842291ecdd5feeb1a3d805ad9b0be2b623d5f47fb464518ed6e04d55f85ff|01013d9842291ecdd5feeb1a3d805ad9b0be2b623d5f47fb464518ed6e04d55f85ff|11.96             |252.93850137954402|3025.1444764993466       |\n",
      "|T                      |01013e3b80ca05f18078b0998e75e1625e41f87eb0d2aca6e97a7f1adfc8115afba6|01013e3b80ca05f18078b0998e75e1625e41f87eb0d2aca6e97a7f1adfc8115afba6|45.64             |253.16532326386368|11554.465353762738       |\n",
      "|T                      |01013e3b80ca05f18078b0998e75e1625e41f87eb0d2aca6e97a7f1adfc8115afba6|01013e3b80ca05f18078b0998e75e1625e41f87eb0d2aca6e97a7f1adfc8115afba6|45.64             |204.94933799411018|9353.88778605119         |\n",
      "|V3                     |01013e82b4ff4277fa2493e25a8676352552187095288355cf9dd61a9c3296b4b180|01013e82b4ff4277fa2493e25a8676352552187095288355cf9dd61a9c3296b4b180|4.0               |203.40346540536686|813.6138616214674        |\n",
      "|T                      |01013efbf9bbeff9620cb32d5f1233999c3bd47417bc66c81e252b62f75364d8679a|01013efbf9bbeff9620cb32d5f1233999c3bd47417bc66c81e252b62f75364d8679a|13.759999999999998|204.94933799411018|2820.1028907989557       |\n",
      "|T                      |01013f2ccc73ff768975cf938edb8872b6de3c7b0f813c1d1322258d0f5eb27b6429|01013f2ccc73ff768975cf938edb8872b6de3c7b0f813c1d1322258d0f5eb27b6429|13.0              |253.16532326386368|3291.149202430228        |\n",
      "|T                      |01013f6e9bce0d63a15e3735405027f9d26bb115156ba61a44ee594e392ef391d88b|01013f6e9bce0d63a15e3735405027f9d26bb115156ba61a44ee594e392ef391d88b|28.200000000000006|253.16532326386368|7139.262116040957        |\n",
      "|T                      |01013f9f2a6d9586094335b6b96d009f3ca9c4a943de7922e8c1d2db0d06ce88c8fa|01013f9f2a6d9586094335b6b96d009f3ca9c4a943de7922e8c1d2db0d06ce88c8fa|30.76             |204.94933799411018|6304.241636698829        |\n",
      "|T                      |01013f9f2a6d9586094335b6b96d009f3ca9c4a943de7922e8c1d2db0d06ce88c8fa|01013f9f2a6d9586094335b6b96d009f3ca9c4a943de7922e8c1d2db0d06ce88c8fa|30.76             |253.16532326386368|7787.365343596447        |\n",
      "|V3                     |010143fa6369d5d8b366ac4a28036a66d985ed088eccafbe1a376adb9b0c374f9bc7|010143fa6369d5d8b366ac4a28036a66d985ed088eccafbe1a376adb9b0c374f9bc7|4.64              |252.93850137954402|1173.6346464010842       |\n",
      "|T                      |010143fa6369d5d8b366ac4a28036a66d985ed088eccafbe1a376adb9b0c374f9bc7|010143fa6369d5d8b366ac4a28036a66d985ed088eccafbe1a376adb9b0c374f9bc7|4.64              |204.94933799411018|950.9649282926712        |\n",
      "|V3                     |0101459b9d7ae91fde3d1f4499da5d141d18321dac027c6490a84e99e34e41f33de6|0101459b9d7ae91fde3d1f4499da5d141d18321dac027c6490a84e99e34e41f33de6|22.56             |203.40346540536686|4588.782179545076        |\n",
      "|T                      |010146808da32d9af4d698d4a78355ecffbf8e7dfc0885e3c3f5d88fe60372ae71e9|010146808da32d9af4d698d4a78355ecffbf8e7dfc0885e3c3f5d88fe60372ae71e9|29.0              |204.94933799411018|5943.530801829195        |\n",
      "|T                      |010146c8ddadd6a47f46fc86d4e9cda77970bb3f163efc83bb4f1de464ededf8e1bb|010146c8ddadd6a47f46fc86d4e9cda77970bb3f163efc83bb4f1de464ededf8e1bb|16.01001333672703 |253.16532326386368|4053.1802018512676       |\n",
      "|V3                     |0101471f08789cdc9b61313b8435c60be54f69e04e2c840e6fbd6a211e41b65b549c|0101471f08789cdc9b61313b8435c60be54f69e04e2c840e6fbd6a211e41b65b549c|6.0               |252.93850137954402|1517.631008277264        |\n",
      "|V3                     |010147953e3155375299b482f51890fecc792dcfb28a1bd46acaed94ffc9f528d6d6|010147953e3155375299b482f51890fecc792dcfb28a1bd46acaed94ffc9f528d6d6|3.89              |252.93850137954402|983.9307703664263        |\n",
      "|T                      |0101499a9a79a81a9c42ccd4a85d6ec77e9c8671633bbddd32f738491abe7ccc6c2f|0101499a9a79a81a9c42ccd4a85d6ec77e9c8671633bbddd32f738491abe7ccc6c2f|13.48             |204.94933799411018|2762.7170761606053       |\n",
      "|V3                     |01014c16901c6d7ec36ba28454d5807003fee585323d4ac7a490bf0f460571fba0fa|01014c16901c6d7ec36ba28454d5807003fee585323d4ac7a490bf0f460571fba0fa|16.01001333672703 |252.93850137954402|4049.5487804582485       |\n",
      "|T                      |01014c16901c6d7ec36ba28454d5807003fee585323d4ac7a490bf0f460571fba0fa|01014c16901c6d7ec36ba28454d5807003fee585323d4ac7a490bf0f460571fba0fa|16.01001333672703 |204.94933799411018|3281.24163463908         |\n",
      "|T                      |01014cd2185600e19f82105e9c899328ad4da2a79597d7ab41fc17d6b14b09f41a48|01014cd2185600e19f82105e9c899328ad4da2a79597d7ab41fc17d6b14b09f41a48|15.92             |204.94933799411018|3262.793460866234        |\n",
      "|T                      |01014d6042265042e7e5232fe52bb8e92db713f934538286b1d0fac44c7a952ee1c6|01014d6042265042e7e5232fe52bb8e92db713f934538286b1d0fac44c7a952ee1c6|26.88000000000001 |253.16532326386368|6805.083889332658        |\n",
      "|V3                     |01014dd2be117da58eb4c63f15d9aa6023298c9182b1b31b246e4157032757f13975|01014dd2be117da58eb4c63f15d9aa6023298c9182b1b31b246e4157032757f13975|16.0              |252.93850137954402|4047.0160220727043       |\n",
      "|V3                     |01014ee20490ded0b8083153979113ac767b2ffc3f1fc4486b44f097517c046fc343|01014ee20490ded0b8083153979113ac767b2ffc3f1fc4486b44f097517c046fc343|11.153320319764331|252.93850137954402|2821.1041270872065       |\n",
      "|V3                     |01014f0f32aed428cd1519c6cc9d06a110c2cdcba0cb71ba24dbc8a05f76d7812d73|01014f0f32aed428cd1519c6cc9d06a110c2cdcba0cb71ba24dbc8a05f76d7812d73|7.92              |203.40346540536686|1610.9554460105055       |\n",
      "|V3                     |0101525bd4c0d756d0f3ab9f35e6ba6c00ef087cdeda4945735a18b9cef8edc7d66a|0101525bd4c0d756d0f3ab9f35e6ba6c00ef087cdeda4945735a18b9cef8edc7d66a|25.52             |252.93850137954402|6454.990555205964        |\n",
      "|T                      |0101528a2fae47dab914ea0b49ac309aa6d01e49ddcbf178c0910f782c42164507f3|0101528a2fae47dab914ea0b49ac309aa6d01e49ddcbf178c0910f782c42164507f3|33.92000000000001 |204.94933799411018|6951.881544760219        |\n",
      "|V3                     |010153c37d0ae2ee4cef81f343196d350bb451b48929ad78c0a8435f6ea5b0864706|010153c37d0ae2ee4cef81f343196d350bb451b48929ad78c0a8435f6ea5b0864706|26.455091376018178|252.93850137954402|6691.511166508937        |\n",
      "|T                      |010153c37d0ae2ee4cef81f343196d350bb451b48929ad78c0a8435f6ea5b0864706|010153c37d0ae2ee4cef81f343196d350bb451b48929ad78c0a8435f6ea5b0864706|26.455091376018178|204.94933799411018|5421.953464088619        |\n",
      "|T                      |010154f3c50f7fd2aafd770907124e77045a39a7609be360e12492319ae3436b16d8|010154f3c50f7fd2aafd770907124e77045a39a7609be360e12492319ae3436b16d8|4.0               |204.94933799411018|819.7973519764407        |\n",
      "|V3                     |010154f3c50f7fd2aafd770907124e77045a39a7609be360e12492319ae3436b16d8|010154f3c50f7fd2aafd770907124e77045a39a7609be360e12492319ae3436b16d8|4.0               |252.93850137954402|1011.7540055181761       |\n",
      "|T                      |01015541f36eba60c685412862dc96238fa561bdbf8902cb22e532739575ee1b6547|01015541f36eba60c685412862dc96238fa561bdbf8902cb22e532739575ee1b6547|17.52             |204.94933799411018|3590.7124016568105       |\n",
      "|T                      |010156012df34ca22312f204322c0ab914cd3dd53abf36532ec714fce9969d83c5ff|010156012df34ca22312f204322c0ab914cd3dd53abf36532ec714fce9969d83c5ff|8.0               |253.16532326386368|2025.3225861109095       |\n",
      "|T                      |010156012df34ca22312f204322c0ab914cd3dd53abf36532ec714fce9969d83c5ff|010156012df34ca22312f204322c0ab914cd3dd53abf36532ec714fce9969d83c5ff|8.0               |204.94933799411018|1639.5947039528814       |\n",
      "+-----------------------+--------------------------------------------------------------------+--------------------------------------------------------------------+------------------+------------------+-------------------------+\n",
      "only showing top 100 rows"
     ]
    }
   ],
   "source": [
    "# Pre period\n",
    "sales_pre_details = spark.sql(\"\"\"\n",
    "select distinct\n",
    "    recordedTreatmentStatus,\n",
    "    adUserId,\n",
    "    customer_id,\n",
    "    item_price_imputed,\n",
    "    scaling_factor,\n",
    "    scaled_item_price_imputed\n",
    "from (\n",
    "    select \n",
    "        exposure.recordedTreatmentStatus,\n",
    "        exposure.adUserId,\n",
    "        sp.customer_id,\n",
    "        sum(item_price_imputed) as item_price_imputed,\n",
    "        scaling_factor,\n",
    "        scaling_factor*sum(item_price_imputed) as scaled_item_price_imputed\n",
    "    from exposure \n",
    "    left join sp on exposure.adUserId = sp.customer_id\n",
    "        -- total window method\n",
    "        and transaction_date_imputed >= date_sub(exp_start_date, 14 + ads_exp_length) \n",
    "        and transaction_date_imputed < exp_start_date\n",
    "    left join sf_results\n",
    "        on exposure.experiment = sf_results.experiment\n",
    "        and exposure.recordedTreatmentStatus = sf_results.recordedTreatmentStatus\n",
    "    group by 1,2,3,scaling_factor\n",
    ")\n",
    "\"\"\")\n",
    "\n",
    "\n",
    "sales_pre_details.show(100,False)\n",
    "sales_pre_details.createOrReplaceTempView(\"sales_pre_details\")\n",
    "\n",
    "sales_pre_details \\\n",
    "    .repartition(1) \\\n",
    "    .write.mode('overwrite') \\\n",
    "    .csv('s3a://panel-ml-incrementality-data/incrementality/results/results_'+experiment+'/'+today+'/sales_pre_details/'\n",
    "         , header=True)\n"
   ]
  },
  {
   "cell_type": "code",
   "execution_count": 38,
   "id": "5a21455a",
   "metadata": {},
   "outputs": [
    {
     "data": {
      "application/vnd.jupyter.widget-view+json": {
       "model_id": "72daacb02a2840eebfec271f969b6e60",
       "version_major": 2,
       "version_minor": 0
      },
      "text/plain": [
       "VBox()"
      ]
     },
     "metadata": {},
     "output_type": "display_data"
    },
    {
     "data": {
      "application/vnd.jupyter.widget-view+json": {
       "model_id": "",
       "version_major": 2,
       "version_minor": 0
      },
      "text/plain": [
       "FloatProgress(value=0.0, bar_style='info', description='Progress:', layout=Layout(height='25px', width='50%'),…"
      ]
     },
     "metadata": {},
     "output_type": "display_data"
    },
    {
     "name": "stdout",
     "output_type": "stream",
     "text": [
      "+---------------------------+--------------------+--------------------+----------------------+------------------+-----------------------------+\n",
      "|pre_recordedTreatmentStatus|        pre_adUserId|     pre_customer_id|pre_item_price_imputed|pre_scaling_factor|pre_scaled_item_price_imputed|\n",
      "+---------------------------+--------------------+--------------------+----------------------+------------------+-----------------------------+\n",
      "|                          T|0101015f0b7fd393e...|0101015f0b7fd393e...|                  7.92|204.94933799411018|           1623.1987569133526|\n",
      "|                         V3|0101015f0b7fd393e...|0101015f0b7fd393e...|                  7.92|252.93850137954402|           2003.2729309259887|\n",
      "|                          T|0101017bde19ae1ce...|0101017bde19ae1ce...|                  4.56|253.16532326386368|           1154.4338740832184|\n",
      "|                          T|01010268ebcbd6aac...|01010268ebcbd6aac...|                  3.92|204.94933799411018|             803.401404936912|\n",
      "|                          T|010102db3d5665cd8...|010102db3d5665cd8...|                   6.0|253.16532326386368|            1518.991939583182|\n",
      "|                          T|0101066fd267e351e...|0101066fd267e351e...|     88.39000000000001|253.16532326386368|           22377.282923292914|\n",
      "|                          T|0101066fd267e351e...|0101066fd267e351e...|     88.39000000000001|204.94933799411018|           18115.471985299402|\n",
      "|                          T|01010815a3010067b...|01010815a3010067b...|     43.92000000000001|204.94933799411018|             9001.37492470132|\n",
      "|                         V3|01010815a3010067b...|01010815a3010067b...|     43.92000000000001|252.93850137954402|           11109.058980589576|\n",
      "|                          T|01010a2d4a9cc0871...|01010a2d4a9cc0871...|    25.800000000000004|204.94933799411018|            5287.692920248043|\n",
      "|                          T|01010a361ca2778be...|01010a361ca2778be...|                 22.96|253.16532326386368|            5812.675822138311|\n",
      "|                         V3|01010a361ca2778be...|01010a361ca2778be...|                 22.96|203.40346540536686|            4670.143565707223|\n",
      "|                          T|01010b393f52badfb...|01010b393f52badfb...|                 20.04|253.16532326386368|            5073.433078207828|\n",
      "|                          T|01010c18b698bc694...|01010c18b698bc694...|    18.759999999999998|204.94933799411018|           3844.8495807695067|\n",
      "|                         V3|01010d3de0dbdb011...|01010d3de0dbdb011...|                 43.96|252.93850137954402|           11119.176520644756|\n",
      "|                          T|01010d3de0dbdb011...|01010d3de0dbdb011...|                 43.96|204.94933799411018|            9009.572898221084|\n",
      "|                          T|01010ef30f6bed34d...|01010ef30f6bed34d...|      10.5482381487466|204.94933799411018|            2161.854425589834|\n",
      "|                          T|0101118c900b8b564...|0101118c900b8b564...|                  7.08|204.94933799411018|              1451.0413129983|\n",
      "|                          T|01011191fb21bb419...|01011191fb21bb419...|    20.720000000000002|204.94933799411018|            4246.550283237963|\n",
      "|                         V3|010111c3a5a36d38e...|010111c3a5a36d38e...|                 31.84|203.40346540536686|             6476.36633850688|\n",
      "+---------------------------+--------------------+--------------------+----------------------+------------------+-----------------------------+\n",
      "only showing top 20 rows\n",
      "\n",
      "+----------------------------+--------------------+--------------------+-----------------------+-------------------+------------------------------+\n",
      "|post_recordedTreatmentStatus|    post_customer_id|       post_adUserId|post_item_price_imputed|post_scaling_factor|post_scaled_item_price_imputed|\n",
      "+----------------------------+--------------------+--------------------+-----------------------+-------------------+------------------------------+\n",
      "|                           T|0101015f0b7fd393e...|0101015f0b7fd393e...|                    3.0| 204.94933799411018|             614.8480139823305|\n",
      "|                          V3|0101015f0b7fd393e...|0101015f0b7fd393e...|                 157.74| 252.93850137954402|             39898.51920760928|\n",
      "|                           T|0101017bde19ae1ce...|0101017bde19ae1ce...|                  12.72| 253.16532326386368|             3220.262911916346|\n",
      "|                          V3|010102673efa77f7e...|010102673efa77f7e...|                   5.56| 203.40346540536686|            1130.9232676538397|\n",
      "|                           T|010102db3d5665cd8...|010102db3d5665cd8...|     2.9699999999999998| 253.16532326386368|              751.901010093675|\n",
      "|                           T|010103806eb248d4a...|010103806eb248d4a...|                   5.16| 204.94933799411018|            1057.5385840496085|\n",
      "|                          V3|010103806eb248d4a...|010103806eb248d4a...|                   5.16| 252.93850137954402|            1305.1626671184472|\n",
      "|                           T|010104114aff76e79...|010104114aff76e79...|                  47.96| 204.94933799411018|             9829.370250197524|\n",
      "|                          V3|0101042eda8bb871f...|0101042eda8bb871f...|      59.97001333672703| 252.93850137954402|            15168.725301103002|\n",
      "|                          V3|0101042eda8bb871f...|0101042eda8bb871f...|                  43.96| 203.40346540536686|             8941.616339219927|\n",
      "|                           T|010104b0fc563b6ee...|010104b0fc563b6ee...|                    6.6| 253.16532326386368|            1670.8911335415003|\n",
      "|                           T|0101066fd267e351e...|0101066fd267e351e...|                    5.0| 253.16532326386368|            1265.8266163193184|\n",
      "|                           T|0101066fd267e351e...|0101066fd267e351e...|                    5.0| 204.94933799411018|             1024.746689970551|\n",
      "|                           T|01010904f66d3a736...|01010904f66d3a736...|                   10.0| 253.16532326386368|             2531.653232638637|\n",
      "|                          V3|01010c5a92a05c158...|01010c5a92a05c158...|                   4.32| 252.93850137954402|            1092.6943259596303|\n",
      "|                           T|01010cd4a72aa3907...|01010cd4a72aa3907...|                  25.52| 253.16532326386368|             6460.779049693801|\n",
      "|                           T|0101118c900b8b564...|0101118c900b8b564...|     14.479999999999997| 204.94933799411018|             2967.666414154715|\n",
      "|                           T|01011191fb21bb419...|01011191fb21bb419...|      38.25001333672704| 204.94933799411018|             7839.314911628092|\n",
      "|                          V3|0101121598d1a8fce...|0101121598d1a8fce...|                  14.76| 252.93850137954402|              3733.37228036207|\n",
      "|                          V3|010113cb458716b61...|010113cb458716b61...|                    6.0| 252.93850137954402|             1517.631008277264|\n",
      "+----------------------------+--------------------+--------------------+-----------------------+-------------------+------------------------------+\n",
      "only showing top 20 rows"
     ]
    }
   ],
   "source": [
    "pre_col_list = [col(col_name).alias(\"pre_\" + col_name)  for col_name in sales_pre_details.columns]\n",
    "post_col_list = [col(col_name).alias(\"post_\" + col_name)  for col_name in sales_post_details.columns]\n",
    "sales_pre_details_new = sales_pre_details.select(*pre_col_list)\n",
    "sales_pre_details_new.show()\n",
    "sales_post_details_new = sales_post_details.select(*post_col_list)\n",
    "sales_post_details_new.show()\n",
    "\n",
    "sales_pre_details_new.createOrReplaceTempView(\"sales_pre_details_new\")\n",
    "sales_post_details_new.createOrReplaceTempView(\"sales_post_details_new\")"
   ]
  },
  {
   "cell_type": "code",
   "execution_count": 39,
   "id": "2f4e4bd2",
   "metadata": {},
   "outputs": [
    {
     "data": {
      "application/vnd.jupyter.widget-view+json": {
       "model_id": "c7bb60a449f94772b51ec4a963a6fbef",
       "version_major": 2,
       "version_minor": 0
      },
      "text/plain": [
       "VBox()"
      ]
     },
     "metadata": {},
     "output_type": "display_data"
    },
    {
     "data": {
      "application/vnd.jupyter.widget-view+json": {
       "model_id": "",
       "version_major": 2,
       "version_minor": 0
      },
      "text/plain": [
       "FloatProgress(value=0.0, bar_style='info', description='Progress:', layout=Layout(height='25px', width='50%'),…"
      ]
     },
     "metadata": {},
     "output_type": "display_data"
    },
    {
     "name": "stdout",
     "output_type": "stream",
     "text": [
      "+---------------------------+--------------------+--------------------+----------------------------+--------------------+--------------------+--------------------+--------------------+-----------------------+----------------------+-----------------------------+-----------------------+------------------------------+--------------------+----------------------+\n",
      "|pre_recordedTreatmentStatus|        pre_adUserId|     pre_customer_id|post_recordedTreatmentStatus|       post_adUserId|    post_customer_id|         customer_id|            adUserId|recordedTreatmentStatus|pre_item_price_imputed|pre_scaled_item_price_imputed|post_item_price_imputed|post_scaled_item_price_imputed|     diff_item_price|diff_scaled_item_price|\n",
      "+---------------------------+--------------------+--------------------+----------------------------+--------------------+--------------------+--------------------+--------------------+-----------------------+----------------------+-----------------------------+-----------------------+------------------------------+--------------------+----------------------+\n",
      "|                         V3|0101003a7d2a66f42...|0101003a7d2a66f42...|                          V3|0101003a7d2a66f42...|0101003a7d2a66f42...|0101003a7d2a66f42...|0101003a7d2a66f42...|                     V3|    23.448531375772223|            5931.036385739044|                  23.32|             5898.525852170967|-0.12853137577222284|   -32.510533568077335|\n",
      "|                         V3|0101032cb755ec1e8...|0101032cb755ec1e8...|                          V3|0101032cb755ec1e8...|0101032cb755ec1e8...|0101032cb755ec1e8...|0101032cb755ec1e8...|                     V3|                   4.0|           1011.7540055181761|                   4.56|            1153.3995662907207|  0.5599999999999996|    141.64556077254463|\n",
      "|                          T|0101043a4ecfef0fb...|0101043a4ecfef0fb...|                           T|0101043a4ecfef0fb...|0101043a4ecfef0fb...|0101043a4ecfef0fb...|0101043a4ecfef0fb...|                      T|    15.680000000000003|           3591.6189442625155|                   9.92|             2511.400006777528|  -5.760000000000003|   -1080.2189374849877|\n",
      "|                          T|01010f12768e20248...|01010f12768e20248...|                           T|01010f12768e20248...|01010f12768e20248...|01010f12768e20248...|01010f12768e20248...|                      T|                  28.0|            6413.605257611634|                   22.8|            5772.1693704160925|  -5.199999999999999|    -641.4358871955419|\n",
      "|                         V3|01010fde899a323f8...|01010fde899a323f8...|                          V3|01010fde899a323f8...|01010fde899a323f8...|01010fde899a323f8...|01010fde899a323f8...|                     V3|                  15.4|            3895.252921244978|                  13.92|             3520.903939203253| -1.4800000000000004|    -374.3489820417253|\n",
      "|                         V3|01011167827aa1af7...|01011167827aa1af7...|                          V3|01011167827aa1af7...|01011167827aa1af7...|01011167827aa1af7...|01011167827aa1af7...|                     V3|                 15.92|            4026.780941962341|                  18.96|            4795.7139861561545|   3.040000000000001|     768.9330441938137|\n",
      "|                         V3|01011671db6e9651b...|01011671db6e9651b...|                          V3|01011671db6e9651b...|01011671db6e9651b...|01011671db6e9651b...|01011671db6e9651b...|                     V3|                 15.92|            4026.780941962341|                  39.76|             10056.83481485067|  23.839999999999996|     6030.053872888329|\n",
      "|                          T|01011cc1e0a4e994c...|01011cc1e0a4e994c...|                           T|01011cc1e0a4e994c...|01011cc1e0a4e994c...|01011cc1e0a4e994c...|01011cc1e0a4e994c...|                      T|    119.68000000000004|           27413.581329677163|                  95.84|            24263.364581608697| -23.840000000000032|   -3150.2167480684657|\n",
      "|                          T|0101201f81c630840...|0101201f81c630840...|                           T|0101201f81c630840...|0101201f81c630840...|0101201f81c630840...|0101201f81c630840...|                      T|     56.32000000000001|           11542.746715828287|                  13.96|             2861.092758397778|  -42.36000000000001|     -8681.65395743051|\n",
      "|                         V3|0101233b92e702bb9...|0101233b92e702bb9...|                          V3|0101233b92e702bb9...|0101233b92e702bb9...|0101233b92e702bb9...|0101233b92e702bb9...|                     V3|                 15.84|            3614.228376936494|                  25.52|             6454.990555205964|                9.68|    2840.7621782694696|\n",
      "|                         V3|01012390c6d59a2ef...|01012390c6d59a2ef...|                          V3|01012390c6d59a2ef...|01012390c6d59a2ef...|01012390c6d59a2ef...|01012390c6d59a2ef...|                     V3|      7.94740627327245|           1616.5299769679684|      15.87998262242629|             3230.043495978513|    7.93257634915384|    1613.5135190105445|\n",
      "|                          T|010129e1071a3eda8...|010129e1071a3eda8...|                           T|010129e1071a3eda8...|010129e1071a3eda8...|010129e1071a3eda8...|010129e1071a3eda8...|                      T|                 23.92|            6055.714532471619|                  27.84|             7048.122599665965|   3.919999999999998|     992.4080671943457|\n",
      "|                          T|0101321dcc085ee46...|0101321dcc085ee46...|                           T|0101321dcc085ee46...|0101321dcc085ee46...|0101321dcc085ee46...|0101321dcc085ee46...|                      T|    160.95001333672704|            40746.96215571567|     119.11999999999998|            30157.053307191436|  -41.83001333672706|   -10589.908848524236|\n",
      "|                          T|01013e85f1c30054e...|01013e85f1c30054e...|                           T|01013e85f1c30054e...|01013e85f1c30054e...|01013e85f1c30054e...|01013e85f1c30054e...|                      T|                 19.12|            4840.520980805074|                   7.92|            2005.0693602498004| -11.200000000000001|   -2835.4516205552736|\n",
      "|                          T|0101424380440000a...|0101424380440000a...|                           T|0101424380440000a...|0101424380440000a...|0101424380440000a...|0101424380440000a...|                      T|     32.02002667345406|            7334.421836490348|                  22.24|             5630.396789388328|  -9.780026673454064|     -1704.02504710202|\n",
      "|                         V3|01015566b98bb4a20...|01015566b98bb4a20...|                          V3|01015566b98bb4a20...|01015566b98bb4a20...|01015566b98bb4a20...|01015566b98bb4a20...|                     V3|    11.553320319764328|           2922.2795276390234|                  15.92|             4026.780941962341|   4.366679680235672|    1104.5014143233175|\n",
      "|                          T|010157994f3175826...|010157994f3175826...|                           T|010157994f3175826...|010157994f3175826...|010157994f3175826...|010157994f3175826...|                      T|    43.199999999999996|            10936.74196499891|                   76.0|             19240.56456805364|  32.800000000000004|      8303.82260305473|\n",
      "|                         V3|01015c67d07740db2...|01015c67d07740db2...|                          V3|01015c67d07740db2...|01015c67d07740db2...|01015c67d07740db2...|01015c67d07740db2...|                     V3|     362.6729525949865|            82751.44424344343|                 496.56|             116116.1549581299|   133.8870474050135|     33364.71071468647|\n",
      "|                         V3|01016c50b4529933b...|01016c50b4529933b...|                          V3|01016c50b4529933b...|01016c50b4529933b...|01016c50b4529933b...|01016c50b4529933b...|                     V3|                 60.56|           15317.955643545187|                   4.56|            1153.3995662907207|               -56.0|   -14164.556077254467|\n",
      "|                          T|01016e3bd1394b3c1...|01016e3bd1394b3c1...|                           T|01016e3bd1394b3c1...|01016e3bd1394b3c1...|01016e3bd1394b3c1...|01016e3bd1394b3c1...|                      T|                 31.84|            7293.185407226943|                  53.92|             13650.67423038753|  22.080000000000002|     6357.488823160587|\n",
      "+---------------------------+--------------------+--------------------+----------------------------+--------------------+--------------------+--------------------+--------------------+-----------------------+----------------------+-----------------------------+-----------------------+------------------------------+--------------------+----------------------+\n",
      "only showing top 20 rows"
     ]
    }
   ],
   "source": [
    "# diff of pre and post\n",
    "diff_sales_details = spark.sql(\"\"\"\n",
    "\n",
    "with joined as(\n",
    "select * \n",
    "from sales_pre_details_new pre\n",
    "right join sales_post_details_new post\n",
    "on pre.pre_adUserId = post.post_adUserId\n",
    "and pre.pre_recordedTreatmentStatus = post.post_recordedTreatmentStatus\n",
    ")\n",
    "\n",
    ",joined_trans as(\n",
    "select \n",
    "       pre_recordedTreatmentStatus, pre_adUserId, pre_customer_id,\n",
    "       post_recordedTreatmentStatus, post_adUserId, post_customer_id,\n",
    "       coalesce(pre_customer_id, post_customer_id) as customer_id,\n",
    "       coalesce(pre_adUserId, post_adUserId) as adUserId,\n",
    "       coalesce(pre_recordedTreatmentStatus, post_recordedTreatmentStatus) as recordedTreatmentStatus,\n",
    "       sum(case when pre_item_price_imputed is null then 0 else pre_item_price_imputed end) as pre_item_price_imputed,\n",
    "       sum(case when pre_scaled_item_price_imputed is null then 0 else pre_scaled_item_price_imputed end) as pre_scaled_item_price_imputed,\n",
    "       sum(case when post_item_price_imputed is null then 0 else post_item_price_imputed end) as post_item_price_imputed,\n",
    "       sum(case when post_scaled_item_price_imputed is null then 0 else post_scaled_item_price_imputed end) as post_scaled_item_price_imputed \n",
    "from joined\n",
    "group by 1,2,3,4,5,6,7,8,9\n",
    ") \n",
    "\n",
    "select distinct *,\n",
    "       post_item_price_imputed - pre_item_price_imputed as diff_item_price,\n",
    "       post_scaled_item_price_imputed - pre_scaled_item_price_imputed as diff_scaled_item_price\n",
    "from joined_trans\n",
    "\"\"\")\n",
    "\n",
    "diff_sales_details.show()\n",
    "\n",
    "diff_sales_details.createOrReplaceTempView(\"diff_sales_details\")\n",
    "diff_sales_details \\\n",
    "    .repartition(1) \\\n",
    "    .write.mode('overwrite') \\\n",
    "    .csv('s3a://panel-ml-incrementality-data/incrementality/results/results_'+experiment+'/'+today+'/diff_sales_details/'\n",
    "         , header=True)"
   ]
  },
  {
   "cell_type": "markdown",
   "id": "e063dcf4",
   "metadata": {},
   "source": [
    "### DID Purchase rate "
   ]
  },
  {
   "cell_type": "code",
   "execution_count": 31,
   "id": "6c38570a",
   "metadata": {},
   "outputs": [
    {
     "data": {
      "application/vnd.jupyter.widget-view+json": {
       "model_id": "590d184d9f2b471792f602ce21a778e1",
       "version_major": 2,
       "version_minor": 0
      },
      "text/plain": [
       "VBox()"
      ]
     },
     "metadata": {},
     "output_type": "display_data"
    },
    {
     "data": {
      "application/vnd.jupyter.widget-view+json": {
       "model_id": "",
       "version_major": 2,
       "version_minor": 0
      },
      "text/plain": [
       "FloatProgress(value=0.0, bar_style='info', description='Progress:', layout=Layout(height='25px', width='50%'),…"
      ]
     },
     "metadata": {},
     "output_type": "display_data"
    },
    {
     "name": "stdout",
     "output_type": "stream",
     "text": [
      "+--------------------------------------------------------------------+-----------------------+------------+\n",
      "|adUserId                                                            |recordedTreatmentStatus|convert_flag|\n",
      "+--------------------------------------------------------------------+-----------------------+------------+\n",
      "|0101000080deb73785c55df2bd61249cfbc32c96bfd2e02042ca182cdfc4eaaee31c|T                      |0           |\n",
      "|0101000218b2f35b4821119af19a44577a6c7ac684796e718577e0988186b16e14a0|T                      |0           |\n",
      "|01010002d7da8481d9f112676cc0631de58b515247ad33038db8f1800aeb3558db43|V3                     |0           |\n",
      "|010100033caa0e6df0fc9f65807c749bb7e5b245bf3d086a4d6e5111e78472c0f38c|T                      |0           |\n",
      "|010100046c1d157eab523c8a612bc990a8b497478f1cbafc4f993014cd4a64b7c949|V3                     |0           |\n",
      "|010100051ae331bcf65ec335aef240c761d964c9a271141470e74bd172423b098df6|V3                     |0           |\n",
      "|0101000574bbd0c60e315594ddbe741ccfcbc90f0cb866d8465438fa03dc8d7481a0|T                      |0           |\n",
      "|0101000574bbd0c60e315594ddbe741ccfcbc90f0cb866d8465438fa03dc8d7481a0|V3                     |0           |\n",
      "|010100069d9694848cffc28bd0b808a57045cf6d89f0c7c3f6a89d39a6f81fbe2013|T                      |0           |\n",
      "|01010007315c20751d8555137999d87aa6f5ae980f6a30c7a0f6ff2ce316f8ea1b65|T                      |0           |\n",
      "|010100073eb8d6f7c3096a83c0cd8187d6cf60467d95eaefdc62e6d33d75d616486f|T                      |0           |\n",
      "|01010007de407a2161f3efa83c3dc68952b128fb2b7d4a0c1a002a1980b8e12ee149|T                      |1           |\n",
      "|01010007de407a2161f3efa83c3dc68952b128fb2b7d4a0c1a002a1980b8e12ee149|V3                     |1           |\n",
      "|0101000864d25576fad8e2240b9cddad5ee58ee6119c2cca6d94943f76247ff1da4e|V3                     |1           |\n",
      "|010100086eace33a76062afebbe1b3062f299153bc6ec118d8de762e65444fbea876|T                      |1           |\n",
      "|010100086eace33a76062afebbe1b3062f299153bc6ec118d8de762e65444fbea876|V3                     |1           |\n",
      "|010100090864716a0c8787cfb49380f762e778f6f9a00205c8f8ebe40cb7f34fe5d0|V3                     |1           |\n",
      "|01010009895b5e00db6b09fe001db9eadc94309f26e74d25ed3cc09d6231918410e0|V3                     |1           |\n",
      "|0101000996afd68d8d64380c9f47fa5c15ee64f2b9393c4471f5af12afc56dca36d8|T                      |0           |\n",
      "|01010009e2311595f7c6d5a4d9bb09d3069f700282274039cbd9ff131ba8dc65e0f9|T                      |0           |\n",
      "|01010009e2311595f7c6d5a4d9bb09d3069f700282274039cbd9ff131ba8dc65e0f9|V3                     |0           |\n",
      "|0101000a25a596b43c95d75d45e051601cb45322d7de646e521b4bdda9f1616c22d9|T                      |0           |\n",
      "|0101000a54844aadaecff95d124f91275f746c29481eedf6909c8ad543f4e32ea3c1|T                      |0           |\n",
      "|0101000b23834dfd08a591c87d203c56c7092e768e8739ae7ba9759a5e25b26d7a83|V3                     |0           |\n",
      "|0101000b364e422f51793000d70cea077804f0a68313edb803a35cf4b194ce158418|T                      |0           |\n",
      "|0101000b70a4f30c5886c8b01a470abc24f5054540752e2ac2dc3be6a0bb27c2b389|V3                     |0           |\n",
      "|0101000b9bf51ee51c49593563c38b66c0d8e5b354e53b158c455af2ea4a838f4cc5|V3                     |0           |\n",
      "|0101000bfe74f80352c5388c81469c8ad85fe56ab00e0a973fa655e695f0172c3406|V3                     |0           |\n",
      "|0101000c6cfd2eb4db903d2b74a96162f8ec0542d9c37fbfbe263dcaae914a9c2946|V3                     |0           |\n",
      "|0101000d2a202ad37b1332649dcec460cfe9772909085f251bd42b74e4061a899962|V3                     |0           |\n",
      "|0101000d9290fdb5c98c44d09bcfd3fcdcaae2d1773c9f63ef51d26aeca07d432075|V3                     |0           |\n",
      "|0101000db1e2fe9c858f06e363aceef1cc847408990c6c9aa70e2dd11bd35b5fc86f|V3                     |0           |\n",
      "|0101000db4f7bb929ae02ff58398748f4876658e57f259acf70a1242d30485f9cd07|T                      |0           |\n",
      "|0101000e4af26256d2b2e3e2cc1678122d167f3213f686c204c1a2089aa73b750e44|T                      |0           |\n",
      "|0101000edf0e75ab87ef4723bb60dfe400a6ef655de4a8678d548b37a475114c8e37|T                      |0           |\n",
      "|0101000ef27d855b24b6dad5655132e6dbd90572aeb42971e8d20e79755aab04d9cc|V3                     |0           |\n",
      "|0101000efbaef6befd41f2ffc0e9d823ab6626da023a95b8ccd5a8a2675e3e9223ff|V3                     |0           |\n",
      "|0101000f3328411e6493c4c96b99f39d9b7da1ddd6cbd0a6b817f9bad4debc90fbf1|T                      |0           |\n",
      "|0101000f67a5bc68e6e341fd1771f1f78bf5e5c916540c364fd14fc1098d4c51505b|V3                     |0           |\n",
      "|0101000f9b1760e2d246489e747f8b2edae850b3a4c62ec8d469ee684edbe65cca56|V3                     |0           |\n",
      "|0101000fb70583042cf78ba3b4e8d0d21e0911b33ef7f8afebaaf75a75e6a72b7f3e|T                      |0           |\n",
      "|0101000fb70583042cf78ba3b4e8d0d21e0911b33ef7f8afebaaf75a75e6a72b7f3e|V3                     |0           |\n",
      "|0101000fb9fcc303a0b7fe70d6aa2de98bf6679c4f69a28dfd292885850fa255ec8f|V3                     |0           |\n",
      "|010100109a632ceb46425d530a06f4b8ec29be1710bf5f215a90b7ef8a1920880c48|T                      |1           |\n",
      "|0101001125ce1aa9465ddb31831c6d468a75c4c971987c184df1f45d27e3f9129371|T                      |1           |\n",
      "|0101001125ce1aa9465ddb31831c6d468a75c4c971987c184df1f45d27e3f9129371|V3                     |1           |\n",
      "|0101001195fbcfcf4e07382e25536443ef6cf1256767d1b23255bca533e437764be8|T                      |0           |\n",
      "|0101001275a1389c083b659d846609d605a6dfb90a984d6236c45418f813580b2e54|T                      |0           |\n",
      "|010100127ad317cfb975ffb57e9a0b25428e61bc8c72b19af2d4be4921db2343ad05|T                      |0           |\n",
      "|010100127ad317cfb975ffb57e9a0b25428e61bc8c72b19af2d4be4921db2343ad05|V3                     |0           |\n",
      "|01010012d12750020aebfc1d946e6ad5f5984afd6a169c941416811236af6d5696ca|V3                     |0           |\n",
      "|01010012fc63a52149d4f723da255fb0d474998c36cac53bd885e2fa094d597ad7df|V3                     |1           |\n",
      "|010100139d1ef119064d302e9567905c0181022478f5c6aec2496a9ad82388f4f0e8|T                      |0           |\n",
      "|01010013b5fb716d25d892023365cc96c61d8e7af387ee4b9237f812196ecb129ae7|V3                     |0           |\n",
      "|01010013ed25c345788edda1d30ebd502708a900f4cb3cb16247c9bfb29360728983|V3                     |0           |\n",
      "|010100158632a70f626d1e3834c6a1c7b5875c78d567adfb7dd4f97322449292c572|T                      |0           |\n",
      "|01010015f6ae9c632d9840e9f99a7edf102b54c78db5072ddadb3e2732d1e642b8cb|T                      |1           |\n",
      "|01010015f6ae9c632d9840e9f99a7edf102b54c78db5072ddadb3e2732d1e642b8cb|V3                     |1           |\n",
      "|01010017254ca6beafccc994079452481d27bfe7a4a423982c24a7d63ff2e5eb4912|V3                     |0           |\n",
      "|010100173152d620bbf456b9fd859d984455d203319d366042eccf968f17c9bdad39|T                      |0           |\n",
      "|010100174521219ae91665f4c3c032dc13e5a08bddfd3afc0ef0a377308edb7c1881|V3                     |0           |\n",
      "|0101001786c412bd0718343a397b9ff0d6d892172dc5c898d455ea22d75721c73d1d|V3                     |0           |\n",
      "|010100178ddac44e7e0b90392323a43d500715ebaa983ed950a2f4ae2a32a4c12067|V3                     |1           |\n",
      "|010100191ac4b529f21be4e29343c6b66b5633c264255066b5de2279e9d5ca6c8d9d|T                      |0           |\n",
      "|010100191b00e1c1c8a735a70437f5a1b94e335453936f9f9faef4b192f009b76f8d|T                      |0           |\n",
      "|010100198616a241aa904823e86ef1b247f04a53585ba7ebdd01f62fc4d9781f5224|T                      |0           |\n",
      "|01010019e1d5f0e22c9339a557e767e95f8679550b3ccb5c17deae4ea657b44a4319|V3                     |0           |\n",
      "|0101001abee4e5822198c95a0d43a1d8394ff38d5c9d31da8175fe76220ca75c7167|T                      |0           |\n",
      "|0101001abee4e5822198c95a0d43a1d8394ff38d5c9d31da8175fe76220ca75c7167|V3                     |0           |\n",
      "|0101001ae331b9ab580d77a970c8a71c1a163f9981af0f95533c3e31f84302db5d68|V3                     |0           |\n",
      "|0101001c3529b021692a4f5ecfd2c1018075f82c4803c3c9284e4d763bc28a782289|V3                     |0           |\n",
      "|0101001c52ab6e651432b77a2bccd5e78aa9277c89b3f0165173b2b3148a93f2f320|V3                     |0           |\n",
      "|0101001c57e7b695d4971ecd2c95c2df48a402e0328c890c6deed2362387912df75d|V3                     |0           |\n",
      "|0101001ca749a74be225564b62fd4090a268dbb9bbe447547aec62dc548df88ab4c1|V3                     |0           |\n",
      "|0101001d949900c05eeea6317e5aac0cf65ef4ad7c911bb3b448493fa06d43741622|T                      |1           |\n",
      "|0101001db4e68438e82d0f4d290b6c0758f34ad274b31e08b73e3462c8899bf6e7ae|T                      |0           |\n",
      "|0101001dd1f94c4f8460482abf9cfa7d88c86021117dea698023aef6af32fbf85a86|V3                     |0           |\n",
      "|0101001dd3a5afb0b3afa2120d679f3f3b6349654426b4b94f30709b996a6bf7b241|T                      |1           |\n",
      "|0101001ddebba5a9b8e044d1dfc8a67943137de0c12fe67311c5227456d2ab05b9cd|T                      |0           |\n",
      "|0101001e5ed24fe09733a43a045287f92e1a34641793f305961a91164335cbab9c91|T                      |0           |\n",
      "|0101001ee1da4c3dd490bc47a249672ec539c9a20c6202555fcb79ff0f11c07600d5|T                      |1           |\n",
      "|0101001ee1da4c3dd490bc47a249672ec539c9a20c6202555fcb79ff0f11c07600d5|V3                     |1           |\n",
      "|0101001f7298bfeba8fa086ca8cf617e977d3301cc383bac08074d067c008d37c5bc|T                      |1           |\n",
      "|0101001f872b78ac0efa01c39578147f0026ffb5afba90c08804e168496a99b52111|T                      |0           |\n",
      "|0101002003b438bb7988637cf3d06ca944453976d588e546537f652bbe48b0798ca5|T                      |0           |\n",
      "|0101002026b4ca08c5d60ce5a37f8e38bfc4cc4444399c8c61eb4eccbb5d37efddd9|V3                     |0           |\n",
      "|01010020e5f94081920fdd1bf25bc58dec229af0afcafd2c4894f557c05bfe19ffd4|V3                     |0           |\n",
      "|0101002135e4b4c2e88803a9bf319bb435d96fca1870384e2e514a65a417fe73472c|V3                     |0           |\n",
      "|010100221b5a1d4b31ec2f94d16017725a9b59b7f93f7de7ae3a9c6f3ad00fb4277e|T                      |1           |\n",
      "|010100221b5a1d4b31ec2f94d16017725a9b59b7f93f7de7ae3a9c6f3ad00fb4277e|V3                     |1           |\n",
      "|01010022c461cbf6781329d22858e383bbdc0fd9f4713965040783ecbbaac61460c3|V3                     |0           |\n",
      "|01010023cd087206b27be0ccfb0810052c6c9b1b14e97eb54a8f90370fa9f0621033|V3                     |0           |\n",
      "|010100243b31f016e2116641e2895cad011728defadafe4a8e3cce8f4d2d10559153|T                      |0           |\n",
      "|010100244e561d7d703117354ecbfea7477f3a943f807fc13eb454ec73a6cce715ee|V3                     |0           |\n",
      "|01010024a4dd4b2b973f62881b58758908dee6d975c7d7fd394aabd047dec9e1c61a|T                      |0           |\n",
      "|010100267cec6525b08d2f2ed45f7e6132e697302b0308d43d34b0d981414a805da0|V3                     |1           |\n",
      "|010100269cf77099ed346c15b3b88115f98251fe953e875d078bd5e495b4ee73710c|T                      |0           |\n",
      "|010100269cf77099ed346c15b3b88115f98251fe953e875d078bd5e495b4ee73710c|V3                     |0           |\n",
      "|010100275bfe511f978d6ea9d22a96322f6a4627e0e24d23e0ead98cbdee04aa4872|V3                     |0           |\n",
      "|01010027b1eb87a24c396edc0e92a7840b25ed8efc8631504b7ae17089b8e7aa7c8f|T                      |0           |\n",
      "+--------------------------------------------------------------------+-----------------------+------------+\n",
      "only showing top 100 rows"
     ]
    }
   ],
   "source": [
    "# Pre period\n",
    "purchase_pre_details = spark.sql(\"\"\"\n",
    "with joined as (\n",
    "select\n",
    "    transaction_date_imputed,\n",
    "    recordedTreatmentStatus,\n",
    "    exposure.adUserId,\n",
    "    sp.customer_id,\n",
    "    receipt_id,\n",
    "    transaction_id,\n",
    "    item_price_imputed,\n",
    "    max(date) as ads_exp_date\n",
    "from exposure \n",
    "left join sp on exposure.adUserId = sp.customer_id\n",
    "    -- total window method\n",
    "    and transaction_date_imputed >= date_sub(exp_start_date, 14 + ads_exp_length) \n",
    "    and transaction_date_imputed < exp_start_date\n",
    "group by 1,2,3,4,5,6,7\n",
    ")\n",
    "\n",
    "select \n",
    "    adUserId,\n",
    "    recordedTreatmentStatus,\n",
    "    case when customer_id is not null then 1 else 0 end as convert_flag\n",
    "from joined\n",
    "    -- only take matched ads exposure and shopper panel users\n",
    "    where adUserId in (select distinct customer_id from sp_total)\n",
    "group by 1,2,3\n",
    "order by 1,2\n",
    "\"\"\")\n",
    "\n",
    "purchase_pre_details.show(100,False)\n",
    "purchase_pre_details.createOrReplaceTempView(\"purchase_pre_details\")\n",
    "\n",
    "purchase_pre_details \\\n",
    "    .repartition(1) \\\n",
    "    .write.mode('overwrite') \\\n",
    "    .csv('s3a://panel-ml-incrementality-data/incrementality/results/results_'+experiment+'/'+today+'/purchase_pre_details/'\n",
    "         , header=True)\n"
   ]
  },
  {
   "cell_type": "code",
   "execution_count": 32,
   "id": "63846a6b",
   "metadata": {},
   "outputs": [
    {
     "data": {
      "application/vnd.jupyter.widget-view+json": {
       "model_id": "8a560deca3be4d9e92c34e3705f3cfdb",
       "version_major": 2,
       "version_minor": 0
      },
      "text/plain": [
       "VBox()"
      ]
     },
     "metadata": {},
     "output_type": "display_data"
    },
    {
     "data": {
      "application/vnd.jupyter.widget-view+json": {
       "model_id": "",
       "version_major": 2,
       "version_minor": 0
      },
      "text/plain": [
       "FloatProgress(value=0.0, bar_style='info', description='Progress:', layout=Layout(height='25px', width='50%'),…"
      ]
     },
     "metadata": {},
     "output_type": "display_data"
    },
    {
     "name": "stdout",
     "output_type": "stream",
     "text": [
      "+--------------------+---------------------------+----------------+\n",
      "|        pre_adUserId|pre_recordedTreatmentStatus|pre_convert_flag|\n",
      "+--------------------+---------------------------+----------------+\n",
      "|0101000080deb7378...|                          T|               0|\n",
      "|0101000218b2f35b4...|                          T|               0|\n",
      "|01010002d7da8481d...|                         V3|               0|\n",
      "|010100033caa0e6df...|                          T|               0|\n",
      "|010100046c1d157ea...|                         V3|               0|\n",
      "|010100051ae331bcf...|                         V3|               0|\n",
      "|0101000574bbd0c60...|                          T|               0|\n",
      "|0101000574bbd0c60...|                         V3|               0|\n",
      "|010100069d9694848...|                          T|               0|\n",
      "|01010007315c20751...|                          T|               0|\n",
      "|010100073eb8d6f7c...|                          T|               0|\n",
      "|01010007de407a216...|                          T|               1|\n",
      "|01010007de407a216...|                         V3|               1|\n",
      "|0101000864d25576f...|                         V3|               1|\n",
      "|010100086eace33a7...|                          T|               1|\n",
      "|010100086eace33a7...|                         V3|               1|\n",
      "|010100090864716a0...|                         V3|               1|\n",
      "|01010009895b5e00d...|                         V3|               1|\n",
      "|0101000996afd68d8...|                          T|               0|\n",
      "|01010009e2311595f...|                          T|               0|\n",
      "+--------------------+---------------------------+----------------+\n",
      "only showing top 20 rows\n",
      "\n",
      "+--------------------+----------------------------+-----------------+\n",
      "|       post_adUserId|post_recordedTreatmentStatus|post_convert_flag|\n",
      "+--------------------+----------------------------+-----------------+\n",
      "|0101000080deb7378...|                           T|                0|\n",
      "|0101000218b2f35b4...|                           T|                0|\n",
      "|01010002d7da8481d...|                          V3|                0|\n",
      "|010100033caa0e6df...|                           T|                0|\n",
      "|010100046c1d157ea...|                          V3|                0|\n",
      "|010100051ae331bcf...|                          V3|                0|\n",
      "|0101000574bbd0c60...|                           T|                1|\n",
      "|0101000574bbd0c60...|                          V3|                0|\n",
      "|010100069d9694848...|                           T|                0|\n",
      "|01010007315c20751...|                           T|                0|\n",
      "|010100073eb8d6f7c...|                           T|                0|\n",
      "|01010007de407a216...|                           T|                0|\n",
      "|01010007de407a216...|                          V3|                0|\n",
      "|0101000864d25576f...|                          V3|                1|\n",
      "|010100086eace33a7...|                           T|                0|\n",
      "|010100086eace33a7...|                          V3|                0|\n",
      "|010100090864716a0...|                          V3|                1|\n",
      "|01010009895b5e00d...|                          V3|                0|\n",
      "|0101000996afd68d8...|                           T|                0|\n",
      "|01010009e2311595f...|                           T|                0|\n",
      "+--------------------+----------------------------+-----------------+\n",
      "only showing top 20 rows"
     ]
    }
   ],
   "source": [
    "pre_col_list = [col(col_name).alias(\"pre_\" + col_name)  for col_name in purchase_pre_details.columns]\n",
    "post_col_list = [col(col_name).alias(\"post_\" + col_name)  for col_name in purchase_post_details.columns]\n",
    "purchase_pre_details_new = purchase_pre_details.select(*pre_col_list)\n",
    "purchase_pre_details_new.show()\n",
    "purchase_post_details_new = purchase_post_details.select(*post_col_list)\n",
    "purchase_post_details_new.show()"
   ]
  },
  {
   "cell_type": "code",
   "execution_count": 33,
   "id": "01c53093",
   "metadata": {},
   "outputs": [
    {
     "data": {
      "application/vnd.jupyter.widget-view+json": {
       "model_id": "81cc70da2e3a43cea6a744260a656fa7",
       "version_major": 2,
       "version_minor": 0
      },
      "text/plain": [
       "VBox()"
      ]
     },
     "metadata": {},
     "output_type": "display_data"
    },
    {
     "data": {
      "application/vnd.jupyter.widget-view+json": {
       "model_id": "",
       "version_major": 2,
       "version_minor": 0
      },
      "text/plain": [
       "FloatProgress(value=0.0, bar_style='info', description='Progress:', layout=Layout(height='25px', width='50%'),…"
      ]
     },
     "metadata": {},
     "output_type": "display_data"
    },
    {
     "name": "stdout",
     "output_type": "stream",
     "text": [
      "+--------------------+---------------------------+----------------+--------------------+----------------------------+-----------------+-----------------+\n",
      "|        pre_adUserId|pre_recordedTreatmentStatus|pre_convert_flag|       post_adUserId|post_recordedTreatmentStatus|post_convert_flag|diff_convert_flag|\n",
      "+--------------------+---------------------------+----------------+--------------------+----------------------------+-----------------+-----------------+\n",
      "|01010002d7da8481d...|                         V3|               0|01010002d7da8481d...|                          V3|                0|                0|\n",
      "|01010009895b5e00d...|                         V3|               1|01010009895b5e00d...|                          V3|                0|               -1|\n",
      "|0101000b364e422f5...|                          T|               0|0101000b364e422f5...|                           T|                0|                0|\n",
      "|01010017254ca6bea...|                         V3|               0|01010017254ca6bea...|                          V3|                0|                0|\n",
      "|0101001f7298bfeba...|                          T|               1|0101001f7298bfeba...|                           T|                0|               -1|\n",
      "|010100298956df264...|                         V3|               0|010100298956df264...|                          V3|                0|                0|\n",
      "|01010029b7f1ca8a8...|                          T|               0|01010029b7f1ca8a8...|                           T|                0|                0|\n",
      "|01010029b7f1ca8a8...|                         V3|               0|01010029b7f1ca8a8...|                           T|                0|                0|\n",
      "|01010029b7f1ca8a8...|                          T|               0|01010029b7f1ca8a8...|                          V3|                0|                0|\n",
      "|01010029b7f1ca8a8...|                         V3|               0|01010029b7f1ca8a8...|                          V3|                0|                0|\n",
      "|0101002aa84182cb2...|                          T|               0|0101002aa84182cb2...|                           T|                0|                0|\n",
      "|010100307dbb59516...|                          T|               0|010100307dbb59516...|                           T|                0|                0|\n",
      "|0101003ecc8639128...|                          T|               0|0101003ecc8639128...|                           T|                0|                0|\n",
      "|0101004ea6b2ab968...|                         V3|               0|0101004ea6b2ab968...|                          V3|                0|                0|\n",
      "|01010055b79a56111...|                         V3|               0|01010055b79a56111...|                          V3|                0|                0|\n",
      "|0101005c69fe395b6...|                          T|               1|0101005c69fe395b6...|                           T|                0|               -1|\n",
      "|0101005fb388625b9...|                          T|               0|0101005fb388625b9...|                           T|                0|                0|\n",
      "|0101006b298dcb4d0...|                          T|               1|0101006b298dcb4d0...|                           T|                0|               -1|\n",
      "|0101007b4193c5f16...|                          T|               0|0101007b4193c5f16...|                           T|                0|                0|\n",
      "|010100954c1781889...|                         V3|               0|010100954c1781889...|                          V3|                0|                0|\n",
      "+--------------------+---------------------------+----------------+--------------------+----------------------------+-----------------+-----------------+\n",
      "only showing top 20 rows"
     ]
    }
   ],
   "source": [
    "# diff of pre and post\n",
    "diff_purchase_details  = purchase_pre_details_new.join(purchase_post_details_new, \\\n",
    "                   purchase_pre_details_new.pre_adUserId == purchase_post_details_new.post_adUserId, how = \"right\")\\\n",
    "                  .withColumn(\"diff_convert_flag\",F.col(\"post_convert_flag\") - F.col(\"pre_convert_flag\"))\n",
    "diff_purchase_details.show()\n",
    "\n",
    "diff_purchase_details.createOrReplaceTempView(\"diff_purchase_details\")\n",
    "diff_purchase_details \\\n",
    "    .repartition(1) \\\n",
    "    .write.mode('overwrite') \\\n",
    "    .csv('s3a://panel-ml-incrementality-data/incrementality/results/results_'+experiment+'/'+today+'/diff_purchase_details/'\n",
    "         , header=True)"
   ]
  },
  {
   "cell_type": "markdown",
   "id": "344b508a",
   "metadata": {},
   "source": [
    "# CUPED"
   ]
  },
  {
   "cell_type": "markdown",
   "id": "cf73f19c",
   "metadata": {},
   "source": [
    "### CUPED Sales"
   ]
  },
  {
   "cell_type": "code",
   "execution_count": 34,
   "id": "ca0e4fe9",
   "metadata": {},
   "outputs": [
    {
     "data": {
      "application/vnd.jupyter.widget-view+json": {
       "model_id": "fde24bc24b564e4faa2615457f2f689a",
       "version_major": 2,
       "version_minor": 0
      },
      "text/plain": [
       "VBox()"
      ]
     },
     "metadata": {},
     "output_type": "display_data"
    },
    {
     "data": {
      "application/vnd.jupyter.widget-view+json": {
       "model_id": "",
       "version_major": 2,
       "version_minor": 0
      },
      "text/plain": [
       "FloatProgress(value=0.0, bar_style='info', description='Progress:', layout=Layout(height='25px', width='50%'),…"
      ]
     },
     "metadata": {},
     "output_type": "display_data"
    }
   ],
   "source": [
    "from pyspark.mllib.stat import Statistics\n",
    "\n",
    "def cuped_sales(df):\n",
    "    df = df.withColumn(\"pre_item_price_imputed\",col(\"pre_item_price_imputed\").cast(\"float\"))\\\n",
    "           .withColumn(\"post_item_price_imputed\",col(\"post_item_price_imputed\").cast(\"float\"))\\\n",
    "           .withColumn(\"pre_scaled_item_price_imputed\",col(\"pre_scaled_item_price_imputed\").cast(\"float\"))\\\n",
    "           .withColumn(\"post_scaled_item_price_imputed\",col(\"post_scaled_item_price_imputed\").cast(\"float\"))\n",
    "    \n",
    "    var_x = df.agg({\"pre_item_price_imputed\": \"variance\"}).first()[0]\n",
    "    cov_xy = df.stat.cov(\"pre_item_price_imputed\",\"post_item_price_imputed\")\n",
    "    theta = cov_xy/var_x\n",
    "    mean_x = df.agg({\"pre_item_price_imputed\": \"mean\"}).first()[0]\n",
    "    print(\"Variance X is {}, Covariance X and Y is {}, Theta is {}, Mean of X is {}\".format(var_x,cov_xy,theta,mean_x))\n",
    "    \n",
    "    var_x_s = df.agg({\"pre_scaled_item_price_imputed\": \"variance\"}).first()[0]\n",
    "    cov_xy_s = df.stat.cov(\"pre_scaled_item_price_imputed\",\"post_scaled_item_price_imputed\")\n",
    "    theta_s = cov_xy_s/var_x_s\n",
    "    mean_x_s = df.agg({\"pre_scaled_item_price_imputed\": \"mean\"}).first()[0]\n",
    "    print(\"Variance scaled X is {}, Covariance scaled X and scaled Y is {}, Theta scaled is {}, Mean of X is {}\".format(var_x_s,cov_xy_s,theta_s, mean_x_s))\n",
    "    \n",
    "    df = df.withColumn(\"cuped_item_price\", F.col(\"post_item_price_imputed\") - theta*(F.col(\"pre_item_price_imputed\") - mean_x_s))\n",
    "    df = df.withColumn(\"cuped_scaled_item_price\", F.col(\"post_scaled_item_price_imputed\") - theta_s*(F.col(\"pre_scaled_item_price_imputed\")-mean_x_s))\n",
    "    return df\n",
    "\n",
    "def cuped_pur_rate(df):\n",
    "    var_x = df.agg({\"pre_convert_flag\": \"variance\"}).first()[0]\n",
    "    cov_xy = df.stat.cov(\"pre_convert_flag\",\"post_convert_flag\")\n",
    "    theta = cov_xy/var_x\n",
    "    mean_x = df.agg({\"pre_convert_flag\": \"mean\"}).first()[0]\n",
    "    print(\"Variance X is {}, Covariance X and Y is {}, Theta is {}, Mean of X is {}\".format(var_x,cov_xy,theta,mean_x))\n",
    "    df = df.withColumn(\"cuped_convert_flag\", F.col(\"post_convert_flag\") - theta*(F.col(\"pre_convert_flag\")-mean_x))\n",
    "    return df\n"
   ]
  },
  {
   "cell_type": "code",
   "execution_count": 41,
   "id": "3c29e7f3",
   "metadata": {},
   "outputs": [
    {
     "data": {
      "application/vnd.jupyter.widget-view+json": {
       "model_id": "65c7f83433a346ff87d1334689823798",
       "version_major": 2,
       "version_minor": 0
      },
      "text/plain": [
       "VBox()"
      ]
     },
     "metadata": {},
     "output_type": "display_data"
    },
    {
     "data": {
      "application/vnd.jupyter.widget-view+json": {
       "model_id": "",
       "version_major": 2,
       "version_minor": 0
      },
      "text/plain": [
       "FloatProgress(value=0.0, bar_style='info', description='Progress:', layout=Layout(height='25px', width='50%'),…"
      ]
     },
     "metadata": {},
     "output_type": "display_data"
    },
    {
     "name": "stderr",
     "output_type": "stream",
     "text": [
      "Exception in thread cell_monitor-41:\n",
      "Traceback (most recent call last):\n",
      "  File \"/mnt/notebook-env/lib/python3.7/threading.py\", line 926, in _bootstrap_inner\n",
      "    self.run()\n",
      "  File \"/mnt/notebook-env/lib/python3.7/threading.py\", line 870, in run\n",
      "    self._target(*self._args, **self._kwargs)\n",
      "  File \"/mnt/notebook-env/lib/python3.7/site-packages/awseditorssparkmonitoringwidget-1.0-py3.7.egg/awseditorssparkmonitoringwidget/cellmonitor.py\", line 178, in cell_monitor\n",
      "    job_binned_stages[job_id][stage_id] = all_stages[stage_id]\n",
      "KeyError: 6194\n",
      "\n"
     ]
    },
    {
     "name": "stdout",
     "output_type": "stream",
     "text": [
      "Variance X is 2.71915139471753, Covariance X and Y is 0.6228424254716665, Theta is 0.22905764889798216, Mean of X is 0.027138478019216303\n",
      "Variance scaled X is 141627.7616007103, Covariance scaled X and scaled Y is 34977.402018103705, Theta scaled is 0.2469671314633577, Mean of X is 6.213779720328057\n",
      "+---------------------------+--------------------+--------------------+----------------------------+--------------------+--------------------+--------------------+--------------------+-----------------------+----------------------+-----------------------------+-----------------------+------------------------------+--------------------+----------------------+------------------+-----------------------+\n",
      "|pre_recordedTreatmentStatus|        pre_adUserId|     pre_customer_id|post_recordedTreatmentStatus|       post_adUserId|    post_customer_id|         customer_id|            adUserId|recordedTreatmentStatus|pre_item_price_imputed|pre_scaled_item_price_imputed|post_item_price_imputed|post_scaled_item_price_imputed|     diff_item_price|diff_scaled_item_price|  cuped_item_price|cuped_scaled_item_price|\n",
      "+---------------------------+--------------------+--------------------+----------------------------+--------------------+--------------------+--------------------+--------------------+-----------------------+----------------------+-----------------------------+-----------------------+------------------------------+--------------------+----------------------+------------------+-----------------------+\n",
      "|                         V3|0101003a7d2a66f42...|0101003a7d2a66f42...|                          V3|0101003a7d2a66f42...|0101003a7d2a66f42...|0101003a7d2a66f42...|0101003a7d2a66f42...|                     V3|             23.448532|                    5931.0366|                  23.32|                      5898.526|-0.12853137577221574|   -32.510533568075516| 19.37224783436869|      4435.289377343675|\n",
      "|                         V3|0101032cb755ec1e8...|0101032cb755ec1e8...|                          V3|0101032cb755ec1e8...|0101032cb755ec1e8...|0101032cb755ec1e8...|0101032cb755ec1e8...|                     V3|                   4.0|                     1011.754|                   4.56|                     1153.3995|  0.5599999999999996|    141.64556077254463| 5.067083120695918|      905.0641453651227|\n",
      "|                          T|0101043a4ecfef0fb...|0101043a4ecfef0fb...|                           T|0101043a4ecfef0fb...|0101043a4ecfef0fb...|0101043a4ecfef0fb...|0101043a4ecfef0fb...|                      T|                 15.68|                     3591.619|                   9.92|                        2511.4|  -5.760000000000003|   -1080.2189374849877| 7.751689845179044|     1625.9226855224883|\n",
      "|                          T|01010f12768e20248...|01010f12768e20248...|                           T|01010f12768e20248...|01010f12768e20248...|01010f12768e20248...|01010f12768e20248...|                      T|                  28.0|                    6413.6055|                   22.8|                     5772.1694|  -5.199999999999999|    -641.4358871955419| 17.80969884142535|      4189.754287991933|\n",
      "|                         V3|01010fde899a323f8...|01010fde899a323f8...|                          V3|01010fde899a323f8...|01010fde899a323f8...|01010fde899a323f8...|01010fde899a323f8...|                     V3|                  15.4|                     3895.253|                  13.92|                      3520.904| -1.4800000000000004|    -374.3489820417253|11.815826144151885|     2560.4392097182877|\n",
      "|                         V3|01011167827aa1af7...|01011167827aa1af7...|                          V3|01011167827aa1af7...|01011167827aa1af7...|01011167827aa1af7...|01011167827aa1af7...|                     V3|                 15.92|                     4026.781|                  18.96|                      4795.714|   3.040000000000001|     768.9330441938137|16.736715070049375|     3802.7659124923507|\n",
      "|                         V3|01011671db6e9651b...|01011671db6e9651b...|                          V3|01011671db6e9651b...|01011671db6e9651b...|01011671db6e9651b...|01011671db6e9651b...|                     V3|                 15.92|                     4026.781|                  39.76|                     10056.835|  23.839999999999996|     6030.053872888329| 37.53671430710992|       9063.88700624235|\n",
      "|                          T|01011cc1e0a4e994c...|01011cc1e0a4e994c...|                           T|01011cc1e0a4e994c...|01011cc1e0a4e994c...|01011cc1e0a4e994c...|01011cc1e0a4e994c...|                      T|                119.68|                    27413.582|                  95.84|                     24263.365| -23.840000000000032|   -3150.2167480684657| 69.84969062138558|     17494.646116334814|\n",
      "|                          T|0101201f81c630840...|0101201f81c630840...|                           T|0101201f81c630840...|0101201f81c630840...|0101201f81c630840...|0101201f81c630840...|                      T|                 56.32|                    11542.747|                  13.96|                     2861.0928|  -42.36000000000001|     -8681.65395743051|2.4827870956237703|     11.948239628420652|\n",
      "|                         V3|0101233b92e702bb9...|0101233b92e702bb9...|                          V3|0101233b92e702bb9...|0101233b92e702bb9...|0101233b92e702bb9...|0101233b92e702bb9...|                     V3|                 15.84|                    3614.2283|                  25.52|                     6454.9907|                9.68|    2840.7621782694696|23.315041037776517|      5563.929733347059|\n",
      "|                         V3|01012390c6d59a2ef...|01012390c6d59a2ef...|                          V3|01012390c6d59a2ef...|01012390c6d59a2ef...|01012390c6d59a2ef...|01012390c6d59a2ef...|                     V3|             7.9474063|                      1616.53|              15.879983|                     3230.0435|    7.93257634915384|    1613.5135190105445|15.482882521737759|     2832.3482721244977|\n",
      "|                          T|010129e1071a3eda8...|010129e1071a3eda8...|                           T|010129e1071a3eda8...|010129e1071a3eda8...|010129e1071a3eda8...|010129e1071a3eda8...|                      T|                 23.92|                    6055.7144|                  27.84|                     7048.1226|   3.919999999999998|     992.4080671943457|23.784254946980752|      5554.094754615231|\n",
      "|                          T|0101321dcc085ee46...|0101321dcc085ee46...|                           T|0101321dcc085ee46...|0101321dcc085ee46...|0101321dcc085ee46...|0101321dcc085ee46...|                      T|             160.95001|                     40746.96|                 119.12|                     30157.053|  -41.83001333672709|   -10589.908848524243| 83.67648513384623|      20095.42727514421|\n",
      "|                          T|01013e85f1c30054e...|01013e85f1c30054e...|                           T|01013e85f1c30054e...|01013e85f1c30054e...|01013e85f1c30054e...|01013e85f1c30054e...|                      T|                 19.12|                     4840.521|                   7.92|                     2005.0693| -11.200000000000001|   -2835.4516205552736| 4.963731410640003|      811.1543500971463|\n",
      "|                          T|0101424380440000a...|0101424380440000a...|                           T|0101424380440000a...|0101424380440000a...|0101424380440000a...|0101424380440000a...|                      T|             32.020027|                     7334.422|                  22.24|                      5630.397|  -9.780026673454064|     -1704.02504710202|16.328881405559702|     3820.5704405984734|\n",
      "|                         V3|01015566b98bb4a20...|01015566b98bb4a20...|                          V3|01015566b98bb4a20...|01015566b98bb4a20...|01015566b98bb4a20...|01015566b98bb4a20...|                     V3|              11.55332|                    2922.2795|                  15.92|                      4026.781|    4.36667968023567|     1104.501414323317| 14.69693754943426|      3306.608609633763|\n",
      "|                          T|010157994f3175826...|010157994f3175826...|                           T|010157994f3175826...|010157994f3175826...|010157994f3175826...|010157994f3175826...|                      T|                  43.2|                    10936.742|                   76.0|                     19240.564|  32.800000000000004|      8303.82260305473| 67.52802316635837|     16541.083206876912|\n",
      "|                         V3|01015c67d07740db2...|01015c67d07740db2...|                          V3|01015c67d07740db2...|01015c67d07740db2...|01015c67d07740db2...|01015c67d07740db2...|                     V3|             362.67294|                    82751.445|                 496.56|                     116116.16|  133.88704740501373|     33364.71071468652|414.91029966321486|      95680.80377607804|\n",
      "|                         V3|01016c50b4529933b...|01016c50b4529933b...|                          V3|01016c50b4529933b...|01016c50b4529933b...|01016c50b4529933b...|01016c50b4529933b...|                     V3|                 60.56|                    15317.956|                   4.56|                     1153.3995|               -56.0|   -14164.556077254467|-7.888417815536764|    -2628.0975312220567|\n",
      "|                          T|01016e3bd1394b3c1...|01016e3bd1394b3c1...|                           T|01016e3bd1394b3c1...|01016e3bd1394b3c1...|01016e3bd1394b3c1...|01016e3bd1394b3c1...|                      T|                 31.84|                    7293.1855|                  53.92|                     13650.674|  22.080000000000002|     6357.488823160587|48.050116366590444|     11851.031313736336|\n",
      "+---------------------------+--------------------+--------------------+----------------------------+--------------------+--------------------+--------------------+--------------------+-----------------------+----------------------+-----------------------------+-----------------------+------------------------------+--------------------+----------------------+------------------+-----------------------+\n",
      "only showing top 20 rows"
     ]
    }
   ],
   "source": [
    "# Sales\n",
    "cuped_sales_details = cuped_sales(diff_sales_details)\n",
    "cuped_sales_details.show()\n",
    "\n",
    "cuped_sales_details \\\n",
    "    .repartition(1) \\\n",
    "    .write.mode('overwrite') \\\n",
    "    .csv('s3a://panel-ml-incrementality-data/incrementality/results/results_'+experiment+'/'+today+'/cuped_sales_details/'\n",
    "         , header=True)"
   ]
  },
  {
   "cell_type": "code",
   "execution_count": 36,
   "id": "892db388",
   "metadata": {},
   "outputs": [
    {
     "data": {
      "application/vnd.jupyter.widget-view+json": {
       "model_id": "ac7bad6c3f3b4a4ca4961522a84a5d67",
       "version_major": 2,
       "version_minor": 0
      },
      "text/plain": [
       "VBox()"
      ]
     },
     "metadata": {},
     "output_type": "display_data"
    },
    {
     "data": {
      "application/vnd.jupyter.widget-view+json": {
       "model_id": "",
       "version_major": 2,
       "version_minor": 0
      },
      "text/plain": [
       "FloatProgress(value=0.0, bar_style='info', description='Progress:', layout=Layout(height='25px', width='50%'),…"
      ]
     },
     "metadata": {},
     "output_type": "display_data"
    },
    {
     "name": "stdout",
     "output_type": "stream",
     "text": [
      "Variance X is 0.16444017717825377, Covariance X and Y is 0.027992179266207326, Theta is 0.17022712907845933, Mean of X is 0.2074923753744838\n",
      "+--------------------+---------------------------+----------------+--------------------+----------------------------+-----------------+-----------------+--------------------+\n",
      "|        pre_adUserId|pre_recordedTreatmentStatus|pre_convert_flag|       post_adUserId|post_recordedTreatmentStatus|post_convert_flag|diff_convert_flag|  cuped_convert_flag|\n",
      "+--------------------+---------------------------+----------------+--------------------+----------------------------+-----------------+-----------------+--------------------+\n",
      "|01010002d7da8481d...|                         V3|               0|01010002d7da8481d...|                          V3|                0|                0| 0.03532083136566839|\n",
      "|01010009895b5e00d...|                         V3|               1|01010009895b5e00d...|                          V3|                0|               -1|-0.13490629771279092|\n",
      "|0101000b364e422f5...|                          T|               0|0101000b364e422f5...|                           T|                0|                0| 0.03532083136566839|\n",
      "|01010017254ca6bea...|                         V3|               0|01010017254ca6bea...|                          V3|                0|                0| 0.03532083136566839|\n",
      "|0101001f7298bfeba...|                          T|               1|0101001f7298bfeba...|                           T|                0|               -1|-0.13490629771279092|\n",
      "|010100298956df264...|                         V3|               0|010100298956df264...|                          V3|                0|                0| 0.03532083136566839|\n",
      "|01010029b7f1ca8a8...|                          T|               0|01010029b7f1ca8a8...|                           T|                0|                0| 0.03532083136566839|\n",
      "|01010029b7f1ca8a8...|                         V3|               0|01010029b7f1ca8a8...|                           T|                0|                0| 0.03532083136566839|\n",
      "|01010029b7f1ca8a8...|                          T|               0|01010029b7f1ca8a8...|                          V3|                0|                0| 0.03532083136566839|\n",
      "|01010029b7f1ca8a8...|                         V3|               0|01010029b7f1ca8a8...|                          V3|                0|                0| 0.03532083136566839|\n",
      "|0101002aa84182cb2...|                          T|               0|0101002aa84182cb2...|                           T|                0|                0| 0.03532083136566839|\n",
      "|010100307dbb59516...|                          T|               0|010100307dbb59516...|                           T|                0|                0| 0.03532083136566839|\n",
      "|0101003ecc8639128...|                          T|               0|0101003ecc8639128...|                           T|                0|                0| 0.03532083136566839|\n",
      "|0101004ea6b2ab968...|                         V3|               0|0101004ea6b2ab968...|                          V3|                0|                0| 0.03532083136566839|\n",
      "|01010055b79a56111...|                         V3|               0|01010055b79a56111...|                          V3|                0|                0| 0.03532083136566839|\n",
      "|0101005c69fe395b6...|                          T|               1|0101005c69fe395b6...|                           T|                0|               -1|-0.13490629771279092|\n",
      "|0101005fb388625b9...|                          T|               0|0101005fb388625b9...|                           T|                0|                0| 0.03532083136566839|\n",
      "|0101006b298dcb4d0...|                          T|               1|0101006b298dcb4d0...|                           T|                0|               -1|-0.13490629771279092|\n",
      "|0101007b4193c5f16...|                          T|               0|0101007b4193c5f16...|                           T|                0|                0| 0.03532083136566839|\n",
      "|010100954c1781889...|                         V3|               0|010100954c1781889...|                          V3|                0|                0| 0.03532083136566839|\n",
      "+--------------------+---------------------------+----------------+--------------------+----------------------------+-----------------+-----------------+--------------------+\n",
      "only showing top 20 rows"
     ]
    }
   ],
   "source": [
    "# Purchase rate\n",
    "cuped_purchase_details = cuped_pur_rate(diff_purchase_details)\n",
    "cuped_purchase_details.show()\n",
    "\n",
    "cuped_purchase_details \\\n",
    "    .repartition(1) \\\n",
    "    .write.mode('overwrite') \\\n",
    "    .csv('s3a://panel-ml-incrementality-data/incrementality/results/results_'+experiment+'/'+today+'/cuped_purchase_details/'\n",
    "         , header=True)"
   ]
  },
  {
   "cell_type": "code",
   "execution_count": 37,
   "id": "586ff88b",
   "metadata": {},
   "outputs": [
    {
     "data": {
      "application/vnd.jupyter.widget-view+json": {
       "model_id": "4da3fe2aaa664add8dbb1c3ca6e52ed8",
       "version_major": 2,
       "version_minor": 0
      },
      "text/plain": [
       "VBox()"
      ]
     },
     "metadata": {},
     "output_type": "display_data"
    },
    {
     "data": {
      "application/vnd.jupyter.widget-view+json": {
       "model_id": "",
       "version_major": 2,
       "version_minor": 0
      },
      "text/plain": [
       "FloatProgress(value=0.0, bar_style='info', description='Progress:', layout=Layout(height='25px', width='50%'),…"
      ]
     },
     "metadata": {},
     "output_type": "display_data"
    },
    {
     "name": "stdout",
     "output_type": "stream",
     "text": [
      "+----------------------------+---------+-----------------+-------------+------------+\n",
      "|post_recordedTreatmentStatus|   bucket|diff_convert_flag|post_adUserId|pre_adUserId|\n",
      "+----------------------------+---------+-----------------+-------------+------------+\n",
      "|                           T|    losed|           -13765|        11161|       11161|\n",
      "|                          V3|    losed|           -13619|        11014|       11014|\n",
      "|                           T|    loyal|                0|         4525|        4525|\n",
      "|                          V3|    loyal|                0|         4413|        4413|\n",
      "|                           T|      new|             8682|         7099|        7099|\n",
      "|                          V3|      new|             8550|         7005|        7005|\n",
      "|                           T|potential|                0|        53034|       53034|\n",
      "|                          V3|potential|                0|        53572|       53572|\n",
      "+----------------------------+---------+-----------------+-------------+------------+"
     ]
    }
   ],
   "source": [
    "# bucketing\n",
    "spark.sql(\"\"\"select \n",
    "    post_recordedTreatmentStatus, \n",
    "    case when post_convert_flag =1 and pre_convert_flag = 0 then \"new\"\n",
    "         when post_convert_flag =1 and pre_convert_flag = 1 then \"loyal\"\n",
    "         when post_convert_flag =0 and pre_convert_flag = 1 then \"losed\"\n",
    "         else \"potential\" end as bucket,\n",
    "    sum(diff_convert_flag) as diff_convert_flag,\n",
    "    count(distinct post_adUserId) as post_adUserId,\n",
    "    count(distinct pre_adUserId) as pre_adUserId\n",
    "from diff_purchase_details\n",
    "group by 1,2\n",
    "order by 2,1\"\"\").show()"
   ]
  },
  {
   "cell_type": "markdown",
   "id": "f79112e5",
   "metadata": {},
   "source": [
    "# Indirect Scaling Method"
   ]
  },
  {
   "cell_type": "code",
   "execution_count": null,
   "id": "382dce6f",
   "metadata": {},
   "outputs": [],
   "source": [
    "# attr_total = spark.sql(\"\"\"\n",
    "# with exposure as \n",
    "#     (select audienceFunnel, recordedTreatmentStatus, adUserId, date,\n",
    "#     min(date)over() as exp_start_date, max(date)over() as exp_end_date\n",
    "#     from df \n",
    "#     where audienceFunnel = '{0}'\n",
    "#     group by 1,2,3,4)\n",
    "\n",
    "    \n",
    "# select\n",
    "# transaction_date,\n",
    "# transaction_date_imputed,\n",
    "# recordedTreatmentStatus,\n",
    "# customer_id,\n",
    "# receipt_id,\n",
    "# transaction_id,\n",
    "# item_price,\n",
    "# item_price_imputed,\n",
    "# max(date) as ads_exp_date\n",
    "# -- rank() over (partition by transaction_id order by date desc) as rk\n",
    "# from exposure \n",
    "# left join sp on exposure.adUserId = sp.customer_id\n",
    "# -- total window method\n",
    "# and transaction_date_imputed between exp_start_date and date_add(exp_end_date, 14)\n",
    "\n",
    "# -- remove transactions before each exposure\n",
    "# and transaction_date_imputed >=date\n",
    "\n",
    "# group by 1,2,3,4,5,6,7,8\"\"\".format(selected_audiencefunnel, brandaidids))\n",
    "\n",
    "\n",
    "# attr_total2.repartition(1) \\\n",
    "# .write.csv(\"s3a://panel-ml-incrementality-data/incrementality/results_1130/\"+experiment_id+\"/attributed\",header=True)\n",
    "\n"
   ]
  },
  {
   "cell_type": "markdown",
   "id": "4f48df34",
   "metadata": {},
   "source": [
    "# Time to Convert"
   ]
  },
  {
   "cell_type": "code",
   "execution_count": 42,
   "id": "d4b9df62",
   "metadata": {},
   "outputs": [
    {
     "data": {
      "application/vnd.jupyter.widget-view+json": {
       "model_id": "b0316c75d6ef49cba099db9d84a2bc5e",
       "version_major": 2,
       "version_minor": 0
      },
      "text/plain": [
       "VBox()"
      ]
     },
     "metadata": {},
     "output_type": "display_data"
    },
    {
     "data": {
      "application/vnd.jupyter.widget-view+json": {
       "model_id": "",
       "version_major": 2,
       "version_minor": 0
      },
      "text/plain": [
       "FloatProgress(value=0.0, bar_style='info', description='Progress:', layout=Layout(height='25px', width='50%'),…"
      ]
     },
     "metadata": {},
     "output_type": "display_data"
    },
    {
     "name": "stdout",
     "output_type": "stream",
     "text": [
      "+------------------------+-----------------------+--------------------------------------------------------------------+----------+--------------+------------------+------------+\n",
      "|transaction_date_imputed|recordedTreatmentStatus|customer_id                                                         |receipt_id|transaction_id|item_price_imputed|ads_exp_date|\n",
      "+------------------------+-----------------------+--------------------------------------------------------------------+----------+--------------+------------------+------------+\n",
      "|null                    |T                      |010100005ea44879a5fe5fab4f4199133ca5cd31aa7c515bf4dad134dd9b742ca8ec|null      |null          |null              |2022-10-25  |\n",
      "|null                    |T                      |0101000061c5b8e01a8dd73a69832f91fd1ec0e84a6a0e642dfb3940c2d1c76e6e6d|null      |null          |null              |2022-08-17  |\n",
      "|null                    |T                      |0101000068ff60d325d1cb94d81dca693f9b829c6a01eacc21214f2853eeeefb1876|null      |null          |null              |2022-10-19  |\n",
      "|null                    |V3                     |01010001d02f1d49d80e8b36beb1ea48f57121bf4e2ab52b2560182e13ab9741cfe0|null      |null          |null              |2022-08-20  |\n",
      "|null                    |T                      |01010001d02f1d49d80e8b36beb1ea48f57121bf4e2ab52b2560182e13ab9741cfe0|null      |null          |null              |2022-10-12  |\n",
      "|null                    |V3                     |010100026177fc59c4bc4d1d2c0b224385d7da81da3426b171b47e380a689709e643|null      |null          |null              |2022-08-21  |\n",
      "|null                    |V3                     |01010003790d7bf5bc66dadf95d2392a51bf587c8ba4ecfd8f13265584b88987be71|null      |null          |null              |2022-10-17  |\n",
      "|null                    |V3                     |01010003bace187cb98afd4711ed750aa8904c9a80277970e86027c7ff36d6c8ae5a|null      |null          |null              |2022-08-27  |\n",
      "|null                    |T                      |01010003d95e6d9b7737cbd074ac6acc75140b6919a16c6fc9229615a1af436dc641|null      |null          |null              |2022-10-29  |\n",
      "|null                    |V3                     |01010003df0896cede1203e5ec84ad4203b3c43180d7b505705dfd4d1b439382f48e|null      |null          |null              |2022-08-19  |\n",
      "|null                    |T                      |010100041311143c0f76bff58223b8cbeec2f441db4947ed4fe0dc00f7398a182c0e|null      |null          |null              |2022-08-21  |\n",
      "|null                    |V3                     |010100041311143c0f76bff58223b8cbeec2f441db4947ed4fe0dc00f7398a182c0e|null      |null          |null              |2022-10-14  |\n",
      "|null                    |T                      |01010004230464b41c1d115d798e61701ba786745370d32bf9e8c0b7312f64361d51|null      |null          |null              |2022-08-23  |\n",
      "|null                    |T                      |01010004aee3721e58f412fcc2e32c2a3dad6958fca9b9d2792c03afe584429894ae|null      |null          |null              |2022-10-12  |\n",
      "|null                    |V3                     |01010004f4588de33fc714cf15796cd7f34dabbd9424e4a9a948bc3e98aeeccfedad|null      |null          |null              |2022-08-24  |\n",
      "|null                    |T                      |0101000503da10c78ec14135432106f028e0e76dcb91c49b46e3d5750d6f323069b0|null      |null          |null              |2022-08-19  |\n",
      "|null                    |V3                     |010100052defb2b8cdb5956d393923adb101ebc6db78050fcf8dfc4ed8bd4302a194|null      |null          |null              |2022-08-26  |\n",
      "|null                    |T                      |0101000539476d5726b55c80db6b3b35c0ac24781427ce677aae59a61a3a1a0be006|null      |null          |null              |2022-10-28  |\n",
      "|null                    |T                      |010100058ca912e138b4bd123c5a9ec6564c4533ed0e3827224386beef72061a1491|null      |null          |null              |2022-10-30  |\n",
      "|null                    |T                      |01010005c9d7879f4b66f001d7399c1ba67d973a3307e2ca5044cdeffae75da68aae|null      |null          |null              |2022-08-15  |\n",
      "|null                    |T                      |0101000608d31891669d94e9b3ead644d87b86923dba2b168c48bff278e0828f3328|null      |null          |null              |2022-08-21  |\n",
      "|null                    |T                      |010100065ed615d3d8ceb2b9b69667ca3de7b095e8e1a91784d96b7ae248dd37e9ca|null      |null          |null              |2022-08-27  |\n",
      "|null                    |V3                     |010100065ed615d3d8ceb2b9b69667ca3de7b095e8e1a91784d96b7ae248dd37e9ca|null      |null          |null              |2022-10-15  |\n",
      "|null                    |V3                     |010100066f7ed7c59f90e4af918748c84e5dae776801c33100b25c772a079aeff112|null      |null          |null              |2022-10-27  |\n",
      "|null                    |T                      |01010006afa40e0642600e5a84387407dfc058a300b85b7d157a9745a43ff5f6a5a6|null      |null          |null              |2022-08-16  |\n",
      "|null                    |T                      |010100072431aae7e42db55949c71475871ef1911007373726507ddf6aa70237d188|null      |null          |null              |2022-10-29  |\n",
      "|null                    |T                      |010100073a81a31d04c57223696f5e151499cf125a2b79c34309321a0aa2242a7efc|null      |null          |null              |2022-10-24  |\n",
      "|null                    |T                      |010100077949ccf0ea46e2ac46984dd23d1d3e7caec70bd5cbac771bb4dcf5209dfd|null      |null          |null              |2022-10-10  |\n",
      "|null                    |T                      |0101000794b0cec4c79ed1c9fc25248303951d45705513da35dce3b82f1c206d4798|null      |null          |null              |2022-08-26  |\n",
      "|null                    |V3                     |010100079c68d87f6132ee4f1ffc52a0bb7124ecc4cf6cbf104c29dc2001e02345ce|null      |null          |null              |2022-08-23  |\n",
      "|null                    |T                      |01010007ae0cf3bcfd6f3ea5e58883beb800f2e8db12f55c410a85e4fae4d99da289|null      |null          |null              |2022-08-23  |\n",
      "|null                    |V3                     |01010008875ceb05c6985323e8772d0f5e88222d45f4ec370f0c54148389e8fc49a1|null      |null          |null              |2022-10-11  |\n",
      "|null                    |V3                     |01010008945bfabb426be29cfd5d1eb5ca32b37ce7eb4ca8aafeeefad1a0af85d81a|null      |null          |null              |2022-10-12  |\n",
      "|null                    |V3                     |01010008c6ef6aa7245eb765e7cee5f2e04e5344605a3377015801d6c0261410dccb|null      |null          |null              |2022-10-31  |\n",
      "|null                    |T                      |01010009691017bc11b5d7e3f0d12769e08f440334aa13361b575a4bef628984419f|null      |null          |null              |2022-08-19  |\n",
      "|null                    |V3                     |0101000971ce0ec9cb43e5876b4aac5679422efad1d696db8e58dceb079cc5cf5fd8|null      |null          |null              |2022-08-19  |\n",
      "|null                    |T                      |0101000983ee627b7829c6ca9e2b1d2948847d627154807fac409babc380c6132178|null      |null          |null              |2022-08-24  |\n",
      "|null                    |V3                     |010100099cc5ee8d38e3863b68add91856abd3ce167f1c621edea38e82b2c2d1316e|null      |null          |null              |2022-08-18  |\n",
      "|null                    |V3                     |0101000a23df940a103210d23685756f4148824ac6d37586ca1300eba1be4562d718|null      |null          |null              |2022-08-28  |\n",
      "|null                    |V3                     |0101000a84663a4c39a344f335dd1ebb4606f40277f695592cc458e910a13da62b8e|null      |null          |null              |2022-10-16  |\n",
      "|null                    |V3                     |0101000a9430c8d20b9b74aa64326e918705a455533ec51a5ac49c5955d10d2856c2|null      |null          |null              |2022-10-10  |\n",
      "|null                    |T                      |0101000ab03c5eb67829c743e353defe4f3d9ce20de91b295780a8341c331e6d72e5|null      |null          |null              |2022-08-26  |\n",
      "|null                    |T                      |0101000ac64fe14a719d25666d5e990259af6a14146bb147f96d5e19d8f048aed86d|null      |null          |null              |2022-08-16  |\n",
      "|null                    |T                      |0101000ae39e259abb6b218559dde7bef9fa87ada656f446d9ea923a80209590db45|null      |null          |null              |2022-08-15  |\n",
      "|null                    |V3                     |0101000b8cde3db55d5c027f23fc45e1d489804ce4e6de07ae0268e0f7aa82c6f3f0|null      |null          |null              |2022-10-10  |\n",
      "|null                    |T                      |0101000b93596ffa77363043054f3ab913fc95ba11733e0b256281da81831ae77c6c|null      |null          |null              |2022-10-27  |\n",
      "|null                    |T                      |0101000bb14428d542298da535555e3b90ce4e839e2330722761b3d6fb67d48e3aa1|null      |null          |null              |2022-08-18  |\n",
      "|null                    |V3                     |0101000bb14428d542298da535555e3b90ce4e839e2330722761b3d6fb67d48e3aa1|null      |null          |null              |2022-10-27  |\n",
      "|null                    |T                      |0101000be4db2d22652703330f47de61d4731d30fb4429dfe67cfded8dfea4699cd3|null      |null          |null              |2022-10-31  |\n",
      "|null                    |V3                     |0101000be8b0e04c3c14b67dc5afea43d9fd08458914555b5de22674c1aa4cdd3b23|null      |null          |null              |2022-10-10  |\n",
      "|null                    |V3                     |0101000be8b0e04c3c14b67dc5afea43d9fd08458914555b5de22674c1aa4cdd3b23|null      |null          |null              |2022-08-17  |\n",
      "|null                    |V3                     |0101000c106822ba3e9a58f93633bd1524ac82022419af46b42e29e4824aa706b807|null      |null          |null              |2022-10-13  |\n",
      "|null                    |V3                     |0101000d36af1c7be028696123577f6031a5ceda19f51a9e71801855e0f572dad2d8|null      |null          |null              |2022-08-21  |\n",
      "|null                    |T                      |0101000d464843ae5fd337f3ec92d68bd7faad762632289ebbde3921bdfcbad65934|null      |null          |null              |2022-08-28  |\n",
      "|null                    |T                      |0101000d859359bea6aec521a1fe6c2cbd2fb3e0cee5465687b978bc186b8b185b59|null      |null          |null              |2022-10-28  |\n",
      "|null                    |V3                     |0101000e0ecd30f814ee4eda55e0602d92b2db9319a861a3a7b00b109e55c20bd63a|null      |null          |null              |2022-08-24  |\n",
      "|null                    |V3                     |0101000e1aaa307bec670a25747812c5886550fbaa0c309c2d30dcafd9c09c474472|null      |null          |null              |2022-08-18  |\n",
      "|null                    |V3                     |0101000e2a2f8b972e07802ff7ac7e52ec61d04c5c90b8e32c73271094577e22ade2|null      |null          |null              |2022-08-19  |\n",
      "|null                    |V3                     |0101000e50a31aab35a841b33fe029ff9a17546c67ad02acd7f0c69abf60b1d990f8|null      |null          |null              |2022-08-15  |\n",
      "|null                    |V3                     |0101000e50a31aab35a841b33fe029ff9a17546c67ad02acd7f0c69abf60b1d990f8|null      |null          |null              |2022-10-27  |\n",
      "|null                    |V3                     |0101000eb35db08ecfb367aae062453630d7a14db833345aacb6b79ac2c78aabab99|null      |null          |null              |2022-08-21  |\n",
      "|null                    |V3                     |0101000eb43ffa351fdd0ddd394c48eda62cfe14323de694f7a4df50c2cd92e4a7e1|null      |null          |null              |2022-08-19  |\n",
      "|null                    |T                      |0101000eb98769957a35ec4dcf88d56a20eb71d0814d73212a693fc9edc5e0320db8|null      |null          |null              |2022-10-12  |\n",
      "|null                    |V3                     |0101000eb98769957a35ec4dcf88d56a20eb71d0814d73212a693fc9edc5e0320db8|null      |null          |null              |2022-08-25  |\n",
      "|null                    |V3                     |0101000ee18e63538ec3dbc28929f2ab067c161e2ce9acec7facdb3eb178c5e46e1a|null      |null          |null              |2022-08-22  |\n",
      "|null                    |V3                     |0101000ee18e63538ec3dbc28929f2ab067c161e2ce9acec7facdb3eb178c5e46e1a|null      |null          |null              |2022-10-14  |\n",
      "|null                    |V3                     |0101000ee3828f7b1d067811718a7303f5fd9e60dc46a66e88007578f40cd69846cf|null      |null          |null              |2022-08-22  |\n",
      "|null                    |T                      |0101000f3fefff4429a27a4573b99065cb0483e2a893f53625a43d810c5dbb62476e|null      |null          |null              |2022-10-11  |\n",
      "|null                    |T                      |01010010583bff2e17aedfad2d135b2b4b4d33c6a034ebe463207ee1d08e12f7e184|null      |null          |null              |2022-08-27  |\n",
      "|null                    |V3                     |01010010fca6d2243c028e2a6d8a9c54422cc49768499bcca8fbadda6ebbef8254b1|null      |null          |null              |2022-10-14  |\n",
      "|null                    |T                      |0101001198a8890f234c9352567e44bdb5aef50a57f925e422cdf1b7dceb1d7bf6e9|null      |null          |null              |2022-10-15  |\n",
      "|null                    |V3                     |01010011fc249a5b09e2ba7c1509e9c8e8689a0b74fc4ac5ea07b51c0aabc8aa0bb1|null      |null          |null              |2022-10-17  |\n",
      "|null                    |T                      |0101001222d510f734309cccf52679a1a4e80fd92568e220849528a84261154b13e3|null      |null          |null              |2022-10-23  |\n",
      "|null                    |V3                     |01010012a71862a90735fa6f80c08329fb8db6ccf159186d3e4d406637c47c60d499|null      |null          |null              |2022-08-27  |\n",
      "|null                    |V3                     |01010012b5da1e038296f8155f4dccae8454ba3bb33f65b065a6622df531c0bef7f3|null      |null          |null              |2022-10-10  |\n",
      "|null                    |T                      |01010012cd3581aab394bdf7046f12ce2ceb6313d5e2406685cb6f1f108b130dbfb5|null      |null          |null              |2022-08-22  |\n",
      "|null                    |T                      |01010013a6b43994b47f8a2546f97b3548e99067201d0f5d7bb2f449a8c373285789|null      |null          |null              |2022-10-27  |\n",
      "|null                    |T                      |01010013ea2b2ee73250c501a433667013085ce2b2848a857f85f0f5f298bf8b58d6|null      |null          |null              |2022-08-17  |\n",
      "|null                    |V3                     |010100142c0273267618243c69dbd38b17097c0e863e9624498574fc3e69f1fca9f1|null      |null          |null              |2022-08-20  |\n",
      "|null                    |V3                     |010100142c0273267618243c69dbd38b17097c0e863e9624498574fc3e69f1fca9f1|null      |null          |null              |2022-10-12  |\n",
      "|null                    |V3                     |010100149d192f73e12425c00051a88d7e07cf119cc84189461536b2d69fb0282db3|null      |null          |null              |2022-10-14  |\n",
      "|null                    |V3                     |0101001532d84679b1cf4f1bb7d0d825e537ee15d7e48b8776d0d543662be3638563|null      |null          |null              |2022-10-15  |\n",
      "|null                    |V3                     |0101001532d84679b1cf4f1bb7d0d825e537ee15d7e48b8776d0d543662be3638563|null      |null          |null              |2022-08-24  |\n",
      "|null                    |V3                     |010100157b992acf335ace87d36dd1196c160562205f99a50f2c70da8f8d42e38c16|null      |null          |null              |2022-10-16  |\n",
      "|null                    |V3                     |01010015aa83dc11c6c317517997db89acf36baa987d83d4a792aef17cdb19a8cb0c|null      |null          |null              |2022-08-24  |\n",
      "|null                    |T                      |01010015f8f13f8a1f6e7097b4d31ce8f9f4fffb47d690d79f88bf00a9f312360688|null      |null          |null              |2022-08-29  |\n",
      "|null                    |T                      |0101001681deeda661834a77d4f38ec7d33eaf65989d94978a9d03bd7dd41935915d|null      |null          |null              |2022-10-15  |\n",
      "|null                    |T                      |0101001697a452004cb42f75a28eaa0c5b9f7915b67b623c6ae77a7567be61436842|null      |null          |null              |2022-08-15  |\n",
      "|null                    |V3                     |01010016a6c5b5aac9cf5fa51cd5a8077a4e348cee97e8f5031bfb3f36a279bd9cae|null      |null          |null              |2022-08-17  |\n",
      "|null                    |V3                     |01010017254ca6beafccc994079452481d27bfe7a4a423982c24a7d63ff2e5eb4912|null      |null          |null              |2022-08-28  |\n",
      "|null                    |V3                     |01010017547e69109a0ddbf6abf06b8ce0f7ffbf363f23e73a700faefe7794a3ae4a|null      |null          |null              |2022-10-15  |\n",
      "|null                    |V3                     |01010017b1b512ebee2c3133a4cb178782905b763924ffaa595d18668c95d803871f|null      |null          |null              |2022-10-27  |\n",
      "|null                    |T                      |01010017b20c7a1058ca8fc7e373aaafff855ee42e27306c1cea22074f162c9c3172|null      |null          |null              |2022-10-27  |\n",
      "|null                    |T                      |01010017b20c7a1058ca8fc7e373aaafff855ee42e27306c1cea22074f162c9c3172|null      |null          |null              |2022-08-17  |\n",
      "|null                    |T                      |01010017b5eccd17807d53b24613022a3fac24b5b3c09a4e254c11c48927febfb2f0|null      |null          |null              |2022-08-22  |\n",
      "|null                    |V3                     |01010017d16cf588962ae5a51fc8caa586bf12adeefa5a02a35cc092e7b66f08ac6c|null      |null          |null              |2022-08-15  |\n",
      "|null                    |T                      |010100180c462a36a6631e05dbd9bf41ce473b56167f9b371f0d74300d9a964d70df|null      |null          |null              |2022-08-17  |\n",
      "|null                    |V3                     |0101001879700ef3da5c2fabe93919bb1bf42ccda89fcb6e727cec9ea572b2c49824|null      |null          |null              |2022-10-12  |\n",
      "|null                    |V3                     |0101001895a1aac186bed1bdfb1de0cdbd6b601347f139367b46134319237a2155a0|null      |null          |null              |2022-08-16  |\n",
      "|null                    |T                      |0101001896ef1581df7d07364b9fb7c4c6eeedf4a05ffed38a6aede81d21d78ab3fe|null      |null          |null              |2022-08-20  |\n",
      "+------------------------+-----------------------+--------------------------------------------------------------------+----------+--------------+------------------+------------+\n",
      "only showing top 100 rows"
     ]
    }
   ],
   "source": [
    "sales_post_details_first = spark.sql(\"\"\"\n",
    "select\n",
    "    transaction_date_imputed,\n",
    "    recordedTreatmentStatus,\n",
    "    adUserId as customer_id,\n",
    "    receipt_id,\n",
    "    transaction_id,\n",
    "    item_price_imputed,\n",
    "    date as ads_exp_date\n",
    "from exposure \n",
    "left join sp on exposure.adUserId = sp.customer_id\n",
    "    -- total window method\n",
    "    and transaction_date_imputed between exp_start_date and date_add(exp_end_date, 14)\n",
    "    -- remove transactions before each exposure\n",
    "    and transaction_date_imputed >= date\n",
    "group by 1,2,3,4,5,6,7\n",
    "\"\"\")\n",
    "\n",
    "sales_post_details_first.show(100,False)\n",
    "sales_post_details_first.createOrReplaceTempView(\"sales_post_details_first\")"
   ]
  },
  {
   "cell_type": "code",
   "execution_count": 43,
   "id": "0701b832",
   "metadata": {},
   "outputs": [
    {
     "data": {
      "application/vnd.jupyter.widget-view+json": {
       "model_id": "65b8fb3d5629452eab6c11e43781afb6",
       "version_major": 2,
       "version_minor": 0
      },
      "text/plain": [
       "VBox()"
      ]
     },
     "metadata": {},
     "output_type": "display_data"
    },
    {
     "data": {
      "application/vnd.jupyter.widget-view+json": {
       "model_id": "",
       "version_major": 2,
       "version_minor": 0
      },
      "text/plain": [
       "FloatProgress(value=0.0, bar_style='info', description='Progress:', layout=Layout(height='25px', width='50%'),…"
      ]
     },
     "metadata": {},
     "output_type": "display_data"
    },
    {
     "name": "stdout",
     "output_type": "stream",
     "text": [
      "+-----------------------+--------------------------------------------------------------------+------------------------+--------------------+------------+\n",
      "|recordedTreatmentStatus|customer_id                                                         |transaction_date_imputed|closest_ads_exp_date|days_convert|\n",
      "+-----------------------+--------------------------------------------------------------------+------------------------+--------------------+------------+\n",
      "|T                      |0101000574bbd0c60e315594ddbe741ccfcbc90f0cb866d8465438fa03dc8d7481a0|2022-10-01              |2022-08-29          |33          |\n",
      "|T                      |0101000a25a596b43c95d75d45e051601cb45322d7de646e521b4bdda9f1616c22d9|2022-10-30              |2022-08-20          |71          |\n",
      "|T                      |0101000edf0e75ab87ef4723bb60dfe400a6ef655de4a8678d548b37a475114c8e37|2022-11-06              |2022-08-21          |77          |\n",
      "|T                      |0101000f3328411e6493c4c96b99f39d9b7da1ddd6cbd0a6b817f9bad4debc90fbf1|2022-08-21              |2022-08-21          |0           |\n",
      "|T                      |0101000f3328411e6493c4c96b99f39d9b7da1ddd6cbd0a6b817f9bad4debc90fbf1|2022-08-28              |2022-08-21          |7           |\n",
      "|T                      |0101000f3328411e6493c4c96b99f39d9b7da1ddd6cbd0a6b817f9bad4debc90fbf1|2022-09-08              |2022-08-21          |18          |\n",
      "|T                      |0101001125ce1aa9465ddb31831c6d468a75c4c971987c184df1f45d27e3f9129371|2022-09-07              |2022-08-19          |19          |\n",
      "|T                      |01010027b1eb87a24c396edc0e92a7840b25ed8efc8631504b7ae17089b8e7aa7c8f|2022-11-06              |2022-08-20          |78          |\n",
      "|T                      |01010027b1eb87a24c396edc0e92a7840b25ed8efc8631504b7ae17089b8e7aa7c8f|2022-11-09              |2022-08-20          |81          |\n",
      "|T                      |01010027b1eb87a24c396edc0e92a7840b25ed8efc8631504b7ae17089b8e7aa7c8f|2022-11-11              |2022-08-20          |83          |\n",
      "|T                      |010100329ae9a785c2ec45b1a1c13bcb05c99f4dd07d906a4f1f5dc66d37a10a8903|2022-10-31              |2022-08-16          |76          |\n",
      "|T                      |010100339c5037282db34e3e8a996e641d4eb603486013e24ed7668827e3ab4f9edc|2022-11-10              |2022-10-28          |13          |\n",
      "|T                      |01010034d4a8ee508ee447285e0dad360dd3bf33c9ee691cbf03a2afbeefa7aace14|2022-10-21              |2022-10-12          |9           |\n",
      "|T                      |0101003fc60fdb9b6fa8049a68aeec673b799994cbb84619b0b0f7f4107c78999f5d|2022-10-07              |2022-08-25          |43          |\n",
      "|T                      |01010046dee240b35fe120009ed1c31cd06e9faf350c519666a1982118fbd961d96e|2022-08-22              |2022-08-18          |4           |\n",
      "|T                      |01010048ea645900812d682c4ab6b10c64a2807b36b5ca26422b14816aac06cc502d|2022-09-09              |2022-08-15          |25          |\n",
      "|T                      |01010048ea645900812d682c4ab6b10c64a2807b36b5ca26422b14816aac06cc502d|2022-09-10              |2022-08-15          |26          |\n",
      "|T                      |0101004ab33b8689e2f73524f60e2182c0ca350c3a7517ecd27bd147184026478ed0|2022-10-12              |2022-08-25          |48          |\n",
      "|T                      |0101006298e8e3e9ac4c690e01738bf9ad80301cdd3429cb9f1a9c5619537c079158|2022-09-23              |2022-08-19          |35          |\n",
      "|T                      |01010064996e9873e31986911a5b1808d2d2d831c8700f48a29efe796867bd0d8b5b|2022-09-20              |2022-08-15          |36          |\n",
      "+-----------------------+--------------------------------------------------------------------+------------------------+--------------------+------------+\n",
      "only showing top 20 rows"
     ]
    }
   ],
   "source": [
    "# If multiple ads exposure to one customer, take first ads exp date, compare to transaction date\n",
    "first_ads_exp_attr = spark.sql(\"\"\"\n",
    "             select * from (\n",
    "                 select recordedTreatmentStatus, customer_id, transaction_date_imputed, min(ads_exp_date) as closest_ads_exp_date,\n",
    "                     datediff(transaction_date_imputed, min(ads_exp_date)) as days_convert\n",
    "                 from sales_post_details_first\n",
    "                 where customer_id is not null\n",
    "                       -- and transaction_date_imputed>= ads_exp_date\n",
    "                 group by 1,2,3\n",
    "                 order by 1,2,3)\n",
    "             where days_convert>=0 \"\"\")\n",
    "\n",
    "first_ads_exp_attr.show(truncate = False)"
   ]
  },
  {
   "cell_type": "code",
   "execution_count": 44,
   "id": "8589a57e",
   "metadata": {},
   "outputs": [
    {
     "data": {
      "application/vnd.jupyter.widget-view+json": {
       "model_id": "c1de826fdff04b21b38d49efc853419a",
       "version_major": 2,
       "version_minor": 0
      },
      "text/plain": [
       "VBox()"
      ]
     },
     "metadata": {},
     "output_type": "display_data"
    },
    {
     "data": {
      "application/vnd.jupyter.widget-view+json": {
       "model_id": "",
       "version_major": 2,
       "version_minor": 0
      },
      "text/plain": [
       "FloatProgress(value=0.0, bar_style='info', description='Progress:', layout=Layout(height='25px', width='50%'),…"
      ]
     },
     "metadata": {},
     "output_type": "display_data"
    },
    {
     "name": "stdout",
     "output_type": "stream",
     "text": [
      "+-----------------------+-----------------+\n",
      "|recordedTreatmentStatus|avg(days_convert)|\n",
      "+-----------------------+-----------------+\n",
      "|                      T|38.86746271882429|\n",
      "|                     V3|39.18612568367005|\n",
      "+-----------------------+-----------------+"
     ]
    }
   ],
   "source": [
    "first_ads_exp_attr.groupby(F.col(\"recordedTreatmentStatus\")).agg(F.avg(\"days_convert\")).show()"
   ]
  },
  {
   "cell_type": "code",
   "execution_count": 45,
   "id": "7bbe5573",
   "metadata": {},
   "outputs": [
    {
     "data": {
      "application/vnd.jupyter.widget-view+json": {
       "model_id": "0ee61e0883fe468c9d0778b2f4c2dd36",
       "version_major": 2,
       "version_minor": 0
      },
      "text/plain": [
       "VBox()"
      ]
     },
     "metadata": {},
     "output_type": "display_data"
    },
    {
     "data": {
      "application/vnd.jupyter.widget-view+json": {
       "model_id": "",
       "version_major": 2,
       "version_minor": 0
      },
      "text/plain": [
       "FloatProgress(value=0.0, bar_style='info', description='Progress:', layout=Layout(height='25px', width='50%'),…"
      ]
     },
     "metadata": {},
     "output_type": "display_data"
    }
   ],
   "source": [
    "first_ads_exp_attr \\\n",
    "    .repartition(1) \\\n",
    "    .write.mode('overwrite') \\\n",
    "    .csv('s3a://panel-ml-incrementality-data/incrementality/results/results_'+experiment+'/'+today+'/first_ads_exp_attr/'\n",
    "         , header=True)"
   ]
  },
  {
   "cell_type": "code",
   "execution_count": null,
   "id": "98ddde1b",
   "metadata": {},
   "outputs": [],
   "source": []
  }
 ],
 "metadata": {
  "kernelspec": {
   "display_name": "PySpark",
   "language": "python",
   "name": "pysparkkernel"
  }
 },
 "nbformat": 4,
 "nbformat_minor": 5
}
