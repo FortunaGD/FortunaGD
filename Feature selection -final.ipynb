{
 "cells": [
  {
   "cell_type": "code",
   "execution_count": 1,
   "metadata": {},
   "outputs": [],
   "source": [
    "import pandas as pd\n",
    "import numpy as np \n",
    "import matplotlib.pyplot as plt \n",
    "\n",
    "df = pd.read_csv('/home/team3/Data/final_dataset.csv')"
   ]
  },
  {
   "cell_type": "code",
   "execution_count": 2,
   "metadata": {},
   "outputs": [
    {
     "data": {
      "text/html": [
       "<div>\n",
       "<style scoped>\n",
       "    .dataframe tbody tr th:only-of-type {\n",
       "        vertical-align: middle;\n",
       "    }\n",
       "\n",
       "    .dataframe tbody tr th {\n",
       "        vertical-align: top;\n",
       "    }\n",
       "\n",
       "    .dataframe thead th {\n",
       "        text-align: right;\n",
       "    }\n",
       "</style>\n",
       "<table border=\"1\" class=\"dataframe\">\n",
       "  <thead>\n",
       "    <tr style=\"text-align: right;\">\n",
       "      <th></th>\n",
       "      <th>cert</th>\n",
       "      <th>name</th>\n",
       "      <th>city</th>\n",
       "      <th>zip</th>\n",
       "      <th>repdte</th>\n",
       "      <th>specgrp</th>\n",
       "      <th>mutual</th>\n",
       "      <th>roa</th>\n",
       "      <th>roaptx</th>\n",
       "      <th>lnatresr</th>\n",
       "      <th>...</th>\n",
       "      <th>PC_Employment_PublicAdmin</th>\n",
       "      <th>PC_Employment_Salaried_Wages</th>\n",
       "      <th>PC_Employment_Government</th>\n",
       "      <th>PC_Employment_Self</th>\n",
       "      <th>PC_Labor_Force</th>\n",
       "      <th>PC_Employed</th>\n",
       "      <th>PC_Unemployed</th>\n",
       "      <th>PC_Median_Occupied_Houses</th>\n",
       "      <th>PC_Median_Household_Income</th>\n",
       "      <th>Unemployment rate</th>\n",
       "    </tr>\n",
       "  </thead>\n",
       "  <tbody>\n",
       "    <tr>\n",
       "      <th>0</th>\n",
       "      <td>35</td>\n",
       "      <td>AuburnBank</td>\n",
       "      <td>Auburn</td>\n",
       "      <td>36830</td>\n",
       "      <td>2012-03-31</td>\n",
       "      <td>4</td>\n",
       "      <td>Stock</td>\n",
       "      <td>0.791754</td>\n",
       "      <td>0.931690</td>\n",
       "      <td>1.963455</td>\n",
       "      <td>...</td>\n",
       "      <td>0.055385</td>\n",
       "      <td>0.01554</td>\n",
       "      <td>0.043625</td>\n",
       "      <td>-0.057077</td>\n",
       "      <td>0.002196</td>\n",
       "      <td>0.005663</td>\n",
       "      <td>-0.040195</td>\n",
       "      <td>0.001291</td>\n",
       "      <td>0.020534</td>\n",
       "      <td>0.068</td>\n",
       "    </tr>\n",
       "    <tr>\n",
       "      <th>1</th>\n",
       "      <td>35</td>\n",
       "      <td>AuburnBank</td>\n",
       "      <td>Auburn</td>\n",
       "      <td>36830</td>\n",
       "      <td>2012-06-30</td>\n",
       "      <td>4</td>\n",
       "      <td>Stock</td>\n",
       "      <td>0.942482</td>\n",
       "      <td>1.133061</td>\n",
       "      <td>1.600991</td>\n",
       "      <td>...</td>\n",
       "      <td>0.055385</td>\n",
       "      <td>0.01554</td>\n",
       "      <td>0.043625</td>\n",
       "      <td>-0.057077</td>\n",
       "      <td>0.002196</td>\n",
       "      <td>0.005663</td>\n",
       "      <td>-0.040195</td>\n",
       "      <td>0.001291</td>\n",
       "      <td>0.020534</td>\n",
       "      <td>0.068</td>\n",
       "    </tr>\n",
       "    <tr>\n",
       "      <th>2</th>\n",
       "      <td>35</td>\n",
       "      <td>AuburnBank</td>\n",
       "      <td>Auburn</td>\n",
       "      <td>36830</td>\n",
       "      <td>2012-09-30</td>\n",
       "      <td>4</td>\n",
       "      <td>Stock</td>\n",
       "      <td>0.920150</td>\n",
       "      <td>1.110039</td>\n",
       "      <td>1.498438</td>\n",
       "      <td>...</td>\n",
       "      <td>0.055385</td>\n",
       "      <td>0.01554</td>\n",
       "      <td>0.043625</td>\n",
       "      <td>-0.057077</td>\n",
       "      <td>0.002196</td>\n",
       "      <td>0.005663</td>\n",
       "      <td>-0.040195</td>\n",
       "      <td>0.001291</td>\n",
       "      <td>0.020534</td>\n",
       "      <td>0.068</td>\n",
       "    </tr>\n",
       "    <tr>\n",
       "      <th>3</th>\n",
       "      <td>35</td>\n",
       "      <td>AuburnBank</td>\n",
       "      <td>Auburn</td>\n",
       "      <td>36830</td>\n",
       "      <td>2012-12-31</td>\n",
       "      <td>4</td>\n",
       "      <td>Stock</td>\n",
       "      <td>0.914264</td>\n",
       "      <td>1.105941</td>\n",
       "      <td>1.676224</td>\n",
       "      <td>...</td>\n",
       "      <td>0.055385</td>\n",
       "      <td>0.01554</td>\n",
       "      <td>0.043625</td>\n",
       "      <td>-0.057077</td>\n",
       "      <td>0.002196</td>\n",
       "      <td>0.005663</td>\n",
       "      <td>-0.040195</td>\n",
       "      <td>0.001291</td>\n",
       "      <td>0.020534</td>\n",
       "      <td>0.068</td>\n",
       "    </tr>\n",
       "    <tr>\n",
       "      <th>4</th>\n",
       "      <td>58382</td>\n",
       "      <td>Keystone Bank</td>\n",
       "      <td>Auburn</td>\n",
       "      <td>36830</td>\n",
       "      <td>2012-03-31</td>\n",
       "      <td>4</td>\n",
       "      <td>Stock</td>\n",
       "      <td>1.305838</td>\n",
       "      <td>1.889670</td>\n",
       "      <td>1.559262</td>\n",
       "      <td>...</td>\n",
       "      <td>0.055385</td>\n",
       "      <td>0.01554</td>\n",
       "      <td>0.043625</td>\n",
       "      <td>-0.057077</td>\n",
       "      <td>0.002196</td>\n",
       "      <td>0.005663</td>\n",
       "      <td>-0.040195</td>\n",
       "      <td>0.001291</td>\n",
       "      <td>0.020534</td>\n",
       "      <td>0.068</td>\n",
       "    </tr>\n",
       "  </tbody>\n",
       "</table>\n",
       "<p>5 rows × 229 columns</p>\n",
       "</div>"
      ],
      "text/plain": [
       "    cert           name    city    zip      repdte  specgrp mutual       roa  \\\n",
       "0     35     AuburnBank  Auburn  36830  2012-03-31        4  Stock  0.791754   \n",
       "1     35     AuburnBank  Auburn  36830  2012-06-30        4  Stock  0.942482   \n",
       "2     35     AuburnBank  Auburn  36830  2012-09-30        4  Stock  0.920150   \n",
       "3     35     AuburnBank  Auburn  36830  2012-12-31        4  Stock  0.914264   \n",
       "4  58382  Keystone Bank  Auburn  36830  2012-03-31        4  Stock  1.305838   \n",
       "\n",
       "     roaptx  lnatresr        ...          PC_Employment_PublicAdmin  \\\n",
       "0  0.931690  1.963455        ...                           0.055385   \n",
       "1  1.133061  1.600991        ...                           0.055385   \n",
       "2  1.110039  1.498438        ...                           0.055385   \n",
       "3  1.105941  1.676224        ...                           0.055385   \n",
       "4  1.889670  1.559262        ...                           0.055385   \n",
       "\n",
       "   PC_Employment_Salaried_Wages  PC_Employment_Government  PC_Employment_Self  \\\n",
       "0                       0.01554                  0.043625           -0.057077   \n",
       "1                       0.01554                  0.043625           -0.057077   \n",
       "2                       0.01554                  0.043625           -0.057077   \n",
       "3                       0.01554                  0.043625           -0.057077   \n",
       "4                       0.01554                  0.043625           -0.057077   \n",
       "\n",
       "   PC_Labor_Force  PC_Employed  PC_Unemployed  PC_Median_Occupied_Houses  \\\n",
       "0        0.002196     0.005663      -0.040195                   0.001291   \n",
       "1        0.002196     0.005663      -0.040195                   0.001291   \n",
       "2        0.002196     0.005663      -0.040195                   0.001291   \n",
       "3        0.002196     0.005663      -0.040195                   0.001291   \n",
       "4        0.002196     0.005663      -0.040195                   0.001291   \n",
       "\n",
       "   PC_Median_Household_Income  Unemployment rate  \n",
       "0                    0.020534              0.068  \n",
       "1                    0.020534              0.068  \n",
       "2                    0.020534              0.068  \n",
       "3                    0.020534              0.068  \n",
       "4                    0.020534              0.068  \n",
       "\n",
       "[5 rows x 229 columns]"
      ]
     },
     "execution_count": 2,
     "metadata": {},
     "output_type": "execute_result"
    }
   ],
   "source": [
    "df.head()"
   ]
  },
  {
   "cell_type": "code",
   "execution_count": 4,
   "metadata": {},
   "outputs": [
    {
     "data": {
      "text/plain": [
       "cert                                  int64\n",
       "name                                 object\n",
       "city                                 object\n",
       "zip                                   int64\n",
       "repdte                               object\n",
       "specgrp                               int64\n",
       "mutual                               object\n",
       "roa                                 float64\n",
       "roaptx                              float64\n",
       "lnatresr                            float64\n",
       "lnresncr                            float64\n",
       "lnlsntv                             float64\n",
       "iddepinr                            float64\n",
       "iddivnir                            float64\n",
       "eq5                                 float64\n",
       "ernastr                             float64\n",
       "rbc1aaj                             float64\n",
       "rbc1rwaj                            float64\n",
       "rbcrwaj                             float64\n",
       "intexpy                             float64\n",
       "idlncorr                            float64\n",
       "narenres                            float64\n",
       "ntreresr                            float64\n",
       "idnccir                             float64\n",
       "idntcir                             float64\n",
       "ncrer                               float64\n",
       "ncreresr                            float64\n",
       "ncrenrer                            float64\n",
       "astempm                             float64\n",
       "eqv                                 float64\n",
       "                                     ...   \n",
       "County                               object\n",
       "State                                object\n",
       "County_GDP_Percent                  float64\n",
       "PC_Total_households                 float64\n",
       "PC_Education_Graduate               float64\n",
       "PC_Education_Bachelor               float64\n",
       "PC_Education_HighSchool             float64\n",
       "PC_Non_US_Citizen                   float64\n",
       "PC_Employment_Agri                  float64\n",
       "PC_Employment_Construction          float64\n",
       "PC_Employment_Manufacturing         float64\n",
       "PC_Employment_Wholesale             float64\n",
       "PC_Employment_Retail                float64\n",
       "PC_Employment_Transport             float64\n",
       "PC_Employment_IT                    float64\n",
       "PC_Employment_Finance               float64\n",
       "PC_Employment_Prof_Scientific       float64\n",
       "PC_Employment_Education_health      float64\n",
       "PC_Employment_Entertainment_Arts    float64\n",
       "PC_Employment_other                 float64\n",
       "PC_Employment_PublicAdmin           float64\n",
       "PC_Employment_Salaried_Wages        float64\n",
       "PC_Employment_Government            float64\n",
       "PC_Employment_Self                  float64\n",
       "PC_Labor_Force                      float64\n",
       "PC_Employed                         float64\n",
       "PC_Unemployed                       float64\n",
       "PC_Median_Occupied_Houses           float64\n",
       "PC_Median_Household_Income          float64\n",
       "Unemployment rate                   float64\n",
       "Length: 229, dtype: object"
      ]
     },
     "execution_count": 4,
     "metadata": {},
     "output_type": "execute_result"
    }
   ],
   "source": [
    "df.dtypes"
   ]
  },
  {
   "cell_type": "code",
   "execution_count": 6,
   "metadata": {},
   "outputs": [
    {
     "data": {
      "text/html": [
       "<div>\n",
       "<style scoped>\n",
       "    .dataframe tbody tr th:only-of-type {\n",
       "        vertical-align: middle;\n",
       "    }\n",
       "\n",
       "    .dataframe tbody tr th {\n",
       "        vertical-align: top;\n",
       "    }\n",
       "\n",
       "    .dataframe thead th {\n",
       "        text-align: right;\n",
       "    }\n",
       "</style>\n",
       "<table border=\"1\" class=\"dataframe\">\n",
       "  <thead>\n",
       "    <tr style=\"text-align: right;\">\n",
       "      <th></th>\n",
       "      <th>name</th>\n",
       "      <th>city</th>\n",
       "      <th>repdte</th>\n",
       "      <th>mutual</th>\n",
       "      <th>County</th>\n",
       "      <th>State</th>\n",
       "    </tr>\n",
       "  </thead>\n",
       "  <tbody>\n",
       "    <tr>\n",
       "      <th>0</th>\n",
       "      <td>AuburnBank</td>\n",
       "      <td>Auburn</td>\n",
       "      <td>2012-03-31</td>\n",
       "      <td>Stock</td>\n",
       "      <td>Lee</td>\n",
       "      <td>AL</td>\n",
       "    </tr>\n",
       "    <tr>\n",
       "      <th>1</th>\n",
       "      <td>AuburnBank</td>\n",
       "      <td>Auburn</td>\n",
       "      <td>2012-06-30</td>\n",
       "      <td>Stock</td>\n",
       "      <td>Lee</td>\n",
       "      <td>AL</td>\n",
       "    </tr>\n",
       "    <tr>\n",
       "      <th>2</th>\n",
       "      <td>AuburnBank</td>\n",
       "      <td>Auburn</td>\n",
       "      <td>2012-09-30</td>\n",
       "      <td>Stock</td>\n",
       "      <td>Lee</td>\n",
       "      <td>AL</td>\n",
       "    </tr>\n",
       "    <tr>\n",
       "      <th>3</th>\n",
       "      <td>AuburnBank</td>\n",
       "      <td>Auburn</td>\n",
       "      <td>2012-12-31</td>\n",
       "      <td>Stock</td>\n",
       "      <td>Lee</td>\n",
       "      <td>AL</td>\n",
       "    </tr>\n",
       "    <tr>\n",
       "      <th>4</th>\n",
       "      <td>Keystone Bank</td>\n",
       "      <td>Auburn</td>\n",
       "      <td>2012-03-31</td>\n",
       "      <td>Stock</td>\n",
       "      <td>Lee</td>\n",
       "      <td>AL</td>\n",
       "    </tr>\n",
       "    <tr>\n",
       "      <th>5</th>\n",
       "      <td>Keystone Bank</td>\n",
       "      <td>Auburn</td>\n",
       "      <td>2012-06-30</td>\n",
       "      <td>Stock</td>\n",
       "      <td>Lee</td>\n",
       "      <td>AL</td>\n",
       "    </tr>\n",
       "    <tr>\n",
       "      <th>6</th>\n",
       "      <td>Keystone Bank</td>\n",
       "      <td>Auburn</td>\n",
       "      <td>2012-09-30</td>\n",
       "      <td>Stock</td>\n",
       "      <td>Lee</td>\n",
       "      <td>AL</td>\n",
       "    </tr>\n",
       "    <tr>\n",
       "      <th>7</th>\n",
       "      <td>Keystone Bank</td>\n",
       "      <td>Auburn</td>\n",
       "      <td>2012-12-31</td>\n",
       "      <td>Stock</td>\n",
       "      <td>Lee</td>\n",
       "      <td>AL</td>\n",
       "    </tr>\n",
       "    <tr>\n",
       "      <th>8</th>\n",
       "      <td>AuburnBank</td>\n",
       "      <td>Auburn</td>\n",
       "      <td>2013-03-31</td>\n",
       "      <td>Stock</td>\n",
       "      <td>Lee</td>\n",
       "      <td>AL</td>\n",
       "    </tr>\n",
       "    <tr>\n",
       "      <th>9</th>\n",
       "      <td>AuburnBank</td>\n",
       "      <td>Auburn</td>\n",
       "      <td>2013-06-30</td>\n",
       "      <td>Stock</td>\n",
       "      <td>Lee</td>\n",
       "      <td>AL</td>\n",
       "    </tr>\n",
       "    <tr>\n",
       "      <th>10</th>\n",
       "      <td>AuburnBank</td>\n",
       "      <td>Auburn</td>\n",
       "      <td>2013-09-30</td>\n",
       "      <td>Stock</td>\n",
       "      <td>Lee</td>\n",
       "      <td>AL</td>\n",
       "    </tr>\n",
       "    <tr>\n",
       "      <th>11</th>\n",
       "      <td>AuburnBank</td>\n",
       "      <td>Auburn</td>\n",
       "      <td>2013-12-31</td>\n",
       "      <td>Stock</td>\n",
       "      <td>Lee</td>\n",
       "      <td>AL</td>\n",
       "    </tr>\n",
       "    <tr>\n",
       "      <th>12</th>\n",
       "      <td>Keystone Bank</td>\n",
       "      <td>Auburn</td>\n",
       "      <td>2013-03-31</td>\n",
       "      <td>Stock</td>\n",
       "      <td>Lee</td>\n",
       "      <td>AL</td>\n",
       "    </tr>\n",
       "    <tr>\n",
       "      <th>13</th>\n",
       "      <td>Keystone Bank</td>\n",
       "      <td>Auburn</td>\n",
       "      <td>2013-06-30</td>\n",
       "      <td>Stock</td>\n",
       "      <td>Lee</td>\n",
       "      <td>AL</td>\n",
       "    </tr>\n",
       "    <tr>\n",
       "      <th>14</th>\n",
       "      <td>Keystone Bank</td>\n",
       "      <td>Auburn</td>\n",
       "      <td>2013-09-30</td>\n",
       "      <td>Stock</td>\n",
       "      <td>Lee</td>\n",
       "      <td>AL</td>\n",
       "    </tr>\n",
       "    <tr>\n",
       "      <th>15</th>\n",
       "      <td>Keystone Bank</td>\n",
       "      <td>Auburn</td>\n",
       "      <td>2013-12-31</td>\n",
       "      <td>Stock</td>\n",
       "      <td>Lee</td>\n",
       "      <td>AL</td>\n",
       "    </tr>\n",
       "    <tr>\n",
       "      <th>16</th>\n",
       "      <td>AuburnBank</td>\n",
       "      <td>Auburn</td>\n",
       "      <td>2014-03-31</td>\n",
       "      <td>Stock</td>\n",
       "      <td>Lee</td>\n",
       "      <td>AL</td>\n",
       "    </tr>\n",
       "    <tr>\n",
       "      <th>17</th>\n",
       "      <td>AuburnBank</td>\n",
       "      <td>Auburn</td>\n",
       "      <td>2014-06-30</td>\n",
       "      <td>Stock</td>\n",
       "      <td>Lee</td>\n",
       "      <td>AL</td>\n",
       "    </tr>\n",
       "    <tr>\n",
       "      <th>18</th>\n",
       "      <td>AuburnBank</td>\n",
       "      <td>Auburn</td>\n",
       "      <td>2014-09-30</td>\n",
       "      <td>Stock</td>\n",
       "      <td>Lee</td>\n",
       "      <td>AL</td>\n",
       "    </tr>\n",
       "    <tr>\n",
       "      <th>19</th>\n",
       "      <td>AuburnBank</td>\n",
       "      <td>Auburn</td>\n",
       "      <td>2014-12-31</td>\n",
       "      <td>Stock</td>\n",
       "      <td>Lee</td>\n",
       "      <td>AL</td>\n",
       "    </tr>\n",
       "    <tr>\n",
       "      <th>20</th>\n",
       "      <td>Keystone Bank</td>\n",
       "      <td>Auburn</td>\n",
       "      <td>2014-03-31</td>\n",
       "      <td>Stock</td>\n",
       "      <td>Lee</td>\n",
       "      <td>AL</td>\n",
       "    </tr>\n",
       "    <tr>\n",
       "      <th>21</th>\n",
       "      <td>Keystone Bank</td>\n",
       "      <td>Auburn</td>\n",
       "      <td>2014-06-30</td>\n",
       "      <td>Stock</td>\n",
       "      <td>Lee</td>\n",
       "      <td>AL</td>\n",
       "    </tr>\n",
       "    <tr>\n",
       "      <th>22</th>\n",
       "      <td>Keystone Bank</td>\n",
       "      <td>Auburn</td>\n",
       "      <td>2014-09-30</td>\n",
       "      <td>Stock</td>\n",
       "      <td>Lee</td>\n",
       "      <td>AL</td>\n",
       "    </tr>\n",
       "    <tr>\n",
       "      <th>23</th>\n",
       "      <td>Keystone Bank</td>\n",
       "      <td>Auburn</td>\n",
       "      <td>2014-12-31</td>\n",
       "      <td>Stock</td>\n",
       "      <td>Lee</td>\n",
       "      <td>AL</td>\n",
       "    </tr>\n",
       "    <tr>\n",
       "      <th>24</th>\n",
       "      <td>AuburnBank</td>\n",
       "      <td>Auburn</td>\n",
       "      <td>2015-03-31</td>\n",
       "      <td>Stock</td>\n",
       "      <td>Lee</td>\n",
       "      <td>AL</td>\n",
       "    </tr>\n",
       "    <tr>\n",
       "      <th>25</th>\n",
       "      <td>AuburnBank</td>\n",
       "      <td>Auburn</td>\n",
       "      <td>2015-06-30</td>\n",
       "      <td>Stock</td>\n",
       "      <td>Lee</td>\n",
       "      <td>AL</td>\n",
       "    </tr>\n",
       "    <tr>\n",
       "      <th>26</th>\n",
       "      <td>AuburnBank</td>\n",
       "      <td>Auburn</td>\n",
       "      <td>2015-09-30</td>\n",
       "      <td>Stock</td>\n",
       "      <td>Lee</td>\n",
       "      <td>AL</td>\n",
       "    </tr>\n",
       "    <tr>\n",
       "      <th>27</th>\n",
       "      <td>AuburnBank</td>\n",
       "      <td>Auburn</td>\n",
       "      <td>2015-12-31</td>\n",
       "      <td>Stock</td>\n",
       "      <td>Lee</td>\n",
       "      <td>AL</td>\n",
       "    </tr>\n",
       "    <tr>\n",
       "      <th>28</th>\n",
       "      <td>Keystone Bank</td>\n",
       "      <td>Auburn</td>\n",
       "      <td>2015-03-31</td>\n",
       "      <td>Stock</td>\n",
       "      <td>Lee</td>\n",
       "      <td>AL</td>\n",
       "    </tr>\n",
       "    <tr>\n",
       "      <th>29</th>\n",
       "      <td>Keystone Bank</td>\n",
       "      <td>Auburn</td>\n",
       "      <td>2015-06-30</td>\n",
       "      <td>Stock</td>\n",
       "      <td>Lee</td>\n",
       "      <td>AL</td>\n",
       "    </tr>\n",
       "    <tr>\n",
       "      <th>...</th>\n",
       "      <td>...</td>\n",
       "      <td>...</td>\n",
       "      <td>...</td>\n",
       "      <td>...</td>\n",
       "      <td>...</td>\n",
       "      <td>...</td>\n",
       "    </tr>\n",
       "    <tr>\n",
       "      <th>149909</th>\n",
       "      <td>Monson Savings Bank</td>\n",
       "      <td>Monson</td>\n",
       "      <td>2017-09-30</td>\n",
       "      <td>Stock</td>\n",
       "      <td>Hampden</td>\n",
       "      <td>MA</td>\n",
       "    </tr>\n",
       "    <tr>\n",
       "      <th>149910</th>\n",
       "      <td>Monson Savings Bank</td>\n",
       "      <td>Monson</td>\n",
       "      <td>2017-12-31</td>\n",
       "      <td>Stock</td>\n",
       "      <td>Hampden</td>\n",
       "      <td>MA</td>\n",
       "    </tr>\n",
       "    <tr>\n",
       "      <th>149911</th>\n",
       "      <td>Westfield Bank</td>\n",
       "      <td>Westfield</td>\n",
       "      <td>2017-03-31</td>\n",
       "      <td>Stock</td>\n",
       "      <td>Hampden</td>\n",
       "      <td>MA</td>\n",
       "    </tr>\n",
       "    <tr>\n",
       "      <th>149912</th>\n",
       "      <td>Westfield Bank</td>\n",
       "      <td>Westfield</td>\n",
       "      <td>2017-06-30</td>\n",
       "      <td>Stock</td>\n",
       "      <td>Hampden</td>\n",
       "      <td>MA</td>\n",
       "    </tr>\n",
       "    <tr>\n",
       "      <th>149913</th>\n",
       "      <td>Westfield Bank</td>\n",
       "      <td>Westfield</td>\n",
       "      <td>2017-09-30</td>\n",
       "      <td>Stock</td>\n",
       "      <td>Hampden</td>\n",
       "      <td>MA</td>\n",
       "    </tr>\n",
       "    <tr>\n",
       "      <th>149914</th>\n",
       "      <td>Westfield Bank</td>\n",
       "      <td>Westfield</td>\n",
       "      <td>2017-12-31</td>\n",
       "      <td>Stock</td>\n",
       "      <td>Hampden</td>\n",
       "      <td>MA</td>\n",
       "    </tr>\n",
       "    <tr>\n",
       "      <th>149915</th>\n",
       "      <td>PeoplesBank</td>\n",
       "      <td>Holyoke</td>\n",
       "      <td>2018-03-31</td>\n",
       "      <td>Stock</td>\n",
       "      <td>Hampden</td>\n",
       "      <td>MA</td>\n",
       "    </tr>\n",
       "    <tr>\n",
       "      <th>149916</th>\n",
       "      <td>PeoplesBank</td>\n",
       "      <td>Holyoke</td>\n",
       "      <td>2018-06-30</td>\n",
       "      <td>Stock</td>\n",
       "      <td>Hampden</td>\n",
       "      <td>MA</td>\n",
       "    </tr>\n",
       "    <tr>\n",
       "      <th>149917</th>\n",
       "      <td>PeoplesBank</td>\n",
       "      <td>Holyoke</td>\n",
       "      <td>2018-09-30</td>\n",
       "      <td>Stock</td>\n",
       "      <td>Hampden</td>\n",
       "      <td>MA</td>\n",
       "    </tr>\n",
       "    <tr>\n",
       "      <th>149918</th>\n",
       "      <td>PeoplesBank</td>\n",
       "      <td>Holyoke</td>\n",
       "      <td>2018-12-31</td>\n",
       "      <td>Stock</td>\n",
       "      <td>Hampden</td>\n",
       "      <td>MA</td>\n",
       "    </tr>\n",
       "    <tr>\n",
       "      <th>149919</th>\n",
       "      <td>Monson Savings Bank</td>\n",
       "      <td>Monson</td>\n",
       "      <td>2018-03-31</td>\n",
       "      <td>Stock</td>\n",
       "      <td>Hampden</td>\n",
       "      <td>MA</td>\n",
       "    </tr>\n",
       "    <tr>\n",
       "      <th>149920</th>\n",
       "      <td>Monson Savings Bank</td>\n",
       "      <td>Monson</td>\n",
       "      <td>2018-06-30</td>\n",
       "      <td>Stock</td>\n",
       "      <td>Hampden</td>\n",
       "      <td>MA</td>\n",
       "    </tr>\n",
       "    <tr>\n",
       "      <th>149921</th>\n",
       "      <td>Monson Savings Bank</td>\n",
       "      <td>Monson</td>\n",
       "      <td>2018-09-30</td>\n",
       "      <td>Stock</td>\n",
       "      <td>Hampden</td>\n",
       "      <td>MA</td>\n",
       "    </tr>\n",
       "    <tr>\n",
       "      <th>149922</th>\n",
       "      <td>Monson Savings Bank</td>\n",
       "      <td>Monson</td>\n",
       "      <td>2018-12-31</td>\n",
       "      <td>Stock</td>\n",
       "      <td>Hampden</td>\n",
       "      <td>MA</td>\n",
       "    </tr>\n",
       "    <tr>\n",
       "      <th>149923</th>\n",
       "      <td>Westfield Bank</td>\n",
       "      <td>Westfield</td>\n",
       "      <td>2018-03-31</td>\n",
       "      <td>Stock</td>\n",
       "      <td>Hampden</td>\n",
       "      <td>MA</td>\n",
       "    </tr>\n",
       "    <tr>\n",
       "      <th>149924</th>\n",
       "      <td>Westfield Bank</td>\n",
       "      <td>Westfield</td>\n",
       "      <td>2018-06-30</td>\n",
       "      <td>Stock</td>\n",
       "      <td>Hampden</td>\n",
       "      <td>MA</td>\n",
       "    </tr>\n",
       "    <tr>\n",
       "      <th>149925</th>\n",
       "      <td>Westfield Bank</td>\n",
       "      <td>Westfield</td>\n",
       "      <td>2018-09-30</td>\n",
       "      <td>Stock</td>\n",
       "      <td>Hampden</td>\n",
       "      <td>MA</td>\n",
       "    </tr>\n",
       "    <tr>\n",
       "      <th>149926</th>\n",
       "      <td>Westfield Bank</td>\n",
       "      <td>Westfield</td>\n",
       "      <td>2018-12-31</td>\n",
       "      <td>Stock</td>\n",
       "      <td>Hampden</td>\n",
       "      <td>MA</td>\n",
       "    </tr>\n",
       "    <tr>\n",
       "      <th>149927</th>\n",
       "      <td>MontroseBank</td>\n",
       "      <td>Montrose</td>\n",
       "      <td>2012-03-31</td>\n",
       "      <td>Stock</td>\n",
       "      <td>Montrose</td>\n",
       "      <td>CO</td>\n",
       "    </tr>\n",
       "    <tr>\n",
       "      <th>149928</th>\n",
       "      <td>MontroseBank</td>\n",
       "      <td>Montrose</td>\n",
       "      <td>2012-06-30</td>\n",
       "      <td>Stock</td>\n",
       "      <td>Montrose</td>\n",
       "      <td>CO</td>\n",
       "    </tr>\n",
       "    <tr>\n",
       "      <th>149929</th>\n",
       "      <td>MontroseBank</td>\n",
       "      <td>Montrose</td>\n",
       "      <td>2012-09-30</td>\n",
       "      <td>Stock</td>\n",
       "      <td>Montrose</td>\n",
       "      <td>CO</td>\n",
       "    </tr>\n",
       "    <tr>\n",
       "      <th>149930</th>\n",
       "      <td>MontroseBank</td>\n",
       "      <td>Montrose</td>\n",
       "      <td>2012-12-31</td>\n",
       "      <td>Stock</td>\n",
       "      <td>Montrose</td>\n",
       "      <td>CO</td>\n",
       "    </tr>\n",
       "    <tr>\n",
       "      <th>149931</th>\n",
       "      <td>MontroseBank</td>\n",
       "      <td>Montrose</td>\n",
       "      <td>2013-03-31</td>\n",
       "      <td>Stock</td>\n",
       "      <td>Montrose</td>\n",
       "      <td>CO</td>\n",
       "    </tr>\n",
       "    <tr>\n",
       "      <th>149932</th>\n",
       "      <td>MontroseBank</td>\n",
       "      <td>Montrose</td>\n",
       "      <td>2013-06-30</td>\n",
       "      <td>Stock</td>\n",
       "      <td>Montrose</td>\n",
       "      <td>CO</td>\n",
       "    </tr>\n",
       "    <tr>\n",
       "      <th>149933</th>\n",
       "      <td>MontroseBank</td>\n",
       "      <td>Montrose</td>\n",
       "      <td>2013-09-30</td>\n",
       "      <td>Stock</td>\n",
       "      <td>Montrose</td>\n",
       "      <td>CO</td>\n",
       "    </tr>\n",
       "    <tr>\n",
       "      <th>149934</th>\n",
       "      <td>MontroseBank</td>\n",
       "      <td>Montrose</td>\n",
       "      <td>2013-12-31</td>\n",
       "      <td>Stock</td>\n",
       "      <td>Montrose</td>\n",
       "      <td>CO</td>\n",
       "    </tr>\n",
       "    <tr>\n",
       "      <th>149935</th>\n",
       "      <td>MontroseBank</td>\n",
       "      <td>Montrose</td>\n",
       "      <td>2014-03-31</td>\n",
       "      <td>Stock</td>\n",
       "      <td>Montrose</td>\n",
       "      <td>CO</td>\n",
       "    </tr>\n",
       "    <tr>\n",
       "      <th>149936</th>\n",
       "      <td>MontroseBank</td>\n",
       "      <td>Montrose</td>\n",
       "      <td>2014-06-30</td>\n",
       "      <td>Stock</td>\n",
       "      <td>Montrose</td>\n",
       "      <td>CO</td>\n",
       "    </tr>\n",
       "    <tr>\n",
       "      <th>149937</th>\n",
       "      <td>MontroseBank</td>\n",
       "      <td>Montrose</td>\n",
       "      <td>2014-09-30</td>\n",
       "      <td>Stock</td>\n",
       "      <td>Montrose</td>\n",
       "      <td>CO</td>\n",
       "    </tr>\n",
       "    <tr>\n",
       "      <th>149938</th>\n",
       "      <td>MontroseBank</td>\n",
       "      <td>Montrose</td>\n",
       "      <td>2014-12-31</td>\n",
       "      <td>Stock</td>\n",
       "      <td>Montrose</td>\n",
       "      <td>CO</td>\n",
       "    </tr>\n",
       "  </tbody>\n",
       "</table>\n",
       "<p>149939 rows × 6 columns</p>\n",
       "</div>"
      ],
      "text/plain": [
       "                       name       city      repdte mutual    County State\n",
       "0                AuburnBank     Auburn  2012-03-31  Stock       Lee    AL\n",
       "1                AuburnBank     Auburn  2012-06-30  Stock       Lee    AL\n",
       "2                AuburnBank     Auburn  2012-09-30  Stock       Lee    AL\n",
       "3                AuburnBank     Auburn  2012-12-31  Stock       Lee    AL\n",
       "4             Keystone Bank     Auburn  2012-03-31  Stock       Lee    AL\n",
       "5             Keystone Bank     Auburn  2012-06-30  Stock       Lee    AL\n",
       "6             Keystone Bank     Auburn  2012-09-30  Stock       Lee    AL\n",
       "7             Keystone Bank     Auburn  2012-12-31  Stock       Lee    AL\n",
       "8                AuburnBank     Auburn  2013-03-31  Stock       Lee    AL\n",
       "9                AuburnBank     Auburn  2013-06-30  Stock       Lee    AL\n",
       "10               AuburnBank     Auburn  2013-09-30  Stock       Lee    AL\n",
       "11               AuburnBank     Auburn  2013-12-31  Stock       Lee    AL\n",
       "12            Keystone Bank     Auburn  2013-03-31  Stock       Lee    AL\n",
       "13            Keystone Bank     Auburn  2013-06-30  Stock       Lee    AL\n",
       "14            Keystone Bank     Auburn  2013-09-30  Stock       Lee    AL\n",
       "15            Keystone Bank     Auburn  2013-12-31  Stock       Lee    AL\n",
       "16               AuburnBank     Auburn  2014-03-31  Stock       Lee    AL\n",
       "17               AuburnBank     Auburn  2014-06-30  Stock       Lee    AL\n",
       "18               AuburnBank     Auburn  2014-09-30  Stock       Lee    AL\n",
       "19               AuburnBank     Auburn  2014-12-31  Stock       Lee    AL\n",
       "20            Keystone Bank     Auburn  2014-03-31  Stock       Lee    AL\n",
       "21            Keystone Bank     Auburn  2014-06-30  Stock       Lee    AL\n",
       "22            Keystone Bank     Auburn  2014-09-30  Stock       Lee    AL\n",
       "23            Keystone Bank     Auburn  2014-12-31  Stock       Lee    AL\n",
       "24               AuburnBank     Auburn  2015-03-31  Stock       Lee    AL\n",
       "25               AuburnBank     Auburn  2015-06-30  Stock       Lee    AL\n",
       "26               AuburnBank     Auburn  2015-09-30  Stock       Lee    AL\n",
       "27               AuburnBank     Auburn  2015-12-31  Stock       Lee    AL\n",
       "28            Keystone Bank     Auburn  2015-03-31  Stock       Lee    AL\n",
       "29            Keystone Bank     Auburn  2015-06-30  Stock       Lee    AL\n",
       "...                     ...        ...         ...    ...       ...   ...\n",
       "149909  Monson Savings Bank     Monson  2017-09-30  Stock   Hampden    MA\n",
       "149910  Monson Savings Bank     Monson  2017-12-31  Stock   Hampden    MA\n",
       "149911       Westfield Bank  Westfield  2017-03-31  Stock   Hampden    MA\n",
       "149912       Westfield Bank  Westfield  2017-06-30  Stock   Hampden    MA\n",
       "149913       Westfield Bank  Westfield  2017-09-30  Stock   Hampden    MA\n",
       "149914       Westfield Bank  Westfield  2017-12-31  Stock   Hampden    MA\n",
       "149915          PeoplesBank    Holyoke  2018-03-31  Stock   Hampden    MA\n",
       "149916          PeoplesBank    Holyoke  2018-06-30  Stock   Hampden    MA\n",
       "149917          PeoplesBank    Holyoke  2018-09-30  Stock   Hampden    MA\n",
       "149918          PeoplesBank    Holyoke  2018-12-31  Stock   Hampden    MA\n",
       "149919  Monson Savings Bank     Monson  2018-03-31  Stock   Hampden    MA\n",
       "149920  Monson Savings Bank     Monson  2018-06-30  Stock   Hampden    MA\n",
       "149921  Monson Savings Bank     Monson  2018-09-30  Stock   Hampden    MA\n",
       "149922  Monson Savings Bank     Monson  2018-12-31  Stock   Hampden    MA\n",
       "149923       Westfield Bank  Westfield  2018-03-31  Stock   Hampden    MA\n",
       "149924       Westfield Bank  Westfield  2018-06-30  Stock   Hampden    MA\n",
       "149925       Westfield Bank  Westfield  2018-09-30  Stock   Hampden    MA\n",
       "149926       Westfield Bank  Westfield  2018-12-31  Stock   Hampden    MA\n",
       "149927         MontroseBank   Montrose  2012-03-31  Stock  Montrose    CO\n",
       "149928         MontroseBank   Montrose  2012-06-30  Stock  Montrose    CO\n",
       "149929         MontroseBank   Montrose  2012-09-30  Stock  Montrose    CO\n",
       "149930         MontroseBank   Montrose  2012-12-31  Stock  Montrose    CO\n",
       "149931         MontroseBank   Montrose  2013-03-31  Stock  Montrose    CO\n",
       "149932         MontroseBank   Montrose  2013-06-30  Stock  Montrose    CO\n",
       "149933         MontroseBank   Montrose  2013-09-30  Stock  Montrose    CO\n",
       "149934         MontroseBank   Montrose  2013-12-31  Stock  Montrose    CO\n",
       "149935         MontroseBank   Montrose  2014-03-31  Stock  Montrose    CO\n",
       "149936         MontroseBank   Montrose  2014-06-30  Stock  Montrose    CO\n",
       "149937         MontroseBank   Montrose  2014-09-30  Stock  Montrose    CO\n",
       "149938         MontroseBank   Montrose  2014-12-31  Stock  Montrose    CO\n",
       "\n",
       "[149939 rows x 6 columns]"
      ]
     },
     "execution_count": 6,
     "metadata": {},
     "output_type": "execute_result"
    }
   ],
   "source": [
    "# df = df.drop(columns=['mutual.1'])\n",
    "df.select_dtypes(include=['object'])"
   ]
  },
  {
   "cell_type": "markdown",
   "metadata": {},
   "source": [
    "mutual: Mutual Ownership Flag\n",
    "Banking institutions fall into one of two ownership types, stock or non-stock.\n",
    "\n",
    "A non-stock institution, or mutual institution, is owned and controlled solely by its depositors. A mutual does not issue capital stock. (1=Yes, a mutual)\n",
    "\n",
    "An institution which sells stock to raise capital is called a stock institution. It is owned by the shareholders who benefit from profits earned by the institution. (0=No, not a mutual.)   "
   ]
  },
  {
   "cell_type": "code",
   "execution_count": 5,
   "metadata": {},
   "outputs": [],
   "source": [
    "# # convert string object to category \n",
    "# df['mutual'] = df.mutual.astype('category')\n",
    "# df['city'] = df.city.astype('category')\n",
    "# df['County'] = df.County.astype('category')\n",
    "# df['State'] = df.State.astype('category')\n",
    "# df['cert'] = df.cert.astype('category')\n",
    "# df['specgrp'] = df.specgrp.astype('category')"
   ]
  },
  {
   "cell_type": "code",
   "execution_count": 6,
   "metadata": {},
   "outputs": [],
   "source": [
    "# Add trend labelling t-value \n",
    "# trendlabel = pd.read_csv('/home/team3/Data/gdptrend.csv')"
   ]
  },
  {
   "cell_type": "code",
   "execution_count": 7,
   "metadata": {},
   "outputs": [],
   "source": [
    "# df['trendlabel'] = trendlabel.tVal"
   ]
  },
  {
   "cell_type": "code",
   "execution_count": 8,
   "metadata": {},
   "outputs": [
    {
     "data": {
      "text/plain": [
       "0"
      ]
     },
     "execution_count": 8,
     "metadata": {},
     "output_type": "execute_result"
    }
   ],
   "source": [
    "df.isnull().sum().sum()"
   ]
  },
  {
   "cell_type": "code",
   "execution_count": 9,
   "metadata": {},
   "outputs": [
    {
     "data": {
      "text/html": [
       "<div>\n",
       "<style scoped>\n",
       "    .dataframe tbody tr th:only-of-type {\n",
       "        vertical-align: middle;\n",
       "    }\n",
       "\n",
       "    .dataframe tbody tr th {\n",
       "        vertical-align: top;\n",
       "    }\n",
       "\n",
       "    .dataframe thead th {\n",
       "        text-align: right;\n",
       "    }\n",
       "</style>\n",
       "<table border=\"1\" class=\"dataframe\">\n",
       "  <thead>\n",
       "    <tr style=\"text-align: right;\">\n",
       "      <th></th>\n",
       "      <th>asset</th>\n",
       "      <th>ernast</th>\n",
       "      <th>intan</th>\n",
       "      <th>OALIFINS</th>\n",
       "      <th>TIMMA</th>\n",
       "      <th>TCSNMNUM</th>\n",
       "      <th>tract</th>\n",
       "      <th>TPMANUM</th>\n",
       "      <th>TPNMNUM</th>\n",
       "      <th>TTNANUM</th>\n",
       "      <th>...</th>\n",
       "      <th>PC_Unemployed</th>\n",
       "      <th>PC_Employment_rate</th>\n",
       "      <th>PC_Median_Age</th>\n",
       "      <th>PC_Median_Occupied_Houses</th>\n",
       "      <th>PC_Median_Household_Income</th>\n",
       "      <th>cert</th>\n",
       "      <th>zip</th>\n",
       "      <th>specgrp.1</th>\n",
       "      <th>FIPS_Code</th>\n",
       "      <th>state_num</th>\n",
       "    </tr>\n",
       "  </thead>\n",
       "  <tbody>\n",
       "    <tr>\n",
       "      <th>count</th>\n",
       "      <td>155830.000000</td>\n",
       "      <td>155830.000000</td>\n",
       "      <td>155830.000000</td>\n",
       "      <td>155830.000000</td>\n",
       "      <td>155830.000000</td>\n",
       "      <td>155830.000000</td>\n",
       "      <td>155830.000000</td>\n",
       "      <td>155830.000000</td>\n",
       "      <td>155830.000000</td>\n",
       "      <td>155830.000000</td>\n",
       "      <td>...</td>\n",
       "      <td>155830.000000</td>\n",
       "      <td>155830.000000</td>\n",
       "      <td>155830.000000</td>\n",
       "      <td>155830.000000</td>\n",
       "      <td>155830.000000</td>\n",
       "      <td>155830.000000</td>\n",
       "      <td>155830.000000</td>\n",
       "      <td>155830.000000</td>\n",
       "      <td>155830.000000</td>\n",
       "      <td>155830.000000</td>\n",
       "    </tr>\n",
       "    <tr>\n",
       "      <th>mean</th>\n",
       "      <td>0.012426</td>\n",
       "      <td>0.013232</td>\n",
       "      <td>0.057404</td>\n",
       "      <td>0.035446</td>\n",
       "      <td>-0.007393</td>\n",
       "      <td>-0.020001</td>\n",
       "      <td>-0.001085</td>\n",
       "      <td>-0.092113</td>\n",
       "      <td>-0.072023</td>\n",
       "      <td>-0.090547</td>\n",
       "      <td>...</td>\n",
       "      <td>-0.098516</td>\n",
       "      <td>-0.097768</td>\n",
       "      <td>-0.125124</td>\n",
       "      <td>2.025991</td>\n",
       "      <td>0.018493</td>\n",
       "      <td>21260.842328</td>\n",
       "      <td>52881.296041</td>\n",
       "      <td>4.199718</td>\n",
       "      <td>29121.969127</td>\n",
       "      <td>19.969383</td>\n",
       "    </tr>\n",
       "    <tr>\n",
       "      <th>std</th>\n",
       "      <td>0.074414</td>\n",
       "      <td>0.089931</td>\n",
       "      <td>3.895673</td>\n",
       "      <td>1.993664</td>\n",
       "      <td>3.979712</td>\n",
       "      <td>3.439230</td>\n",
       "      <td>0.032914</td>\n",
       "      <td>0.174495</td>\n",
       "      <td>0.167829</td>\n",
       "      <td>0.236998</td>\n",
       "      <td>...</td>\n",
       "      <td>0.086695</td>\n",
       "      <td>0.089024</td>\n",
       "      <td>0.337079</td>\n",
       "      <td>10.391540</td>\n",
       "      <td>0.031234</td>\n",
       "      <td>17528.689174</td>\n",
       "      <td>22604.122197</td>\n",
       "      <td>1.843460</td>\n",
       "      <td>14385.525633</td>\n",
       "      <td>11.205024</td>\n",
       "    </tr>\n",
       "    <tr>\n",
       "      <th>min</th>\n",
       "      <td>-0.891109</td>\n",
       "      <td>-0.995555</td>\n",
       "      <td>-1.000000</td>\n",
       "      <td>-1.000000</td>\n",
       "      <td>-1.000000</td>\n",
       "      <td>-1.000000</td>\n",
       "      <td>-1.000000</td>\n",
       "      <td>-1.000000</td>\n",
       "      <td>-1.000000</td>\n",
       "      <td>-1.000000</td>\n",
       "      <td>...</td>\n",
       "      <td>-0.476923</td>\n",
       "      <td>-0.472222</td>\n",
       "      <td>-0.999995</td>\n",
       "      <td>-0.830637</td>\n",
       "      <td>-0.247504</td>\n",
       "      <td>35.000000</td>\n",
       "      <td>1005.000000</td>\n",
       "      <td>2.000000</td>\n",
       "      <td>1001.000000</td>\n",
       "      <td>1.000000</td>\n",
       "    </tr>\n",
       "    <tr>\n",
       "      <th>25%</th>\n",
       "      <td>-0.011863</td>\n",
       "      <td>-0.012411</td>\n",
       "      <td>-0.003764</td>\n",
       "      <td>0.006843</td>\n",
       "      <td>-0.011768</td>\n",
       "      <td>-0.021739</td>\n",
       "      <td>0.000000</td>\n",
       "      <td>-0.062500</td>\n",
       "      <td>-0.056604</td>\n",
       "      <td>-0.060773</td>\n",
       "      <td>...</td>\n",
       "      <td>-0.154763</td>\n",
       "      <td>-0.154639</td>\n",
       "      <td>-0.003735</td>\n",
       "      <td>-0.006685</td>\n",
       "      <td>0.000812</td>\n",
       "      <td>8865.000000</td>\n",
       "      <td>37825.000000</td>\n",
       "      <td>2.000000</td>\n",
       "      <td>18173.000000</td>\n",
       "      <td>11.000000</td>\n",
       "    </tr>\n",
       "    <tr>\n",
       "      <th>50%</th>\n",
       "      <td>0.006774</td>\n",
       "      <td>0.007452</td>\n",
       "      <td>-0.003764</td>\n",
       "      <td>0.007668</td>\n",
       "      <td>-0.011768</td>\n",
       "      <td>-0.021739</td>\n",
       "      <td>0.000000</td>\n",
       "      <td>-0.062500</td>\n",
       "      <td>-0.056604</td>\n",
       "      <td>-0.060773</td>\n",
       "      <td>...</td>\n",
       "      <td>-0.106847</td>\n",
       "      <td>-0.106383</td>\n",
       "      <td>0.002778</td>\n",
       "      <td>0.009529</td>\n",
       "      <td>0.016327</td>\n",
       "      <td>16288.000000</td>\n",
       "      <td>55981.000000</td>\n",
       "      <td>4.000000</td>\n",
       "      <td>27129.000000</td>\n",
       "      <td>21.000000</td>\n",
       "    </tr>\n",
       "    <tr>\n",
       "      <th>75%</th>\n",
       "      <td>0.027705</td>\n",
       "      <td>0.029634</td>\n",
       "      <td>-0.003764</td>\n",
       "      <td>0.007668</td>\n",
       "      <td>-0.011768</td>\n",
       "      <td>-0.021739</td>\n",
       "      <td>0.000000</td>\n",
       "      <td>-0.062500</td>\n",
       "      <td>-0.056604</td>\n",
       "      <td>-0.060773</td>\n",
       "      <td>...</td>\n",
       "      <td>-0.049958</td>\n",
       "      <td>-0.051282</td>\n",
       "      <td>0.009192</td>\n",
       "      <td>0.044189</td>\n",
       "      <td>0.035735</td>\n",
       "      <td>29548.000000</td>\n",
       "      <td>68748.000000</td>\n",
       "      <td>5.000000</td>\n",
       "      <td>40133.000000</td>\n",
       "      <td>28.000000</td>\n",
       "    </tr>\n",
       "    <tr>\n",
       "      <th>max</th>\n",
       "      <td>6.413430</td>\n",
       "      <td>18.965517</td>\n",
       "      <td>852.800000</td>\n",
       "      <td>457.142857</td>\n",
       "      <td>1006.764706</td>\n",
       "      <td>963.497041</td>\n",
       "      <td>0.000000</td>\n",
       "      <td>5.250000</td>\n",
       "      <td>18.000000</td>\n",
       "      <td>50.329457</td>\n",
       "      <td>...</td>\n",
       "      <td>0.812968</td>\n",
       "      <td>1.000000</td>\n",
       "      <td>0.195164</td>\n",
       "      <td>574.943396</td>\n",
       "      <td>0.328823</td>\n",
       "      <td>91280.000000</td>\n",
       "      <td>99403.000000</td>\n",
       "      <td>9.000000</td>\n",
       "      <td>56045.000000</td>\n",
       "      <td>49.000000</td>\n",
       "    </tr>\n",
       "  </tbody>\n",
       "</table>\n",
       "<p>8 rows × 338 columns</p>\n",
       "</div>"
      ],
      "text/plain": [
       "               asset         ernast          intan       OALIFINS  \\\n",
       "count  155830.000000  155830.000000  155830.000000  155830.000000   \n",
       "mean        0.012426       0.013232       0.057404       0.035446   \n",
       "std         0.074414       0.089931       3.895673       1.993664   \n",
       "min        -0.891109      -0.995555      -1.000000      -1.000000   \n",
       "25%        -0.011863      -0.012411      -0.003764       0.006843   \n",
       "50%         0.006774       0.007452      -0.003764       0.007668   \n",
       "75%         0.027705       0.029634      -0.003764       0.007668   \n",
       "max         6.413430      18.965517     852.800000     457.142857   \n",
       "\n",
       "               TIMMA       TCSNMNUM          tract        TPMANUM  \\\n",
       "count  155830.000000  155830.000000  155830.000000  155830.000000   \n",
       "mean       -0.007393      -0.020001      -0.001085      -0.092113   \n",
       "std         3.979712       3.439230       0.032914       0.174495   \n",
       "min        -1.000000      -1.000000      -1.000000      -1.000000   \n",
       "25%        -0.011768      -0.021739       0.000000      -0.062500   \n",
       "50%        -0.011768      -0.021739       0.000000      -0.062500   \n",
       "75%        -0.011768      -0.021739       0.000000      -0.062500   \n",
       "max      1006.764706     963.497041       0.000000       5.250000   \n",
       "\n",
       "             TPNMNUM        TTNANUM      ...        PC_Unemployed  \\\n",
       "count  155830.000000  155830.000000      ...        155830.000000   \n",
       "mean       -0.072023      -0.090547      ...            -0.098516   \n",
       "std         0.167829       0.236998      ...             0.086695   \n",
       "min        -1.000000      -1.000000      ...            -0.476923   \n",
       "25%        -0.056604      -0.060773      ...            -0.154763   \n",
       "50%        -0.056604      -0.060773      ...            -0.106847   \n",
       "75%        -0.056604      -0.060773      ...            -0.049958   \n",
       "max        18.000000      50.329457      ...             0.812968   \n",
       "\n",
       "       PC_Employment_rate  PC_Median_Age  PC_Median_Occupied_Houses  \\\n",
       "count       155830.000000  155830.000000              155830.000000   \n",
       "mean            -0.097768      -0.125124                   2.025991   \n",
       "std              0.089024       0.337079                  10.391540   \n",
       "min             -0.472222      -0.999995                  -0.830637   \n",
       "25%             -0.154639      -0.003735                  -0.006685   \n",
       "50%             -0.106383       0.002778                   0.009529   \n",
       "75%             -0.051282       0.009192                   0.044189   \n",
       "max              1.000000       0.195164                 574.943396   \n",
       "\n",
       "       PC_Median_Household_Income           cert            zip  \\\n",
       "count               155830.000000  155830.000000  155830.000000   \n",
       "mean                     0.018493   21260.842328   52881.296041   \n",
       "std                      0.031234   17528.689174   22604.122197   \n",
       "min                     -0.247504      35.000000    1005.000000   \n",
       "25%                      0.000812    8865.000000   37825.000000   \n",
       "50%                      0.016327   16288.000000   55981.000000   \n",
       "75%                      0.035735   29548.000000   68748.000000   \n",
       "max                      0.328823   91280.000000   99403.000000   \n",
       "\n",
       "           specgrp.1      FIPS_Code      state_num  \n",
       "count  155830.000000  155830.000000  155830.000000  \n",
       "mean        4.199718   29121.969127      19.969383  \n",
       "std         1.843460   14385.525633      11.205024  \n",
       "min         2.000000    1001.000000       1.000000  \n",
       "25%         2.000000   18173.000000      11.000000  \n",
       "50%         4.000000   27129.000000      21.000000  \n",
       "75%         5.000000   40133.000000      28.000000  \n",
       "max         9.000000   56045.000000      49.000000  \n",
       "\n",
       "[8 rows x 338 columns]"
      ]
     },
     "execution_count": 9,
     "metadata": {},
     "output_type": "execute_result"
    }
   ],
   "source": [
    "df.describe()"
   ]
  },
  {
   "cell_type": "markdown",
   "metadata": {},
   "source": [
    "FIPS codes are numbers which uniquely identify geographic areas. The number of digits in FIPS codes vary depending on the level of geography. State-level FIPS codes have two digits, county-level FIPS codes have five digits of which the first two are the FIPS code of the state to which the county belongs."
   ]
  },
  {
   "cell_type": "code",
   "execution_count": 7,
   "metadata": {},
   "outputs": [
    {
     "data": {
      "text/plain": [
       "count    149939.000000\n",
       "mean          0.047578\n",
       "std           0.534194\n",
       "min          -1.000000\n",
       "25%          -0.051064\n",
       "50%           0.004862\n",
       "75%           0.070270\n",
       "max          39.000000\n",
       "Name: PC_Non_US_Citizen, dtype: float64"
      ]
     },
     "execution_count": 7,
     "metadata": {},
     "output_type": "execute_result"
    }
   ],
   "source": [
    "df['PC_Non_US_Citizen'].describe()"
   ]
  },
  {
   "cell_type": "code",
   "execution_count": 6,
   "metadata": {},
   "outputs": [],
   "source": [
    "df = df.rename({'market cap 5': 'market_cap_5'}, axis=1)"
   ]
  },
  {
   "cell_type": "markdown",
   "metadata": {},
   "source": [
    "### Data Preprocess"
   ]
  },
  {
   "cell_type": "code",
   "execution_count": 7,
   "metadata": {},
   "outputs": [],
   "source": [
    "from numpy import mean\n",
    "from numpy import std\n",
    "from numpy import absolute\n",
    "from pandas import read_csv\n",
    "from sklearn.model_selection import cross_val_score\n",
    "from sklearn.model_selection import KFold\n",
    "from sklearn.compose import ColumnTransformer\n",
    "from sklearn.pipeline import Pipeline\n",
    "from sklearn.preprocessing import OneHotEncoder, LabelEncoder, OrdinalEncoder\n",
    "from sklearn.preprocessing import MinMaxScaler, StandardScaler\n",
    "from sklearn.decomposition import PCA, SparsePCA, IncrementalPCA\n",
    "from sklearn.decomposition import TruncatedSVD\n",
    "from sklearn.ensemble import RandomForestRegressor,RandomForestClassifier"
   ]
  },
  {
   "cell_type": "markdown",
   "metadata": {},
   "source": [
    "### outliers of target variable"
   ]
  },
  {
   "cell_type": "code",
   "execution_count": 8,
   "metadata": {},
   "outputs": [],
   "source": [
    "# import numpy as np\n",
    "# import scipy.stats\n",
    "# # 95% confidence interval\n",
    "# def mean_confidence_interval(data, confidence=0.95):\n",
    "#     a = 1.0 * np.array(data)\n",
    "#     n = len(a)\n",
    "#     m, se = np.mean(a), scipy.stats.sem(a)\n",
    "#     h = se * scipy.stats.t.ppf((1 + confidence) / 2., n-1)\n",
    "#     return m, m-h, m+h\n",
    "# mean_confidence_interval(df['market cap 5'])"
   ]
  },
  {
   "cell_type": "code",
   "execution_count": 9,
   "metadata": {},
   "outputs": [
    {
     "data": {
      "text/plain": [
       "count    155830.000000\n",
       "mean          0.014562\n",
       "std           0.892758\n",
       "min        -330.618620\n",
       "25%          -0.000870\n",
       "50%           0.012728\n",
       "75%           0.025543\n",
       "max          78.868880\n",
       "Name: market_cap_5, dtype: float64"
      ]
     },
     "execution_count": 9,
     "metadata": {},
     "output_type": "execute_result"
    }
   ],
   "source": [
    "df.market_cap_5.describe()"
   ]
  },
  {
   "cell_type": "markdown",
   "metadata": {},
   "source": [
    "#### IQR score\n",
    "The interquartile range (IQR), also called the midspread or middle 50%, or technically H-spread, is a measure of statistical dispersion, being equal to the difference between 75th and 25th percentiles, or between upper and lower quartiles, IQR = Q3 − Q1. Data point that falls outside of 1.5 times of an Interquartile range above the 3rd quartile (Q3) and below the 1st quartile (Q1)."
   ]
  },
  {
   "cell_type": "code",
   "execution_count": 10,
   "metadata": {},
   "outputs": [
    {
     "name": "stdout",
     "output_type": "stream",
     "text": [
      "0.026413049542153982\n"
     ]
    }
   ],
   "source": [
    "Q1 = df.market_cap_5.quantile(0.25)\n",
    "Q3 = df.market_cap_5.quantile(0.75)\n",
    "IQR = Q3 - Q1\n",
    "print(IQR)"
   ]
  },
  {
   "cell_type": "code",
   "execution_count": 11,
   "metadata": {},
   "outputs": [
    {
     "data": {
      "text/plain": [
       "<matplotlib.axes._subplots.AxesSubplot at 0x7fd70690cf28>"
      ]
     },
     "execution_count": 11,
     "metadata": {},
     "output_type": "execute_result"
    },
    {
     "data": {
      "image/png": "[encoded data removed]",
      "text/plain": [
       "<Figure size 432x288 with 1 Axes>"
      ]
     },
     "metadata": {
      "needs_background": "light"
     },
     "output_type": "display_data"
    }
   ],
   "source": [
    "import seaborn as sns\n",
    "sns.boxplot(x=df['market_cap_5'])"
   ]
  },
  {
   "cell_type": "code",
   "execution_count": 12,
   "metadata": {},
   "outputs": [
    {
     "data": {
      "text/plain": [
       "(139171, 344)"
      ]
     },
     "execution_count": 12,
     "metadata": {},
     "output_type": "execute_result"
    }
   ],
   "source": [
    "df_no = df[(df.market_cap_5 > (Q1 - 1.5 * IQR)) & (df.market_cap_5  < (Q3 + 1.5 * IQR))]\n",
    "\n",
    "df_no.shape"
   ]
  },
  {
   "cell_type": "markdown",
   "metadata": {},
   "source": [
    "#### Domain range"
   ]
  },
  {
   "cell_type": "code",
   "execution_count": 13,
   "metadata": {},
   "outputs": [
    {
     "data": {
      "text/plain": [
       "(155570, 344)"
      ]
     },
     "execution_count": 13,
     "metadata": {},
     "output_type": "execute_result"
    }
   ],
   "source": [
    "df_no2 = df[(df.market_cap_5 > -1) & (df.market_cap_5  < 1)]\n",
    "df_no2.shape"
   ]
  },
  {
   "cell_type": "code",
   "execution_count": 14,
   "metadata": {},
   "outputs": [
    {
     "data": {
      "text/plain": [
       "(153964, 344)"
      ]
     },
     "execution_count": 14,
     "metadata": {},
     "output_type": "execute_result"
    }
   ],
   "source": [
    "# market cap within [-25%,+25%]\n",
    "df_no3 = df[(df.market_cap_5 >= -0.25) & (df.market_cap_5  <= 0.25)]\n",
    "df_no3.shape"
   ]
  },
  {
   "cell_type": "code",
   "execution_count": 15,
   "metadata": {},
   "outputs": [
    {
     "data": {
      "text/plain": [
       "count    153964.000000\n",
       "mean          0.010224\n",
       "std           0.037133\n",
       "min          -0.249995\n",
       "25%          -0.000853\n",
       "50%           0.012592\n",
       "75%           0.025173\n",
       "max           0.249994\n",
       "Name: market_cap_5, dtype: float64"
      ]
     },
     "execution_count": 15,
     "metadata": {},
     "output_type": "execute_result"
    }
   ],
   "source": [
    "df_no3.market_cap_5.describe()"
   ]
  },
  {
   "cell_type": "markdown",
   "metadata": {},
   "source": [
    "### Encode categorical variables"
   ]
  },
  {
   "cell_type": "code",
   "execution_count": 16,
   "metadata": {},
   "outputs": [],
   "source": [
    "# distributing the dataset into two components X and Y \n",
    "# Only numerical variables\n",
    "X = df_no3[df_no3.columns.difference(['market_cap_5','id','name','repdte','eq','eqtot','net_asset','zip','cert','rssdhcr','docket',\\\n",
    "                                      'FIPS_Code','specgrp.1'])] \n",
    "y = df_no3['market_cap_5']"
   ]
  },
  {
   "cell_type": "code",
   "execution_count": 17,
   "metadata": {},
   "outputs": [],
   "source": [
    "# determine categorical and numerical features\n",
    "numerical_ix = X.select_dtypes(include=['int64', 'float64']).columns\n",
    "categorical_ix = X.select_dtypes(include=['object', 'bool']).columns"
   ]
  },
  {
   "cell_type": "code",
   "execution_count": 18,
   "metadata": {},
   "outputs": [
    {
     "data": {
      "text/plain": [
       "Index(['County', 'State', 'city', 'mutual'], dtype='object')"
      ]
     },
     "execution_count": 18,
     "metadata": {},
     "output_type": "execute_result"
    }
   ],
   "source": [
    "categorical_ix "
   ]
  },
  {
   "cell_type": "code",
   "execution_count": 19,
   "metadata": {},
   "outputs": [],
   "source": [
    "from sklearn.base import BaseEstimator, TransformerMixin\n",
    "from sklearn.utils import check_array\n",
    "from sklearn.preprocessing import LabelEncoder\n",
    "from scipy import sparse\n",
    "\n",
    "class CategoricalEncoder(BaseEstimator, TransformerMixin):\n",
    "    def __init__(self, encoding='onehot', categories='auto', dtype=np.float64,\n",
    "                 handle_unknown='error'):\n",
    "        self.encoding = encoding\n",
    "        self.categories = categories\n",
    "        self.dtype = dtype\n",
    "        self.handle_unknown = handle_unknown\n",
    "\n",
    "    def fit(self, X, y=None):\n",
    "        \"\"\"Fit the CategoricalEncoder to X.\n",
    "        Parameters\n",
    "        ----------\n",
    "        X : array-like, shape [n_samples, n_feature]\n",
    "            The data to determine the categories of each feature.\n",
    "        Returns\n",
    "        -------\n",
    "        self\n",
    "        \"\"\"\n",
    "\n",
    "        if self.encoding not in ['onehot', 'onehot-dense', 'ordinal']:\n",
    "            template = (\"encoding should be either 'onehot', 'onehot-dense' \"\n",
    "                        \"or 'ordinal', got %s\")\n",
    "            raise ValueError(template % self.handle_unknown)\n",
    "\n",
    "        if self.handle_unknown not in ['error', 'ignore']:\n",
    "            template = (\"handle_unknown should be either 'error' or \"\n",
    "                        \"'ignore', got %s\")\n",
    "            raise ValueError(template % self.handle_unknown)\n",
    "\n",
    "        if self.encoding == 'ordinal' and self.handle_unknown == 'ignore':\n",
    "            raise ValueError(\"handle_unknown='ignore' is not supported for\"\n",
    "                             \" encoding='ordinal'\")\n",
    "\n",
    "        X = check_array(X, dtype=np.object, accept_sparse='csc', copy=True)\n",
    "        n_samples, n_features = X.shape\n",
    "\n",
    "        self._label_encoders_ = [LabelEncoder() for _ in range(n_features)]\n",
    "\n",
    "        for i in range(n_features):\n",
    "            le = self._label_encoders_[i]\n",
    "            Xi = X[:, i]\n",
    "            if self.categories == 'auto':\n",
    "                le.fit(Xi)\n",
    "            else:\n",
    "                valid_mask = np.in1d(Xi, self.categories[i])\n",
    "                if not np.all(valid_mask):\n",
    "                    if self.handle_unknown == 'error':\n",
    "                        diff = np.unique(Xi[~valid_mask])\n",
    "                        msg = (\"Found unknown categories {0} in column {1}\"\n",
    "                               \" during fit\".format(diff, i))\n",
    "                        raise ValueError(msg)\n",
    "                le.classes_ = np.array(np.sort(self.categories[i]))\n",
    "\n",
    "        self.categories_ = [le.classes_ for le in self._label_encoders_]\n",
    "\n",
    "        return self\n",
    "\n",
    "    def transform(self, X):\n",
    "        \"\"\"Transform X using one-hot encoding.\n",
    "        Parameters\n",
    "        ----------\n",
    "        X : array-like, shape [n_samples, n_features]\n",
    "            The data to encode.\n",
    "        Returns\n",
    "        -------\n",
    "        X_out : sparse matrix or a 2-d array\n",
    "            Transformed input.\n",
    "        \"\"\"\n",
    "        X = check_array(X, accept_sparse='csc', dtype=np.object, copy=True)\n",
    "        n_samples, n_features = X.shape\n",
    "        X_int = np.zeros_like(X, dtype=np.int)\n",
    "        X_mask = np.ones_like(X, dtype=np.bool)\n",
    "\n",
    "        for i in range(n_features):\n",
    "            valid_mask = np.in1d(X[:, i], self.categories_[i])\n",
    "\n",
    "            if not np.all(valid_mask):\n",
    "                if self.handle_unknown == 'error':\n",
    "                    diff = np.unique(X[~valid_mask, i])\n",
    "                    msg = (\"Found unknown categories {0} in column {1}\"\n",
    "                           \" during transform\".format(diff, i))\n",
    "                    raise ValueError(msg)\n",
    "                else:\n",
    "                    # Set the problematic rows to an acceptable value and\n",
    "                    # continue `The rows are marked `X_mask` and will be\n",
    "                    # removed later.\n",
    "                    X_mask[:, i] = valid_mask\n",
    "                    X[:, i][~valid_mask] = self.categories_[i][0]\n",
    "            X_int[:, i] = self._label_encoders_[i].transform(X[:, i])\n",
    "\n",
    "        if self.encoding == 'ordinal':\n",
    "            return X_int.astype(self.dtype, copy=False)\n",
    "\n",
    "        mask = X_mask.ravel()\n",
    "        n_values = [cats.shape[0] for cats in self.categories_]\n",
    "        n_values = np.array([0] + n_values)\n",
    "        indices = np.cumsum(n_values)\n",
    "\n",
    "        column_indices = (X_int + indices[:-1]).ravel()[mask]\n",
    "        row_indices = np.repeat(np.arange(n_samples, dtype=np.int32),\n",
    "                                n_features)[mask]\n",
    "        data = np.ones(n_samples * n_features)[mask]\n",
    "\n",
    "        out = sparse.csc_matrix((data, (row_indices, column_indices)),\n",
    "                                shape=(n_samples, indices[-1]),\n",
    "                                dtype=self.dtype).tocsr()\n",
    "        if self.encoding == 'onehot-dense':\n",
    "            return out.toarray()\n",
    "        else:\n",
    "            return out"
   ]
  },
  {
   "cell_type": "code",
   "execution_count": 20,
   "metadata": {},
   "outputs": [],
   "source": [
    "from sklearn.base import BaseEstimator, TransformerMixin \n",
    "class NewLabelEncoder(LabelEncoder):\n",
    "    def fit(self, X, y=None):\n",
    "        return super(NewLabelEncoder, self).fit(X)\n",
    "    def transform(self, X, y=None):\n",
    "        return super(NewLabelEncoder, self).transform(X)\n",
    "    def fit_transform(self, X, y=None):\n",
    "        return super(NewLabelEncoder, self).fit(X).transform(X)"
   ]
  },
  {
   "cell_type": "code",
   "execution_count": 21,
   "metadata": {},
   "outputs": [
    {
     "name": "stderr",
     "output_type": "stream",
     "text": [
      "/anaconda/envs/azureml_py36_automl/lib/python3.6/site-packages/sklearn/preprocessing/data.py:334: DataConversionWarning: Data with input dtype int64, float64 were all converted to float64 by MinMaxScaler.\n",
      "  return self.partial_fit(X, y)\n"
     ]
    }
   ],
   "source": [
    "# Normalize numerical vars and Encode categorical vars\n",
    "# t = [('cat', OneHotEncoder(), categorical_ix), ('num', MinMaxScaler(), numerical_ix)]\n",
    "# t = [('cat', CategoricalEncoder(), categorical_ix),('num', MinMaxScaler(), numerical_ix)]\n",
    "t = [('cat', OrdinalEncoder(), categorical_ix), ('num', MinMaxScaler(), numerical_ix)]\n",
    "\n",
    "col_transform = ColumnTransformer(transformers=t)\n",
    "X_transformed = col_transform.fit_transform(X)"
   ]
  },
  {
   "cell_type": "code",
   "execution_count": 22,
   "metadata": {},
   "outputs": [],
   "source": [
    "# one hot encoding - check categorical vars names\n",
    "# col_transform.named_transformers_['cat'].get_feature_names()"
   ]
  },
  {
   "cell_type": "code",
   "execution_count": 23,
   "metadata": {},
   "outputs": [
    {
     "data": {
      "text/plain": [
       "(153964, 335)"
      ]
     },
     "execution_count": 23,
     "metadata": {},
     "output_type": "execute_result"
    }
   ],
   "source": [
    "X_transformed.shape"
   ]
  },
  {
   "cell_type": "code",
   "execution_count": 29,
   "metadata": {},
   "outputs": [
    {
     "data": {
      "text/plain": [
       "OrdinalEncoder(categories=0              Lee\n",
       "1              Lee\n",
       "2              Lee\n",
       "3              Lee\n",
       "4              Lee\n",
       "5              Lee\n",
       "6              Lee\n",
       "7              Lee\n",
       "8              Lee\n",
       "9              Lee\n",
       "10             Lee\n",
       "11             Lee\n",
       "12             Lee\n",
       "13             Lee\n",
       "14             Lee\n",
       "15  ...155825       Pinal\n",
       "155826       Pinal\n",
       "155827       Pinal\n",
       "Name: County, Length: 153964, dtype: object,\n",
       "        dtype=<class 'numpy.float64'>)"
      ]
     },
     "execution_count": 29,
     "metadata": {},
     "output_type": "execute_result"
    }
   ],
   "source": [
    "OrdinalEncoder(df_no3.County)"
   ]
  },
  {
   "cell_type": "markdown",
   "metadata": {},
   "source": [
    "#### Other outliers"
   ]
  },
  {
   "cell_type": "code",
   "execution_count": null,
   "metadata": {},
   "outputs": [
    {
     "name": "stderr",
     "output_type": "stream",
     "text": [
      "/anaconda/envs/azureml_py36_automl/lib/python3.6/site-packages/sklearn/ensemble/iforest.py:213: FutureWarning: default contamination parameter 0.1 will change in version 0.22 to \"auto\". This will change the predict method behavior.\n",
      "  FutureWarning)\n",
      "/anaconda/envs/azureml_py36_automl/lib/python3.6/site-packages/sklearn/ensemble/iforest.py:223: FutureWarning: behaviour=\"old\" is deprecated and will be removed in version 0.22. Please use behaviour=\"new\", which makes the decision_function change to match other anomaly detection algorithm API.\n",
      "  FutureWarning)\n"
     ]
    }
   ],
   "source": [
    "from sklearn.ensemble import IsolationForest\n",
    "clf = IsolationForest(random_state=0).fit(X_transformed)\n",
    "outliers = clf.predict(X_transformed)"
   ]
  },
  {
   "cell_type": "code",
   "execution_count": null,
   "metadata": {},
   "outputs": [],
   "source": [
    "list(outliers).count(-1)"
   ]
  },
  {
   "cell_type": "markdown",
   "metadata": {},
   "source": [
    "### PCA"
   ]
  },
  {
   "cell_type": "code",
   "execution_count": 24,
   "metadata": {},
   "outputs": [],
   "source": [
    "# Splitting the X and Y into the \n",
    "# Training set and Testing set \n",
    "from sklearn.model_selection import train_test_split \n",
    "X_train, X_test, y_train, y_test = train_test_split(X, y, test_size = 0.2, random_state=0)\n",
    "X_train_trans, X_test_trans, y_train_trans, y_test_trans = train_test_split(X_transformed, y, test_size = 0.2, random_state=0)"
   ]
  },
  {
   "cell_type": "code",
   "execution_count": 71,
   "metadata": {},
   "outputs": [],
   "source": [
    "# Splitting the X and Y into the \n",
    "# Training set and Testing set \n",
    "# Exclude outliers\n",
    "from sklearn.model_selection import train_test_split \n",
    "X_train, X_test, y_train, y_test = train_test_split(X2, y2, test_size = 0.2, random_state=0)\n",
    "X_train_trans, X_test_trans, y_train_trans, y_test_trans = train_test_split(X_transformed2, y2, test_size = 0.2, random_state=0)"
   ]
  },
  {
   "cell_type": "code",
   "execution_count": 72,
   "metadata": {},
   "outputs": [
    {
     "name": "stdout",
     "output_type": "stream",
     "text": [
      "Number features: 2\tTotal Variance Explained: 0.9998518310835953\n"
     ]
    }
   ],
   "source": [
    "# https://medium.com/@andymdc31/using-pca-in-a-machine-learning-pipeline-b6fe3492b1b9\n",
    "# scaler = StandardScaler()\n",
    "# X_train_scaled = scaler.fit_transform(X_train)\n",
    "pca = PCA()\n",
    "X_pca = pca.fit_transform(X_train_trans)\n",
    "total_explained_variance = pca.explained_variance_ratio_.cumsum()\n",
    "n_over_95 = len(total_explained_variance[total_explained_variance >= .95])\n",
    "n_to_reach_95 = X_train_trans.shape[1] - n_over_95 + 1\n",
    "print('Number features: {}\\tTotal Variance Explained: {}'.format(n_to_reach_95, total_explained_variance[n_to_reach_95-1]))"
   ]
  },
  {
   "cell_type": "code",
   "execution_count": 73,
   "metadata": {},
   "outputs": [
    {
     "name": "stderr",
     "output_type": "stream",
     "text": [
      "/anaconda/envs/azureml_py36_automl/lib/python3.6/site-packages/sklearn/preprocessing/data.py:334: DataConversionWarning: Data with input dtype int64, float64 were all converted to float64 by MinMaxScaler.\n",
      "  return self.partial_fit(X, y)\n",
      "/anaconda/envs/azureml_py36_automl/lib/python3.6/site-packages/sklearn/ensemble/forest.py:246: FutureWarning: The default value of n_estimators will change from 10 in version 0.20 to 100 in 0.22.\n",
      "  \"10 in version 0.20 to 100 in 0.22.\", FutureWarning)\n"
     ]
    },
    {
     "data": {
      "text/plain": [
       "Pipeline(memory=None,\n",
       "     steps=[('pre', ColumnTransformer(n_jobs=None, remainder='drop', sparse_threshold=0.3,\n",
       "         transformer_weights=None,\n",
       "         transformers=[('cat', OrdinalEncoder(categories='auto', dtype=<class 'numpy.float64'>), Index(['County', 'State', 'city', 'mutual'], dtype='object')), ('num', MinMaxScale...ators=10, n_jobs=None,\n",
       "           oob_score=False, random_state=None, verbose=0, warm_start=False))])"
      ]
     },
     "execution_count": 73,
     "metadata": {},
     "output_type": "execute_result"
    }
   ],
   "source": [
    "pipe = Pipeline([('pre', col_transform),\n",
    " ('pca', PCA(n_components=n_to_reach_95)),\n",
    " ('cl', RandomForestRegressor())])\n",
    "pipe.fit(X_train,y_train)"
   ]
  },
  {
   "cell_type": "code",
   "execution_count": 27,
   "metadata": {},
   "outputs": [
    {
     "data": {
      "image/png": "[encoded data removed]",
      "text/plain": [
       "<Figure size 1080x648 with 1 Axes>"
      ]
     },
     "metadata": {
      "needs_background": "light"
     },
     "output_type": "display_data"
    }
   ],
   "source": [
    "model = pipe.steps[1][1]\n",
    "n_pcs= model.components_.shape[0]\n",
    "initial_feature_names = X_train.columns\n",
    "most_important = [np.abs(model.components_[i]).argmax() for i in range(n_pcs)]\n",
    "most_important_names = [initial_feature_names[most_important[i]] for i in range(n_pcs)]\n",
    "zipped_feats = zip(most_important_names, pipe.steps[2][1].feature_importances_)\n",
    "zipped_feats = sorted(zipped_feats, key=lambda x: x[1], reverse=True)\n",
    "features, importances = zip(*zipped_feats)\n",
    "top_features = features[:20]\n",
    "top_importances = importances[:20]\n",
    "\n",
    "fig, ax = plt.subplots(figsize=(15,9))\n",
    "plt.title('Feature Importances - PCA')\n",
    "plt.barh(range(len(top_importances)), top_importances, color='b', align='center')\n",
    "plt.yticks(range(len(top_importances)), top_features)\n",
    "plt.xlabel('Relative Importance')\n",
    "plt.show()"
   ]
  },
  {
   "cell_type": "code",
   "execution_count": 28,
   "metadata": {},
   "outputs": [
    {
     "data": {
      "text/plain": [
       "0.09780837765593131"
      ]
     },
     "execution_count": 28,
     "metadata": {},
     "output_type": "execute_result"
    }
   ],
   "source": [
    "pipe.score(X_train,y_train)\n",
    "# pipe.score(X_test_trans,y_test)"
   ]
  },
  {
   "cell_type": "code",
   "execution_count": 29,
   "metadata": {},
   "outputs": [
    {
     "name": "stdout",
     "output_type": "stream",
     "text": [
      "RMSE on train data:  0.03520961860560871\n"
     ]
    }
   ],
   "source": [
    "# predict the target on the training and test data\n",
    "from sklearn.metrics import mean_squared_error\n",
    "predict_train = pipe.predict(X_train)\n",
    "# predict_test = pipe.predict(X_test)\n",
    "\n",
    "# Root Mean Squared Error on the train and test data\n",
    "print('RMSE on train data: ', mean_squared_error(y_train, predict_train)**(0.5))\n",
    "# print('RMSE on test data: ',  mean_squared_error(y_test, predict_test)**(0.5))"
   ]
  },
  {
   "cell_type": "code",
   "execution_count": 30,
   "metadata": {},
   "outputs": [
    {
     "data": {
      "text/plain": [
       "array([[7.09000000e+02, 0.00000000e+00, 1.40000000e+02, ...,\n",
       "        1.86986096e-04, 4.32574863e-04, 1.09807130e-03],\n",
       "       [7.09000000e+02, 0.00000000e+00, 1.40000000e+02, ...,\n",
       "        1.38981633e-04, 2.99238777e-04, 1.12345343e-03],\n",
       "       [7.09000000e+02, 0.00000000e+00, 1.40000000e+02, ...,\n",
       "        1.26924410e-04, 2.83820865e-04, 1.16004937e-03],\n",
       "       ...,\n",
       "       [9.54000000e+02, 2.00000000e+00, 1.25100000e+03, ...,\n",
       "        3.58601043e-04, 4.57927876e-04, 1.48654457e-03],\n",
       "       [9.54000000e+02, 2.00000000e+00, 1.25100000e+03, ...,\n",
       "        1.10915714e-04, 4.57927876e-04, 9.95088333e-04],\n",
       "       [9.54000000e+02, 2.00000000e+00, 1.25100000e+03, ...,\n",
       "        9.14027003e-05, 3.98198153e-04, 1.04561773e-03]])"
      ]
     },
     "execution_count": 30,
     "metadata": {},
     "output_type": "execute_result"
    }
   ],
   "source": [
    "X_transformed"
   ]
  },
  {
   "cell_type": "markdown",
   "metadata": {},
   "source": [
    "### PCA - only continuous vars, no normalization\n",
    "Through non normalization, we can find potential outliers, i.e. variables that have extreme values and exclude them."
   ]
  },
  {
   "cell_type": "code",
   "execution_count": 74,
   "metadata": {},
   "outputs": [
    {
     "name": "stdout",
     "output_type": "stream",
     "text": [
      "Number features: 7\tTotal Variance Explained: 0.9794883021146885\n"
     ]
    }
   ],
   "source": [
    "# https://medium.com/@andymdc31/using-pca-in-a-machine-learning-pipeline-b6fe3492b1b9\n",
    "X_num = df_no4[df_no4.columns.difference(['market_cap_5','id','name','repdte','eq','eqtot','net_asset','zip','mutual','cert',\\\n",
    "                              'County','State','city','specgrp','rssdhcr','docket','FIPS_Code','specgrp.1'])] \n",
    "y_num = df_no4['market_cap_5']\n",
    "# scaler = StandardScaler()\n",
    "# X_scaled = scaler.fit_transform(X)\n",
    "pca = PCA()\n",
    "X_pca2 = pca.fit_transform(X_num)\n",
    "total_explained_variance = pca.explained_variance_ratio_.cumsum()\n",
    "n_over_95 = len(total_explained_variance[total_explained_variance >= .95])\n",
    "n_to_reach_95 = X.shape[1] - n_over_95 + 1\n",
    "print('Number features: {}\\tTotal Variance Explained: {}'.format(n_to_reach_95, total_explained_variance[n_to_reach_95-1]))"
   ]
  },
  {
   "cell_type": "code",
   "execution_count": 75,
   "metadata": {},
   "outputs": [
    {
     "name": "stderr",
     "output_type": "stream",
     "text": [
      "/anaconda/envs/azureml_py36_automl/lib/python3.6/site-packages/sklearn/ensemble/forest.py:246: FutureWarning: The default value of n_estimators will change from 10 in version 0.20 to 100 in 0.22.\n",
      "  \"10 in version 0.20 to 100 in 0.22.\", FutureWarning)\n"
     ]
    },
    {
     "data": {
      "text/plain": [
       "Pipeline(memory=None,\n",
       "     steps=[('pca', PCA(copy=True, iterated_power='auto', n_components=7, random_state=None,\n",
       "  svd_solver='auto', tol=0.0, whiten=False)), ('cl', RandomForestRegressor(bootstrap=True, criterion='mse', max_depth=None,\n",
       "           max_features='auto', max_leaf_nodes=None,\n",
       "           min_impurity_decrease=0....ators=10, n_jobs=None,\n",
       "           oob_score=False, random_state=None, verbose=0, warm_start=False))])"
      ]
     },
     "execution_count": 75,
     "metadata": {},
     "output_type": "execute_result"
    }
   ],
   "source": [
    "pipe2 = Pipeline([('pca', PCA(n_components=n_to_reach_95)),\n",
    " ('cl', RandomForestRegressor())])\n",
    "X_train2, X_test2, y_train2, y_test2 = train_test_split(X_num, y_num, test_size = 0.2, random_state=0)\n",
    "pipe2.fit(X_train2,y_train2)"
   ]
  },
  {
   "cell_type": "code",
   "execution_count": 76,
   "metadata": {},
   "outputs": [
    {
     "data": {
      "image/png": "[encoded data removed]",
      "text/plain": [
       "<Figure size 1080x648 with 1 Axes>"
      ]
     },
     "metadata": {
      "needs_background": "light"
     },
     "output_type": "display_data"
    }
   ],
   "source": [
    "model2 = pipe2.steps[0][1]\n",
    "n_pcs= model2.components_.shape[0]\n",
    "initial_feature_names = X_train2.columns\n",
    "most_important = [np.abs(model2.components_[i]).argmax() for i in range(n_pcs)]\n",
    "most_important_names = [initial_feature_names[most_important[i]] for i in range(n_pcs)]\n",
    "zipped_feats = zip(most_important_names, pipe2.steps[1][1].feature_importances_)\n",
    "zipped_feats = sorted(zipped_feats, key=lambda x: x[1], reverse=True)\n",
    "features, importances = zip(*zipped_feats)\n",
    "top_features = features[:20]\n",
    "top_importances = importances[:20]\n",
    "\n",
    "fig, ax = plt.subplots(figsize=(15,9))\n",
    "plt.title('Feature Importances')\n",
    "plt.barh(range(len(top_importances)), top_importances, color='b', align='center')\n",
    "plt.yticks(range(len(top_importances)), top_features)\n",
    "plt.xlabel('Relative Importance')\n",
    "plt.show() # "
   ]
  },
  {
   "cell_type": "code",
   "execution_count": 77,
   "metadata": {},
   "outputs": [
    {
     "data": {
      "text/plain": [
       "('scoov3y', 'iderncvr', 'lnresncr', 'elnantr', 'frepo', 'scfmn', 'scha')"
      ]
     },
     "execution_count": 77,
     "metadata": {},
     "output_type": "execute_result"
    }
   ],
   "source": [
    "top_features"
   ]
  },
  {
   "cell_type": "code",
   "execution_count": 83,
   "metadata": {},
   "outputs": [
    {
     "name": "stdout",
     "output_type": "stream",
     "text": [
      "             scoov3y       iderncvr       lnresncr        elnantr  \\\n",
      "count  150899.000000  150899.000000  150899.000000  150899.000000   \n",
      "mean        0.383149      43.920096     500.691226      83.640087   \n",
      "std        89.222386     148.460327    1612.926828    1140.225387   \n",
      "min        -1.000000   -2212.000000       0.000000  -10615.384620   \n",
      "25%        -0.036606       7.615734      73.094609       0.000000   \n",
      "50%        -0.036606       9.548475     118.858268      80.178174   \n",
      "75%        -0.036606      21.663366     289.256495     150.000000   \n",
      "max     34177.000000    3180.000000   23750.000000   10714.285710   \n",
      "\n",
      "               frepo          scfmn           scha  \n",
      "count  150899.000000  150899.000000  150899.000000  \n",
      "mean        1.848926       1.007238       0.573823  \n",
      "std        98.310887      77.716971     177.986494  \n",
      "min        -1.000000      -1.000000      -2.273116  \n",
      "25%        -0.078453      -0.066040      -0.006135  \n",
      "50%        -0.078453      -0.043190      -0.006135  \n",
      "75%        -0.078453      -0.024750      -0.006135  \n",
      "max     24025.000000   16098.000000   68970.000000  \n"
     ]
    },
    {
     "data": {
      "text/plain": [
       "<matplotlib.axes._subplots.AxesSubplot at 0x7fd6d9af52e8>"
      ]
     },
     "execution_count": 83,
     "metadata": {},
     "output_type": "execute_result"
    },
    {
     "data": {
      "image/png": "[encoded data removed]",
      "text/plain": [
       "<Figure size 1296x720 with 1 Axes>"
      ]
     },
     "metadata": {
      "needs_background": "light"
     },
     "output_type": "display_data"
    }
   ],
   "source": [
    "print(df_no4[[i for i in top_features]].describe())\n",
    "fig, ax = plt.subplots(figsize=(18,10))\n",
    "df_no4[[i for i in top_features[:-1]]].plot(ax=ax)\n"
   ]
  },
  {
   "cell_type": "code",
   "execution_count": 84,
   "metadata": {},
   "outputs": [
    {
     "data": {
      "image/png": "[encoded data removed]",
      "text/plain": [
       "<Figure size 1296x1080 with 6 Axes>"
      ]
     },
     "metadata": {
      "needs_background": "light"
     },
     "output_type": "display_data"
    }
   ],
   "source": [
    "nrow=3\n",
    "ncol=2\n",
    "fig, axes = plt.subplots(nrow,ncol,figsize=(18,15))\n",
    "count=0\n",
    "top_features_values = df_no4[[i for i in top_features]]\n",
    "\n",
    "for r in range(nrow):\n",
    "    for c in range(ncol):\n",
    "        top_features_values.iloc[:,count].plot(ax=axes[r,c])\n",
    "        axes[r,c].set_title(top_features[count])\n",
    "        count +=1"
   ]
  },
  {
   "cell_type": "markdown",
   "metadata": {},
   "source": [
    "### Outliers by PCA"
   ]
  },
  {
   "cell_type": "markdown",
   "metadata": {},
   "source": [
    "#### Mean +- 3std"
   ]
  },
  {
   "cell_type": "code",
   "execution_count": 46,
   "metadata": {},
   "outputs": [],
   "source": [
    "# mean + 3std\n",
    "import numpy as np\n",
    "import matplotlib.pyplot as plt\n",
    "\n",
    "def find_anomalies(random_data):\n",
    "    anomalies = []\n",
    "    # Set upper and lower limit to 3 standard deviation\n",
    "    random_data_std = std(random_data)\n",
    "    random_data_mean = mean(random_data)\n",
    "    anomaly_cut_off = random_data_std * 3\n",
    "    \n",
    "    lower_limit  = random_data_mean - anomaly_cut_off \n",
    "    upper_limit = random_data_mean + anomaly_cut_off\n",
    "    print(lower_limit)\n",
    "    # Generate outliers\n",
    "    for outlier in random_data:\n",
    "        if outlier > upper_limit or outlier < lower_limit:\n",
    "            anomalies.append(outlier)\n",
    "    return anomalies\n",
    "\n",
    "def label_anomalies(random_data):\n",
    "    anomalies = []\n",
    "    # Set upper and lower limit to 3 standard deviation\n",
    "    random_data_std = std(random_data)\n",
    "    random_data_mean = mean(random_data)\n",
    "    anomaly_cut_off = random_data_std * 3\n",
    "    \n",
    "    lower_limit  = random_data_mean - anomaly_cut_off \n",
    "    upper_limit = random_data_mean + anomaly_cut_off\n",
    "    print(lower_limit)\n",
    "    # Generate outliers\n",
    "    for outlier in random_data:\n",
    "        if outlier > upper_limit or outlier < lower_limit:\n",
    "            label = 1\n",
    "            anomalies.append(label)\n",
    "        else:\n",
    "            label = 0\n",
    "            anomalies.append(label)\n",
    "    return anomalies"
   ]
  },
  {
   "cell_type": "code",
   "execution_count": 94,
   "metadata": {},
   "outputs": [],
   "source": [
    "# list all variables with outliers\n",
    "outliers_features = ()\n",
    "outliers_features =top_features + (\"eeffr\",)"
   ]
  },
  {
   "cell_type": "code",
   "execution_count": 98,
   "metadata": {},
   "outputs": [
    {
     "name": "stdout",
     "output_type": "stream",
     "text": [
      "-3085.3041093637116\n",
      "iderncvr outliers:  DescribeResult(nobs=209, minmax=(-3485.0, 346414.0), mean=9213.033372100479, variance=707684376.1711457, skewness=10.487079469209139, kurtosis=126.65310258381663)\n",
      "-17.345450650499636\n",
      "lnag outliers:  DescribeResult(nobs=93, minmax=(17.777777777777782, 1822.5), mean=95.10794159233869, variance=47033.204787689254, skewness=6.196381209073239, kurtosis=45.28965102258725)\n",
      "-18.435592085564583\n",
      "crreres outliers:  DescribeResult(nobs=848, minmax=(19.5, 971.0), mean=52.11594419193883, variance=4209.699659616433, skewness=7.111186222889937, kurtosis=76.00688932068097)\n",
      "-161.66130599961167\n",
      "scgty outliers:  DescribeResult(nobs=58, minmax=(163.66666666666666, 15188.0), mean=1468.6934667683556, variance=5696924.915779539, skewness=3.914073404847658, kurtosis=19.200568652238484)\n",
      "-0.12404811081538274\n",
      "liabeq outliers:  DescribeResult(nobs=2076, minmax=(-0.8911091747520535, 1.7608777699897558), mean=0.12434735806495949, variance=0.04691459773541424, skewness=0.49730081590778236, kurtosis=4.999912602814652)\n",
      "-7.077188242198263\n",
      "roa outliers:  DescribeResult(nobs=139, minmax=(-30.36840873, 331.488091), mean=34.01043955905755, variance=6102.587007256883, skewness=2.317587930168643, kurtosis=4.33716421950199)\n",
      "-60.75746542273573\n",
      "idnccir outliers:  DescribeResult(nobs=289, minmax=(62.435850596004975, 3627.4991488465057), mean=249.13572497534986, variance=158396.72763758243, skewness=5.311871734705709, kurtosis=35.913107930893794)\n",
      "-0.1603433410246598\n",
      "liab outliers:  DescribeResult(nobs=1527, minmax=(-0.9917911617801868, 7.037602459016393), mean=0.18826563143009706, variance=0.13624205317022964, skewness=6.205642156867628, kurtosis=96.35079406381743)\n",
      "-2.002749836392084\n",
      "nonix outliers:  DescribeResult(nobs=81, minmax=(2.59375, 144.25), mean=6.816154189448089, variance=258.7616352656815, skewness=8.046662531365694, kurtosis=68.76444440224553)\n",
      "-0.07541721784797417\n",
      "rbc1aaj outliers:  DescribeResult(nobs=2288, minmax=(-2.642365546, 94.77301326), mean=29.31090239892002, variance=106.0808901264196, skewness=3.435417798965998, kurtosis=14.63162869205565)\n",
      "-13.331246017421009\n",
      "LNRECNOT outliers:  DescribeResult(nobs=248, minmax=(13.666666666666664, 839.3333333333335), mean=58.771466942551484, variance=8930.916588742513, skewness=4.5329380073087515, kurtosis=26.117441699711986)\n",
      "-17.510338313279895\n",
      "idothnii outliers:  DescribeResult(nobs=435, minmax=(-854.0, 758.0), mean=8.204532828361742, variance=11916.15491215735, skewness=-1.1763851185872338, kurtosis=23.012991434783075)\n",
      "-0.19227484783280177\n",
      "ernast outliers:  DescribeResult(nobs=819, minmax=(-0.9955553284969858, 18.96551724137931), mean=0.23069098298243976, variance=0.5188640706442141, skewness=21.562594268411807, kurtosis=560.7333023717468)\n",
      "-62.73766478873791\n",
      "lnlssale outliers:  DescribeResult(nobs=44, minmax=(64.3, 7381.070763500931), mean=509.63009475475695, variance=1303675.808199343, skewness=5.382812495998354, kurtosis=31.983649847241765)\n",
      "-18.163817649867415\n",
      "RSNRES outliers:  DescribeResult(nobs=100, minmax=(18.358974358974358, 1724.5), mean=96.14606380685966, variance=47632.798549212675, skewness=5.3313042760403535, kurtosis=33.66949030809952)\n",
      "-7.1043821507662805\n",
      "noijy outliers:  DescribeResult(nobs=138, minmax=(-30.36840873, 331.488091), mean=34.35249841652173, variance=6130.755685209249, skewness=2.3070062036486623, kurtosis=4.282038370660828)\n",
      "-21.52127270499824\n",
      "idscod outliers:  DescribeResult(nobs=37, minmax=(21.75, 2004.9615384615383), mean=242.33100167710296, variance=159453.1432229738, skewness=3.1776507277918933, kurtosis=11.241459178767613)\n",
      "-0.18217965187273494\n",
      "iddepinr outliers:  DescribeResult(nobs=1118, minmax=(-0.8830954575910773, 11.236728369462789), mean=0.0327108766768465, variance=0.3346865833131175, skewness=12.37502586085835, kurtosis=222.84087092337964)\n",
      "-5.095746993597909\n",
      "astempm outliers:  DescribeResult(nobs=922, minmax=(14.87580952, 256.4966667), mean=26.88857845569414, variance=763.749353004797, skewness=4.159219836537805, kurtosis=21.22734349030049)\n",
      "-69.60607717328676\n",
      "eeffr outliers:  DescribeResult(nobs=336, minmax=(-9680.821918, 7566.666667), mean=408.5588496464583, variance=781696.5000476575, skewness=-1.9128864531014778, kurtosis=67.10008577711677)\n",
      "-69.60607717328676\n",
      "eeffr outliers:  DescribeResult(nobs=336, minmax=(-9680.821918, 7566.666667), mean=408.5588496464583, variance=781696.5000476575, skewness=-1.9128864531014778, kurtosis=67.10008577711677)\n"
     ]
    }
   ],
   "source": [
    "import scipy.stats\n",
    "for i in outliers_features:\n",
    "    print(i,\"outliers: \",scipy.stats.describe(find_anomalies(df_no3[i]), ddof=1, bias=False))"
   ]
  },
  {
   "cell_type": "code",
   "execution_count": 49,
   "metadata": {},
   "outputs": [
    {
     "name": "stdout",
     "output_type": "stream",
     "text": [
      "-1799.152894169246\n",
      "-3085.3041093637116\n"
     ]
    },
    {
     "name": "stderr",
     "output_type": "stream",
     "text": [
      "/anaconda/envs/azureml_py36_automl/lib/python3.6/site-packages/ipykernel_launcher.py:4: SettingWithCopyWarning: \n",
      "A value is trying to be set on a copy of a slice from a DataFrame.\n",
      "Try using .loc[row_indexer,col_indexer] = value instead\n",
      "\n",
      "See the caveats in the documentation: http://pandas.pydata.org/pandas-docs/stable/indexing.html#indexing-view-versus-copy\n",
      "  after removing the cwd from sys.path.\n"
     ]
    },
    {
     "name": "stdout",
     "output_type": "stream",
     "text": [
      "-21998.928355159667\n",
      "-10620.416937141292\n",
      "-1788.029068665504\n",
      "-55180665.631297566\n",
      "-69.60607717328676\n"
     ]
    }
   ],
   "source": [
    "# add outlier columns to df\n",
    "df_no4 = df_no3\n",
    "for i in outliers_features:\n",
    "    df_no4[\"%s_outlier\" %i] = label_anomalies(df_no3[i])"
   ]
  },
  {
   "cell_type": "code",
   "execution_count": 50,
   "metadata": {},
   "outputs": [],
   "source": [
    "# df_no3.iloc[ :, -7:]"
   ]
  },
  {
   "cell_type": "code",
   "execution_count": 51,
   "metadata": {},
   "outputs": [],
   "source": [
    "# construct new df without outliers\n",
    "basename = \"df_no4\"\n",
    "result = [\"{}_{}\".format(basename, i) for i in range(len(outliers_features))]\n",
    "for i in range(len(outliers_features)):\n",
    "    outlier = outliers_features[i]\n",
    "    if i == 0:\n",
    "        result[i] = df_no4[df_no4[\"%s_outlier\" %outlier]==0]\n",
    "    else: \n",
    "        result[i] = result[i-1][result[i-1][\"%s_outlier\" %outlier]==0]\n",
    "    "
   ]
  },
  {
   "cell_type": "code",
   "execution_count": 60,
   "metadata": {},
   "outputs": [],
   "source": [
    "df_no4_out = pd.DataFrame(result[-1],columns=df_no4.columns)"
   ]
  },
  {
   "cell_type": "code",
   "execution_count": 61,
   "metadata": {},
   "outputs": [
    {
     "data": {
      "text/html": [
       "<div>\n",
       "<style scoped>\n",
       "    .dataframe tbody tr th:only-of-type {\n",
       "        vertical-align: middle;\n",
       "    }\n",
       "\n",
       "    .dataframe tbody tr th {\n",
       "        vertical-align: top;\n",
       "    }\n",
       "\n",
       "    .dataframe thead th {\n",
       "        text-align: right;\n",
       "    }\n",
       "</style>\n",
       "<table border=\"1\" class=\"dataframe\">\n",
       "  <thead>\n",
       "    <tr style=\"text-align: right;\">\n",
       "      <th></th>\n",
       "      <th>asset</th>\n",
       "      <th>ernast</th>\n",
       "      <th>intan</th>\n",
       "      <th>OALIFINS</th>\n",
       "      <th>TIMMA</th>\n",
       "      <th>TCSNMNUM</th>\n",
       "      <th>tract</th>\n",
       "      <th>TPMANUM</th>\n",
       "      <th>TPNMNUM</th>\n",
       "      <th>TTNANUM</th>\n",
       "      <th>...</th>\n",
       "      <th>specgrp.1</th>\n",
       "      <th>FIPS_Code</th>\n",
       "      <th>state_num</th>\n",
       "      <th>iddivnir_outlier</th>\n",
       "      <th>iderncvr_outlier</th>\n",
       "      <th>lnresncr_outlier</th>\n",
       "      <th>elnantr_outlier</th>\n",
       "      <th>scptov15_outlier</th>\n",
       "      <th>PC_Non_US_Citizen_outlier</th>\n",
       "      <th>eeffr_outlier</th>\n",
       "    </tr>\n",
       "  </thead>\n",
       "  <tbody>\n",
       "    <tr>\n",
       "      <th>count</th>\n",
       "      <td>150899.000000</td>\n",
       "      <td>150899.000000</td>\n",
       "      <td>150899.000000</td>\n",
       "      <td>150899.000000</td>\n",
       "      <td>150899.000000</td>\n",
       "      <td>150899.000000</td>\n",
       "      <td>150899.000000</td>\n",
       "      <td>150899.000000</td>\n",
       "      <td>150899.000000</td>\n",
       "      <td>150899.000000</td>\n",
       "      <td>...</td>\n",
       "      <td>150899.000000</td>\n",
       "      <td>150899.000000</td>\n",
       "      <td>150899.000000</td>\n",
       "      <td>150899.0</td>\n",
       "      <td>150899.0</td>\n",
       "      <td>150899.0</td>\n",
       "      <td>150899.0</td>\n",
       "      <td>150899.0</td>\n",
       "      <td>150899.0</td>\n",
       "      <td>150899.0</td>\n",
       "    </tr>\n",
       "    <tr>\n",
       "      <th>mean</th>\n",
       "      <td>0.009786</td>\n",
       "      <td>0.010518</td>\n",
       "      <td>0.028085</td>\n",
       "      <td>0.034952</td>\n",
       "      <td>-0.006952</td>\n",
       "      <td>-0.025710</td>\n",
       "      <td>-0.001107</td>\n",
       "      <td>-0.092393</td>\n",
       "      <td>-0.072054</td>\n",
       "      <td>-0.090786</td>\n",
       "      <td>...</td>\n",
       "      <td>4.202420</td>\n",
       "      <td>29138.866195</td>\n",
       "      <td>19.938661</td>\n",
       "      <td>0.0</td>\n",
       "      <td>0.0</td>\n",
       "      <td>0.0</td>\n",
       "      <td>0.0</td>\n",
       "      <td>0.0</td>\n",
       "      <td>0.0</td>\n",
       "      <td>0.0</td>\n",
       "    </tr>\n",
       "    <tr>\n",
       "      <th>std</th>\n",
       "      <td>0.043767</td>\n",
       "      <td>0.046499</td>\n",
       "      <td>2.668791</td>\n",
       "      <td>2.024435</td>\n",
       "      <td>4.044141</td>\n",
       "      <td>2.572722</td>\n",
       "      <td>0.033249</td>\n",
       "      <td>0.174815</td>\n",
       "      <td>0.168633</td>\n",
       "      <td>0.239057</td>\n",
       "      <td>...</td>\n",
       "      <td>1.848799</td>\n",
       "      <td>14375.323668</td>\n",
       "      <td>11.192222</td>\n",
       "      <td>0.0</td>\n",
       "      <td>0.0</td>\n",
       "      <td>0.0</td>\n",
       "      <td>0.0</td>\n",
       "      <td>0.0</td>\n",
       "      <td>0.0</td>\n",
       "      <td>0.0</td>\n",
       "    </tr>\n",
       "    <tr>\n",
       "      <th>min</th>\n",
       "      <td>-0.638523</td>\n",
       "      <td>-0.645436</td>\n",
       "      <td>-1.000000</td>\n",
       "      <td>-1.000000</td>\n",
       "      <td>-1.000000</td>\n",
       "      <td>-1.000000</td>\n",
       "      <td>-1.000000</td>\n",
       "      <td>-1.000000</td>\n",
       "      <td>-1.000000</td>\n",
       "      <td>-1.000000</td>\n",
       "      <td>...</td>\n",
       "      <td>2.000000</td>\n",
       "      <td>1001.000000</td>\n",
       "      <td>1.000000</td>\n",
       "      <td>0.0</td>\n",
       "      <td>0.0</td>\n",
       "      <td>0.0</td>\n",
       "      <td>0.0</td>\n",
       "      <td>0.0</td>\n",
       "      <td>0.0</td>\n",
       "      <td>0.0</td>\n",
       "    </tr>\n",
       "    <tr>\n",
       "      <th>25%</th>\n",
       "      <td>-0.011868</td>\n",
       "      <td>-0.012400</td>\n",
       "      <td>-0.003764</td>\n",
       "      <td>0.006834</td>\n",
       "      <td>-0.011768</td>\n",
       "      <td>-0.021739</td>\n",
       "      <td>0.000000</td>\n",
       "      <td>-0.062500</td>\n",
       "      <td>-0.056604</td>\n",
       "      <td>-0.060773</td>\n",
       "      <td>...</td>\n",
       "      <td>2.000000</td>\n",
       "      <td>18177.000000</td>\n",
       "      <td>11.000000</td>\n",
       "      <td>0.0</td>\n",
       "      <td>0.0</td>\n",
       "      <td>0.0</td>\n",
       "      <td>0.0</td>\n",
       "      <td>0.0</td>\n",
       "      <td>0.0</td>\n",
       "      <td>0.0</td>\n",
       "    </tr>\n",
       "    <tr>\n",
       "      <th>50%</th>\n",
       "      <td>0.006579</td>\n",
       "      <td>0.007244</td>\n",
       "      <td>-0.003764</td>\n",
       "      <td>0.007668</td>\n",
       "      <td>-0.011768</td>\n",
       "      <td>-0.021739</td>\n",
       "      <td>0.000000</td>\n",
       "      <td>-0.062500</td>\n",
       "      <td>-0.056604</td>\n",
       "      <td>-0.060773</td>\n",
       "      <td>...</td>\n",
       "      <td>4.000000</td>\n",
       "      <td>27129.000000</td>\n",
       "      <td>21.000000</td>\n",
       "      <td>0.0</td>\n",
       "      <td>0.0</td>\n",
       "      <td>0.0</td>\n",
       "      <td>0.0</td>\n",
       "      <td>0.0</td>\n",
       "      <td>0.0</td>\n",
       "      <td>0.0</td>\n",
       "    </tr>\n",
       "    <tr>\n",
       "      <th>75%</th>\n",
       "      <td>0.027135</td>\n",
       "      <td>0.029032</td>\n",
       "      <td>-0.003764</td>\n",
       "      <td>0.007668</td>\n",
       "      <td>-0.011768</td>\n",
       "      <td>-0.021739</td>\n",
       "      <td>0.000000</td>\n",
       "      <td>-0.062500</td>\n",
       "      <td>-0.056604</td>\n",
       "      <td>-0.060773</td>\n",
       "      <td>...</td>\n",
       "      <td>5.000000</td>\n",
       "      <td>40133.000000</td>\n",
       "      <td>28.000000</td>\n",
       "      <td>0.0</td>\n",
       "      <td>0.0</td>\n",
       "      <td>0.0</td>\n",
       "      <td>0.0</td>\n",
       "      <td>0.0</td>\n",
       "      <td>0.0</td>\n",
       "      <td>0.0</td>\n",
       "    </tr>\n",
       "    <tr>\n",
       "      <th>max</th>\n",
       "      <td>1.760803</td>\n",
       "      <td>1.902488</td>\n",
       "      <td>757.000000</td>\n",
       "      <td>457.142857</td>\n",
       "      <td>1006.764706</td>\n",
       "      <td>963.497041</td>\n",
       "      <td>0.000000</td>\n",
       "      <td>5.250000</td>\n",
       "      <td>18.000000</td>\n",
       "      <td>50.329457</td>\n",
       "      <td>...</td>\n",
       "      <td>9.000000</td>\n",
       "      <td>56045.000000</td>\n",
       "      <td>49.000000</td>\n",
       "      <td>0.0</td>\n",
       "      <td>0.0</td>\n",
       "      <td>0.0</td>\n",
       "      <td>0.0</td>\n",
       "      <td>0.0</td>\n",
       "      <td>0.0</td>\n",
       "      <td>0.0</td>\n",
       "    </tr>\n",
       "  </tbody>\n",
       "</table>\n",
       "<p>8 rows × 345 columns</p>\n",
       "</div>"
      ],
      "text/plain": [
       "               asset         ernast          intan       OALIFINS  \\\n",
       "count  150899.000000  150899.000000  150899.000000  150899.000000   \n",
       "mean        0.009786       0.010518       0.028085       0.034952   \n",
       "std         0.043767       0.046499       2.668791       2.024435   \n",
       "min        -0.638523      -0.645436      -1.000000      -1.000000   \n",
       "25%        -0.011868      -0.012400      -0.003764       0.006834   \n",
       "50%         0.006579       0.007244      -0.003764       0.007668   \n",
       "75%         0.027135       0.029032      -0.003764       0.007668   \n",
       "max         1.760803       1.902488     757.000000     457.142857   \n",
       "\n",
       "               TIMMA       TCSNMNUM          tract        TPMANUM  \\\n",
       "count  150899.000000  150899.000000  150899.000000  150899.000000   \n",
       "mean       -0.006952      -0.025710      -0.001107      -0.092393   \n",
       "std         4.044141       2.572722       0.033249       0.174815   \n",
       "min        -1.000000      -1.000000      -1.000000      -1.000000   \n",
       "25%        -0.011768      -0.021739       0.000000      -0.062500   \n",
       "50%        -0.011768      -0.021739       0.000000      -0.062500   \n",
       "75%        -0.011768      -0.021739       0.000000      -0.062500   \n",
       "max      1006.764706     963.497041       0.000000       5.250000   \n",
       "\n",
       "             TPNMNUM        TTNANUM      ...            specgrp.1  \\\n",
       "count  150899.000000  150899.000000      ...        150899.000000   \n",
       "mean       -0.072054      -0.090786      ...             4.202420   \n",
       "std         0.168633       0.239057      ...             1.848799   \n",
       "min        -1.000000      -1.000000      ...             2.000000   \n",
       "25%        -0.056604      -0.060773      ...             2.000000   \n",
       "50%        -0.056604      -0.060773      ...             4.000000   \n",
       "75%        -0.056604      -0.060773      ...             5.000000   \n",
       "max        18.000000      50.329457      ...             9.000000   \n",
       "\n",
       "           FIPS_Code      state_num  iddivnir_outlier  iderncvr_outlier  \\\n",
       "count  150899.000000  150899.000000          150899.0          150899.0   \n",
       "mean    29138.866195      19.938661               0.0               0.0   \n",
       "std     14375.323668      11.192222               0.0               0.0   \n",
       "min      1001.000000       1.000000               0.0               0.0   \n",
       "25%     18177.000000      11.000000               0.0               0.0   \n",
       "50%     27129.000000      21.000000               0.0               0.0   \n",
       "75%     40133.000000      28.000000               0.0               0.0   \n",
       "max     56045.000000      49.000000               0.0               0.0   \n",
       "\n",
       "       lnresncr_outlier  elnantr_outlier  scptov15_outlier  \\\n",
       "count          150899.0         150899.0          150899.0   \n",
       "mean                0.0              0.0               0.0   \n",
       "std                 0.0              0.0               0.0   \n",
       "min                 0.0              0.0               0.0   \n",
       "25%                 0.0              0.0               0.0   \n",
       "50%                 0.0              0.0               0.0   \n",
       "75%                 0.0              0.0               0.0   \n",
       "max                 0.0              0.0               0.0   \n",
       "\n",
       "       PC_Non_US_Citizen_outlier  eeffr_outlier  \n",
       "count                   150899.0       150899.0  \n",
       "mean                         0.0            0.0  \n",
       "std                          0.0            0.0  \n",
       "min                          0.0            0.0  \n",
       "25%                          0.0            0.0  \n",
       "50%                          0.0            0.0  \n",
       "75%                          0.0            0.0  \n",
       "max                          0.0            0.0  \n",
       "\n",
       "[8 rows x 345 columns]"
      ]
     },
     "execution_count": 61,
     "metadata": {},
     "output_type": "execute_result"
    }
   ],
   "source": [
    "df_no4_out.describe()\n",
    "# 153964, cut 3000+ rows"
   ]
  },
  {
   "cell_type": "code",
   "execution_count": 62,
   "metadata": {},
   "outputs": [
    {
     "data": {
      "text/html": [
       "<div>\n",
       "<style scoped>\n",
       "    .dataframe tbody tr th:only-of-type {\n",
       "        vertical-align: middle;\n",
       "    }\n",
       "\n",
       "    .dataframe tbody tr th {\n",
       "        vertical-align: top;\n",
       "    }\n",
       "\n",
       "    .dataframe thead th {\n",
       "        text-align: right;\n",
       "    }\n",
       "</style>\n",
       "<table border=\"1\" class=\"dataframe\">\n",
       "  <thead>\n",
       "    <tr style=\"text-align: right;\">\n",
       "      <th></th>\n",
       "      <th>iddivnir_outlier</th>\n",
       "      <th>iderncvr_outlier</th>\n",
       "      <th>lnresncr_outlier</th>\n",
       "      <th>elnantr_outlier</th>\n",
       "      <th>scptov15_outlier</th>\n",
       "      <th>PC_Non_US_Citizen_outlier</th>\n",
       "      <th>eeffr_outlier</th>\n",
       "    </tr>\n",
       "  </thead>\n",
       "  <tbody>\n",
       "    <tr>\n",
       "      <th>count</th>\n",
       "      <td>150899.0</td>\n",
       "      <td>150899.0</td>\n",
       "      <td>150899.0</td>\n",
       "      <td>150899.0</td>\n",
       "      <td>150899.0</td>\n",
       "      <td>150899.0</td>\n",
       "      <td>150899.0</td>\n",
       "    </tr>\n",
       "    <tr>\n",
       "      <th>mean</th>\n",
       "      <td>0.0</td>\n",
       "      <td>0.0</td>\n",
       "      <td>0.0</td>\n",
       "      <td>0.0</td>\n",
       "      <td>0.0</td>\n",
       "      <td>0.0</td>\n",
       "      <td>0.0</td>\n",
       "    </tr>\n",
       "    <tr>\n",
       "      <th>std</th>\n",
       "      <td>0.0</td>\n",
       "      <td>0.0</td>\n",
       "      <td>0.0</td>\n",
       "      <td>0.0</td>\n",
       "      <td>0.0</td>\n",
       "      <td>0.0</td>\n",
       "      <td>0.0</td>\n",
       "    </tr>\n",
       "    <tr>\n",
       "      <th>min</th>\n",
       "      <td>0.0</td>\n",
       "      <td>0.0</td>\n",
       "      <td>0.0</td>\n",
       "      <td>0.0</td>\n",
       "      <td>0.0</td>\n",
       "      <td>0.0</td>\n",
       "      <td>0.0</td>\n",
       "    </tr>\n",
       "    <tr>\n",
       "      <th>25%</th>\n",
       "      <td>0.0</td>\n",
       "      <td>0.0</td>\n",
       "      <td>0.0</td>\n",
       "      <td>0.0</td>\n",
       "      <td>0.0</td>\n",
       "      <td>0.0</td>\n",
       "      <td>0.0</td>\n",
       "    </tr>\n",
       "    <tr>\n",
       "      <th>50%</th>\n",
       "      <td>0.0</td>\n",
       "      <td>0.0</td>\n",
       "      <td>0.0</td>\n",
       "      <td>0.0</td>\n",
       "      <td>0.0</td>\n",
       "      <td>0.0</td>\n",
       "      <td>0.0</td>\n",
       "    </tr>\n",
       "    <tr>\n",
       "      <th>75%</th>\n",
       "      <td>0.0</td>\n",
       "      <td>0.0</td>\n",
       "      <td>0.0</td>\n",
       "      <td>0.0</td>\n",
       "      <td>0.0</td>\n",
       "      <td>0.0</td>\n",
       "      <td>0.0</td>\n",
       "    </tr>\n",
       "    <tr>\n",
       "      <th>max</th>\n",
       "      <td>0.0</td>\n",
       "      <td>0.0</td>\n",
       "      <td>0.0</td>\n",
       "      <td>0.0</td>\n",
       "      <td>0.0</td>\n",
       "      <td>0.0</td>\n",
       "      <td>0.0</td>\n",
       "    </tr>\n",
       "  </tbody>\n",
       "</table>\n",
       "</div>"
      ],
      "text/plain": [
       "       iddivnir_outlier  iderncvr_outlier  lnresncr_outlier  elnantr_outlier  \\\n",
       "count          150899.0          150899.0          150899.0         150899.0   \n",
       "mean                0.0               0.0               0.0              0.0   \n",
       "std                 0.0               0.0               0.0              0.0   \n",
       "min                 0.0               0.0               0.0              0.0   \n",
       "25%                 0.0               0.0               0.0              0.0   \n",
       "50%                 0.0               0.0               0.0              0.0   \n",
       "75%                 0.0               0.0               0.0              0.0   \n",
       "max                 0.0               0.0               0.0              0.0   \n",
       "\n",
       "       scptov15_outlier  PC_Non_US_Citizen_outlier  eeffr_outlier  \n",
       "count          150899.0                   150899.0       150899.0  \n",
       "mean                0.0                        0.0            0.0  \n",
       "std                 0.0                        0.0            0.0  \n",
       "min                 0.0                        0.0            0.0  \n",
       "25%                 0.0                        0.0            0.0  \n",
       "50%                 0.0                        0.0            0.0  \n",
       "75%                 0.0                        0.0            0.0  \n",
       "max                 0.0                        0.0            0.0  "
      ]
     },
     "execution_count": 62,
     "metadata": {},
     "output_type": "execute_result"
    }
   ],
   "source": [
    "df_no4_out.iloc[ :, -7:].describe()"
   ]
  },
  {
   "cell_type": "code",
   "execution_count": 89,
   "metadata": {},
   "outputs": [
    {
     "data": {
      "text/html": [
       "<div>\n",
       "<style scoped>\n",
       "    .dataframe tbody tr th:only-of-type {\n",
       "        vertical-align: middle;\n",
       "    }\n",
       "\n",
       "    .dataframe tbody tr th {\n",
       "        vertical-align: top;\n",
       "    }\n",
       "\n",
       "    .dataframe thead th {\n",
       "        text-align: right;\n",
       "    }\n",
       "</style>\n",
       "<table border=\"1\" class=\"dataframe\">\n",
       "  <thead>\n",
       "    <tr style=\"text-align: right;\">\n",
       "      <th></th>\n",
       "      <th>iddivnir</th>\n",
       "      <th>iderncvr</th>\n",
       "      <th>lnresncr</th>\n",
       "      <th>elnantr</th>\n",
       "      <th>scptov15</th>\n",
       "      <th>PC_Non_US_Citizen</th>\n",
       "      <th>eeffr</th>\n",
       "    </tr>\n",
       "  </thead>\n",
       "  <tbody>\n",
       "    <tr>\n",
       "      <th>count</th>\n",
       "      <td>150899.000000</td>\n",
       "      <td>150899.000000</td>\n",
       "      <td>150899.000000</td>\n",
       "      <td>150899.000000</td>\n",
       "      <td>150899.000000</td>\n",
       "      <td>150899.00000</td>\n",
       "      <td>150899.000000</td>\n",
       "    </tr>\n",
       "    <tr>\n",
       "      <th>mean</th>\n",
       "      <td>36.524422</td>\n",
       "      <td>43.920096</td>\n",
       "      <td>500.691226</td>\n",
       "      <td>83.640087</td>\n",
       "      <td>0.820260</td>\n",
       "      <td>-0.55547</td>\n",
       "      <td>72.310473</td>\n",
       "    </tr>\n",
       "    <tr>\n",
       "      <th>std</th>\n",
       "      <td>72.019322</td>\n",
       "      <td>148.460327</td>\n",
       "      <td>1612.926828</td>\n",
       "      <td>1140.225387</td>\n",
       "      <td>27.630502</td>\n",
       "      <td>7.76046</td>\n",
       "      <td>17.608959</td>\n",
       "    </tr>\n",
       "    <tr>\n",
       "      <th>min</th>\n",
       "      <td>-1739.130435</td>\n",
       "      <td>-2212.000000</td>\n",
       "      <td>0.000000</td>\n",
       "      <td>-10615.384620</td>\n",
       "      <td>-1.000000</td>\n",
       "      <td>-100.00000</td>\n",
       "      <td>0.000000</td>\n",
       "    </tr>\n",
       "    <tr>\n",
       "      <th>25%</th>\n",
       "      <td>0.000000</td>\n",
       "      <td>7.615734</td>\n",
       "      <td>73.094609</td>\n",
       "      <td>0.000000</td>\n",
       "      <td>-0.046858</td>\n",
       "      <td>-2.60000</td>\n",
       "      <td>61.552328</td>\n",
       "    </tr>\n",
       "    <tr>\n",
       "      <th>50%</th>\n",
       "      <td>19.040366</td>\n",
       "      <td>9.548475</td>\n",
       "      <td>118.858268</td>\n",
       "      <td>80.178174</td>\n",
       "      <td>-0.036125</td>\n",
       "      <td>-0.70000</td>\n",
       "      <td>70.816327</td>\n",
       "    </tr>\n",
       "    <tr>\n",
       "      <th>75%</th>\n",
       "      <td>57.273769</td>\n",
       "      <td>21.663366</td>\n",
       "      <td>289.256495</td>\n",
       "      <td>150.000000</td>\n",
       "      <td>-0.036125</td>\n",
       "      <td>1.60000</td>\n",
       "      <td>80.986693</td>\n",
       "    </tr>\n",
       "    <tr>\n",
       "      <th>max</th>\n",
       "      <td>1812.903226</td>\n",
       "      <td>3180.000000</td>\n",
       "      <td>23750.000000</td>\n",
       "      <td>10714.285710</td>\n",
       "      <td>1768.200000</td>\n",
       "      <td>94.70000</td>\n",
       "      <td>214.823529</td>\n",
       "    </tr>\n",
       "  </tbody>\n",
       "</table>\n",
       "</div>"
      ],
      "text/plain": [
       "            iddivnir       iderncvr       lnresncr        elnantr  \\\n",
       "count  150899.000000  150899.000000  150899.000000  150899.000000   \n",
       "mean       36.524422      43.920096     500.691226      83.640087   \n",
       "std        72.019322     148.460327    1612.926828    1140.225387   \n",
       "min     -1739.130435   -2212.000000       0.000000  -10615.384620   \n",
       "25%         0.000000       7.615734      73.094609       0.000000   \n",
       "50%        19.040366       9.548475     118.858268      80.178174   \n",
       "75%        57.273769      21.663366     289.256495     150.000000   \n",
       "max      1812.903226    3180.000000   23750.000000   10714.285710   \n",
       "\n",
       "            scptov15  PC_Non_US_Citizen          eeffr  \n",
       "count  150899.000000       150899.00000  150899.000000  \n",
       "mean        0.820260           -0.55547      72.310473  \n",
       "std        27.630502            7.76046      17.608959  \n",
       "min        -1.000000         -100.00000       0.000000  \n",
       "25%        -0.046858           -2.60000      61.552328  \n",
       "50%        -0.036125           -0.70000      70.816327  \n",
       "75%        -0.036125            1.60000      80.986693  \n",
       "max      1768.200000           94.70000     214.823529  "
      ]
     },
     "execution_count": 89,
     "metadata": {},
     "output_type": "execute_result"
    }
   ],
   "source": [
    "df_no4_out[[i for i in outliers_features]].describe()"
   ]
  },
  {
   "cell_type": "code",
   "execution_count": 90,
   "metadata": {},
   "outputs": [
    {
     "data": {
      "text/html": [
       "<div>\n",
       "<style scoped>\n",
       "    .dataframe tbody tr th:only-of-type {\n",
       "        vertical-align: middle;\n",
       "    }\n",
       "\n",
       "    .dataframe tbody tr th {\n",
       "        vertical-align: top;\n",
       "    }\n",
       "\n",
       "    .dataframe thead th {\n",
       "        text-align: right;\n",
       "    }\n",
       "</style>\n",
       "<table border=\"1\" class=\"dataframe\">\n",
       "  <thead>\n",
       "    <tr style=\"text-align: right;\">\n",
       "      <th></th>\n",
       "      <th>iddivnir</th>\n",
       "      <th>iderncvr</th>\n",
       "      <th>lnresncr</th>\n",
       "      <th>elnantr</th>\n",
       "      <th>scptov15</th>\n",
       "      <th>PC_Non_US_Citizen</th>\n",
       "      <th>eeffr</th>\n",
       "    </tr>\n",
       "  </thead>\n",
       "  <tbody>\n",
       "    <tr>\n",
       "      <th>count</th>\n",
       "      <td>153964.000000</td>\n",
       "      <td>153964.000000</td>\n",
       "      <td>153964.000000</td>\n",
       "      <td>153964.000000</td>\n",
       "      <td>153964.000000</td>\n",
       "      <td>1.539640e+05</td>\n",
       "      <td>153964.000000</td>\n",
       "    </tr>\n",
       "    <tr>\n",
       "      <th>mean</th>\n",
       "      <td>35.640816</td>\n",
       "      <td>60.334824</td>\n",
       "      <td>902.397141</td>\n",
       "      <td>60.338610</td>\n",
       "      <td>7.216017</td>\n",
       "      <td>-4.763074e+04</td>\n",
       "      <td>72.931121</td>\n",
       "    </tr>\n",
       "    <tr>\n",
       "      <th>std</th>\n",
       "      <td>611.599890</td>\n",
       "      <td>1048.549716</td>\n",
       "      <td>7633.799956</td>\n",
       "      <td>3560.263411</td>\n",
       "      <td>598.416972</td>\n",
       "      <td>1.837774e+07</td>\n",
       "      <td>47.512554</td>\n",
       "    </tr>\n",
       "    <tr>\n",
       "      <th>min</th>\n",
       "      <td>-229860.000000</td>\n",
       "      <td>-3485.000000</td>\n",
       "      <td>0.000000</td>\n",
       "      <td>-391700.000000</td>\n",
       "      <td>-1.000000</td>\n",
       "      <td>-6.666668e+08</td>\n",
       "      <td>-9680.821918</td>\n",
       "    </tr>\n",
       "    <tr>\n",
       "      <th>25%</th>\n",
       "      <td>0.000000</td>\n",
       "      <td>7.767030</td>\n",
       "      <td>73.522208</td>\n",
       "      <td>0.000000</td>\n",
       "      <td>-0.046794</td>\n",
       "      <td>-2.600000e+00</td>\n",
       "      <td>61.452422</td>\n",
       "    </tr>\n",
       "    <tr>\n",
       "      <th>50%</th>\n",
       "      <td>18.846821</td>\n",
       "      <td>9.548475</td>\n",
       "      <td>119.855596</td>\n",
       "      <td>80.000000</td>\n",
       "      <td>-0.036125</td>\n",
       "      <td>-7.000000e-01</td>\n",
       "      <td>70.740640</td>\n",
       "    </tr>\n",
       "    <tr>\n",
       "      <th>75%</th>\n",
       "      <td>57.189542</td>\n",
       "      <td>21.976708</td>\n",
       "      <td>296.443851</td>\n",
       "      <td>150.474657</td>\n",
       "      <td>-0.036125</td>\n",
       "      <td>1.600000e+00</td>\n",
       "      <td>80.974878</td>\n",
       "    </tr>\n",
       "    <tr>\n",
       "      <th>max</th>\n",
       "      <td>29000.000000</td>\n",
       "      <td>346414.000000</td>\n",
       "      <td>803800.000000</td>\n",
       "      <td>221750.000000</td>\n",
       "      <td>160674.000000</td>\n",
       "      <td>6.666668e+08</td>\n",
       "      <td>7566.666667</td>\n",
       "    </tr>\n",
       "  </tbody>\n",
       "</table>\n",
       "</div>"
      ],
      "text/plain": [
       "            iddivnir       iderncvr       lnresncr        elnantr  \\\n",
       "count  153964.000000  153964.000000  153964.000000  153964.000000   \n",
       "mean       35.640816      60.334824     902.397141      60.338610   \n",
       "std       611.599890    1048.549716    7633.799956    3560.263411   \n",
       "min   -229860.000000   -3485.000000       0.000000 -391700.000000   \n",
       "25%         0.000000       7.767030      73.522208       0.000000   \n",
       "50%        18.846821       9.548475     119.855596      80.000000   \n",
       "75%        57.189542      21.976708     296.443851     150.474657   \n",
       "max     29000.000000  346414.000000  803800.000000  221750.000000   \n",
       "\n",
       "            scptov15  PC_Non_US_Citizen          eeffr  \n",
       "count  153964.000000       1.539640e+05  153964.000000  \n",
       "mean        7.216017      -4.763074e+04      72.931121  \n",
       "std       598.416972       1.837774e+07      47.512554  \n",
       "min        -1.000000      -6.666668e+08   -9680.821918  \n",
       "25%        -0.046794      -2.600000e+00      61.452422  \n",
       "50%        -0.036125      -7.000000e-01      70.740640  \n",
       "75%        -0.036125       1.600000e+00      80.974878  \n",
       "max    160674.000000       6.666668e+08    7566.666667  "
      ]
     },
     "execution_count": 90,
     "metadata": {},
     "output_type": "execute_result"
    }
   ],
   "source": [
    "df_no3[[i for i in outliers_features]].describe()"
   ]
  },
  {
   "cell_type": "code",
   "execution_count": 63,
   "metadata": {},
   "outputs": [],
   "source": [
    "# exclude _outlier columns\n",
    "df_no4 = df_no4_out.iloc[ :, :-7]"
   ]
  },
  {
   "cell_type": "code",
   "execution_count": 85,
   "metadata": {},
   "outputs": [
    {
     "data": {
      "text/plain": [
       "(150899, 344)"
      ]
     },
     "execution_count": 85,
     "metadata": {},
     "output_type": "execute_result"
    }
   ],
   "source": [
    "df_no4.shape"
   ]
  },
  {
   "cell_type": "code",
   "execution_count": null,
   "metadata": {},
   "outputs": [],
   "source": [
    "# exclude all variables outliers out of mean+-3sd\n",
    "df_no5 = df_no3\n",
    "for i in df_no3.columns:\n",
    "    df_no5[\"%s_outlier\" %i] = label_anomalies(df_no3[i])"
   ]
  },
  {
   "cell_type": "code",
   "execution_count": null,
   "metadata": {},
   "outputs": [],
   "source": [
    "basename = \"df_no5\"\n",
    "result = [\"{}_{}\".format(basename, i) for i in range(len(df_no5.columns[344:]))]\n",
    "for i in range(len(df_no5.columns[344:])):\n",
    "    outlier = df_no5.columns[i]\n",
    "    if i == 0:\n",
    "        result[i] = df_no5[df_no5[\"%s_outlier\" %outlier]==0]\n",
    "    else: \n",
    "        result[i] = result[i-1][result[i-1][\"%s_outlier\" %outlier]==0]\n",
    "    \n",
    "df_no5 = pd.DataFrame(result[-1],columns=df_no5.columns)"
   ]
  },
  {
   "cell_type": "code",
   "execution_count": null,
   "metadata": {},
   "outputs": [],
   "source": [
    "df_no5.iloc[:,344:]\n",
    "# 299 columns outliers?"
   ]
  },
  {
   "cell_type": "markdown",
   "metadata": {},
   "source": [
    "#### Isolation forest \n",
    "Isolation forest is a machine learning algorithm for anomaly detection.\n",
    "It's an unsupervised learning algorithm that identifies anomaly by isolating outliers in the data.\n",
    "\n",
    "Isolation Forest is based on the Decision Tree algorithm. It isolates the outliers by randomly selecting a feature from the given set of features and then randomly selecting a split value between the max and min values of that feature. This random partitioning of features will produce shorter paths in trees for the anomalous data points, thus distinguishing them from the rest of the data.\n",
    "\n",
    "A negative score value and a -1 for the value of anomaly columns indicate the presence of anomaly. A value of 1 for the anomaly represents the normal data."
   ]
  },
  {
   "cell_type": "code",
   "execution_count": null,
   "metadata": {},
   "outputs": [],
   "source": [
    "#https://blog.paperspace.com/anomaly-detection-isolation-forest/\n",
    "# Isolation tree\n",
    "model=IsolationForest(n_estimators=100, max_samples='auto', contamination=float(0.1),max_features=1.0)\n",
    "model.fit(df_no3[['iddivnir']])\n",
    "\n",
    "outlier1=model.decision_function(df_no3[['iddivnir']])\n",
    "outlier11=model.predict(df_no3[['iddivnir']])"
   ]
  },
  {
   "cell_type": "code",
   "execution_count": null,
   "metadata": {},
   "outputs": [],
   "source": [
    "dataset = pd.DataFrame()\n",
    "dataset['score'] = outlier1\n",
    "dataset['anomaly'] = outlier11\n",
    "dataset[dataset['anomaly']==-1].describe()\n",
    "df_no3['iddivnir_outlier_iso'] = outlier11\n",
    "df_no3['iddivnir'][df_no3['iddivnir_outlier_iso']==-1].describe()"
   ]
  },
  {
   "cell_type": "code",
   "execution_count": null,
   "metadata": {},
   "outputs": [],
   "source": [
    "# outlier 1\n",
    "print(df_no3.iderncvr.describe())\n",
    "df_no3.iderncvr.plot()\n",
    "df_no3[df_no3.iderncvr>300000 or df_no3.iderncvr<-10000] # outlier"
   ]
  },
  {
   "cell_type": "markdown",
   "metadata": {},
   "source": [
    "iderncvr:\n",
    "Earnings coverage of net charge-offs (x) <br>\n",
    "Income before income taxes and extraordinary items and other adjustments, plus provisions for loan and lease losses and allocated transfer risk reserve, plus gains (losses) on securities not held in trading accounts (annualized) divided by net loan and lease charge-offs (annualized). This is a number of times ratio (x) not a percentage ratio (%).\n",
    "* If the denominator is less than or equal to zero, then ratio is shown as \"N/A.\n",
    "\n",
    "RIS definition:\n",
    "YR - IDERNCVR = CHFLA / NTLNLSA <br>\n",
    "QTR - IDERNCVQ = CHFLQ / NTLNLSQ"
   ]
  },
  {
   "cell_type": "code",
   "execution_count": null,
   "metadata": {},
   "outputs": [],
   "source": [
    "# outlier 2\n",
    "print(df_no3.lnresncr.describe())\n",
    "df_no3.lnresncr.plot()\n",
    "df_no3[df_no3.lnresncr>500000]"
   ]
  },
  {
   "cell_type": "markdown",
   "metadata": {},
   "source": [
    "Extremly large standard deviation of PC_Non_US_Citizen may explain the reason why PCA select only one variable, since its variance is huge, thus can represent most of the variance in the dataset."
   ]
  },
  {
   "cell_type": "code",
   "execution_count": null,
   "metadata": {},
   "outputs": [],
   "source": [
    "fig, ax = plt.subplots(figsize=(15,9))\n",
    "df_no3.PC_Non_US_Citizen.plot(title = 'PC_Non_US_Citizen')"
   ]
  },
  {
   "cell_type": "code",
   "execution_count": null,
   "metadata": {},
   "outputs": [],
   "source": [
    "import numpy as np\n",
    "import matplotlib.pyplot as plt\n",
    "\n",
    "# Create data\n",
    "x = df_no3.repdte\n",
    "y = df_no3.PC_Non_US_Citizen\n",
    "colors = (0,0,0)\n",
    "\n",
    "# Plot\n",
    "fig, ax = plt.subplots(figsize=(15,9))\n",
    "plt.scatter(x, y,  c=colors, alpha=0.5)\n",
    "plt.title('Scatter plot PC_Non_US_Citizen')\n",
    "plt.xlabel('x')\n",
    "plt.ylabel('y')\n",
    "plt.show()"
   ]
  },
  {
   "cell_type": "code",
   "execution_count": null,
   "metadata": {},
   "outputs": [],
   "source": [
    "x = df_no3.PC_Non_US_Citizen\n",
    "y = df_no3.market_cap_5\n",
    "print(np.corrcoef(x, y))\n",
    "\n",
    "import matplotlib\n",
    "import matplotlib.pyplot as plt\n",
    "%matplotlib inline\n",
    "matplotlib.style.use('ggplot')\n",
    "\n",
    "plt.scatter(x, y)\n",
    "plt.show()"
   ]
  },
  {
   "cell_type": "code",
   "execution_count": null,
   "metadata": {},
   "outputs": [],
   "source": [
    "x = df_no3.asset\n",
    "y = df_no3.market_cap_5\n",
    "print(np.corrcoef(x, y))"
   ]
  },
  {
   "cell_type": "code",
   "execution_count": null,
   "metadata": {},
   "outputs": [],
   "source": [
    "print(pipe2.score(X_train2,y_train2))\n",
    "print(pipe2.score(X_test2,y_test2))"
   ]
  },
  {
   "cell_type": "code",
   "execution_count": null,
   "metadata": {},
   "outputs": [],
   "source": [
    "# Predicting the Test set results\n",
    "y_pred2 = pipe2.predict(X_test2)"
   ]
  },
  {
   "cell_type": "markdown",
   "metadata": {},
   "source": [
    "### Recursive Feature Elimination - wrapper method"
   ]
  },
  {
   "cell_type": "code",
   "execution_count": 99,
   "metadata": {},
   "outputs": [
    {
     "name": "stderr",
     "output_type": "stream",
     "text": [
      "/anaconda/envs/azureml_py36_automl/lib/python3.6/site-packages/sklearn/preprocessing/data.py:334: DataConversionWarning: Data with input dtype int64, float64 were all converted to float64 by MinMaxScaler.\n",
      "  return self.partial_fit(X, y)\n"
     ]
    }
   ],
   "source": [
    "X2 = df_no4[df_no4.columns.difference(['market_cap_5','id','name','repdte','eq','eqtot','net_asset','zip','cert','rssdhcr','docket',\\\n",
    "                                      'FIPS_Code','specgrp.1'])] \n",
    "y2 = df_no4['market_cap_5']\n",
    "X_transformed2 = col_transform.fit_transform(X2)"
   ]
  },
  {
   "cell_type": "code",
   "execution_count": null,
   "metadata": {},
   "outputs": [],
   "source": [
    "from sklearn.feature_selection import RFE\n",
    "from sklearn.linear_model import LinearRegression\n",
    "\n",
    "num_feats = 20\n",
    "# scaler = StandardScaler()\n",
    "# X_scaled = scaler.fit_transform(X)\n",
    "\n",
    "rfe_selector = RFE(estimator=LinearRegression(), n_features_to_select=num_feats, step=10, verbose=5)\n",
    "rfe_selector.fit(X_transformed, y)\n",
    "rfe_support = rfe_selector.get_support()\n",
    "rfe_feature = X.loc[:,rfe_support].columns.tolist()\n",
    "print(str(len(rfe_feature)), 'selected features')"
   ]
  },
  {
   "cell_type": "code",
   "execution_count": 92,
   "metadata": {},
   "outputs": [
    {
     "name": "stdout",
     "output_type": "stream",
     "text": [
      "Fitting estimator with 335 features.\n",
      "Fitting estimator with 325 features.\n",
      "Fitting estimator with 315 features.\n",
      "Fitting estimator with 305 features.\n",
      "Fitting estimator with 295 features.\n",
      "Fitting estimator with 285 features.\n",
      "Fitting estimator with 275 features.\n",
      "Fitting estimator with 265 features.\n",
      "Fitting estimator with 255 features.\n",
      "Fitting estimator with 245 features.\n",
      "Fitting estimator with 235 features.\n",
      "Fitting estimator with 225 features.\n",
      "Fitting estimator with 215 features.\n",
      "Fitting estimator with 205 features.\n",
      "Fitting estimator with 195 features.\n",
      "Fitting estimator with 185 features.\n",
      "Fitting estimator with 175 features.\n",
      "Fitting estimator with 165 features.\n",
      "Fitting estimator with 155 features.\n",
      "Fitting estimator with 145 features.\n",
      "Fitting estimator with 135 features.\n",
      "Fitting estimator with 125 features.\n",
      "Fitting estimator with 115 features.\n",
      "Fitting estimator with 105 features.\n",
      "Fitting estimator with 95 features.\n",
      "Fitting estimator with 85 features.\n",
      "Fitting estimator with 75 features.\n",
      "Fitting estimator with 65 features.\n",
      "Fitting estimator with 55 features.\n",
      "Fitting estimator with 45 features.\n",
      "Fitting estimator with 35 features.\n",
      "Fitting estimator with 25 features.\n",
      "20 selected features\n"
     ]
    }
   ],
   "source": [
    "# exclude outliers\n",
    "from sklearn.feature_selection import RFE\n",
    "from sklearn.linear_model import LinearRegression\n",
    "\n",
    "num_feats = 20\n",
    "# scaler = StandardScaler()\n",
    "# X_scaled = scaler.fit_transform(X)\n",
    "\n",
    "rfe_selector = RFE(estimator=LinearRegression(), n_features_to_select=num_feats, step=10, verbose=5)\n",
    "rfe_selector.fit(X_transformed2, y2)\n",
    "rfe_support = rfe_selector.get_support()\n",
    "rfe_feature = X2.loc[:,rfe_support].columns.tolist()\n",
    "print(str(len(rfe_feature)), 'selected features')"
   ]
  },
  {
   "cell_type": "code",
   "execution_count": 93,
   "metadata": {},
   "outputs": [
    {
     "data": {
      "image/png": "[encoded data removed]",
      "text/plain": [
       "<Figure size 1080x648 with 1 Axes>"
      ]
     },
     "metadata": {
      "needs_background": "light"
     },
     "output_type": "display_data"
    }
   ],
   "source": [
    "n_pcs= num_feats\n",
    "# initial_feature_names = X_train.columns\n",
    "# most_important = [np.abs(embeded_rf_selector.estimator_.feature_importances_[i]).argmax() for i in range(n_pcs)]\n",
    "most_important_names = [rfe_feature[i] for i in range(n_pcs)]\n",
    "zipped_feats = zip(most_important_names,rfe_selector.estimator_.coef_)\n",
    "zipped_feats = sorted(zipped_feats, key=lambda x: x[1], reverse=False)\n",
    "features, importances = zip(*zipped_feats)\n",
    "top_features = features[:20]\n",
    "top_importances = importances[:20]\n",
    "\n",
    "\n",
    "fig, ax = plt.subplots(figsize=(15,9))\n",
    "plt.title('Feature Importances - rfe')\n",
    "plt.barh(range(len(top_importances)), top_importances, color='b', align='center')\n",
    "plt.yticks(range(len(top_importances)), top_features)\n",
    "plt.xlabel('Feature Coefficients')\n",
    "plt.show()"
   ]
  },
  {
   "cell_type": "markdown",
   "metadata": {},
   "source": [
    "Recheck if drre and iddepinr have extreme values, the variance is 17105 and 0.33 respectively, which are much smaller than other outliers. Therefore these two variables don't count as outliers, the feature selection result is reliable."
   ]
  },
  {
   "cell_type": "code",
   "execution_count": null,
   "metadata": {},
   "outputs": [],
   "source": [
    "rfe_selector.estimator_.coef_\n",
    "# rfe_feature"
   ]
  },
  {
   "cell_type": "code",
   "execution_count": 68,
   "metadata": {},
   "outputs": [
    {
     "name": "stdout",
     "output_type": "stream",
     "text": [
      "count    153964.000000\n",
      "mean         72.931121\n",
      "std          47.512554\n",
      "min       -9680.821918\n",
      "25%          61.452422\n",
      "50%          70.740640\n",
      "75%          80.974878\n",
      "max        7566.666667\n",
      "Name: eeffr, dtype: float64\n"
     ]
    },
    {
     "data": {
      "text/plain": [
       "<matplotlib.axes._subplots.AxesSubplot at 0x7fd6d97eaf60>"
      ]
     },
     "execution_count": 68,
     "metadata": {},
     "output_type": "execute_result"
    },
    {
     "data": {
      "image/png": "[encoded data removed]",
      "text/plain": [
       "<Figure size 1296x360 with 2 Axes>"
      ]
     },
     "metadata": {
      "needs_background": "light"
     },
     "output_type": "display_data"
    }
   ],
   "source": [
    "print(df_no3.eeffr.describe())\n",
    "fig, axes = plt.subplots(1,2,figsize=(18,5))\n",
    "df_no3.eeffr.plot(ax = axes[0], title = 'eeffr')\n",
    "df_no4.eeffr.plot(ax = axes[1], title = 'eeffr without outliers')"
   ]
  },
  {
   "cell_type": "code",
   "execution_count": 82,
   "metadata": {},
   "outputs": [
    {
     "name": "stdout",
     "output_type": "stream",
     "text": [
      "count    150899.000000\n",
      "mean        500.691226\n",
      "std        1612.926828\n",
      "min           0.000000\n",
      "25%          73.094609\n",
      "50%         118.858268\n",
      "75%         289.256495\n",
      "max       23750.000000\n",
      "Name: lnresncr, dtype: float64\n"
     ]
    },
    {
     "data": {
      "text/plain": [
       "<matplotlib.axes._subplots.AxesSubplot at 0x7fd6d992e828>"
      ]
     },
     "execution_count": 82,
     "metadata": {},
     "output_type": "execute_result"
    },
    {
     "data": {
      "image/png": "[encoded data removed]",
      "text/plain": [
       "<Figure size 1296x360 with 2 Axes>"
      ]
     },
     "metadata": {
      "needs_background": "light"
     },
     "output_type": "display_data"
    }
   ],
   "source": [
    "print(df_no4.lnresncr.describe())\n",
    "fig, axes = plt.subplots(1,2,figsize=(18,5))\n",
    "df_no3.lnresncr.plot(ax = axes[0], title = 'lnresncr')\n",
    "df_no4.lnresncr.plot(ax = axes[1], title = 'lnresncr without outliers')"
   ]
  },
  {
   "cell_type": "code",
   "execution_count": 81,
   "metadata": {},
   "outputs": [
    {
     "name": "stdout",
     "output_type": "stream",
     "text": [
      "count    150899.000000\n",
      "mean          0.845081\n",
      "std          11.573321\n",
      "min         -38.142857\n",
      "25%           0.000000\n",
      "50%           0.009901\n",
      "75%           0.032341\n",
      "max        1266.000000\n",
      "Name: drre, dtype: float64\n"
     ]
    },
    {
     "data": {
      "text/plain": [
       "Text(0.5, 1.0, 'drre')"
      ]
     },
     "execution_count": 81,
     "metadata": {},
     "output_type": "execute_result"
    },
    {
     "data": {
      "image/png": "[encoded data removed]",
      "text/plain": [
       "<Figure size 432x288 with 1 Axes>"
      ]
     },
     "metadata": {
      "needs_background": "light"
     },
     "output_type": "display_data"
    }
   ],
   "source": [
    "print(df_no4.drre.describe())\n",
    "df_no4.drre.plot()\n",
    "plt.title('drre')"
   ]
  },
  {
   "cell_type": "code",
   "execution_count": 70,
   "metadata": {},
   "outputs": [
    {
     "name": "stdout",
     "output_type": "stream",
     "text": [
      "count    150899.000000\n",
      "mean         -0.003272\n",
      "std           0.059777\n",
      "min          -0.883095\n",
      "25%          -0.017018\n",
      "50%          -0.001660\n",
      "75%           0.011075\n",
      "max          11.236728\n",
      "Name: iddepinr, dtype: float64\n"
     ]
    },
    {
     "data": {
      "text/plain": [
       "Text(0.5, 1.0, 'iddepinr')"
      ]
     },
     "execution_count": 70,
     "metadata": {},
     "output_type": "execute_result"
    },
    {
     "data": {
      "image/png": "[encoded data removed]",
      "text/plain": [
       "<Figure size 432x288 with 1 Axes>"
      ]
     },
     "metadata": {
      "needs_background": "light"
     },
     "output_type": "display_data"
    }
   ],
   "source": [
    "print(df_no4.iddepinr.describe())\n",
    "df_no4.iddepinr.plot()\n",
    "plt.title('iddepinr')"
   ]
  },
  {
   "cell_type": "code",
   "execution_count": null,
   "metadata": {},
   "outputs": [],
   "source": [
    "# sum(rfe_selector.ranking_<2)"
   ]
  },
  {
   "cell_type": "markdown",
   "metadata": {},
   "source": [
    "### Tree based Embedded method"
   ]
  },
  {
   "cell_type": "code",
   "execution_count": null,
   "metadata": {},
   "outputs": [],
   "source": [
    "from sklearn.feature_selection import SelectFromModel\n",
    "from sklearn.ensemble import RandomForestRegressor\n",
    "\n",
    "num_feats = 20\n",
    "# scaler = StandardScaler()\n",
    "# X_scaled = scaler.fit_transform(X)\n",
    "\n",
    "embeded_rf_selector = SelectFromModel(RandomForestRegressor(n_estimators=100), max_features=num_feats)\n",
    "embeded_rf_selector.fit(X_transformed, y)\n",
    "\n",
    "embeded_rf_support = embeded_rf_selector.get_support()\n",
    "embeded_rf_feature = X.loc[:,embeded_rf_support].columns.tolist()\n",
    "print(str(len(embeded_rf_feature)), 'selected features')"
   ]
  },
  {
   "cell_type": "code",
   "execution_count": 100,
   "metadata": {},
   "outputs": [
    {
     "name": "stdout",
     "output_type": "stream",
     "text": [
      "15 selected features\n"
     ]
    }
   ],
   "source": [
    "# exclude outliers\n",
    "from sklearn.feature_selection import SelectFromModel\n",
    "from sklearn.ensemble import RandomForestRegressor\n",
    "\n",
    "num_feats = 20\n",
    "# scaler = StandardScaler()\n",
    "# X_scaled = scaler.fit_transform(X)\n",
    "\n",
    "embeded_rf_selector = SelectFromModel(RandomForestRegressor(n_estimators=100), max_features=num_feats)\n",
    "embeded_rf_selector.fit(X_transformed2, y2)\n",
    "\n",
    "embeded_rf_support = embeded_rf_selector.get_support()\n",
    "embeded_rf_feature = X2.loc[:,embeded_rf_support].columns.tolist()\n",
    "print(str(len(embeded_rf_feature)), 'selected features')"
   ]
  },
  {
   "cell_type": "code",
   "execution_count": 101,
   "metadata": {},
   "outputs": [
    {
     "data": {
      "image/png": "[encoded data removed]",
      "text/plain": [
       "<Figure size 1080x648 with 1 Axes>"
      ]
     },
     "metadata": {
      "needs_background": "light"
     },
     "output_type": "display_data"
    }
   ],
   "source": [
    "n_pcs= len(embeded_rf_feature)\n",
    "# initial_feature_names = X_train.columns\n",
    "# most_important = [np.abs(embeded_rf_selector.estimator_.feature_importances_[i]).argmax() for i in range(n_pcs)]\n",
    "most_important_names = [embeded_rf_feature[i] for i in range(n_pcs)]\n",
    "zipped_feats = zip(most_important_names,embeded_rf_selector.estimator_.feature_importances_)\n",
    "zipped_feats = sorted(zipped_feats, key=lambda x: x[1], reverse=False)\n",
    "features, importances = zip(*zipped_feats)\n",
    "top_features = features[:20]\n",
    "top_importances = importances[:20]\n",
    "\n",
    "\n",
    "fig, ax = plt.subplots(figsize=(15,9))\n",
    "plt.title('Feature Importances - rf')\n",
    "plt.barh(range(len(top_importances)), top_importances, color='b', align='center')\n",
    "plt.yticks(range(len(top_importances)), top_features)\n",
    "plt.xlabel('Relative Importance')\n",
    "plt.show()"
   ]
  },
  {
   "cell_type": "code",
   "execution_count": null,
   "metadata": {},
   "outputs": [],
   "source": [
    "# define the model\n",
    "# PCA cannot handle sparse data\n",
    "# model = PCA()\n",
    "model = TruncatedSVD()\n",
    "# define the data preparation and modeling pipeline\n",
    "pipe = Pipeline(steps=[('prep',col_transform), ('m', model)])\n",
    "fit = pipe.fit(X_train, y_train)"
   ]
  },
  {
   "cell_type": "markdown",
   "metadata": {},
   "source": [
    "This transformer performs linear dimensionality reduction by means of truncated singular value decomposition (SVD). Contrary to PCA, this estimator does not center the data before computing the singular value decomposition. This means it can work with sparse matrices efficiently."
   ]
  },
  {
   "cell_type": "code",
   "execution_count": null,
   "metadata": {},
   "outputs": [],
   "source": [
    "pca = PCA(n_components=5).fit(X_train_scaled)\n",
    "plt.plot(np.cumsum(pca.explained_variance_ratio_))\n",
    "plt.xlabel('number of components')\n",
    "plt.ylabel('cumulative explained variance');"
   ]
  },
  {
   "cell_type": "code",
   "execution_count": null,
   "metadata": {},
   "outputs": [],
   "source": [
    "# Encode categorical variables \n",
    "# importing one hot encoder \n",
    "from sklearn.preprocessing import OneHotEncoder\n",
    "# creating one hot encoder object \n",
    "onehotencoder = OneHotEncoder()\n",
    "#reshape the 1-D country array to 2-D as fit_transform expects 2-D and finally fit the object \n",
    "X = onehotencoder.fit_transform(df.County.values.reshape(-1,1)).toarray()\n",
    "#To add this back into the original dataframe \n",
    "dfOneHot = pd.DataFrame(X, columns = [\"County_\"+str(int(i)) for i in range(X.shape[1])]) \n",
    "df = pd.concat([df, dfOneHot], axis=1)\n",
    "#droping the country column \n",
    "# df= df.drop(['Country'], axis=1) \n",
    "#printing to verify \n",
    "print(df.head())"
   ]
  },
  {
   "cell_type": "code",
   "execution_count": null,
   "metadata": {},
   "outputs": [],
   "source": []
  },
  {
   "cell_type": "code",
   "execution_count": null,
   "metadata": {},
   "outputs": [],
   "source": []
  },
  {
   "cell_type": "code",
   "execution_count": null,
   "metadata": {},
   "outputs": [],
   "source": []
  }
 ],
 "metadata": {
  "kernelspec": {
   "display_name": "Python 3.8.3 64-bit",
   "language": "python",
   "name": "python38364bit7053e30d6bc14653a0093b5c94408a8f"
  },
  "language_info": {
   "codemirror_mode": {
    "name": "ipython",
    "version": 3
   },
   "file_extension": ".py",
   "mimetype": "text/x-python",
   "name": "python",
   "nbconvert_exporter": "python",
   "pygments_lexer": "ipython3",
   "version": "3.8.3"
  }
 },
 "nbformat": 4,
 "nbformat_minor": 1
}
