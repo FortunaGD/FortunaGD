{
 "cells": [
  {
   "cell_type": "markdown",
   "metadata": {},
   "source": [
    "## Executive Summary\n",
    "#### This project analyzes airbnb in Los Angeles datasets containing listing and reviews from insidearibnb.com. There are two parts: 1) quantitative analysis, including ten data science questions; 2) data visualization, including five interesting business questions. \n",
    "\n",
    "The first question in part 2 talks about the most expensive day in the 2019 Thanksgiving break. From the result we can see that 11/29/2019 has the highest price. The reason should be that 11/29/2019 is the day after Thanksgiving and is a Friday. On that day, people wanted to hold parties. Renting airbnbs was a smart choice. So the landlord chose to increase price to be more profitable.\n",
    "\n",
    "From the dataframe showed is the question 2, we can see the average price and square feet of each neighbourhood in Los Angeles. From two horizontal bar plots next, we can directly tell that Rolling Hill has the highest average price and Studio City has the largest average square feet.\n",
    "\n",
    "The relationship between 'description' and 'reviews per month' is positive. This result is easy to predict since people prefer to choose airbnbs with more descriptions. The more people live in, the more comments they leave.\n",
    "\n",
    "More bedrooms does not mean the higher prices. From the plot, we can see that most airbnbs have less than 10 bedrooms. Airbnbs with extremely more bedrooms, tend to have lower prices. From the second plot in question 4, we can conclude that reviews per month negatively influence the prices. The reason could be that people prefer to choose cheaper airbnb. So there are less reviews in comparatively expensive houses. From the third plot we can see that there is specfic relationship between price and latitude. However, the plot shows that prices of airbnbs around latitude 34 are higher. So we know that the neighborhood around latitude 34 are more popular. \n",
    "\n",
    "Prices in 2020 January will first start at the highest value at 245, then drop until 9th of the month. The price starts to fluctuate around 215 in the rest of the month. The average price is 218.93 and standard deviation is 9.34. This suggests the start of next year the house market is not so promising. "
   ]
  },
  {
   "cell_type": "markdown",
   "metadata": {},
   "source": [
    "## Part 1\n",
    "\n",
    "### Quantitative Anaysis"
   ]
  },
  {
   "cell_type": "markdown",
   "metadata": {},
   "source": [
    "### Question 1: How many unique listings are there in the LA dataset? How many unique hosts are there?\n",
    "\n",
    "**Question 1 Answer:**\n",
    "\n",
    "number of unique listings: 45053\n",
    "\n",
    "number of unique host: 26286\n",
    "\n"
   ]
  },
  {
   "cell_type": "code",
   "execution_count": 1,
   "metadata": {},
   "outputs": [
    {
     "ename": "FileNotFoundError",
     "evalue": "[Errno 2] File b'./data/listings.csv' does not exist: b'./data/listings.csv'",
     "output_type": "error",
     "traceback": [
      "\u001b[0;31m---------------------------------------------------------------------------\u001b[0m",
      "\u001b[0;31mFileNotFoundError\u001b[0m                         Traceback (most recent call last)",
      "\u001b[0;32m<ipython-input-1-0f7266fc6a3a>\u001b[0m in \u001b[0;36m<module>\u001b[0;34m\u001b[0m\n\u001b[1;32m      1\u001b[0m \u001b[0;32mimport\u001b[0m \u001b[0mpandas\u001b[0m \u001b[0;32mas\u001b[0m \u001b[0mpd\u001b[0m\u001b[0;34m\u001b[0m\u001b[0;34m\u001b[0m\u001b[0m\n\u001b[1;32m      2\u001b[0m \u001b[0;32mfrom\u001b[0m \u001b[0mpandasql\u001b[0m \u001b[0;32mimport\u001b[0m \u001b[0msqldf\u001b[0m\u001b[0;34m\u001b[0m\u001b[0;34m\u001b[0m\u001b[0m\n\u001b[0;32m----> 3\u001b[0;31m \u001b[0mdf_listings\u001b[0m \u001b[0;34m=\u001b[0m \u001b[0mpd\u001b[0m\u001b[0;34m.\u001b[0m\u001b[0mread_csv\u001b[0m\u001b[0;34m(\u001b[0m\u001b[0;34m\"./data/listings.csv\"\u001b[0m\u001b[0;34m)\u001b[0m\u001b[0;34m\u001b[0m\u001b[0;34m\u001b[0m\u001b[0m\n\u001b[0m\u001b[1;32m      4\u001b[0m \u001b[0mdf_calendar\u001b[0m \u001b[0;34m=\u001b[0m \u001b[0mpd\u001b[0m\u001b[0;34m.\u001b[0m\u001b[0mread_csv\u001b[0m\u001b[0;34m(\u001b[0m\u001b[0;34m\"./data/calendar.csv\"\u001b[0m\u001b[0;34m)\u001b[0m\u001b[0;34m\u001b[0m\u001b[0;34m\u001b[0m\u001b[0m\n\u001b[1;32m      5\u001b[0m \u001b[0mdf_reviews\u001b[0m \u001b[0;34m=\u001b[0m \u001b[0mpd\u001b[0m\u001b[0;34m.\u001b[0m\u001b[0mread_csv\u001b[0m\u001b[0;34m(\u001b[0m\u001b[0;34m\"./data/reviews.csv\"\u001b[0m\u001b[0;34m)\u001b[0m\u001b[0;34m\u001b[0m\u001b[0;34m\u001b[0m\u001b[0m\n",
      "\u001b[0;32m//anaconda3/lib/python3.7/site-packages/pandas/io/parsers.py\u001b[0m in \u001b[0;36mparser_f\u001b[0;34m(filepath_or_buffer, sep, delimiter, header, names, index_col, usecols, squeeze, prefix, mangle_dupe_cols, dtype, engine, converters, true_values, false_values, skipinitialspace, skiprows, skipfooter, nrows, na_values, keep_default_na, na_filter, verbose, skip_blank_lines, parse_dates, infer_datetime_format, keep_date_col, date_parser, dayfirst, cache_dates, iterator, chunksize, compression, thousands, decimal, lineterminator, quotechar, quoting, doublequote, escapechar, comment, encoding, dialect, error_bad_lines, warn_bad_lines, delim_whitespace, low_memory, memory_map, float_precision)\u001b[0m\n\u001b[1;32m    683\u001b[0m         )\n\u001b[1;32m    684\u001b[0m \u001b[0;34m\u001b[0m\u001b[0m\n\u001b[0;32m--> 685\u001b[0;31m         \u001b[0;32mreturn\u001b[0m \u001b[0m_read\u001b[0m\u001b[0;34m(\u001b[0m\u001b[0mfilepath_or_buffer\u001b[0m\u001b[0;34m,\u001b[0m \u001b[0mkwds\u001b[0m\u001b[0;34m)\u001b[0m\u001b[0;34m\u001b[0m\u001b[0;34m\u001b[0m\u001b[0m\n\u001b[0m\u001b[1;32m    686\u001b[0m \u001b[0;34m\u001b[0m\u001b[0m\n\u001b[1;32m    687\u001b[0m     \u001b[0mparser_f\u001b[0m\u001b[0;34m.\u001b[0m\u001b[0m__name__\u001b[0m \u001b[0;34m=\u001b[0m \u001b[0mname\u001b[0m\u001b[0;34m\u001b[0m\u001b[0;34m\u001b[0m\u001b[0m\n",
      "\u001b[0;32m//anaconda3/lib/python3.7/site-packages/pandas/io/parsers.py\u001b[0m in \u001b[0;36m_read\u001b[0;34m(filepath_or_buffer, kwds)\u001b[0m\n\u001b[1;32m    455\u001b[0m \u001b[0;34m\u001b[0m\u001b[0m\n\u001b[1;32m    456\u001b[0m     \u001b[0;31m# Create the parser.\u001b[0m\u001b[0;34m\u001b[0m\u001b[0;34m\u001b[0m\u001b[0;34m\u001b[0m\u001b[0m\n\u001b[0;32m--> 457\u001b[0;31m     \u001b[0mparser\u001b[0m \u001b[0;34m=\u001b[0m \u001b[0mTextFileReader\u001b[0m\u001b[0;34m(\u001b[0m\u001b[0mfp_or_buf\u001b[0m\u001b[0;34m,\u001b[0m \u001b[0;34m**\u001b[0m\u001b[0mkwds\u001b[0m\u001b[0;34m)\u001b[0m\u001b[0;34m\u001b[0m\u001b[0;34m\u001b[0m\u001b[0m\n\u001b[0m\u001b[1;32m    458\u001b[0m \u001b[0;34m\u001b[0m\u001b[0m\n\u001b[1;32m    459\u001b[0m     \u001b[0;32mif\u001b[0m \u001b[0mchunksize\u001b[0m \u001b[0;32mor\u001b[0m \u001b[0miterator\u001b[0m\u001b[0;34m:\u001b[0m\u001b[0;34m\u001b[0m\u001b[0;34m\u001b[0m\u001b[0m\n",
      "\u001b[0;32m//anaconda3/lib/python3.7/site-packages/pandas/io/parsers.py\u001b[0m in \u001b[0;36m__init__\u001b[0;34m(self, f, engine, **kwds)\u001b[0m\n\u001b[1;32m    893\u001b[0m             \u001b[0mself\u001b[0m\u001b[0;34m.\u001b[0m\u001b[0moptions\u001b[0m\u001b[0;34m[\u001b[0m\u001b[0;34m\"has_index_names\"\u001b[0m\u001b[0;34m]\u001b[0m \u001b[0;34m=\u001b[0m \u001b[0mkwds\u001b[0m\u001b[0;34m[\u001b[0m\u001b[0;34m\"has_index_names\"\u001b[0m\u001b[0;34m]\u001b[0m\u001b[0;34m\u001b[0m\u001b[0;34m\u001b[0m\u001b[0m\n\u001b[1;32m    894\u001b[0m \u001b[0;34m\u001b[0m\u001b[0m\n\u001b[0;32m--> 895\u001b[0;31m         \u001b[0mself\u001b[0m\u001b[0;34m.\u001b[0m\u001b[0m_make_engine\u001b[0m\u001b[0;34m(\u001b[0m\u001b[0mself\u001b[0m\u001b[0;34m.\u001b[0m\u001b[0mengine\u001b[0m\u001b[0;34m)\u001b[0m\u001b[0;34m\u001b[0m\u001b[0;34m\u001b[0m\u001b[0m\n\u001b[0m\u001b[1;32m    896\u001b[0m \u001b[0;34m\u001b[0m\u001b[0m\n\u001b[1;32m    897\u001b[0m     \u001b[0;32mdef\u001b[0m \u001b[0mclose\u001b[0m\u001b[0;34m(\u001b[0m\u001b[0mself\u001b[0m\u001b[0;34m)\u001b[0m\u001b[0;34m:\u001b[0m\u001b[0;34m\u001b[0m\u001b[0;34m\u001b[0m\u001b[0m\n",
      "\u001b[0;32m//anaconda3/lib/python3.7/site-packages/pandas/io/parsers.py\u001b[0m in \u001b[0;36m_make_engine\u001b[0;34m(self, engine)\u001b[0m\n\u001b[1;32m   1133\u001b[0m     \u001b[0;32mdef\u001b[0m \u001b[0m_make_engine\u001b[0m\u001b[0;34m(\u001b[0m\u001b[0mself\u001b[0m\u001b[0;34m,\u001b[0m \u001b[0mengine\u001b[0m\u001b[0;34m=\u001b[0m\u001b[0;34m\"c\"\u001b[0m\u001b[0;34m)\u001b[0m\u001b[0;34m:\u001b[0m\u001b[0;34m\u001b[0m\u001b[0;34m\u001b[0m\u001b[0m\n\u001b[1;32m   1134\u001b[0m         \u001b[0;32mif\u001b[0m \u001b[0mengine\u001b[0m \u001b[0;34m==\u001b[0m \u001b[0;34m\"c\"\u001b[0m\u001b[0;34m:\u001b[0m\u001b[0;34m\u001b[0m\u001b[0;34m\u001b[0m\u001b[0m\n\u001b[0;32m-> 1135\u001b[0;31m             \u001b[0mself\u001b[0m\u001b[0;34m.\u001b[0m\u001b[0m_engine\u001b[0m \u001b[0;34m=\u001b[0m \u001b[0mCParserWrapper\u001b[0m\u001b[0;34m(\u001b[0m\u001b[0mself\u001b[0m\u001b[0;34m.\u001b[0m\u001b[0mf\u001b[0m\u001b[0;34m,\u001b[0m \u001b[0;34m**\u001b[0m\u001b[0mself\u001b[0m\u001b[0;34m.\u001b[0m\u001b[0moptions\u001b[0m\u001b[0;34m)\u001b[0m\u001b[0;34m\u001b[0m\u001b[0;34m\u001b[0m\u001b[0m\n\u001b[0m\u001b[1;32m   1136\u001b[0m         \u001b[0;32melse\u001b[0m\u001b[0;34m:\u001b[0m\u001b[0;34m\u001b[0m\u001b[0;34m\u001b[0m\u001b[0m\n\u001b[1;32m   1137\u001b[0m             \u001b[0;32mif\u001b[0m \u001b[0mengine\u001b[0m \u001b[0;34m==\u001b[0m \u001b[0;34m\"python\"\u001b[0m\u001b[0;34m:\u001b[0m\u001b[0;34m\u001b[0m\u001b[0;34m\u001b[0m\u001b[0m\n",
      "\u001b[0;32m//anaconda3/lib/python3.7/site-packages/pandas/io/parsers.py\u001b[0m in \u001b[0;36m__init__\u001b[0;34m(self, src, **kwds)\u001b[0m\n\u001b[1;32m   1915\u001b[0m         \u001b[0mkwds\u001b[0m\u001b[0;34m[\u001b[0m\u001b[0;34m\"usecols\"\u001b[0m\u001b[0;34m]\u001b[0m \u001b[0;34m=\u001b[0m \u001b[0mself\u001b[0m\u001b[0;34m.\u001b[0m\u001b[0musecols\u001b[0m\u001b[0;34m\u001b[0m\u001b[0;34m\u001b[0m\u001b[0m\n\u001b[1;32m   1916\u001b[0m \u001b[0;34m\u001b[0m\u001b[0m\n\u001b[0;32m-> 1917\u001b[0;31m         \u001b[0mself\u001b[0m\u001b[0;34m.\u001b[0m\u001b[0m_reader\u001b[0m \u001b[0;34m=\u001b[0m \u001b[0mparsers\u001b[0m\u001b[0;34m.\u001b[0m\u001b[0mTextReader\u001b[0m\u001b[0;34m(\u001b[0m\u001b[0msrc\u001b[0m\u001b[0;34m,\u001b[0m \u001b[0;34m**\u001b[0m\u001b[0mkwds\u001b[0m\u001b[0;34m)\u001b[0m\u001b[0;34m\u001b[0m\u001b[0;34m\u001b[0m\u001b[0m\n\u001b[0m\u001b[1;32m   1918\u001b[0m         \u001b[0mself\u001b[0m\u001b[0;34m.\u001b[0m\u001b[0munnamed_cols\u001b[0m \u001b[0;34m=\u001b[0m \u001b[0mself\u001b[0m\u001b[0;34m.\u001b[0m\u001b[0m_reader\u001b[0m\u001b[0;34m.\u001b[0m\u001b[0munnamed_cols\u001b[0m\u001b[0;34m\u001b[0m\u001b[0;34m\u001b[0m\u001b[0m\n\u001b[1;32m   1919\u001b[0m \u001b[0;34m\u001b[0m\u001b[0m\n",
      "\u001b[0;32mpandas/_libs/parsers.pyx\u001b[0m in \u001b[0;36mpandas._libs.parsers.TextReader.__cinit__\u001b[0;34m()\u001b[0m\n",
      "\u001b[0;32mpandas/_libs/parsers.pyx\u001b[0m in \u001b[0;36mpandas._libs.parsers.TextReader._setup_parser_source\u001b[0;34m()\u001b[0m\n",
      "\u001b[0;31mFileNotFoundError\u001b[0m: [Errno 2] File b'./data/listings.csv' does not exist: b'./data/listings.csv'"
     ]
    }
   ],
   "source": [
    "import pandas as pd\n",
    "from pandasql import sqldf\n",
    "df_listings = pd.read_csv(\"./data/listings.csv\")\n",
    "df_calendar = pd.read_csv(\"./data/calendar.csv\")\n",
    "df_reviews = pd.read_csv(\"./data/reviews.csv\")"
   ]
  },
  {
   "cell_type": "code",
   "execution_count": null,
   "metadata": {},
   "outputs": [],
   "source": [
    "num_of_uniq_listings=sqldf(\"SELECT count(id) FROM df_listings\")\n",
    "num_of_uniq_hosts=sqldf(\"SELECT count(distinct host_id) FROM df_listings\")\n",
    "print(\"Number of unique listings:\",int(num_of_uniq_listings[\"count(id)\"]))\n",
    "print(\"Number of unique hosts:\",int(num_of_uniq_hosts[\"count(distinct host_id)\"]))"
   ]
  },
  {
   "cell_type": "markdown",
   "metadata": {},
   "source": [
    "### Question 2: What is the mean, median, standard deviation, minimum and maximum of the number of listings per host in LA? (for each host, you only need to consider the listings from LA)\n",
    "**Question 2 Answer:**\n",
    "\n",
    "mean:        1.713954\n",
    "\n",
    "std:  2.999183\n",
    "\n",
    "median:      1.000000\n",
    "\n",
    "max:      172.000000\n",
    "\n",
    "min:        1.000000\n",
    "\n"
   ]
  },
  {
   "cell_type": "code",
   "execution_count": null,
   "metadata": {},
   "outputs": [],
   "source": [
    "import numpy as np\n",
    "result=df_listings.groupby(by='host_id')[\"id\"].count().agg([np.mean,np.std,np.median,np.max,np.min])\n",
    "print(result)"
   ]
  },
  {
   "cell_type": "markdown",
   "metadata": {},
   "source": [
    "### Question 3: What is the average and standard deviation number of listings for a super host versus a non-super host? Does super host or non-super host have more listings on average?\n",
    "**Question 3 Answer:**\n",
    "\n",
    "for super hosts:\n",
    "mean    1.824264\n",
    "std     3.177892\n",
    "\n",
    "for non-super hosts\n",
    "mean    1.671021\n",
    "std     2.926276\n",
    "\n",
    "super hosts have more listings"
   ]
  },
  {
   "cell_type": "code",
   "execution_count": null,
   "metadata": {},
   "outputs": [],
   "source": [
    "# dataframe a contains the statistics of superhosts\n",
    "a=df_listings[df_listings[\"host_is_superhost\"]==\"t\"]\n",
    "super=a.groupby(by='host_id')[\"id\"].count().agg([np.mean,np.std])\n",
    "\n",
    "# dataframe b contains the statistics of nonsuperhosts\n",
    "b=df_listings[df_listings[\"host_is_superhost\"]==\"f\"]\n",
    "nonsuper=b.groupby(by='host_id')[\"id\"].count().agg([np.mean,np.std]) \n",
    "\n",
    "print(nonsuper)\n",
    "print(super)\n",
    "\n"
   ]
  },
  {
   "cell_type": "markdown",
   "metadata": {},
   "source": [
    "### Question 4: What are the unique types of host verifications are there? (It doesn't matter if you include \"None\" or empty string as a type)\n",
    "**Question 4 Answer:**\n",
    "\n",
    "'email', 'phone', 'facebook', 'reviews', 'kba', 'jumio', 'government_id', 'offline_government_id', 'selfie', 'identity_manual', 'work_email', 'manual_online', 'manual_offline', 'google', '', 'sent_id', 'None', 'sesame', 'sesame_offline', 'photographer', 'zhima_selfie', 'weibo'\n",
    "\n",
    "The length of the list is 22"
   ]
  },
  {
   "cell_type": "code",
   "execution_count": null,
   "metadata": {},
   "outputs": [],
   "source": [
    "types=sqldf(\"select distinct host_verifications as types from df_listings\")\n",
    "type_list=[]\n",
    "for i in types[\"types\"]:\n",
    "    l=i.strip(\"[]\").split(\",\")\n",
    "    for j in l:\n",
    "        j=j.strip(\"'' \")\n",
    "        if j not in type_list:\n",
    "            type_list.append(j)\n",
    "print(type_list)\n",
    "len(type_list)"
   ]
  },
  {
   "cell_type": "markdown",
   "metadata": {},
   "source": [
    "### Question 5: What are the five most popular verification types of hosts? For each type of the top five verifications, how many percent of hosts verify that type?\n",
    "**Question 5 Answer:**\n",
    "\n",
    "Five most popuar types of hosts:\n",
    "'phone' 'email','reviews', ('government_id', 'jumio'\n",
    "\n",
    "0.996766 percent of hosts use 'phone' for verifications\n",
    "\n",
    "0.938370 percent of hosts use 'email' for verifications\n",
    "\n",
    "0.688541 percent of hosts use 'reviews' for verifications\n",
    "\n",
    "0.587689 percent of hosts use 'government_id' for verifications\n",
    "\n",
    "0.433387 percent of hosts use 'jumio' for verifications"
   ]
  },
  {
   "cell_type": "code",
   "execution_count": null,
   "metadata": {},
   "outputs": [],
   "source": [
    "veri_dict={name:0 for name in type_list if name!=\"\" and name !='None'}\n",
    "veri_name=[]\n",
    "number_hosts=len(df_listings['host_id'].unique())\n",
    "for index,row in df_listings.iterrows():\n",
    "    new_list=[t.strip().strip(\"'\") for t in row[\"host_verifications\"].strip(\"][\").split(\",\")]\n",
    "    row_name=row[\"host_id\"]\n",
    "    if row_name not in veri_name:\n",
    "        veri_name.append(row_name)\n",
    "        for every in new_list:\n",
    "            if every in veri_dict.keys():\n",
    "                veri_dict[every]+=1\n",
    "top5_list=sorted(veri_dict.items(),key = lambda x:x[1],reverse = True)[0:5]  \n",
    "top5_list\n",
    "[[i[0],str(round(i[1]/number_hosts,4)*100)+\"%\"] for i in top5_list]"
   ]
  },
  {
   "cell_type": "markdown",
   "metadata": {},
   "source": [
    "### Question 6: What is the mean, standard deviation of the average price of a listing in Los Angles from 01/01/2020 to 03/01/2020 (inclusive)? (For listings that are not available in this time, you should not count them in the average price.)\n",
    "\n",
    "**Question 6 Answer:**\n",
    "\n",
    "mean: 254.77822712824937\n",
    "\n",
    "std: 684.7417674825136"
   ]
  },
  {
   "cell_type": "code",
   "execution_count": null,
   "metadata": {
    "scrolled": true
   },
   "outputs": [],
   "source": [
    "df_calendar[\"date\"]=pd.to_datetime(df_calendar[\"date\"])\n",
    "df_calendar[\"price\"]=df_calendar[\"price\"].apply(lambda x: str(x))\n",
    "df_calendar[\"price\"]=df_calendar[\"price\"].apply(lambda x:(x.strip(\"$\").replace(\",\",\"\")))\n",
    "df_calendar[\"price\"]=df_calendar[\"price\"].apply(lambda x: float(x))\n",
    "start_time='2020-01-01'\n",
    "end_time='2020-03-01'\n",
    "time = (df_calendar['date'] >= start_time) & (df_calendar['date'] <= end_time)\n",
    "df_cut = df_calendar.loc[time]\n",
    "df_cut=df_cut[df_cut[\"available\"]=='t']\n",
    "\n",
    "prices = []\n",
    "id_list= list(set(df_cut['listing_id']))\n",
    "\n",
    "for listing_id in id_list:\n",
    "    avg_price = np.nanmean(df_cut.loc[df_cut['listing_id'] == listing_id, 'price'])\n",
    "    prices.append(avg_price)"
   ]
  },
  {
   "cell_type": "code",
   "execution_count": null,
   "metadata": {},
   "outputs": [],
   "source": [
    "mean=np.nanmean(prices)\n",
    "std=np.nanstd(prices)\n",
    "print(mean, std)"
   ]
  },
  {
   "cell_type": "markdown",
   "metadata": {},
   "source": [
    "### Question 7: For reviews that are written in Jan, 2016, what are the most popular ten words except stopping words? What about reviews written in March, 2017 and April, 2018?\n",
    "**Hint**: You need to use NTLK stopping words to find the stopping words in Python. You also need to remove punctuation and numbers\n",
    "\n",
    "**Question 7 Answer:**\n",
    "\n",
    "the top 10 popular words in January 2016:  ['I', 'The', 'stay', 'great', 'place', 'We', 'us', 'clean', 'house', 'location']\\\n",
    "the top 10 popular words in March 2017:  ['I', 'place', 'The', 'stay', 'great', 'location', 'clean', 'We', 'host', 'nice']\\\n",
    "the top 10 popular words in April 2018:  ['place', 'I', 'The', 'stay', 'great', 'location', 'clean', 'We', 'host', 'nice']"
   ]
  },
  {
   "cell_type": "code",
   "execution_count": 33,
   "metadata": {},
   "outputs": [
    {
     "name": "stderr",
     "output_type": "stream",
     "text": [
      "[nltk_data] Downloading package stopwords to\n",
      "[nltk_data]     /Users/fortunagd/nltk_data...\n",
      "[nltk_data]   Package stopwords is already up-to-date!\n"
     ]
    }
   ],
   "source": [
    "import nltk\n",
    "from nltk.corpus import stopwords\n",
    "nltk.download('stopwords')\n",
    "df_reviews[\"date\"]=pd.to_datetime(df_reviews[\"date\"])\n",
    "list_stopwords = set(stopwords.words('english'))\n",
    "punctuations = '''!()-[]{};:'\"\\,<>./?@#$%^&*_~'''\n",
    "num='0123456789'\n",
    "\n",
    "begin=pd.to_datetime(\"2016-01-01\")\n",
    "end=pd.to_datetime(\"2016-01-31\")\n",
    "df_reviews_1=df_reviews.loc[(df_reviews[\"date\"]>=begin) & (df_reviews[\"date\"]<=end)]\n",
    "\n",
    "begin=pd.to_datetime(\"2017-03-01\")\n",
    "end=pd.to_datetime(\"2017-03-31\")\n",
    "df_reviews_2=df_reviews.loc[(df_reviews[\"date\"]>=begin) & (df_reviews[\"date\"]<=end)]\n",
    "\n",
    "begin=pd.to_datetime(\"2018-04-01\")\n",
    "end=pd.to_datetime(\"2018-04-30\")\n",
    "df_reviews_3=df_reviews.loc[(df_reviews[\"date\"]>=begin) & (df_reviews[\"date\"]<=end)]"
   ]
  },
  {
   "cell_type": "code",
   "execution_count": 34,
   "metadata": {},
   "outputs": [],
   "source": [
    "def pop_word(df):\n",
    "    pop_word_dict={}\n",
    "    \n",
    "    for index,row in df.iterrows():\n",
    "        list_comment = str(row[\"comments\"]).strip(\".\\n\").replace(\"\\r\",\" \").replace(\"\\n\",\" \").split(\" \")\n",
    "        for i in list_comment:\n",
    "            if i not in list_stopwords:\n",
    "                for j in i: \n",
    "                    if j in punctuations or j in num:\n",
    "                        i = i.replace(j, \"\") \n",
    "                if i != \"\":\n",
    "                    if i not in pop_word_dict:\n",
    "                        pop_word_dict[i]=1\n",
    "                    else:\n",
    "                        pop_word_dict[i]=pop_word_dict[i]+1\n",
    "    top10=sorted(pop_word_dict.items(), key=lambda x: x[1], reverse=True)[0:10]\n",
    "    list_return=[]\n",
    "    for i in top10:\n",
    "        list_return.append(i[0])\n",
    "    return(list_return)"
   ]
  },
  {
   "cell_type": "code",
   "execution_count": 35,
   "metadata": {},
   "outputs": [
    {
     "name": "stdout",
     "output_type": "stream",
     "text": [
      "the top 10 popular words in January 2016:  ['I', 'The', 'stay', 'great', 'place', 'We', 'us', 'clean', 'house', 'location']\n",
      "the top 10 popular words in March 2017:  ['I', 'place', 'The', 'stay', 'great', 'location', 'clean', 'We', 'host', 'nice']\n",
      "the top 10 popular words in April 2018:  ['place', 'I', 'The', 'stay', 'great', 'location', 'clean', 'We', 'host', 'nice']\n"
     ]
    }
   ],
   "source": [
    "print(\"the top 10 popular words in January 2016: \",pop_word(df_reviews_1))\n",
    "print(\"the top 10 popular words in March 2017: \",pop_word(df_reviews_2))\n",
    "print(\"the top 10 popular words in April 2018: \",pop_word(df_reviews_3))"
   ]
  },
  {
   "cell_type": "markdown",
   "metadata": {},
   "source": [
    "### Question 8: Which five zipcode has the highest average listing price and has at least 30 listings (again only considering available dates) between 2020-01-01 to 2020-02-01 (inclusive)? What are these listing prices? What are the number of active listings and number of hosts in these top five zipcodes (a listing is active if it has at least one available date in the calendar data)?\n",
    "\n",
    "**Question 8 Answer:**\n"
   ]
  },
  {
   "cell_type": "code",
   "execution_count": 36,
   "metadata": {},
   "outputs": [
    {
     "data": {
      "text/html": [
       "<div>\n",
       "<style scoped>\n",
       "    .dataframe tbody tr th:only-of-type {\n",
       "        vertical-align: middle;\n",
       "    }\n",
       "\n",
       "    .dataframe tbody tr th {\n",
       "        vertical-align: top;\n",
       "    }\n",
       "\n",
       "    .dataframe thead th {\n",
       "        text-align: right;\n",
       "    }\n",
       "</style>\n",
       "<table border=\"1\" class=\"dataframe\">\n",
       "  <thead>\n",
       "    <tr style=\"text-align: right;\">\n",
       "      <th></th>\n",
       "      <th>listing_id</th>\n",
       "      <th>date</th>\n",
       "      <th>available</th>\n",
       "      <th>price</th>\n",
       "      <th>adjusted_price</th>\n",
       "      <th>minimum_nights</th>\n",
       "      <th>maximum_nights</th>\n",
       "      <th>weekdayno</th>\n",
       "      <th>id</th>\n",
       "      <th>zipcode</th>\n",
       "    </tr>\n",
       "  </thead>\n",
       "  <tbody>\n",
       "    <tr>\n",
       "      <th>0</th>\n",
       "      <td>109</td>\n",
       "      <td>2020-01-01 00:00:00.000000</td>\n",
       "      <td>f</td>\n",
       "      <td>147.0</td>\n",
       "      <td>$147.00</td>\n",
       "      <td>30</td>\n",
       "      <td>730</td>\n",
       "      <td>2</td>\n",
       "      <td>109</td>\n",
       "      <td>90230</td>\n",
       "    </tr>\n",
       "    <tr>\n",
       "      <th>1</th>\n",
       "      <td>109</td>\n",
       "      <td>2020-01-02 00:00:00.000000</td>\n",
       "      <td>f</td>\n",
       "      <td>147.0</td>\n",
       "      <td>$147.00</td>\n",
       "      <td>30</td>\n",
       "      <td>730</td>\n",
       "      <td>3</td>\n",
       "      <td>109</td>\n",
       "      <td>90230</td>\n",
       "    </tr>\n",
       "    <tr>\n",
       "      <th>2</th>\n",
       "      <td>109</td>\n",
       "      <td>2020-01-03 00:00:00.000000</td>\n",
       "      <td>f</td>\n",
       "      <td>143.0</td>\n",
       "      <td>$143.00</td>\n",
       "      <td>30</td>\n",
       "      <td>730</td>\n",
       "      <td>4</td>\n",
       "      <td>109</td>\n",
       "      <td>90230</td>\n",
       "    </tr>\n",
       "    <tr>\n",
       "      <th>3</th>\n",
       "      <td>109</td>\n",
       "      <td>2020-01-04 00:00:00.000000</td>\n",
       "      <td>f</td>\n",
       "      <td>139.0</td>\n",
       "      <td>$139.00</td>\n",
       "      <td>30</td>\n",
       "      <td>730</td>\n",
       "      <td>5</td>\n",
       "      <td>109</td>\n",
       "      <td>90230</td>\n",
       "    </tr>\n",
       "    <tr>\n",
       "      <th>4</th>\n",
       "      <td>109</td>\n",
       "      <td>2020-01-05 00:00:00.000000</td>\n",
       "      <td>f</td>\n",
       "      <td>135.0</td>\n",
       "      <td>$135.00</td>\n",
       "      <td>30</td>\n",
       "      <td>730</td>\n",
       "      <td>6</td>\n",
       "      <td>109</td>\n",
       "      <td>90230</td>\n",
       "    </tr>\n",
       "  </tbody>\n",
       "</table>\n",
       "</div>"
      ],
      "text/plain": [
       "   listing_id                        date available  price adjusted_price  \\\n",
       "0         109  2020-01-01 00:00:00.000000         f  147.0        $147.00   \n",
       "1         109  2020-01-02 00:00:00.000000         f  147.0        $147.00   \n",
       "2         109  2020-01-03 00:00:00.000000         f  143.0        $143.00   \n",
       "3         109  2020-01-04 00:00:00.000000         f  139.0        $139.00   \n",
       "4         109  2020-01-05 00:00:00.000000         f  135.0        $135.00   \n",
       "\n",
       "   minimum_nights  maximum_nights  weekdayno   id zipcode  \n",
       "0              30             730          2  109   90230  \n",
       "1              30             730          3  109   90230  \n",
       "2              30             730          4  109   90230  \n",
       "3              30             730          5  109   90230  \n",
       "4              30             730          6  109   90230  "
      ]
     },
     "execution_count": 36,
     "metadata": {},
     "output_type": "execute_result"
    }
   ],
   "source": [
    "from pandasql import sqldf\n",
    "df_calendar[\"date\"]=pd.to_datetime(df_calendar[\"date\"])\n",
    "begin=pd.to_datetime(\"2020-01-01\")\n",
    "end=pd.to_datetime(\"2020-02-01\")\n",
    "df_calendar_2020=df_calendar.loc[(df_calendar[\"date\"]>=begin) & (df_calendar[\"date\"]<=end)]\n",
    "df_calendar_2020.reset_index(drop=True,inplace=True)\n",
    "df_all_2020=sqldf(\"select * from df_calendar_2020 left join \\\n",
    "(select id,zipcode from df_listings) as t1 \\\n",
    "on (df_calendar_2020.listing_id=t1.id)\")\n",
    "df_all_2020[\"price\"]=df_all_2020['price']\n",
    "df_all_2020.head()"
   ]
  },
  {
   "cell_type": "code",
   "execution_count": 37,
   "metadata": {},
   "outputs": [
    {
     "data": {
      "text/html": [
       "<div>\n",
       "<style scoped>\n",
       "    .dataframe tbody tr th:only-of-type {\n",
       "        vertical-align: middle;\n",
       "    }\n",
       "\n",
       "    .dataframe tbody tr th {\n",
       "        vertical-align: top;\n",
       "    }\n",
       "\n",
       "    .dataframe thead th {\n",
       "        text-align: right;\n",
       "    }\n",
       "</style>\n",
       "<table border=\"1\" class=\"dataframe\">\n",
       "  <thead>\n",
       "    <tr style=\"text-align: right;\">\n",
       "      <th></th>\n",
       "      <th>zipcode</th>\n",
       "      <th>price</th>\n",
       "      <th>act_listings</th>\n",
       "      <th>num_host</th>\n",
       "    </tr>\n",
       "  </thead>\n",
       "  <tbody>\n",
       "    <tr>\n",
       "      <th>0</th>\n",
       "      <td>90077</td>\n",
       "      <td>1866.323836</td>\n",
       "      <td>74</td>\n",
       "      <td>68</td>\n",
       "    </tr>\n",
       "    <tr>\n",
       "      <th>1</th>\n",
       "      <td>90210</td>\n",
       "      <td>1622.869885</td>\n",
       "      <td>278</td>\n",
       "      <td>262</td>\n",
       "    </tr>\n",
       "    <tr>\n",
       "      <th>2</th>\n",
       "      <td>90265</td>\n",
       "      <td>1411.433984</td>\n",
       "      <td>329</td>\n",
       "      <td>321</td>\n",
       "    </tr>\n",
       "    <tr>\n",
       "      <th>3</th>\n",
       "      <td>90069</td>\n",
       "      <td>835.166667</td>\n",
       "      <td>423</td>\n",
       "      <td>473</td>\n",
       "    </tr>\n",
       "    <tr>\n",
       "      <th>4</th>\n",
       "      <td>91436</td>\n",
       "      <td>687.562500</td>\n",
       "      <td>40</td>\n",
       "      <td>51</td>\n",
       "    </tr>\n",
       "  </tbody>\n",
       "</table>\n",
       "</div>"
      ],
      "text/plain": [
       "  zipcode        price  act_listings  num_host\n",
       "0   90077  1866.323836            74        68\n",
       "1   90210  1622.869885           278       262\n",
       "2   90265  1411.433984           329       321\n",
       "3   90069   835.166667           423       473\n",
       "4   91436   687.562500            40        51"
      ]
     },
     "execution_count": 37,
     "metadata": {},
     "output_type": "execute_result"
    }
   ],
   "source": [
    "df_g30_2020=df_all_2020.groupby(\"zipcode\")[\"listing_id\"].nunique()\n",
    "df_g30_2020=list(df_g30_2020[df_g30_2020>=30].index)\n",
    "df_avg_2020=df_all_2020.groupby(\"zipcode\")[\"price\"].mean().sort_values(ascending=False)\n",
    "df_avg_2020=df_avg_2020[df_avg_2020.index.isin(df_g30_2020)][0:5]\n",
    "\n",
    "top_5=df_all_2020.loc[df_all_2020[\"zipcode\"].isin(df_avg_2020.index),:]\n",
    "top_5=top_5.loc[top_5.available==\"t\",:][[\"zipcode\",\"listing_id\"]]\n",
    "temp1=top_5.groupby(\"zipcode\").listing_id.nunique()\n",
    "\n",
    "temp2=pd.DataFrame(df_listings.loc[df_listings[\"zipcode\"].isin(df_avg_2020.index),:].\\\n",
    "                  groupby(\"zipcode\")[\"host_id\"].nunique())\n",
    "sqldf(\"select zipcode,price,listing_id as act_listings,host_id as num_host \\\n",
    "from df_avg_2020 join temp1 using (zipcode) join temp2 using (zipcode)\")"
   ]
  },
  {
   "cell_type": "markdown",
   "metadata": {},
   "source": [
    "### Question 9: Focusing on the data from 2020-01-01 to 2020-04-01 (inclusive), what are five zipcodes that have at least 30 listings and have the largest absolute difference between the average prices on weekends versus the average prices on weekdays? (Weekends = Saturday and Sunday). Please give the zipcodes as well as the listing prices\n",
    "**Question 9 Answer:**\n",
    "\n",
    " zipcode, listing prices:\\\n",
    "[['91384', 29.55333050787597],\\\n",
    " ['90265', 26.201976495726285],\\\n",
    " ['90210', 14.130565938750124],\\\n",
    " ['90069', 9.445431445431495],\\\n",
    " ['91208', 8.922734128616469]]"
   ]
  },
  {
   "cell_type": "code",
   "execution_count": 76,
   "metadata": {},
   "outputs": [
    {
     "data": {
      "text/html": [
       "<div>\n",
       "<style scoped>\n",
       "    .dataframe tbody tr th:only-of-type {\n",
       "        vertical-align: middle;\n",
       "    }\n",
       "\n",
       "    .dataframe tbody tr th {\n",
       "        vertical-align: top;\n",
       "    }\n",
       "\n",
       "    .dataframe thead th {\n",
       "        text-align: right;\n",
       "    }\n",
       "</style>\n",
       "<table border=\"1\" class=\"dataframe\">\n",
       "  <thead>\n",
       "    <tr style=\"text-align: right;\">\n",
       "      <th></th>\n",
       "      <th>listing_id</th>\n",
       "      <th>date</th>\n",
       "      <th>available</th>\n",
       "      <th>price</th>\n",
       "      <th>adjusted_price</th>\n",
       "      <th>minimum_nights</th>\n",
       "      <th>maximum_nights</th>\n",
       "      <th>weekdayno</th>\n",
       "      <th>id</th>\n",
       "      <th>zipcode</th>\n",
       "      <th>weekday</th>\n",
       "      <th>is_weekday</th>\n",
       "    </tr>\n",
       "  </thead>\n",
       "  <tbody>\n",
       "    <tr>\n",
       "      <th>0</th>\n",
       "      <td>109</td>\n",
       "      <td>2020-01-01 00:00:00.000000</td>\n",
       "      <td>f</td>\n",
       "      <td>147.0</td>\n",
       "      <td>$147.00</td>\n",
       "      <td>30</td>\n",
       "      <td>730</td>\n",
       "      <td>2</td>\n",
       "      <td>109</td>\n",
       "      <td>90230</td>\n",
       "      <td>2</td>\n",
       "      <td>True</td>\n",
       "    </tr>\n",
       "    <tr>\n",
       "      <th>1</th>\n",
       "      <td>109</td>\n",
       "      <td>2020-01-02 00:00:00.000000</td>\n",
       "      <td>f</td>\n",
       "      <td>147.0</td>\n",
       "      <td>$147.00</td>\n",
       "      <td>30</td>\n",
       "      <td>730</td>\n",
       "      <td>3</td>\n",
       "      <td>109</td>\n",
       "      <td>90230</td>\n",
       "      <td>3</td>\n",
       "      <td>True</td>\n",
       "    </tr>\n",
       "    <tr>\n",
       "      <th>2</th>\n",
       "      <td>109</td>\n",
       "      <td>2020-01-03 00:00:00.000000</td>\n",
       "      <td>f</td>\n",
       "      <td>143.0</td>\n",
       "      <td>$143.00</td>\n",
       "      <td>30</td>\n",
       "      <td>730</td>\n",
       "      <td>4</td>\n",
       "      <td>109</td>\n",
       "      <td>90230</td>\n",
       "      <td>4</td>\n",
       "      <td>True</td>\n",
       "    </tr>\n",
       "    <tr>\n",
       "      <th>3</th>\n",
       "      <td>109</td>\n",
       "      <td>2020-01-04 00:00:00.000000</td>\n",
       "      <td>f</td>\n",
       "      <td>139.0</td>\n",
       "      <td>$139.00</td>\n",
       "      <td>30</td>\n",
       "      <td>730</td>\n",
       "      <td>5</td>\n",
       "      <td>109</td>\n",
       "      <td>90230</td>\n",
       "      <td>5</td>\n",
       "      <td>True</td>\n",
       "    </tr>\n",
       "    <tr>\n",
       "      <th>4</th>\n",
       "      <td>109</td>\n",
       "      <td>2020-01-05 00:00:00.000000</td>\n",
       "      <td>f</td>\n",
       "      <td>135.0</td>\n",
       "      <td>$135.00</td>\n",
       "      <td>30</td>\n",
       "      <td>730</td>\n",
       "      <td>6</td>\n",
       "      <td>109</td>\n",
       "      <td>90230</td>\n",
       "      <td>6</td>\n",
       "      <td>False</td>\n",
       "    </tr>\n",
       "    <tr>\n",
       "      <th>5</th>\n",
       "      <td>109</td>\n",
       "      <td>2020-01-06 00:00:00.000000</td>\n",
       "      <td>f</td>\n",
       "      <td>132.0</td>\n",
       "      <td>$132.00</td>\n",
       "      <td>30</td>\n",
       "      <td>730</td>\n",
       "      <td>0</td>\n",
       "      <td>109</td>\n",
       "      <td>90230</td>\n",
       "      <td>0</td>\n",
       "      <td>False</td>\n",
       "    </tr>\n",
       "    <tr>\n",
       "      <th>6</th>\n",
       "      <td>109</td>\n",
       "      <td>2020-01-07 00:00:00.000000</td>\n",
       "      <td>f</td>\n",
       "      <td>128.0</td>\n",
       "      <td>$128.00</td>\n",
       "      <td>30</td>\n",
       "      <td>730</td>\n",
       "      <td>1</td>\n",
       "      <td>109</td>\n",
       "      <td>90230</td>\n",
       "      <td>1</td>\n",
       "      <td>True</td>\n",
       "    </tr>\n",
       "    <tr>\n",
       "      <th>7</th>\n",
       "      <td>109</td>\n",
       "      <td>2020-01-08 00:00:00.000000</td>\n",
       "      <td>f</td>\n",
       "      <td>124.0</td>\n",
       "      <td>$124.00</td>\n",
       "      <td>30</td>\n",
       "      <td>730</td>\n",
       "      <td>2</td>\n",
       "      <td>109</td>\n",
       "      <td>90230</td>\n",
       "      <td>2</td>\n",
       "      <td>True</td>\n",
       "    </tr>\n",
       "    <tr>\n",
       "      <th>8</th>\n",
       "      <td>109</td>\n",
       "      <td>2020-01-09 00:00:00.000000</td>\n",
       "      <td>f</td>\n",
       "      <td>120.0</td>\n",
       "      <td>$120.00</td>\n",
       "      <td>30</td>\n",
       "      <td>730</td>\n",
       "      <td>3</td>\n",
       "      <td>109</td>\n",
       "      <td>90230</td>\n",
       "      <td>3</td>\n",
       "      <td>True</td>\n",
       "    </tr>\n",
       "    <tr>\n",
       "      <th>9</th>\n",
       "      <td>109</td>\n",
       "      <td>2020-01-10 00:00:00.000000</td>\n",
       "      <td>f</td>\n",
       "      <td>117.0</td>\n",
       "      <td>$117.00</td>\n",
       "      <td>30</td>\n",
       "      <td>730</td>\n",
       "      <td>4</td>\n",
       "      <td>109</td>\n",
       "      <td>90230</td>\n",
       "      <td>4</td>\n",
       "      <td>True</td>\n",
       "    </tr>\n",
       "  </tbody>\n",
       "</table>\n",
       "</div>"
      ],
      "text/plain": [
       "   listing_id                        date available  price adjusted_price  \\\n",
       "0         109  2020-01-01 00:00:00.000000         f  147.0        $147.00   \n",
       "1         109  2020-01-02 00:00:00.000000         f  147.0        $147.00   \n",
       "2         109  2020-01-03 00:00:00.000000         f  143.0        $143.00   \n",
       "3         109  2020-01-04 00:00:00.000000         f  139.0        $139.00   \n",
       "4         109  2020-01-05 00:00:00.000000         f  135.0        $135.00   \n",
       "5         109  2020-01-06 00:00:00.000000         f  132.0        $132.00   \n",
       "6         109  2020-01-07 00:00:00.000000         f  128.0        $128.00   \n",
       "7         109  2020-01-08 00:00:00.000000         f  124.0        $124.00   \n",
       "8         109  2020-01-09 00:00:00.000000         f  120.0        $120.00   \n",
       "9         109  2020-01-10 00:00:00.000000         f  117.0        $117.00   \n",
       "\n",
       "   minimum_nights  maximum_nights  weekdayno   id zipcode  weekday  is_weekday  \n",
       "0              30             730          2  109   90230        2        True  \n",
       "1              30             730          3  109   90230        3        True  \n",
       "2              30             730          4  109   90230        4        True  \n",
       "3              30             730          5  109   90230        5        True  \n",
       "4              30             730          6  109   90230        6       False  \n",
       "5              30             730          0  109   90230        0       False  \n",
       "6              30             730          1  109   90230        1        True  \n",
       "7              30             730          2  109   90230        2        True  \n",
       "8              30             730          3  109   90230        3        True  \n",
       "9              30             730          4  109   90230        4        True  "
      ]
     },
     "execution_count": 76,
     "metadata": {},
     "output_type": "execute_result"
    }
   ],
   "source": [
    "begin=pd.to_datetime(\"2020-01-01\")\n",
    "end=pd.to_datetime(\"2020-04-01\")\n",
    "df_calendar_9=df_calendar.loc[(df_calendar[\"date\"]>=begin) & (df_calendar[\"date\"]<=end),:]\n",
    "df_calendar_9.reset_index(drop=True,inplace=True)\n",
    "df_all_9=sqldf(\"select * from df_calendar_9 left join \\\n",
    "(select id,zipcode from df_listings) as t1 \\\n",
    "on (df_calendar_9.listing_id=t1.id)\")\n",
    "df_all_9[\"weekday\"]=pd.to_datetime(df_all_9[\"date\"]).dt.weekday\n",
    "df_all_9[\"is_weekday\"]=(df_all_9[\"weekday\"]>0) & (df_all_9[\"weekday\"]<6)\n",
    "df_all_9.head(10)"
   ]
  },
  {
   "cell_type": "code",
   "execution_count": 81,
   "metadata": {},
   "outputs": [
    {
     "name": "stderr",
     "output_type": "stream",
     "text": [
      "//anaconda3/lib/python3.7/site-packages/ipykernel_launcher.py:5: SettingWithCopyWarning: \n",
      "A value is trying to be set on a copy of a slice from a DataFrame.\n",
      "Try using .loc[row_indexer,col_indexer] = value instead\n",
      "\n",
      "See the caveats in the documentation: http://pandas.pydata.org/pandas-docs/stable/user_guide/indexing.html#returning-a-view-versus-a-copy\n",
      "  \"\"\"\n",
      "//anaconda3/lib/python3.7/site-packages/ipykernel_launcher.py:6: SettingWithCopyWarning: \n",
      "A value is trying to be set on a copy of a slice from a DataFrame.\n",
      "Try using .loc[row_indexer,col_indexer] = value instead\n",
      "\n",
      "See the caveats in the documentation: http://pandas.pydata.org/pandas-docs/stable/user_guide/indexing.html#returning-a-view-versus-a-copy\n",
      "  \n",
      "//anaconda3/lib/python3.7/site-packages/ipykernel_launcher.py:7: SettingWithCopyWarning: \n",
      "A value is trying to be set on a copy of a slice from a DataFrame.\n",
      "Try using .loc[row_indexer,col_indexer] = value instead\n",
      "\n",
      "See the caveats in the documentation: http://pandas.pydata.org/pandas-docs/stable/user_guide/indexing.html#returning-a-view-versus-a-copy\n",
      "  import sys\n"
     ]
    },
    {
     "data": {
      "text/plain": [
       "[['91384', 29.55333050787597],\n",
       " ['90265', 26.201976495726285],\n",
       " ['90210', 14.130565938750124],\n",
       " ['90069', 9.445431445431495],\n",
       " ['91208', 8.922734128616469]]"
      ]
     },
     "execution_count": 81,
     "metadata": {},
     "output_type": "execute_result"
    }
   ],
   "source": [
    "new_df=sqldf(\"select * from \\\n",
    "(select zipcode,count(distinct listing_id) as num from df_all_9 group by zipcode) as t1 \\\n",
    "where t1.num>=30\")\n",
    "df_sec_9=df_all_9.loc[df_all_9[\"zipcode\"].isin(list(new_df.zipcode)),:]\n",
    "df_sec_9[\"price\"]=df_sec_9[\"price\"].apply(lambda x: str(x))\n",
    "df_sec_9[\"price\"]=df_sec_9[\"price\"].apply(lambda x:(x.strip(\"$\").replace(\",\",\"\")))\n",
    "df_sec_9[\"price\"]=df_sec_9[\"price\"].apply(lambda x: float(x))\n",
    "\n",
    "df_sec_9=pd.DataFrame(df_sec_9.groupby([\"zipcode\",\"is_weekday\"]).price.mean())\n",
    "list_5=[[i,max(df_sec_9.loc[i,\"price\"])-min(df_sec_9.loc[i,\"price\"])] for i in df_sec_9.index.levels[0]]\n",
    "sorted(list_5,key=lambda x:x[1],reverse=True)[0:5]"
   ]
  },
  {
   "cell_type": "markdown",
   "metadata": {},
   "source": [
    "### Question 10: What is the average and standard deviation of the daily total capacity at Airbnb Los Angeles from 2020-01-01 to 2020-04-01? The daily total capacity in a day is the number of beds that are available in that given date. What is the average and standard deviation of the daily price per bed at Airbnb Los Angeles from 2020-01-01 to 2020-04-01?\n",
    "**Question 10 Answer:**\n"
   ]
  },
  {
   "cell_type": "markdown",
   "metadata": {},
   "source": [
    "Daily total capacity:\n",
    "mean    1.989640\n",
    "std     1.672188\\\n",
    "Daily price per bed\n",
    "mean    103.499854\n",
    "std     196.946012"
   ]
  },
  {
   "cell_type": "code",
   "execution_count": 13,
   "metadata": {},
   "outputs": [
    {
     "data": {
      "text/html": [
       "<div>\n",
       "<style scoped>\n",
       "    .dataframe tbody tr th:only-of-type {\n",
       "        vertical-align: middle;\n",
       "    }\n",
       "\n",
       "    .dataframe tbody tr th {\n",
       "        vertical-align: top;\n",
       "    }\n",
       "\n",
       "    .dataframe thead th {\n",
       "        text-align: right;\n",
       "    }\n",
       "</style>\n",
       "<table border=\"1\" class=\"dataframe\">\n",
       "  <thead>\n",
       "    <tr style=\"text-align: right;\">\n",
       "      <th></th>\n",
       "      <th>listing_id</th>\n",
       "      <th>date</th>\n",
       "      <th>available</th>\n",
       "      <th>price</th>\n",
       "      <th>adjusted_price</th>\n",
       "      <th>minimum_nights</th>\n",
       "      <th>maximum_nights</th>\n",
       "      <th>weekdayno</th>\n",
       "      <th>id</th>\n",
       "      <th>beds</th>\n",
       "    </tr>\n",
       "  </thead>\n",
       "  <tbody>\n",
       "    <tr>\n",
       "      <th>0</th>\n",
       "      <td>109</td>\n",
       "      <td>2020-01-01 00:00:00.000000</td>\n",
       "      <td>f</td>\n",
       "      <td>147.0</td>\n",
       "      <td>$147.00</td>\n",
       "      <td>30</td>\n",
       "      <td>730</td>\n",
       "      <td>2</td>\n",
       "      <td>109</td>\n",
       "      <td>3.0</td>\n",
       "    </tr>\n",
       "    <tr>\n",
       "      <th>1</th>\n",
       "      <td>109</td>\n",
       "      <td>2020-01-02 00:00:00.000000</td>\n",
       "      <td>f</td>\n",
       "      <td>147.0</td>\n",
       "      <td>$147.00</td>\n",
       "      <td>30</td>\n",
       "      <td>730</td>\n",
       "      <td>3</td>\n",
       "      <td>109</td>\n",
       "      <td>3.0</td>\n",
       "    </tr>\n",
       "    <tr>\n",
       "      <th>2</th>\n",
       "      <td>109</td>\n",
       "      <td>2020-01-03 00:00:00.000000</td>\n",
       "      <td>f</td>\n",
       "      <td>143.0</td>\n",
       "      <td>$143.00</td>\n",
       "      <td>30</td>\n",
       "      <td>730</td>\n",
       "      <td>4</td>\n",
       "      <td>109</td>\n",
       "      <td>3.0</td>\n",
       "    </tr>\n",
       "    <tr>\n",
       "      <th>3</th>\n",
       "      <td>109</td>\n",
       "      <td>2020-01-04 00:00:00.000000</td>\n",
       "      <td>f</td>\n",
       "      <td>139.0</td>\n",
       "      <td>$139.00</td>\n",
       "      <td>30</td>\n",
       "      <td>730</td>\n",
       "      <td>5</td>\n",
       "      <td>109</td>\n",
       "      <td>3.0</td>\n",
       "    </tr>\n",
       "    <tr>\n",
       "      <th>4</th>\n",
       "      <td>109</td>\n",
       "      <td>2020-01-05 00:00:00.000000</td>\n",
       "      <td>f</td>\n",
       "      <td>135.0</td>\n",
       "      <td>$135.00</td>\n",
       "      <td>30</td>\n",
       "      <td>730</td>\n",
       "      <td>6</td>\n",
       "      <td>109</td>\n",
       "      <td>3.0</td>\n",
       "    </tr>\n",
       "  </tbody>\n",
       "</table>\n",
       "</div>"
      ],
      "text/plain": [
       "   listing_id                        date available  price adjusted_price  \\\n",
       "0         109  2020-01-01 00:00:00.000000         f  147.0        $147.00   \n",
       "1         109  2020-01-02 00:00:00.000000         f  147.0        $147.00   \n",
       "2         109  2020-01-03 00:00:00.000000         f  143.0        $143.00   \n",
       "3         109  2020-01-04 00:00:00.000000         f  139.0        $139.00   \n",
       "4         109  2020-01-05 00:00:00.000000         f  135.0        $135.00   \n",
       "\n",
       "   minimum_nights  maximum_nights  weekdayno   id  beds  \n",
       "0              30             730          2  109   3.0  \n",
       "1              30             730          3  109   3.0  \n",
       "2              30             730          4  109   3.0  \n",
       "3              30             730          5  109   3.0  \n",
       "4              30             730          6  109   3.0  "
      ]
     },
     "execution_count": 13,
     "metadata": {},
     "output_type": "execute_result"
    }
   ],
   "source": [
    "from pandasql import sqldf\n",
    "df_calendar[\"date\"]=pd.to_datetime(df_calendar[\"date\"])\n",
    "df_calendar[\"price\"]=df_calendar[\"price\"].apply(lambda x: str(x))\n",
    "df_calendar[\"price\"]=df_calendar[\"price\"].apply(lambda x:(x.strip(\"$\").replace(\",\",\"\")))\n",
    "df_calendar[\"price\"]=df_calendar[\"price\"].apply(lambda x: float(x))\n",
    "begin=pd.to_datetime(\"2020-01-01\")\n",
    "end=pd.to_datetime(\"2020-04-01\")\n",
    "df_calendar_2020=df_calendar.loc[(df_calendar[\"date\"]>=begin) & (df_calendar[\"date\"]<=end)]\n",
    "df_calendar_2020.reset_index(drop=True,inplace=True)\n",
    "df_all_bed=sqldf(\"select * from df_calendar_2020 left join \\\n",
    "(select id,beds from df_listings) as t1 \\\n",
    "on (df_calendar_2020.listing_id=t1.id)\")\n",
    "df_all_bed.head()"
   ]
  },
  {
   "cell_type": "code",
   "execution_count": 52,
   "metadata": {},
   "outputs": [
    {
     "name": "stdout",
     "output_type": "stream",
     "text": [
      "daily total capacity\n"
     ]
    },
    {
     "data": {
      "text/plain": [
       "mean    1.989640\n",
       "std     1.672188\n",
       "Name: beds, dtype: float64"
      ]
     },
     "execution_count": 52,
     "metadata": {},
     "output_type": "execute_result"
    }
   ],
   "source": [
    "import numpy as np\n",
    "print(\"Daily total capacity\")\n",
    "bed_stat = df_all_bed.beds.agg([np.mean,np.std])\n",
    "bed_stat"
   ]
  },
  {
   "cell_type": "code",
   "execution_count": 55,
   "metadata": {},
   "outputs": [
    {
     "name": "stdout",
     "output_type": "stream",
     "text": [
      "Daily price per bed\n"
     ]
    },
    {
     "data": {
      "text/plain": [
       "mean    103.499854\n",
       "std     196.946012\n",
       "dtype: float64"
      ]
     },
     "execution_count": 55,
     "metadata": {},
     "output_type": "execute_result"
    }
   ],
   "source": [
    "df_all_bed.beds = df_all_bed.beds[df_all_bed.beds!=0]\n",
    "print(\"Daily price per bed\")\n",
    "price_stat = (df_all_bed.price/df_all_bed.beds).agg([np.mean,np.std])\n",
    "price_stat"
   ]
  },
  {
   "cell_type": "markdown",
   "metadata": {},
   "source": [
    "## Part 2 :\n",
    "\n",
    "### Data Visualization"
   ]
  },
  {
   "cell_type": "markdown",
   "metadata": {},
   "source": [
    "\n",
    "**Question 1:**Which date has the highest price during the 2019 Thanksgiving break (11/23/2019 - 12/01/2019)？\n",
    "\n",
    "**Question 2:** What is average price and square feet in each neighbourhood? Which neighbourhood has the highest average price? Which neighbourhood has the largest average square feet?\n",
    "\n",
    "**Question 3:** What is the relationship between description and reviews each month in each neighbourhood?\n",
    "\n",
    "**Question 4:** Among three factors('bedrooms','reviews_per_month','latitude') , how  these factors influence the price ?\n",
    "\n",
    "**Question 5:** How will the price change across 01/01/2020 - 01/31/2020?\n"
   ]
  },
  {
   "cell_type": "code",
   "execution_count": null,
   "metadata": {},
   "outputs": [],
   "source": [
    "# Question 1\n",
    "from pandasql import sqldf\n",
    "begin=pd.to_datetime(\"2019-11-23\")\n",
    "end=pd.to_datetime(\"2019-12-01\")\n",
    "df_calendar_break=df_calendar.loc[(df_calendar[\"date\"]>=begin) & (df_calendar[\"date\"]<=end),:]\n",
    "df_calendar_break.groupby(\"date\").mean().sort_values(by = \"price\",ascending = False)\n"
   ]
  },
  {
   "cell_type": "code",
   "execution_count": 21,
   "metadata": {},
   "outputs": [
    {
     "data": {
      "text/html": [
       "<div>\n",
       "<style scoped>\n",
       "    .dataframe tbody tr th:only-of-type {\n",
       "        vertical-align: middle;\n",
       "    }\n",
       "\n",
       "    .dataframe tbody tr th {\n",
       "        vertical-align: top;\n",
       "    }\n",
       "\n",
       "    .dataframe thead th {\n",
       "        text-align: right;\n",
       "    }\n",
       "</style>\n",
       "<table border=\"1\" class=\"dataframe\">\n",
       "  <thead>\n",
       "    <tr style=\"text-align: right;\">\n",
       "      <th></th>\n",
       "      <th>neighbourhood</th>\n",
       "      <th>price</th>\n",
       "      <th>square_feet</th>\n",
       "    </tr>\n",
       "  </thead>\n",
       "  <tbody>\n",
       "    <tr>\n",
       "      <th>0</th>\n",
       "      <td>Alhambra</td>\n",
       "      <td>91.025397</td>\n",
       "      <td>NaN</td>\n",
       "    </tr>\n",
       "    <tr>\n",
       "      <th>1</th>\n",
       "      <td>Alondra Park</td>\n",
       "      <td>133.000000</td>\n",
       "      <td>NaN</td>\n",
       "    </tr>\n",
       "    <tr>\n",
       "      <th>2</th>\n",
       "      <td>Altadena</td>\n",
       "      <td>148.166667</td>\n",
       "      <td>300.0</td>\n",
       "    </tr>\n",
       "    <tr>\n",
       "      <th>3</th>\n",
       "      <td>Arcadia</td>\n",
       "      <td>106.666667</td>\n",
       "      <td>NaN</td>\n",
       "    </tr>\n",
       "    <tr>\n",
       "      <th>4</th>\n",
       "      <td>Arleta</td>\n",
       "      <td>65.500000</td>\n",
       "      <td>NaN</td>\n",
       "    </tr>\n",
       "  </tbody>\n",
       "</table>\n",
       "</div>"
      ],
      "text/plain": [
       "  neighbourhood       price  square_feet\n",
       "0      Alhambra   91.025397          NaN\n",
       "1  Alondra Park  133.000000          NaN\n",
       "2      Altadena  148.166667        300.0\n",
       "3       Arcadia  106.666667          NaN\n",
       "4        Arleta   65.500000          NaN"
      ]
     },
     "execution_count": 21,
     "metadata": {},
     "output_type": "execute_result"
    }
   ],
   "source": [
    "# Question 2\n",
    "df_listings['price'].fillna(0,inplace= True)\n",
    "df_listings.price\n",
    "price = list(df_listings.price)\n",
    "from re import sub\n",
    "for i in range(len(price)):\n",
    "    price[i] = float(sub(r'[^\\d.]', '',price[i]))\n",
    "\n",
    "df_listings[\"price\"] = price\n",
    "AvgPrice = df_listings.groupby(\"neighbourhood\")[\"price\"].mean().reset_index(inplace = False)\n",
    "AvgSqure = df_listings.groupby(\"neighbourhood\")[\"square_feet\"].mean().reset_index(inplace = False)\n",
    "Neighbourhood_df = AvgPrice.merge(AvgSqure, how = \"inner\", on = \"neighbourhood\")\n",
    "Neighbourhood_df.head()"
   ]
  },
  {
   "cell_type": "code",
   "execution_count": null,
   "metadata": {},
   "outputs": [],
   "source": [
    "import matplotlib.pyplot as plt\n",
    "import numpy as np\n",
    "sort_df_n= Neighbourhood_df.sort_values(by=['price'],ascending=False)\n",
    "fig,ax = plt.subplots(figsize = [15,30])\n",
    "ax.set(title='Average price for each neighbourhood in LA',xlabel = 'neighbourhood',ylabel='average price')\n",
    "sort_df_n.plot(kind = \"barh\",y='price',x='neighbourhood',ax = ax)"
   ]
  },
  {
   "cell_type": "code",
   "execution_count": null,
   "metadata": {},
   "outputs": [],
   "source": [
    "sort_df_s = Neighbourhood_df.sort_values(by=['square_feet'],ascending=False)\n",
    "fig,axs = plt.subplots(figsize = [15,30])\n",
    "axs.set(title='Average square feet for each neighbourhood in LA',xlabel = 'neighbourhood',ylabel='average square feet')\n",
    "sort_df_s.plot(kind = \"barh\",y='square_feet',x='neighbourhood',ax = axs)"
   ]
  },
  {
   "cell_type": "code",
   "execution_count": null,
   "metadata": {},
   "outputs": [],
   "source": [
    "# Question 3\n",
    "df_neighbourhood = df_listings.groupby(\"neighbourhood\").nunique()"
   ]
  },
  {
   "cell_type": "code",
   "execution_count": null,
   "metadata": {
    "scrolled": true
   },
   "outputs": [],
   "source": [
    "import matplotlib.pyplot as plt\n",
    "import numpy as np\n",
    "fig,ax0 = plt.subplots()\n",
    "df_neighbourhood.plot(kind= \"scatter\", x = \"description\", y = \"reviews_per_month\", ax=ax0)\n"
   ]
  },
  {
   "cell_type": "code",
   "execution_count": null,
   "metadata": {},
   "outputs": [],
   "source": [
    "# Question 4\n",
    "df_listings['price'].fillna(0,inplace= True)\n",
    "df_listings.price\n",
    "price = list(df_listings.price)\n",
    "df_listings[\"price\"] = price\n",
    "\n",
    "#plot\n",
    "import matplotlib.pyplot as plt\n",
    "import numpy as np\n",
    "df_factor = df_listings.loc[:,['bedrooms','reviews_per_month','latitude','price']]\n",
    "fig,(ax1,ax2,ax3) = plt.subplots(nrows=1,ncols=3,figsize=(10,10))\n",
    "df_factor.plot(kind= 'scatter',x='bedrooms',y='price',ax=ax1)\n",
    "ax1.set(title='Price VS Bedrooms',xlabel='Bedrooms',ylabel='Price')\n",
    "df_factor.plot(kind= 'scatter',x='reviews_per_month',y='price',ax=ax2)\n",
    "ax2.set(title='Price VS Reviews per month',xlabel='Reviews per month',ylabel='Price')\n",
    "df_factor.plot(kind= 'scatter',x='latitude',y='price',ax=ax3)\n",
    "ax3.set(title='Price VS Latitude',xlabel='latitude',ylabel='Price')\n"
   ]
  },
  {
   "cell_type": "code",
   "execution_count": 92,
   "metadata": {},
   "outputs": [
    {
     "data": {
      "text/plain": [
       "mean    218.936916\n",
       "std       9.347089\n",
       "Name: price, dtype: float64"
      ]
     },
     "execution_count": 92,
     "metadata": {},
     "output_type": "execute_result"
    },
    {
     "data": {
      "image/png": "[encoded data removed]",
      "text/plain": [
       "<Figure size 432x288 with 1 Axes>"
      ]
     },
     "metadata": {
      "needs_background": "light"
     },
     "output_type": "display_data"
    }
   ],
   "source": [
    "# Question 5\n",
    "begin=pd.to_datetime(\"2020-01-01\")\n",
    "end=pd.to_datetime(\"2020-01-31\")\n",
    "\n",
    "df_calendar_2020=df_calendar.loc[(df_calendar[\"date\"]>=begin) & (df_calendar[\"date\"]<=end),:]\n",
    "df_calendar_2020=df_calendar_2020.groupby(\"date\")[\"price\"].mean()\n",
    "df_calendar_2020.plot(kind='line',x='date',y='price',color='blue')\n",
    "plt.title('Price change in 2020 January')\n",
    "df_calendar_2020.agg([np.mean,np.std])"
   ]
  },
  {
   "cell_type": "markdown",
   "metadata": {},
   "source": []
  }
 ],
 "metadata": {
  "kernelspec": {
   "display_name": "Python 3",
   "language": "python",
   "name": "python3"
  },
  "language_info": {
   "codemirror_mode": {
    "name": "ipython",
    "version": 3
   },
   "file_extension": ".py",
   "mimetype": "text/x-python",
   "name": "python",
   "nbconvert_exporter": "python",
   "pygments_lexer": "ipython3",
   "version": "3.7.3"
  }
 },
 "nbformat": 4,
 "nbformat_minor": 2
}
