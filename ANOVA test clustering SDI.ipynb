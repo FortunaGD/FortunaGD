{
 "cells": [
  {
   "cell_type": "markdown",
   "metadata": {},
   "source": [
    "# Piece-wise model on FDIC SDI Dataset\n",
    "\n",
    "#### This report analyzes FDIC SDI data from 2007 - 2019, focusing on Net Asset variable. Statistical analysis is used to build piece-wise models of regression prediction.\n",
    "\n",
    "##### ----- Fortuna Zhang, June 2020"
   ]
  },
  {
   "cell_type": "markdown",
   "metadata": {},
   "source": [
    "## MS Azure Set up"
   ]
  },
  {
   "cell_type": "code",
   "execution_count": 1,
   "metadata": {},
   "outputs": [],
   "source": [
    "import logging\n",
    "\n",
    "import numpy as np\n",
    "import pandas as pd\n",
    "import matplotlib.pyplot as plt\n",
    "from pandas.plotting import autocorrelation_plot\n",
    "import matplotlib.pyplot as plt\n",
    "import matplotlib as mpl\n",
    "import seaborn as sns\n",
    "from statsmodels.tsa.stattools import adfuller, kpss\n",
    "from scipy import signal\n",
    "from statsmodels.tsa.seasonal import seasonal_decompose\n",
    "\n",
    "from azureml.core.workspace import Workspace\n",
    "from azureml.core.experiment import Experiment\n",
    "import azureml.dataprep as dprep\n",
    "from azureml.automl.core.featurization import FeaturizationConfig\n",
    "from azureml.train.automl import AutoMLConfig\n",
    "from azureml.core.dataset import Dataset\n",
    "\n",
    "import warnings\n",
    "warnings.filterwarnings('ignore')"
   ]
  },
  {
   "cell_type": "code",
   "execution_count": 2,
   "metadata": {},
   "outputs": [
    {
     "name": "stdout",
     "output_type": "stream",
     "text": [
      "the version of azureml is  1.6.0\n"
     ]
    }
   ],
   "source": [
    "#check the version of azureml.core\n",
    "print(\"the version of azureml is \", azureml.core.VERSION)"
   ]
  },
  {
   "cell_type": "markdown",
   "metadata": {},
   "source": [
    "## Obtain workspace information"
   ]
  },
  {
   "cell_type": "code",
   "execution_count": 3,
   "metadata": {},
   "outputs": [
    {
     "data": {
      "text/html": [
       "<div>\n",
       "<style scoped>\n",
       "    .dataframe tbody tr th:only-of-type {\n",
       "        vertical-align: middle;\n",
       "    }\n",
       "\n",
       "    .dataframe tbody tr th {\n",
       "        vertical-align: top;\n",
       "    }\n",
       "\n",
       "    .dataframe thead th {\n",
       "        text-align: right;\n",
       "    }\n",
       "</style>\n",
       "<table border=\"1\" class=\"dataframe\">\n",
       "  <thead>\n",
       "    <tr style=\"text-align: right;\">\n",
       "      <th></th>\n",
       "      <th></th>\n",
       "    </tr>\n",
       "  </thead>\n",
       "  <tbody>\n",
       "    <tr>\n",
       "      <th>Subscription ID</th>\n",
       "      <td>de1faa6a-bb72-4633-8d66-b148cb10deb9</td>\n",
       "    </tr>\n",
       "    <tr>\n",
       "      <th>Workspace Name</th>\n",
       "      <td>Fortuna</td>\n",
       "    </tr>\n",
       "    <tr>\n",
       "      <th>Resource Group</th>\n",
       "      <td>Main</td>\n",
       "    </tr>\n",
       "    <tr>\n",
       "      <th>Location</th>\n",
       "      <td>westcentralus</td>\n",
       "    </tr>\n",
       "    <tr>\n",
       "      <th>Experiment Name</th>\n",
       "      <td>test</td>\n",
       "    </tr>\n",
       "  </tbody>\n",
       "</table>\n",
       "</div>"
      ],
      "text/plain": [
       "                                                     \n",
       "Subscription ID  de1faa6a-bb72-4633-8d66-b148cb10deb9\n",
       "Workspace Name   Fortuna                             \n",
       "Resource Group   Main                                \n",
       "Location         westcentralus                       \n",
       "Experiment Name  test                                "
      ]
     },
     "execution_count": 3,
     "metadata": {},
     "output_type": "execute_result"
    }
   ],
   "source": [
    "ws = Workspace.from_config()\n",
    "\n",
    "#your experiment_name\n",
    "experiment_name = 'test'\n",
    "experiment = Experiment(ws,experiment_name)\n",
    "\n",
    "output = {}\n",
    "output['Subscription ID'] = ws.subscription_id\n",
    "output['Workspace Name'] = ws.name\n",
    "output['Resource Group'] = ws.resource_group\n",
    "output['Location'] = ws.location\n",
    "output['Experiment Name'] = experiment.name\n",
    "pd.set_option('display.max_colwidth', -1)\n",
    "outputDf = pd.DataFrame(data = output, index = [''])\n",
    "outputDf.T"
   ]
  },
  {
   "cell_type": "markdown",
   "metadata": {},
   "source": [
    "## Create an AmlCompute as compute target"
   ]
  },
  {
   "cell_type": "code",
   "execution_count": 4,
   "metadata": {},
   "outputs": [
    {
     "name": "stdout",
     "output_type": "stream",
     "text": [
      "Found Compute, use it!\n",
      "\n",
      "Running\n"
     ]
    }
   ],
   "source": [
    "from azureml.core.compute import ComputeTarget, AmlCompute\n",
    "from azureml.core.compute_target import ComputeTargetException\n",
    "\n",
    "#name of the cluster \n",
    "cluster_name = 'FortunaCom'\n",
    "\n",
    "try:\n",
    "    compute_target = ComputeTarget(workspace=ws,name=cluster_name)\n",
    "    print(\"Found Compute, use it!\")\n",
    "except ComputeTargetException:\n",
    "    compute_config = AmlCompute.provisioning_configuration(vm_size='STANDARD_D2_V2',max_nodes=4)\n",
    "    compute_target =  ComputeTarget.create(ws,cluster_name,compute_config)\n",
    "\n",
    "compute_target.wait_for_completion(show_output=True)"
   ]
  },
  {
   "cell_type": "markdown",
   "metadata": {},
   "source": [
    "## Load Data"
   ]
  },
  {
   "cell_type": "code",
   "execution_count": 10,
   "metadata": {},
   "outputs": [],
   "source": [
    "import pandas as pd\n",
    "\n",
    "from azureml.core import Workspace, Dataset\n",
    "\n",
    "subscription_id = 'de1faa6a-bb72-4633-8d66-b148cb10deb9' # compute id\n",
    "resource_group = 'Main'\n",
    "workspace_name = 'Fortuna'\n",
    "\n",
    "workspace = Workspace(subscription_id, resource_group, workspace_name)\n",
    "\n",
    "dataset = Dataset.get_by_name(workspace, name='SDI_test')\n",
    "df = dataset.to_pandas_dataframe()"
   ]
  },
  {
   "cell_type": "markdown",
   "metadata": {},
   "source": [
    "### Trend Scanning Labelling for regression"
   ]
  },
  {
   "cell_type": "code",
   "execution_count": 11,
   "metadata": {},
   "outputs": [],
   "source": [
    "import statsmodels.api as sm1\n",
    "\n",
    "def tValLinR(close):\n",
    "# tValue from a linear trend\n",
    "    x=np.ones((close.shape[0],2))\n",
    "    x[:,1]=np.arange(close.shape[0])\n",
    "    ols=sm1.OLS(close,x).fit()\n",
    "    return ols.tvalues[1]"
   ]
  },
  {
   "cell_type": "code",
   "execution_count": 12,
   "metadata": {},
   "outputs": [
    {
     "ename": "NameError",
     "evalue": "name 'deseasonalizedNet' is not defined",
     "output_type": "error",
     "traceback": [
      "\u001b[0;31m---------------------------------------------------------------------------\u001b[0m",
      "\u001b[0;31mNameError\u001b[0m                                 Traceback (most recent call last)",
      "\u001b[0;32m<ipython-input-12-105491b55251>\u001b[0m in \u001b[0;36m<module>\u001b[0;34m\u001b[0m\n\u001b[0;32m----> 1\u001b[0;31m \u001b[0mtValLinR\u001b[0m\u001b[0;34m(\u001b[0m\u001b[0mdeseasonalizedNet\u001b[0m\u001b[0;34m)\u001b[0m\u001b[0;34m\u001b[0m\u001b[0;34m\u001b[0m\u001b[0m\n\u001b[0m",
      "\u001b[0;31mNameError\u001b[0m: name 'deseasonalizedNet' is not defined"
     ]
    }
   ],
   "source": [
    "tValLinR(deseasonalizedNet)"
   ]
  },
  {
   "cell_type": "code",
   "execution_count": null,
   "metadata": {},
   "outputs": [],
   "source": [
    "def getBinsFromTrend(molecule,close,span):\n",
    "# ’’’\n",
    "# Derive labels from the sign of t-value of linear trend\n",
    "# Output includes:\n",
    "# - t1: End time for the identified trend\n",
    "# - tVal: t-value associated with the estimated trend coefficient\n",
    "# - bin: Sign of the trend\n",
    "# ’’’\n",
    "    out=pd.DataFrame(index=molecule,columns=['t1','tVal','bin'])\n",
    "    hrzns=range(*span)\n",
    "    for dt0 in molecule:\n",
    "        df0=pd.Series()\n",
    "        iloc0=close.index.get_loc(dt0)\n",
    "        if iloc0+max(hrzns)>close.shape[0]:continue\n",
    "        for hrzn in hrzns:\n",
    "            dt1=close.index[iloc0+hrzn-1]\n",
    "            df1=close.loc[dt0:dt1]\n",
    "            df0.loc[dt1]=tValLinR(df1.values)\n",
    "        dt1=df0.replace([-np.inf,np.inf,np.nan],0).abs().idxmax()\n",
    "        out.loc[dt0,['t1','tVal','bin']]=df0.index[-1],df0[dt1],np.sign(df0[dt1]) # prevent leakage\n",
    "    out['t1']=pd.to_datetime(out['t1'])\n",
    "    out['bin']=pd.to_numeric(out['bin'],downcast='signed')\n",
    "    return out.dropna(subset=['bin'])"
   ]
  },
  {
   "cell_type": "code",
   "execution_count": null,
   "metadata": {},
   "outputs": [],
   "source": [
    "# df0=pd.Series(np.random.normal(0,.1,100)).cumsum()\n",
    "# df0+=np.sin(np.linspace(0,10,df0.shape[0]))\n",
    "import matplotlib.pyplot as plt\n",
    "\n",
    "df1=getBinsFromTrend(deseasonalizedNet.index,deseasonalizedNet,[3,5,1])\n",
    "plt.scatter(df1.index,deseasonalizedNet.loc[df1.index].values,c=df1['bin'].values, cmap='viridis')\n",
    "# plt.savefig('fig 5.1.png');mpl.clf();mpl.close()\n",
    "# plt.scatter(df1.index,deseasonalizedNet.loc[df1.index].values,c=df1['tVal'].values,cmap='viridis')\n"
   ]
  },
  {
   "cell_type": "markdown",
   "metadata": {},
   "source": [
    "Highly positive t-values are plotted in yellow, and highly negative t-values are plotted in violet. Positive values close to zero are plotted in green, and negative values close to zero are plotted in blue."
   ]
  },
  {
   "cell_type": "code",
   "execution_count": null,
   "metadata": {
    "scrolled": false
   },
   "outputs": [],
   "source": [
    "# Deseasonalize Net Asset, Not detrending\n",
    "result_mul = seasonal_decompose(dategroup.netasset, model='multiplicative', freq=4)\n",
    "\n",
    "deseasonalizedNetonly = dategroup.netasset / result_mul.seasonal\n",
    "# deseasonalizedNetonly\n",
    "df2=getBinsFromTrend(deseasonalizedNetonly.index,deseasonalizedNet,[3,5,1])\n",
    "plt.scatter(df2.index,deseasonalizedNetonly.loc[df2.index].values,c=df2['bin'].values, cmap='viridis')"
   ]
  },
  {
   "cell_type": "code",
   "execution_count": null,
   "metadata": {},
   "outputs": [],
   "source": [
    "# Compare stationary and non-stationary netasset\n",
    "df1=getBinsFromTrend(deseasonalizedNet.index,deseasonalizedNet,[3,5,1])\n",
    "df2=getBinsFromTrend(deseasonalizedNetonly.index,deseasonalizedNet,[3,5,1])\n",
    "df3=getBinsFromTrend(dategroup.index,dategroup.netasset,[3,5,1])\n",
    "dfmerge = df1.merge(df2,on='time').merge(df3,on='time')\n",
    "dfmerge"
   ]
  },
  {
   "cell_type": "markdown",
   "metadata": {},
   "source": [
    "Trend scanning labels of netasset are the same for detrending&deseasonlizing and only deseasonalizing, but different from the original trends. This suggests that  detrending&deseasonlizing matters in trend labelling."
   ]
  },
  {
   "cell_type": "code",
   "execution_count": null,
   "metadata": {},
   "outputs": [],
   "source": [
    "# df1.to_csv('trendlabel.csv')"
   ]
  },
  {
   "cell_type": "code",
   "execution_count": null,
   "metadata": {},
   "outputs": [],
   "source": [
    "df1.loc['2017-09-30']"
   ]
  },
  {
   "cell_type": "code",
   "execution_count": null,
   "metadata": {},
   "outputs": [],
   "source": [
    "# # pip install mlfinlab\n",
    "# import numpy as np\n",
    "# import pandas as pd\n",
    "# # from mlfinlab.labeling import trend_scanning_labels\n",
    "\n",
    "# # In 2008, EEM had some clear trends\n",
    "# dfn = df['netasset'].loc[df.year(2007):df.year(2019)]\n",
    "# t_events = dfn.index # Get indexes that we want to label\n",
    "df[df.specgrp==3]"
   ]
  },
  {
   "cell_type": "markdown",
   "metadata": {},
   "source": [
    "### Bank Clustering"
   ]
  },
  {
   "cell_type": "markdown",
   "metadata": {},
   "source": [
    "Clustering is to seperate bank and build regression models respectively. Clustering methods can be K-means, specialization group, public/non-public, etc."
   ]
  },
  {
   "cell_type": "markdown",
   "metadata": {},
   "source": [
    "#### Specialization group (all banks)"
   ]
  },
  {
   "cell_type": "code",
   "execution_count": 13,
   "metadata": {},
   "outputs": [
    {
     "data": {
      "text/html": [
       "<div>\n",
       "<style scoped>\n",
       "    .dataframe tbody tr th:only-of-type {\n",
       "        vertical-align: middle;\n",
       "    }\n",
       "\n",
       "    .dataframe tbody tr th {\n",
       "        vertical-align: top;\n",
       "    }\n",
       "\n",
       "    .dataframe thead tr th {\n",
       "        text-align: left;\n",
       "    }\n",
       "\n",
       "    .dataframe thead tr:last-of-type th {\n",
       "        text-align: right;\n",
       "    }\n",
       "</style>\n",
       "<table border=\"1\" class=\"dataframe\">\n",
       "  <thead>\n",
       "    <tr>\n",
       "      <th></th>\n",
       "      <th colspan=\"4\" halign=\"left\">asset</th>\n",
       "      <th colspan=\"4\" halign=\"left\">liab</th>\n",
       "      <th colspan=\"5\" halign=\"left\">netasset</th>\n",
       "    </tr>\n",
       "    <tr>\n",
       "      <th></th>\n",
       "      <th>min</th>\n",
       "      <th>max</th>\n",
       "      <th>median</th>\n",
       "      <th>skew</th>\n",
       "      <th>min</th>\n",
       "      <th>max</th>\n",
       "      <th>median</th>\n",
       "      <th>skew</th>\n",
       "      <th>min</th>\n",
       "      <th>max</th>\n",
       "      <th>median</th>\n",
       "      <th>skew</th>\n",
       "      <th>count</th>\n",
       "    </tr>\n",
       "    <tr>\n",
       "      <th>specgrp</th>\n",
       "      <th></th>\n",
       "      <th></th>\n",
       "      <th></th>\n",
       "      <th></th>\n",
       "      <th></th>\n",
       "      <th></th>\n",
       "      <th></th>\n",
       "      <th></th>\n",
       "      <th></th>\n",
       "      <th></th>\n",
       "      <th></th>\n",
       "      <th></th>\n",
       "      <th></th>\n",
       "    </tr>\n",
       "  </thead>\n",
       "  <tbody>\n",
       "    <tr>\n",
       "      <th>2</th>\n",
       "      <td>2239</td>\n",
       "      <td>3986026</td>\n",
       "      <td>81571.0</td>\n",
       "      <td>6.066628</td>\n",
       "      <td>1588</td>\n",
       "      <td>3573263</td>\n",
       "      <td>72214.5</td>\n",
       "      <td>6.113488</td>\n",
       "      <td>-3178</td>\n",
       "      <td>412763</td>\n",
       "      <td>9042.0</td>\n",
       "      <td>5.573065</td>\n",
       "      <td>71058</td>\n",
       "    </tr>\n",
       "    <tr>\n",
       "      <th>3</th>\n",
       "      <td>11094</td>\n",
       "      <td>11350</td>\n",
       "      <td>11104.0</td>\n",
       "      <td>1.722788</td>\n",
       "      <td>520</td>\n",
       "      <td>523</td>\n",
       "      <td>522.0</td>\n",
       "      <td>-0.935220</td>\n",
       "      <td>10572</td>\n",
       "      <td>10827</td>\n",
       "      <td>10584.0</td>\n",
       "      <td>1.718507</td>\n",
       "      <td>3</td>\n",
       "    </tr>\n",
       "    <tr>\n",
       "      <th>4</th>\n",
       "      <td>2911</td>\n",
       "      <td>20601349</td>\n",
       "      <td>216980.0</td>\n",
       "      <td>7.099980</td>\n",
       "      <td>666</td>\n",
       "      <td>17961968</td>\n",
       "      <td>194433.0</td>\n",
       "      <td>7.007138</td>\n",
       "      <td>-161976</td>\n",
       "      <td>2990651</td>\n",
       "      <td>22367.0</td>\n",
       "      <td>8.639206</td>\n",
       "      <td>122268</td>\n",
       "    </tr>\n",
       "    <tr>\n",
       "      <th>5</th>\n",
       "      <td>2823</td>\n",
       "      <td>17650215</td>\n",
       "      <td>140777.0</td>\n",
       "      <td>9.399644</td>\n",
       "      <td>553</td>\n",
       "      <td>16358975</td>\n",
       "      <td>124091.0</td>\n",
       "      <td>9.562398</td>\n",
       "      <td>-8467</td>\n",
       "      <td>1398724</td>\n",
       "      <td>16344.0</td>\n",
       "      <td>9.246331</td>\n",
       "      <td>23707</td>\n",
       "    </tr>\n",
       "    <tr>\n",
       "      <th>6</th>\n",
       "      <td>6813</td>\n",
       "      <td>7176775</td>\n",
       "      <td>108020.0</td>\n",
       "      <td>7.116638</td>\n",
       "      <td>5847</td>\n",
       "      <td>6568453</td>\n",
       "      <td>95160.0</td>\n",
       "      <td>7.157078</td>\n",
       "      <td>-666</td>\n",
       "      <td>990733</td>\n",
       "      <td>11900.0</td>\n",
       "      <td>9.116038</td>\n",
       "      <td>2583</td>\n",
       "    </tr>\n",
       "    <tr>\n",
       "      <th>7</th>\n",
       "      <td>2992</td>\n",
       "      <td>997187</td>\n",
       "      <td>83217.5</td>\n",
       "      <td>2.791651</td>\n",
       "      <td>14</td>\n",
       "      <td>916057</td>\n",
       "      <td>71607.0</td>\n",
       "      <td>2.706969</td>\n",
       "      <td>-501</td>\n",
       "      <td>684905</td>\n",
       "      <td>11095.5</td>\n",
       "      <td>9.973207</td>\n",
       "      <td>12346</td>\n",
       "    </tr>\n",
       "    <tr>\n",
       "      <th>8</th>\n",
       "      <td>3063</td>\n",
       "      <td>998891</td>\n",
       "      <td>98388.0</td>\n",
       "      <td>2.189886</td>\n",
       "      <td>395</td>\n",
       "      <td>927567</td>\n",
       "      <td>87161.5</td>\n",
       "      <td>2.203662</td>\n",
       "      <td>-13660</td>\n",
       "      <td>247648</td>\n",
       "      <td>10916.0</td>\n",
       "      <td>3.000141</td>\n",
       "      <td>29000</td>\n",
       "    </tr>\n",
       "    <tr>\n",
       "      <th>9</th>\n",
       "      <td>1000668</td>\n",
       "      <td>13572632</td>\n",
       "      <td>1551141.0</td>\n",
       "      <td>2.291075</td>\n",
       "      <td>771128</td>\n",
       "      <td>12551884</td>\n",
       "      <td>1385889.0</td>\n",
       "      <td>2.319193</td>\n",
       "      <td>25171</td>\n",
       "      <td>2037472</td>\n",
       "      <td>176453.0</td>\n",
       "      <td>2.421863</td>\n",
       "      <td>723</td>\n",
       "    </tr>\n",
       "  </tbody>\n",
       "</table>\n",
       "</div>"
      ],
      "text/plain": [
       "           asset                                   liab                       \\\n",
       "             min       max     median      skew     min       max     median   \n",
       "specgrp                                                                        \n",
       "2           2239   3986026    81571.0  6.066628    1588   3573263    72214.5   \n",
       "3          11094     11350    11104.0  1.722788     520       523      522.0   \n",
       "4           2911  20601349   216980.0  7.099980     666  17961968   194433.0   \n",
       "5           2823  17650215   140777.0  9.399644     553  16358975   124091.0   \n",
       "6           6813   7176775   108020.0  7.116638    5847   6568453    95160.0   \n",
       "7           2992    997187    83217.5  2.791651      14    916057    71607.0   \n",
       "8           3063    998891    98388.0  2.189886     395    927567    87161.5   \n",
       "9        1000668  13572632  1551141.0  2.291075  771128  12551884  1385889.0   \n",
       "\n",
       "                  netasset                                       \n",
       "             skew      min      max    median      skew   count  \n",
       "specgrp                                                          \n",
       "2        6.113488    -3178   412763    9042.0  5.573065   71058  \n",
       "3       -0.935220    10572    10827   10584.0  1.718507       3  \n",
       "4        7.007138  -161976  2990651   22367.0  8.639206  122268  \n",
       "5        9.562398    -8467  1398724   16344.0  9.246331   23707  \n",
       "6        7.157078     -666   990733   11900.0  9.116038    2583  \n",
       "7        2.706969     -501   684905   11095.5  9.973207   12346  \n",
       "8        2.203662   -13660   247648   10916.0  3.000141   29000  \n",
       "9        2.319193    25171  2037472  176453.0  2.421863     723  "
      ]
     },
     "execution_count": 13,
     "metadata": {},
     "output_type": "execute_result"
    }
   ],
   "source": [
    "specgroup = df.groupby('specgrp')\n",
    "\n",
    "# specgroup[['asset','liab','netasset']].describe()\n",
    "# specgroup[['asset','liab','netasset']].median()\n",
    "specgroup.agg({'asset': ['min', 'max', 'median', 'skew'],'liab': ['min', 'max', 'median', 'skew'],\\\n",
    "              'netasset':['min', 'max', 'median', 'skew','count']})"
   ]
  },
  {
   "cell_type": "markdown",
   "metadata": {},
   "source": [
    "An indicator of an institution’s primary specialization in terms of asset concentration. note: (groups are hierarchical and mutually exclusive): <br>\n",
    "1 international Specialization – Institutions with assets greater than 10 billion and more than 25 percent of total assets in foreign offices. <br>\n",
    "2 Agricultural Specialization – Banks with agricultural production loans plus real estate loans secured by farmland in excess of 25 percent of total loans and leases. <br>\n",
    "3 Credit-card Specialization – Institutions with credit-card loans plus securitized receivables in excess of 50 percent of total assets plus securitized receivables. <br>\n",
    "4 Commercial Lending Specialization – Institutions with commercial and industrial loans, plus real estate construction and development loans, plus loans secured by commercial real estate properties in excess of 25 percent of total assets. <br>\n",
    "5 Mortgage Lending Specialization – Institutions with residential mortgage loans, plus mortgage-backed securities, in excess of 50 percent of total assets. <br>\n",
    "6 Consumer Lending Specialization – Institutions with residential mortgage loans, plus credit-card loans, plus other loans to individuals, in excess of 50 percent of total assets. <br>\n",
    "7 Other Specialized $1 Billion – Institutions with assets greater than 1 billion that do not meet any of the definitions above, they have significant lending activity with no identified asset concentrations. "
   ]
  },
  {
   "cell_type": "code",
   "execution_count": 14,
   "metadata": {},
   "outputs": [
    {
     "data": {
      "text/plain": [
       "[((0, 2), 0.0),\n",
       " ((0, 3), 0.0),\n",
       " ((1, 3), 0.0),\n",
       " ((2, 0), 0.0),\n",
       " ((2, 5), 0.0),\n",
       " ((2, 6), 0.0),\n",
       " ((3, 0), 0.0),\n",
       " ((3, 1), 0.0),\n",
       " ((5, 2), 0.0),\n",
       " ((6, 2), 0.0),\n",
       " ((3, 6), 1.4442664866187306e-298),\n",
       " ((6, 3), 1.4442664866187306e-298),\n",
       " ((3, 5), 7.562460701074621e-271),\n",
       " ((5, 3), 7.562460701074621e-271),\n",
       " ((1, 2), 2.8654908210512755e-204),\n",
       " ((2, 1), 2.8654908210512755e-204),\n",
       " ((1, 7), 6.482673542293372e-126),\n",
       " ((7, 1), 6.482673542293372e-126),\n",
       " ((0, 7), 3.764299446099537e-123),\n",
       " ((7, 0), 3.764299446099537e-123),\n",
       " ((5, 7), 2.477871772495684e-121),\n",
       " ((7, 5), 2.477871772495684e-121),\n",
       " ((6, 7), 3.434530662221925e-121),\n",
       " ((7, 6), 3.434530662221925e-121),\n",
       " ((4, 7), 4.643252290335517e-112),\n",
       " ((7, 4), 4.643252290335517e-112),\n",
       " ((3, 7), 2.7639403707115526e-108),\n",
       " ((7, 3), 2.7639403707115526e-108),\n",
       " ((0, 6), 2.1627190524212193e-102),\n",
       " ((6, 0), 2.1627190524212193e-102),\n",
       " ((2, 7), 1.2050281270101744e-101),\n",
       " ((7, 2), 1.2050281270101744e-101),\n",
       " ((2, 3), 1.516065171418837e-70),\n",
       " ((3, 2), 1.516065171418837e-70),\n",
       " ((1, 5), 3.514814955657484e-57),\n",
       " ((5, 1), 3.514814955657484e-57),\n",
       " ((1, 4), 3.678492447476422e-33),\n",
       " ((4, 1), 3.678492447476422e-33),\n",
       " ((0, 5), 3.738067101721244e-31),\n",
       " ((5, 0), 3.738067101721244e-31),\n",
       " ((2, 4), 1.7538401218623523e-23),\n",
       " ((4, 2), 1.7538401218623523e-23),\n",
       " ((0, 4), 1.5584071919366888e-21),\n",
       " ((4, 0), 1.5584071919366888e-21),\n",
       " ((1, 6), 4.1439868806008373e-19),\n",
       " ((6, 1), 4.1439868806008373e-19),\n",
       " ((4, 5), 4.776998243741984e-15),\n",
       " ((5, 4), 4.776998243741984e-15),\n",
       " ((4, 6), 9.168872718593243e-15),\n",
       " ((6, 4), 9.168872718593243e-15),\n",
       " ((0, 1), 1.0322531745224426e-08),\n",
       " ((1, 0), 1.0322531745224426e-08),\n",
       " ((3, 4), 0.00011726898343533209),\n",
       " ((4, 3), 0.00011726898343533209),\n",
       " ((5, 6), 0.3746553151741123),\n",
       " ((6, 5), 0.3746553151741123),\n",
       " ((0, 0), 1.0),\n",
       " ((1, 1), 1.0),\n",
       " ((2, 2), 1.0),\n",
       " ((3, 3), 1.0),\n",
       " ((4, 4), 1.0),\n",
       " ((5, 5), 1.0),\n",
       " ((6, 6), 1.0),\n",
       " ((7, 7), 1.0)]"
      ]
     },
     "execution_count": 14,
     "metadata": {},
     "output_type": "execute_result"
    }
   ],
   "source": [
    "from scipy import stats\n",
    "specgrp2 = df[df['specgrp']==2].netasset\n",
    "specgrp3 = df[df['specgrp']==3].netasset\n",
    "specgrp4 = df[df['specgrp']==4].netasset\n",
    "specgrp5 = df[df['specgrp']==5].netasset\n",
    "specgrp6 = df[df['specgrp']==6].netasset\n",
    "specgrp7 = df[df['specgrp']==7].netasset\n",
    "specgrp8 = df[df['specgrp']==8].netasset\n",
    "specgrp9 = df[df['specgrp']==9].netasset\n",
    "\n",
    "specgrp = [specgrp2,specgrp3,specgrp4,specgrp5,specgrp6,specgrp7,specgrp8,specgrp9]\n",
    "table={}\n",
    "# row = [2,3,4,5,6,7,8,9]\n",
    "# column=[2,3,4,5,6,7,8,9]\n",
    "# result=[]\n",
    "\n",
    "for i in range(len(specgrp)):\n",
    "    for n in range(len(specgrp)): \n",
    "        table[(i,n)]=stats.ttest_ind(specgrp[i], specgrp[n], equal_var=False).pvalue\n",
    "        \n",
    "# result\n",
    "# min_list = sorted(result)[:20]\n",
    "# table= pd.DataFrame(table, index = row, columns = column)\n",
    "# table = pd.DataFrame.from_dict(table,orient='index')\n",
    "table \n",
    "sorted(table.items(), key=lambda x: x[1])"
   ]
  },
  {
   "cell_type": "markdown",
   "metadata": {},
   "source": [
    "<font color='red'>For all banks: Clustering based on specialization group is group1:(2,3), group2:(4,5),group3:(6,7,8),group4:(9), according to the significant difference of net asset. </font>"
   ]
  },
  {
   "cell_type": "code",
   "execution_count": 15,
   "metadata": {},
   "outputs": [],
   "source": [
    "def corrcoef(dframe):\n",
    "\n",
    "    fmatrix = dframe.values\n",
    "    rows, cols = fmatrix.shape\n",
    "\n",
    "    r = np.ones((cols, cols), dtype=float)\n",
    "    p = np.ones((cols, cols), dtype=float)\n",
    "\n",
    "    for i in range(cols):\n",
    "        for j in range(cols):\n",
    "            if i == j:\n",
    "                r_, p_ = 1., 1.\n",
    "            else:\n",
    "                r_, p_ = stats.ttest_ind(fmatrix[i].dropna().values, fmatrix[j].dropna().values, equal_var=False).pvalue\n",
    "\n",
    "            r[j][i] = r_\n",
    "            p[j][i] = p_\n",
    "\n",
    "    return r, p\n"
   ]
  },
  {
   "cell_type": "code",
   "execution_count": 16,
   "metadata": {},
   "outputs": [
    {
     "ename": "NameError",
     "evalue": "name 'link_href_list' is not defined",
     "output_type": "error",
     "traceback": [
      "\u001b[0;31m---------------------------------------------------------------------------\u001b[0m",
      "\u001b[0;31mNameError\u001b[0m                                 Traceback (most recent call last)",
      "\u001b[0;32m<ipython-input-16-8f73c2391284>\u001b[0m in \u001b[0;36m<module>\u001b[0;34m\u001b[0m\n\u001b[1;32m      1\u001b[0m \u001b[0mlist_columns\u001b[0m \u001b[0;34m=\u001b[0m \u001b[0;34m[\u001b[0m\u001b[0;34m]\u001b[0m\u001b[0;34m\u001b[0m\u001b[0;34m\u001b[0m\u001b[0m\n\u001b[0;32m----> 2\u001b[0;31m \u001b[0;32mfor\u001b[0m \u001b[0mx\u001b[0m \u001b[0;32min\u001b[0m \u001b[0mlink_href_list\u001b[0m\u001b[0;34m:\u001b[0m\u001b[0;34m\u001b[0m\u001b[0;34m\u001b[0m\u001b[0m\n\u001b[0m\u001b[1;32m      3\u001b[0m     \u001b[0murllib\u001b[0m\u001b[0;34m.\u001b[0m\u001b[0mrequest\u001b[0m\u001b[0;34m.\u001b[0m\u001b[0murlopen\u001b[0m\u001b[0;34m(\u001b[0m\u001b[0mx\u001b[0m\u001b[0;34m)\u001b[0m\u001b[0;34m\u001b[0m\u001b[0;34m\u001b[0m\u001b[0m\n\u001b[1;32m      4\u001b[0m     \u001b[0mhtml\u001b[0m \u001b[0;34m=\u001b[0m \u001b[0murlopen\u001b[0m\u001b[0;34m(\u001b[0m\u001b[0mx\u001b[0m\u001b[0;34m)\u001b[0m\u001b[0;34m\u001b[0m\u001b[0;34m\u001b[0m\u001b[0m\n\u001b[1;32m      5\u001b[0m     \u001b[0mbs\u001b[0m \u001b[0;34m=\u001b[0m \u001b[0mBeautifulSoup\u001b[0m\u001b[0;34m(\u001b[0m\u001b[0mhtml\u001b[0m\u001b[0;34m,\u001b[0m \u001b[0;34m\"lxml\"\u001b[0m\u001b[0;34m)\u001b[0m\u001b[0;34m\u001b[0m\u001b[0;34m\u001b[0m\u001b[0m\n",
      "\u001b[0;31mNameError\u001b[0m: name 'link_href_list' is not defined"
     ]
    }
   ],
   "source": [
    "list_columns = [] \n",
    "for x in link_href_list: \n",
    "    urllib.request.urlopen(x)\n",
    "    html = urlopen(x)\n",
    "    bs = BeautifulSoup(html, \"lxml\")    \n",
    "    table=bs.find('tbody')\n",
    "    rows = table.tr.next_siblings\n",
    "    list_rows = []\n",
    "\n",
    "    for row in rows:\n",
    "        a=row.find('td').get_text().strip()\n",
    "        list_rows.append(a)\n",
    "    list_columns.append(list_rows)\n",
    "list_columns.DataFrame()"
   ]
  },
  {
   "cell_type": "code",
   "execution_count": 17,
   "metadata": {},
   "outputs": [
    {
     "ename": "AttributeError",
     "evalue": "'int' object has no attribute 'dropna'",
     "output_type": "error",
     "traceback": [
      "\u001b[0;31m---------------------------------------------------------------------------\u001b[0m",
      "\u001b[0;31mAttributeError\u001b[0m                            Traceback (most recent call last)",
      "\u001b[0;32m<ipython-input-17-fa2a50343807>\u001b[0m in \u001b[0;36m<module>\u001b[0;34m\u001b[0m\n\u001b[0;32m----> 1\u001b[0;31m \u001b[0mstats\u001b[0m\u001b[0;34m.\u001b[0m\u001b[0mttest_ind\u001b[0m\u001b[0;34m(\u001b[0m\u001b[0mi\u001b[0m\u001b[0;34m.\u001b[0m\u001b[0mdropna\u001b[0m\u001b[0;34m(\u001b[0m\u001b[0;34m)\u001b[0m\u001b[0;34m.\u001b[0m\u001b[0mvalues\u001b[0m\u001b[0;34m,\u001b[0m \u001b[0mn\u001b[0m\u001b[0;34m.\u001b[0m\u001b[0mdropna\u001b[0m\u001b[0;34m(\u001b[0m\u001b[0;34m)\u001b[0m\u001b[0;34m.\u001b[0m\u001b[0mvalues\u001b[0m\u001b[0;34m,\u001b[0m \u001b[0mequal_var\u001b[0m\u001b[0;34m=\u001b[0m\u001b[0;32mFalse\u001b[0m\u001b[0;34m)\u001b[0m\u001b[0;34m.\u001b[0m\u001b[0mpvalue\u001b[0m\u001b[0;34m\u001b[0m\u001b[0;34m\u001b[0m\u001b[0m\n\u001b[0m",
      "\u001b[0;31mAttributeError\u001b[0m: 'int' object has no attribute 'dropna'"
     ]
    }
   ],
   "source": [
    "stats.ttest_ind(i.dropna().values, n.dropna().values, equal_var=False).pvalue"
   ]
  },
  {
   "cell_type": "markdown",
   "metadata": {},
   "source": [
    "#### Public and Non-public bank"
   ]
  },
  {
   "cell_type": "code",
   "execution_count": 1,
   "metadata": {},
   "outputs": [
    {
     "ename": "NameError",
     "evalue": "name 'Dataset' is not defined",
     "output_type": "error",
     "traceback": [
      "\u001b[0;31m---------------------------------------------------------------------------\u001b[0m",
      "\u001b[0;31mNameError\u001b[0m                                 Traceback (most recent call last)",
      "\u001b[0;32m<ipython-input-1-4148fdaaa7e8>\u001b[0m in \u001b[0;36m<module>\u001b[0;34m\u001b[0m\n\u001b[0;32m----> 1\u001b[0;31m \u001b[0mdataset2\u001b[0m \u001b[0;34m=\u001b[0m \u001b[0mDataset\u001b[0m\u001b[0;34m.\u001b[0m\u001b[0mget_by_name\u001b[0m\u001b[0;34m(\u001b[0m\u001b[0mworkspace\u001b[0m\u001b[0;34m,\u001b[0m \u001b[0mname\u001b[0m\u001b[0;34m=\u001b[0m\u001b[0;34m'publicbank'\u001b[0m\u001b[0;34m)\u001b[0m\u001b[0;34m\u001b[0m\u001b[0;34m\u001b[0m\u001b[0m\n\u001b[0m\u001b[1;32m      2\u001b[0m \u001b[0mdf2\u001b[0m \u001b[0;34m=\u001b[0m \u001b[0mdataset2\u001b[0m\u001b[0;34m.\u001b[0m\u001b[0mto_pandas_dataframe\u001b[0m\u001b[0;34m(\u001b[0m\u001b[0;34m)\u001b[0m\u001b[0;34m\u001b[0m\u001b[0;34m\u001b[0m\u001b[0m\n\u001b[1;32m      3\u001b[0m \u001b[0mdataset3\u001b[0m \u001b[0;34m=\u001b[0m \u001b[0mDataset\u001b[0m\u001b[0;34m.\u001b[0m\u001b[0mget_by_name\u001b[0m\u001b[0;34m(\u001b[0m\u001b[0mworkspace\u001b[0m\u001b[0;34m,\u001b[0m \u001b[0mname\u001b[0m\u001b[0;34m=\u001b[0m\u001b[0;34m'nonpublicbank'\u001b[0m\u001b[0;34m)\u001b[0m\u001b[0;34m\u001b[0m\u001b[0;34m\u001b[0m\u001b[0m\n\u001b[1;32m      4\u001b[0m \u001b[0mdf3\u001b[0m \u001b[0;34m=\u001b[0m \u001b[0mdataset3\u001b[0m\u001b[0;34m.\u001b[0m\u001b[0mto_pandas_dataframe\u001b[0m\u001b[0;34m(\u001b[0m\u001b[0;34m)\u001b[0m\u001b[0;34m\u001b[0m\u001b[0;34m\u001b[0m\u001b[0m\n\u001b[1;32m      5\u001b[0m \u001b[0mdataset4\u001b[0m \u001b[0;34m=\u001b[0m \u001b[0mDataset\u001b[0m\u001b[0;34m.\u001b[0m\u001b[0mget_by_name\u001b[0m\u001b[0;34m(\u001b[0m\u001b[0mworkspace\u001b[0m\u001b[0;34m,\u001b[0m \u001b[0mname\u001b[0m\u001b[0;34m=\u001b[0m\u001b[0;34m'SDI_cleaned'\u001b[0m\u001b[0;34m)\u001b[0m\u001b[0;34m\u001b[0m\u001b[0;34m\u001b[0m\u001b[0m\n",
      "\u001b[0;31mNameError\u001b[0m: name 'Dataset' is not defined"
     ]
    }
   ],
   "source": [
    "dataset2 = Dataset.get_by_name(workspace, name='publicbank')\n",
    "df2 = dataset2.to_pandas_dataframe()\n",
    "dataset3 = Dataset.get_by_name(workspace, name='nonpublicbank')\n",
    "df3 = dataset3.to_pandas_dataframe()\n",
    "dataset4 = Dataset.get_by_name(workspace, name='SDI_cleaned')\n",
    "df4 = dataset4.to_pandas_dataframe()"
   ]
  },
  {
   "cell_type": "code",
   "execution_count": null,
   "metadata": {},
   "outputs": [],
   "source": [
    "# Public\n",
    "public = df2.MKTCAP\n",
    "public.describe()"
   ]
  },
  {
   "cell_type": "code",
   "execution_count": null,
   "metadata": {},
   "outputs": [],
   "source": [
    "# Nonpublic\n",
    "df3['netasset']=df3['asset']-df3['liab']\n",
    "nonpublic = df3['netasset']\n",
    "nonpublic.describe()"
   ]
  },
  {
   "cell_type": "code",
   "execution_count": null,
   "metadata": {},
   "outputs": [],
   "source": [
    "# All\n",
    "df4['netasset']=df4['asset']-df4['liab']\n",
    "allbank = df4['netasset']\n",
    "allbank.describe()"
   ]
  },
  {
   "cell_type": "code",
   "execution_count": null,
   "metadata": {},
   "outputs": [],
   "source": [
    "fig, ax = plt.subplots(figsize=(15,9))\n",
    "allbank.plot(color='red',label='All banks')\n",
    "public.plot(color='blue',label='Public banks')\n",
    "nonpublic.plot(color='green',label='Non Public banks')\n",
    "plt.legend(loc=\"upper left\")\n",
    "plt.title('Public bank vs Non-public bank Net Assets')"
   ]
  },
  {
   "cell_type": "code",
   "execution_count": null,
   "metadata": {},
   "outputs": [],
   "source": [
    "fig, ax = plt.subplots(figsize=(15,9))\n",
    "allbank.describe().plot(color='red',label='All banks')\n",
    "public.describe().plot(color='blue',label='Public banks')\n",
    "nonpublic.describe().plot(color='green',label='Non Public banks')\n",
    "plt.legend(loc=\"upper left\")\n",
    "plt.title('Public bank vs Non-public bank Net Assets')"
   ]
  },
  {
   "cell_type": "code",
   "execution_count": null,
   "metadata": {},
   "outputs": [],
   "source": [
    "import matplotlib.pyplot as plt\n",
    "fig, ax = plt.subplots(1,2,figsize=(15,9))\n",
    "public.hist(ax=ax[0])\n",
    "nonpublic.hist(ax=ax[1],color='orange',title = 'Nonpublic bank')"
   ]
  },
  {
   "cell_type": "code",
   "execution_count": null,
   "metadata": {},
   "outputs": [],
   "source": [
    "import matplotlib.pyplot as plt\n",
    "\n",
    "# An \"interface\" to matplotlib.axes.Axes.hist() method\n",
    "n, bins, patches = plt.hist(x=public, bins='auto', color='#0504aa',\n",
    "                            alpha=0.7, rwidth=1)\n",
    "plt.grid(axis='y', alpha=0.75)\n",
    "plt.xlabel('Value')\n",
    "plt.ylabel('Frequency')\n",
    "plt.title('Public bank distribution')"
   ]
  },
  {
   "cell_type": "code",
   "execution_count": null,
   "metadata": {},
   "outputs": [],
   "source": [
    "import matplotlib.pyplot as plt\n",
    "\n",
    "# An \"interface\" to matplotlib.axes.Axes.hist() method\n",
    "n, bins, patches = plt.hist(x=nonpublic, bins='auto', color='#0504aa',\n",
    "                            alpha=0.7, rwidth=1)\n",
    "plt.grid(axis='y', alpha=0.75)\n",
    "plt.xlabel('Value')\n",
    "plt.ylabel('Frequency')\n",
    "plt.title('Non Public bank distribution')"
   ]
  },
  {
   "cell_type": "code",
   "execution_count": null,
   "metadata": {},
   "outputs": [],
   "source": [
    "n, bins, patches = plt.hist(x=allbank, bins='auto', color='#0504aa',\n",
    "                            alpha=0.7, rwidth=20)\n",
    "plt.grid(axis='y', alpha=0.75)\n",
    "plt.xlabel('Value')\n",
    "plt.ylabel('Frequency')\n",
    "plt.title('All bank distribution')"
   ]
  },
  {
   "cell_type": "markdown",
   "metadata": {},
   "source": [
    "Kernel Density Estimate (KDE)is a way to estimate the probability density function (PDF) of the random variable that “underlies” our sample. KDE is a means of data smoothing."
   ]
  },
  {
   "cell_type": "code",
   "execution_count": null,
   "metadata": {},
   "outputs": [],
   "source": [
    "# from pandas.plotting import scatter_matrix\n",
    "# scatter_matrix(allbank, alpha=0.2, figsize=(6, 6), diagonal='kde')"
   ]
  },
  {
   "cell_type": "code",
   "execution_count": null,
   "metadata": {},
   "outputs": [],
   "source": [
    "fig, ax = plt.subplots()\n",
    "public.plot.kde(ax=ax, legend=False, title='Public bank KDE')\n",
    "public.plot.hist(density=True, ax=ax)\n",
    "ax.set_ylabel('Probability')\n",
    "ax.grid(axis='y')\n",
    "ax.set_facecolor('#d8dcd6')"
   ]
  },
  {
   "cell_type": "code",
   "execution_count": 19,
   "metadata": {},
   "outputs": [
    {
     "data": {
      "image/png": "[encoded data removed]",
      "text/plain": [
       "<Figure size 432x288 with 1 Axes>"
      ]
     },
     "metadata": {
      "needs_background": "light"
     },
     "output_type": "display_data"
    }
   ],
   "source": [
    "fig, ax = plt.subplots()\n",
    "nonpublic.plot.kde(ax=ax, legend=False, title='Non Public bank KDE')\n",
    "nonpublic.plot.hist(density=True, ax=ax)\n",
    "ax.set_ylabel('Probability')\n",
    "ax.grid(axis='y')\n",
    "ax.set_facecolor('#d8dcd6')"
   ]
  },
  {
   "cell_type": "code",
   "execution_count": 20,
   "metadata": {},
   "outputs": [
    {
     "data": {
      "image/png": "[encoded data removed]",
      "text/plain": [
       "<Figure size 432x288 with 1 Axes>"
      ]
     },
     "metadata": {
      "needs_background": "light"
     },
     "output_type": "display_data"
    }
   ],
   "source": [
    "fig, ax = plt.subplots()\n",
    "allbank.plot.kde(ax=ax, legend=False, title='All bank KDE')\n",
    "allbank.plot.hist(density=True, ax=ax)\n",
    "ax.set_ylabel('Probability')\n",
    "ax.grid(axis='y')\n",
    "ax.set_facecolor('#d8dcd6')"
   ]
  },
  {
   "cell_type": "markdown",
   "metadata": {},
   "source": [
    "#### T-student test for public & nonpublic banks"
   ]
  },
  {
   "cell_type": "code",
   "execution_count": 21,
   "metadata": {},
   "outputs": [
    {
     "name": "stdout",
     "output_type": "stream",
     "text": [
      "Ttest_indResult(statistic=18.29634759175089, pvalue=4.112417214517605e-70)\n",
      "Ttest_indResult(statistic=18.27161411314973, pvalue=6.123609137604887e-70)\n",
      "Ttest_indResult(statistic=-6.412731449908313, pvalue=1.4303197930150675e-10)\n"
     ]
    }
   ],
   "source": [
    "from scipy import stats\n",
    "print(stats.ttest_ind(public.dropna().values, nonpublic.dropna().values, equal_var=False))\n",
    "print(stats.ttest_ind(public.dropna().values, allbank.dropna().values, equal_var=False))\n",
    "print(stats.ttest_ind(nonpublic.dropna().values, allbank.dropna().values, equal_var=False))"
   ]
  },
  {
   "cell_type": "code",
   "execution_count": 22,
   "metadata": {},
   "outputs": [
    {
     "data": {
      "text/plain": [
       "4    168123\n",
       "2    76788 \n",
       "8    35201 \n",
       "5    28565 \n",
       "7    14394 \n",
       "6    3005  \n",
       "9    780   \n",
       "3    3     \n",
       "Name: specgrp, dtype: int64"
      ]
     },
     "execution_count": 22,
     "metadata": {},
     "output_type": "execute_result"
    }
   ],
   "source": [
    "nonpubgroup = df3.groupby('specgrp')\n",
    "df3.specgrp.value_counts()"
   ]
  },
  {
   "cell_type": "code",
   "execution_count": 23,
   "metadata": {},
   "outputs": [
    {
     "data": {
      "text/html": [
       "<div>\n",
       "<style scoped>\n",
       "    .dataframe tbody tr th:only-of-type {\n",
       "        vertical-align: middle;\n",
       "    }\n",
       "\n",
       "    .dataframe tbody tr th {\n",
       "        vertical-align: top;\n",
       "    }\n",
       "\n",
       "    .dataframe thead th {\n",
       "        text-align: right;\n",
       "    }\n",
       "</style>\n",
       "<table border=\"1\" class=\"dataframe\">\n",
       "  <thead>\n",
       "    <tr style=\"text-align: right;\">\n",
       "      <th></th>\n",
       "      <th>Column1</th>\n",
       "      <th>cert</th>\n",
       "      <th>docket</th>\n",
       "      <th>fed_rssd</th>\n",
       "      <th>rssdhcr</th>\n",
       "      <th>name</th>\n",
       "      <th>city</th>\n",
       "      <th>stalp</th>\n",
       "      <th>zip</th>\n",
       "      <th>repdte</th>\n",
       "      <th>...</th>\n",
       "      <th>EXCHCD</th>\n",
       "      <th>TICKER</th>\n",
       "      <th>COMNAM</th>\n",
       "      <th>PRC</th>\n",
       "      <th>SHROUT</th>\n",
       "      <th>exchange</th>\n",
       "      <th>industry</th>\n",
       "      <th>scalemarketcap</th>\n",
       "      <th>MKTCAP</th>\n",
       "      <th>netasset</th>\n",
       "    </tr>\n",
       "  </thead>\n",
       "  <tbody>\n",
       "    <tr>\n",
       "      <th>0</th>\n",
       "      <td>0</td>\n",
       "      <td>9</td>\n",
       "      <td>9781</td>\n",
       "      <td>563907</td>\n",
       "      <td>1115424.0</td>\n",
       "      <td>Union Trust Company</td>\n",
       "      <td>Ellsworth</td>\n",
       "      <td>ME</td>\n",
       "      <td>4605</td>\n",
       "      <td>2007-06-30</td>\n",
       "      <td>...</td>\n",
       "      <td>None</td>\n",
       "      <td>None</td>\n",
       "      <td>None</td>\n",
       "      <td>None</td>\n",
       "      <td>None</td>\n",
       "      <td>None</td>\n",
       "      <td>None</td>\n",
       "      <td>None</td>\n",
       "      <td>None</td>\n",
       "      <td>38623</td>\n",
       "    </tr>\n",
       "    <tr>\n",
       "      <th>1</th>\n",
       "      <td>1</td>\n",
       "      <td>9</td>\n",
       "      <td>9781</td>\n",
       "      <td>563907</td>\n",
       "      <td>1115424.0</td>\n",
       "      <td>Union Trust Company</td>\n",
       "      <td>Ellsworth</td>\n",
       "      <td>ME</td>\n",
       "      <td>4605</td>\n",
       "      <td>2007-09-30</td>\n",
       "      <td>...</td>\n",
       "      <td>None</td>\n",
       "      <td>None</td>\n",
       "      <td>None</td>\n",
       "      <td>None</td>\n",
       "      <td>None</td>\n",
       "      <td>None</td>\n",
       "      <td>None</td>\n",
       "      <td>None</td>\n",
       "      <td>None</td>\n",
       "      <td>40280</td>\n",
       "    </tr>\n",
       "    <tr>\n",
       "      <th>2</th>\n",
       "      <td>2</td>\n",
       "      <td>9</td>\n",
       "      <td>9781</td>\n",
       "      <td>563907</td>\n",
       "      <td>1115424.0</td>\n",
       "      <td>Union Trust Company</td>\n",
       "      <td>Ellsworth</td>\n",
       "      <td>ME</td>\n",
       "      <td>4605</td>\n",
       "      <td>2007-12-31</td>\n",
       "      <td>...</td>\n",
       "      <td>None</td>\n",
       "      <td>None</td>\n",
       "      <td>None</td>\n",
       "      <td>None</td>\n",
       "      <td>None</td>\n",
       "      <td>None</td>\n",
       "      <td>None</td>\n",
       "      <td>None</td>\n",
       "      <td>None</td>\n",
       "      <td>31112</td>\n",
       "    </tr>\n",
       "    <tr>\n",
       "      <th>3</th>\n",
       "      <td>3</td>\n",
       "      <td>35</td>\n",
       "      <td>9177</td>\n",
       "      <td>749635</td>\n",
       "      <td>1129533.0</td>\n",
       "      <td>AuburnBank</td>\n",
       "      <td>Auburn</td>\n",
       "      <td>AL</td>\n",
       "      <td>36830</td>\n",
       "      <td>2007-03-31</td>\n",
       "      <td>...</td>\n",
       "      <td>None</td>\n",
       "      <td>None</td>\n",
       "      <td>None</td>\n",
       "      <td>None</td>\n",
       "      <td>None</td>\n",
       "      <td>None</td>\n",
       "      <td>None</td>\n",
       "      <td>None</td>\n",
       "      <td>None</td>\n",
       "      <td>51924</td>\n",
       "    </tr>\n",
       "    <tr>\n",
       "      <th>4</th>\n",
       "      <td>4</td>\n",
       "      <td>35</td>\n",
       "      <td>9177</td>\n",
       "      <td>749635</td>\n",
       "      <td>1129533.0</td>\n",
       "      <td>AuburnBank</td>\n",
       "      <td>Auburn</td>\n",
       "      <td>AL</td>\n",
       "      <td>36830</td>\n",
       "      <td>2007-06-30</td>\n",
       "      <td>...</td>\n",
       "      <td>None</td>\n",
       "      <td>None</td>\n",
       "      <td>None</td>\n",
       "      <td>None</td>\n",
       "      <td>None</td>\n",
       "      <td>None</td>\n",
       "      <td>None</td>\n",
       "      <td>None</td>\n",
       "      <td>None</td>\n",
       "      <td>49344</td>\n",
       "    </tr>\n",
       "  </tbody>\n",
       "</table>\n",
       "<p>5 rows × 1091 columns</p>\n",
       "</div>"
      ],
      "text/plain": [
       "   Column1  cert  docket  fed_rssd    rssdhcr                 name       city  \\\n",
       "0  0        9     9781    563907    1115424.0  Union Trust Company  Ellsworth   \n",
       "1  1        9     9781    563907    1115424.0  Union Trust Company  Ellsworth   \n",
       "2  2        9     9781    563907    1115424.0  Union Trust Company  Ellsworth   \n",
       "3  3        35    9177    749635    1129533.0  AuburnBank           Auburn      \n",
       "4  4        35    9177    749635    1129533.0  AuburnBank           Auburn      \n",
       "\n",
       "  stalp    zip     repdte   ...    EXCHCD TICKER COMNAM   PRC  SHROUT  \\\n",
       "0  ME    4605  2007-06-30   ...     None   None   None   None  None     \n",
       "1  ME    4605  2007-09-30   ...     None   None   None   None  None     \n",
       "2  ME    4605  2007-12-31   ...     None   None   None   None  None     \n",
       "3  AL    36830 2007-03-31   ...     None   None   None   None  None     \n",
       "4  AL    36830 2007-06-30   ...     None   None   None   None  None     \n",
       "\n",
       "   exchange  industry  scalemarketcap  MKTCAP netasset  \n",
       "0  None      None      None            None    38623    \n",
       "1  None      None      None            None    40280    \n",
       "2  None      None      None            None    31112    \n",
       "3  None      None      None            None    51924    \n",
       "4  None      None      None            None    49344    \n",
       "\n",
       "[5 rows x 1091 columns]"
      ]
     },
     "execution_count": 23,
     "metadata": {},
     "output_type": "execute_result"
    }
   ],
   "source": [
    "df3.head()"
   ]
  },
  {
   "cell_type": "code",
   "execution_count": 24,
   "metadata": {},
   "outputs": [
    {
     "data": {
      "text/html": [
       "<div>\n",
       "<style scoped>\n",
       "    .dataframe tbody tr th:only-of-type {\n",
       "        vertical-align: middle;\n",
       "    }\n",
       "\n",
       "    .dataframe tbody tr th {\n",
       "        vertical-align: top;\n",
       "    }\n",
       "\n",
       "    .dataframe thead tr th {\n",
       "        text-align: left;\n",
       "    }\n",
       "\n",
       "    .dataframe thead tr:last-of-type th {\n",
       "        text-align: right;\n",
       "    }\n",
       "</style>\n",
       "<table border=\"1\" class=\"dataframe\">\n",
       "  <thead>\n",
       "    <tr>\n",
       "      <th></th>\n",
       "      <th colspan=\"4\" halign=\"left\">asset</th>\n",
       "      <th colspan=\"4\" halign=\"left\">liab</th>\n",
       "      <th colspan=\"5\" halign=\"left\">netasset</th>\n",
       "    </tr>\n",
       "    <tr>\n",
       "      <th></th>\n",
       "      <th>min</th>\n",
       "      <th>max</th>\n",
       "      <th>median</th>\n",
       "      <th>skew</th>\n",
       "      <th>min</th>\n",
       "      <th>max</th>\n",
       "      <th>median</th>\n",
       "      <th>skew</th>\n",
       "      <th>min</th>\n",
       "      <th>max</th>\n",
       "      <th>median</th>\n",
       "      <th>skew</th>\n",
       "      <th>count</th>\n",
       "    </tr>\n",
       "    <tr>\n",
       "      <th>specgrp</th>\n",
       "      <th></th>\n",
       "      <th></th>\n",
       "      <th></th>\n",
       "      <th></th>\n",
       "      <th></th>\n",
       "      <th></th>\n",
       "      <th></th>\n",
       "      <th></th>\n",
       "      <th></th>\n",
       "      <th></th>\n",
       "      <th></th>\n",
       "      <th></th>\n",
       "      <th></th>\n",
       "    </tr>\n",
       "  </thead>\n",
       "  <tbody>\n",
       "    <tr>\n",
       "      <th>2</th>\n",
       "      <td>2239</td>\n",
       "      <td>3986026</td>\n",
       "      <td>85192.5</td>\n",
       "      <td>5.726354</td>\n",
       "      <td>1588</td>\n",
       "      <td>3573263</td>\n",
       "      <td>75555</td>\n",
       "      <td>5.752703</td>\n",
       "      <td>-3178</td>\n",
       "      <td>412763</td>\n",
       "      <td>9426.5</td>\n",
       "      <td>5.507756</td>\n",
       "      <td>76788</td>\n",
       "    </tr>\n",
       "    <tr>\n",
       "      <th>3</th>\n",
       "      <td>11094</td>\n",
       "      <td>11350</td>\n",
       "      <td>11104.0</td>\n",
       "      <td>1.722788</td>\n",
       "      <td>520</td>\n",
       "      <td>523</td>\n",
       "      <td>522</td>\n",
       "      <td>-0.935220</td>\n",
       "      <td>10572</td>\n",
       "      <td>10827</td>\n",
       "      <td>10584.0</td>\n",
       "      <td>1.718507</td>\n",
       "      <td>3</td>\n",
       "    </tr>\n",
       "    <tr>\n",
       "      <th>4</th>\n",
       "      <td>2911</td>\n",
       "      <td>48894931</td>\n",
       "      <td>225472.0</td>\n",
       "      <td>18.464876</td>\n",
       "      <td>666</td>\n",
       "      <td>44233208</td>\n",
       "      <td>202192</td>\n",
       "      <td>18.966384</td>\n",
       "      <td>-161976</td>\n",
       "      <td>4661723</td>\n",
       "      <td>23093.0</td>\n",
       "      <td>14.182358</td>\n",
       "      <td>168123</td>\n",
       "    </tr>\n",
       "    <tr>\n",
       "      <th>5</th>\n",
       "      <td>2823</td>\n",
       "      <td>17650215</td>\n",
       "      <td>145793.0</td>\n",
       "      <td>8.708934</td>\n",
       "      <td>553</td>\n",
       "      <td>16358975</td>\n",
       "      <td>129123</td>\n",
       "      <td>9.003753</td>\n",
       "      <td>-8467</td>\n",
       "      <td>1398724</td>\n",
       "      <td>16647.0</td>\n",
       "      <td>7.293670</td>\n",
       "      <td>28565</td>\n",
       "    </tr>\n",
       "    <tr>\n",
       "      <th>6</th>\n",
       "      <td>6813</td>\n",
       "      <td>7176775</td>\n",
       "      <td>107625.0</td>\n",
       "      <td>9.091636</td>\n",
       "      <td>5847</td>\n",
       "      <td>6568453</td>\n",
       "      <td>94378</td>\n",
       "      <td>9.314665</td>\n",
       "      <td>-666</td>\n",
       "      <td>608322</td>\n",
       "      <td>11885.0</td>\n",
       "      <td>6.916872</td>\n",
       "      <td>3005</td>\n",
       "    </tr>\n",
       "    <tr>\n",
       "      <th>7</th>\n",
       "      <td>2500</td>\n",
       "      <td>997187</td>\n",
       "      <td>91663.0</td>\n",
       "      <td>2.587082</td>\n",
       "      <td>0</td>\n",
       "      <td>916057</td>\n",
       "      <td>80050</td>\n",
       "      <td>2.553599</td>\n",
       "      <td>-501</td>\n",
       "      <td>684905</td>\n",
       "      <td>12198.0</td>\n",
       "      <td>8.605052</td>\n",
       "      <td>14394</td>\n",
       "    </tr>\n",
       "    <tr>\n",
       "      <th>8</th>\n",
       "      <td>3063</td>\n",
       "      <td>998891</td>\n",
       "      <td>106687.0</td>\n",
       "      <td>2.137303</td>\n",
       "      <td>395</td>\n",
       "      <td>927567</td>\n",
       "      <td>94525</td>\n",
       "      <td>2.149652</td>\n",
       "      <td>-13660</td>\n",
       "      <td>247648</td>\n",
       "      <td>11782.0</td>\n",
       "      <td>2.822620</td>\n",
       "      <td>35201</td>\n",
       "    </tr>\n",
       "    <tr>\n",
       "      <th>9</th>\n",
       "      <td>1000668</td>\n",
       "      <td>13572632</td>\n",
       "      <td>1395277.5</td>\n",
       "      <td>4.030560</td>\n",
       "      <td>771128</td>\n",
       "      <td>12551884</td>\n",
       "      <td>1253602</td>\n",
       "      <td>4.079516</td>\n",
       "      <td>25171</td>\n",
       "      <td>1368637</td>\n",
       "      <td>149716.0</td>\n",
       "      <td>3.518515</td>\n",
       "      <td>780</td>\n",
       "    </tr>\n",
       "  </tbody>\n",
       "</table>\n",
       "</div>"
      ],
      "text/plain": [
       "           asset                                    liab                     \\\n",
       "             min       max     median       skew     min       max   median   \n",
       "specgrp                                                                       \n",
       "2        2239     3986026   85192.5    5.726354   1588    3573263   75555     \n",
       "3        11094    11350     11104.0    1.722788   520     523       522       \n",
       "4        2911     48894931  225472.0   18.464876  666     44233208  202192    \n",
       "5        2823     17650215  145793.0   8.708934   553     16358975  129123    \n",
       "6        6813     7176775   107625.0   9.091636   5847    6568453   94378     \n",
       "7        2500     997187    91663.0    2.587082   0       916057    80050     \n",
       "8        3063     998891    106687.0   2.137303   395     927567    94525     \n",
       "9        1000668  13572632  1395277.5  4.030560   771128  12551884  1253602   \n",
       "\n",
       "                   netasset                                        \n",
       "              skew      min      max    median       skew   count  \n",
       "specgrp                                                            \n",
       "2        5.752703  -3178     412763   9426.5    5.507756   76788   \n",
       "3       -0.935220   10572    10827    10584.0   1.718507   3       \n",
       "4        18.966384 -161976   4661723  23093.0   14.182358  168123  \n",
       "5        9.003753  -8467     1398724  16647.0   7.293670   28565   \n",
       "6        9.314665  -666      608322   11885.0   6.916872   3005    \n",
       "7        2.553599  -501      684905   12198.0   8.605052   14394   \n",
       "8        2.149652  -13660    247648   11782.0   2.822620   35201   \n",
       "9        4.079516   25171    1368637  149716.0  3.518515   780     "
      ]
     },
     "execution_count": 24,
     "metadata": {},
     "output_type": "execute_result"
    }
   ],
   "source": [
    "nonpubgroup.agg({'asset': ['min', 'max', 'median', 'skew'],'liab': ['min', 'max', 'median', 'skew'],\\\n",
    "              'netasset':['min', 'max', 'median', 'skew','count']})"
   ]
  },
  {
   "cell_type": "markdown",
   "metadata": {},
   "source": [
    "An indicator of an institution�s primary specialization in terms of asset concentration.\n",
    "\n",
    "Note: (Groups are hierarchical and mutually exclusive):\n",
    "\n",
    "1 - International Specialization � Institutions with assets greater than $10 billion and more than 25 percent of total assets in foreign offices.\n",
    "\n",
    "2 - Agricultural Specialization � Banks with agricultural production loans plus real estate loans secured by farmland in excess of 25 percent of total loans and leases.\n",
    "\n",
    "3 - Credit-card Specialization � Institutions with credit-card loans plus securitized receivables in excess of 50 percent of total assets plus securitized receivables.\n",
    "\n",
    "4 - Commercial Lending Specialization � Institutions with commercial and industrial loans, plus real estate construction and development loans, plus loans secured by commercial real estate properties in excess of 25 percent of total assets.\n",
    "\n",
    "5 - Mortgage Lending Specialization � Institutions with residential mortgage loans, plus mortgage-backed securities, in excess of 50 percent of total assets.\n",
    "\n",
    "6 - Consumer Lending Specialization � Institutions with residential mortgage loans, plus credit-card loans, plus other loans to individuals, in excess of 50 percent of total assets.\n",
    "\n",
    "7 - Other Specialized < $1 Billion � Institutions with assets less than $1 billion and with loans and leases are less than 40 percent of total assets.\n",
    "\n",
    "8 - All Other < $1 Billion � Institutions with assets less than $1 billion that do not meet any of the definitions above, they have significant lending activity with no identified asset concentrations.\n",
    "\n",
    "9 - All Other > $1 Billion � Institutions with assets greater than $1 billion that do not meet any of the definitions above, they have significant lending activity with no identified asset concentrations."
   ]
  },
  {
   "cell_type": "code",
   "execution_count": 37,
   "metadata": {},
   "outputs": [
    {
     "data": {
      "text/plain": [
       "<matplotlib.axes._subplots.AxesSubplot at 0x7f96680a5ac8>"
      ]
     },
     "execution_count": 37,
     "metadata": {},
     "output_type": "execute_result"
    },
    {
     "data": {
      "image/png": "[encoded data removed]",
      "text/plain": [
       "<Figure size 1080x648 with 1 Axes>"
      ]
     },
     "metadata": {
      "needs_background": "light"
     },
     "output_type": "display_data"
    }
   ],
   "source": [
    "# Group by index labels and take the means and standard deviations for each group\n",
    "means = nonpubgroup.netasset.mean()\n",
    "errors = nonpubgroup.netasset.std()\n",
    "\n",
    "fig, ax = plt.subplots(figsize=(15,9))\n",
    "means.plot.bar(yerr=errors, ax=ax, capsize=4, title = 'Boxplot: net assets for each specialized group')\n",
    "# nonpubgroup.netaseet.plot(table==np.round(nonpubgroup.T, 2),ax=ax)"
   ]
  },
  {
   "cell_type": "markdown",
   "metadata": {},
   "source": [
    "#### student-t test for specialized groups"
   ]
  },
  {
   "cell_type": "code",
   "execution_count": 27,
   "metadata": {},
   "outputs": [
    {
     "data": {
      "text/html": [
       "<div>\n",
       "<style scoped>\n",
       "    .dataframe tbody tr th:only-of-type {\n",
       "        vertical-align: middle;\n",
       "    }\n",
       "\n",
       "    .dataframe tbody tr th {\n",
       "        vertical-align: top;\n",
       "    }\n",
       "\n",
       "    .dataframe thead th {\n",
       "        text-align: right;\n",
       "    }\n",
       "</style>\n",
       "<table border=\"1\" class=\"dataframe\">\n",
       "  <thead>\n",
       "    <tr style=\"text-align: right;\">\n",
       "      <th></th>\n",
       "      <th>p value</th>\n",
       "      <th>reject null</th>\n",
       "    </tr>\n",
       "  </thead>\n",
       "  <tbody>\n",
       "    <tr>\n",
       "      <th>(0, 0)</th>\n",
       "      <td>1.000000</td>\n",
       "      <td>false</td>\n",
       "    </tr>\n",
       "    <tr>\n",
       "      <th>(1, 1)</th>\n",
       "      <td>1.000000</td>\n",
       "      <td>false</td>\n",
       "    </tr>\n",
       "    <tr>\n",
       "      <th>(2, 2)</th>\n",
       "      <td>1.000000</td>\n",
       "      <td>false</td>\n",
       "    </tr>\n",
       "    <tr>\n",
       "      <th>(3, 3)</th>\n",
       "      <td>1.000000</td>\n",
       "      <td>false</td>\n",
       "    </tr>\n",
       "    <tr>\n",
       "      <th>(4, 4)</th>\n",
       "      <td>1.000000</td>\n",
       "      <td>false</td>\n",
       "    </tr>\n",
       "    <tr>\n",
       "      <th>(5, 5)</th>\n",
       "      <td>1.000000</td>\n",
       "      <td>false</td>\n",
       "    </tr>\n",
       "    <tr>\n",
       "      <th>(5, 6)</th>\n",
       "      <td>0.140683</td>\n",
       "      <td>false</td>\n",
       "    </tr>\n",
       "    <tr>\n",
       "      <th>(6, 5)</th>\n",
       "      <td>0.140683</td>\n",
       "      <td>false</td>\n",
       "    </tr>\n",
       "    <tr>\n",
       "      <th>(6, 6)</th>\n",
       "      <td>1.000000</td>\n",
       "      <td>false</td>\n",
       "    </tr>\n",
       "    <tr>\n",
       "      <th>(7, 7)</th>\n",
       "      <td>1.000000</td>\n",
       "      <td>false</td>\n",
       "    </tr>\n",
       "  </tbody>\n",
       "</table>\n",
       "</div>"
      ],
      "text/plain": [
       "         p value reject null\n",
       "(0, 0)  1.000000  false     \n",
       "(1, 1)  1.000000  false     \n",
       "(2, 2)  1.000000  false     \n",
       "(3, 3)  1.000000  false     \n",
       "(4, 4)  1.000000  false     \n",
       "(5, 5)  1.000000  false     \n",
       "(5, 6)  0.140683  false     \n",
       "(6, 5)  0.140683  false     \n",
       "(6, 6)  1.000000  false     \n",
       "(7, 7)  1.000000  false     "
      ]
     },
     "execution_count": 27,
     "metadata": {},
     "output_type": "execute_result"
    }
   ],
   "source": [
    "from scipy import stats\n",
    "specgrp2 = df3[df3['specgrp']==2].netasset\n",
    "specgrp3 = df3[df3['specgrp']==3].netasset\n",
    "specgrp4 = df3[df3['specgrp']==4].netasset\n",
    "specgrp5 = df3[df3['specgrp']==5].netasset\n",
    "specgrp6 = df3[df3['specgrp']==6].netasset\n",
    "specgrp7 = df3[df3['specgrp']==7].netasset\n",
    "specgrp8 = df3[df3['specgrp']==8].netasset\n",
    "specgrp9 = df3[df3['specgrp']==9].netasset\n",
    "\n",
    "specgrp = [specgrp2,specgrp3,specgrp4,specgrp5,specgrp6,specgrp7,specgrp8,specgrp9]\n",
    "table={}\n",
    "\n",
    "for i in range(len(specgrp)):\n",
    "    for n in range(len(specgrp)): \n",
    "        table[(i,n)]=stats.ttest_ind(specgrp[i], specgrp[n], equal_var=False).pvalue\n",
    "        \n",
    "\n",
    "table = pd.DataFrame.from_dict(table,orient='index',columns=['p value'])\n",
    "table['reject null']= np.where(table['p value']<0.01, 'true', 'false')\n",
    "# table['reject null']= np.where(table['p value']<0.05, 'true', 'false')\n",
    "table['reject null'].value_counts()\n",
    "table.loc[table['reject null']=='false']\n",
    "# sorted(table.items(), key=lambda x: x[1])"
   ]
  },
  {
   "cell_type": "markdown",
   "metadata": {},
   "source": [
    "<font color='blue'>From t test, only specialized group 5 and 6 are not significant different. So group 5 and 6 should be clustered together.</font>"
   ]
  },
  {
   "cell_type": "markdown",
   "metadata": {},
   "source": [
    "#### one-way ANOVA test\n",
    "ANOVA Hypotheses\n",
    "\n",
    "Null hypotheses: Groups means are equal (no variation in means of groups)\n",
    "Alternative hypotheses: At least, one group mean is different from other groups\n",
    "\n",
    "ANOVA Assumptions\n",
    "\n",
    "Residuals (experimental error) are normally distributed (Shapiro Wilks Test)\n",
    "Homogeneity of variances (variances are equal between treatment groups) (Levene or Bartlett Test)\n",
    "Observations are sampled independently from each other"
   ]
  },
  {
   "cell_type": "code",
   "execution_count": 28,
   "metadata": {},
   "outputs": [],
   "source": [
    "nongroupzip = list(zip(specgrp2,specgrp3,specgrp4,specgrp5,specgrp6,specgrp7,specgrp8,specgrp9))\n",
    "nongroupdf = pd.DataFrame(nongroupzip, columns=['2','3','4','5','6','7','8','9'])"
   ]
  },
  {
   "cell_type": "code",
   "execution_count": 29,
   "metadata": {},
   "outputs": [
    {
     "name": "stdout",
     "output_type": "stream",
     "text": [
      "332.747717247821 4.104834438403661e-16\n"
     ]
    },
    {
     "data": {
      "text/html": [
       "<div>\n",
       "<style scoped>\n",
       "    .dataframe tbody tr th:only-of-type {\n",
       "        vertical-align: middle;\n",
       "    }\n",
       "\n",
       "    .dataframe tbody tr th {\n",
       "        vertical-align: top;\n",
       "    }\n",
       "\n",
       "    .dataframe thead th {\n",
       "        text-align: right;\n",
       "    }\n",
       "</style>\n",
       "<table border=\"1\" class=\"dataframe\">\n",
       "  <thead>\n",
       "    <tr style=\"text-align: right;\">\n",
       "      <th></th>\n",
       "      <th>sum_sq</th>\n",
       "      <th>df</th>\n",
       "      <th>F</th>\n",
       "      <th>PR(&gt;F)</th>\n",
       "    </tr>\n",
       "  </thead>\n",
       "  <tbody>\n",
       "    <tr>\n",
       "      <th>C(treatments)</th>\n",
       "      <td>1.430824e+10</td>\n",
       "      <td>7.0</td>\n",
       "      <td>332.747717</td>\n",
       "      <td>4.104834e-16</td>\n",
       "    </tr>\n",
       "    <tr>\n",
       "      <th>Residual</th>\n",
       "      <td>9.828629e+07</td>\n",
       "      <td>16.0</td>\n",
       "      <td>NaN</td>\n",
       "      <td>NaN</td>\n",
       "    </tr>\n",
       "  </tbody>\n",
       "</table>\n",
       "</div>"
      ],
      "text/plain": [
       "                     sum_sq    df           F        PR(>F)\n",
       "C(treatments)  1.430824e+10  7.0   332.747717  4.104834e-16\n",
       "Residual       9.828629e+07  16.0 NaN         NaN          "
      ]
     },
     "execution_count": 29,
     "metadata": {},
     "output_type": "execute_result"
    }
   ],
   "source": [
    "# load packages\n",
    "import scipy.stats as stats\n",
    "# stats f_oneway functions takes the groups as input and returns F and P-value\n",
    "fvalue, pvalue = stats.f_oneway(nongroupdf['2'], nongroupdf['3'], nongroupdf['4'], nongroupdf['5'],nongroupdf['6'],\\\n",
    "                                nongroupdf['7'],nongroupdf['8'],nongroupdf['9'])\n",
    "print(fvalue, pvalue)\n",
    "# 17.492810457516338 2.639241146210922e-05\n",
    "\n",
    "# get ANOVA table as R like output\n",
    "import statsmodels.api as sm\n",
    "from statsmodels.formula.api import ols\n",
    "# reshape the d dataframe suitable for statsmodels package \n",
    "d_melt = pd.melt(nongroupdf.reset_index(), id_vars=['index'], value_vars=['2','3','4','5','6','7','8','9'])\n",
    "# replace column names\n",
    "d_melt.columns = ['index', 'treatments', 'value']\n",
    "# Ordinary Least Squares (OLS) model\n",
    "model = ols('value ~ C(treatments)', data=d_melt).fit()\n",
    "anova_table = sm.stats.anova_lm(model, typ=2)\n",
    "anova_table"
   ]
  },
  {
   "cell_type": "markdown",
   "metadata": {},
   "source": [
    "The P-value obtained from ANOVA analysis is significant (P<0.05), and therefore, we conclude that there are significant differences among treatments."
   ]
  },
  {
   "cell_type": "markdown",
   "metadata": {},
   "source": [
    "#### Tukey HSD test \n",
    "To know the pairs of significant different treatments, we will perform multiple pairwise comparison (Post-hoc comparison) analysis using Tukey HSD test."
   ]
  },
  {
   "cell_type": "code",
   "execution_count": 30,
   "metadata": {},
   "outputs": [
    {
     "name": "stdout",
     "output_type": "stream",
     "text": [
      "      Multiple Comparison of Means - Tukey HSD, FWER=0.05      \n",
      "===============================================================\n",
      "group1 group2   meandiff  p-adj     lower       upper    reject\n",
      "---------------------------------------------------------------\n",
      "     2      3      2919.0 0.8047  -4087.7264   9925.7264  False\n",
      "     2      4  43809.6667  0.001  36802.9403   50816.393   True\n",
      "     2      5  28929.6667  0.001  21922.9403   35936.393   True\n",
      "     2      6   1624.6667    0.9  -5382.0597    8631.393  False\n",
      "     2      7  22065.6667  0.001  15058.9403   29072.393   True\n",
      "     2      8  17683.3333  0.001   10676.607  24690.0597   True\n",
      "     2      9  76805.3333  0.001   69798.607  83812.0597   True\n",
      "     3      4  40890.6667  0.001  33883.9403   47897.393   True\n",
      "     3      5  26010.6667  0.001  19003.9403   33017.393   True\n",
      "     3      6  -1294.3333    0.9  -8301.0597    5712.393  False\n",
      "     3      7  19146.6667  0.001  12139.9403   26153.393   True\n",
      "     3      8  14764.3333  0.001    7757.607  21771.0597   True\n",
      "     3      9  73886.3333  0.001   66879.607  80893.0597   True\n",
      "     4      5    -14880.0  0.001 -21886.7264  -7873.2736   True\n",
      "     4      6    -42185.0  0.001 -49191.7264 -35178.2736   True\n",
      "     4      7    -21744.0  0.001 -28750.7264 -14737.2736   True\n",
      "     4      8 -26126.3333  0.001 -33133.0597  -19119.607   True\n",
      "     4      9  32995.6667  0.001  25988.9403   40002.393   True\n",
      "     5      6    -27305.0  0.001 -34311.7264 -20298.2736   True\n",
      "     5      7     -6864.0 0.0571 -13870.7264    142.7264  False\n",
      "     5      8 -11246.3333  0.001 -18253.0597   -4239.607   True\n",
      "     5      9  47875.6667  0.001  40868.9403   54882.393   True\n",
      "     6      7     20441.0  0.001  13434.2736  27447.7264   True\n",
      "     6      8  16058.6667  0.001   9051.9403   23065.393   True\n",
      "     6      9  75180.6667  0.001  68173.9403   82187.393   True\n",
      "     7      8  -4382.3333 0.4207 -11389.0597    2624.393  False\n",
      "     7      9  54739.6667  0.001  47732.9403   61746.393   True\n",
      "     8      9     59122.0  0.001  52115.2736  66128.7264   True\n",
      "---------------------------------------------------------------\n"
     ]
    }
   ],
   "source": [
    "# load packages\n",
    "from statsmodels.stats.multicomp import pairwise_tukeyhsd\n",
    "# perform multiple pairwise comparison (Tukey HSD)\n",
    "m_comp = pairwise_tukeyhsd(endog=d_melt['value'], groups=d_melt['treatments'], alpha=0.05)\n",
    "print(m_comp)"
   ]
  },
  {
   "cell_type": "markdown",
   "metadata": {},
   "source": [
    "<font color='red'>From ANOVA test, specialized group 2&3&6, group 7&8, group 5&7 are not significant different, though the p value for 5&7 is acceptably low and if back check the assets/liabilities/netassets values are not similar. Therefore the final clusters are: cluster1: (2,3,6),(7,8),(4),(5),(9).</font>\n",
    "An indicator of an institution�s primary specialization in terms of asset concentration.\n",
    "\n",
    "Note: (Groups are hierarchical and mutually exclusive):\n",
    "\n",
    "1 - International Specialization � Institutions with assets greater than $10 billion and more than 25 percent of total assets in foreign offices.\n",
    "\n",
    "2 - Agricultural Specialization � Banks with agricultural production loans plus real estate loans secured by farmland in excess of 25 percent of total loans and leases.\n",
    "\n",
    "3 - Credit-card Specialization � Institutions with credit-card loans plus securitized receivables in excess of 50 percent of total assets plus securitized receivables.\n",
    "\n",
    "4 - Commercial Lending Specialization � Institutions with commercial and industrial loans, plus real estate construction and development loans, plus loans secured by commercial real estate properties in excess of 25 percent of total assets.\n",
    "\n",
    "5 - Mortgage Lending Specialization � Institutions with residential mortgage loans, plus mortgage-backed securities, in excess of 50 percent of total assets.\n",
    "\n",
    "6 - Consumer Lending Specialization � Institutions with residential mortgage loans, plus credit-card loans, plus other loans to individuals, in excess of 50 percent of total assets.\n",
    "\n",
    "7 - Other Specialized < $1 Billion � Institutions with assets less than $1 billion and with loans and leases are less than 40 percent of total assets.\n",
    "\n",
    "8 - All Other < $1 Billion � Institutions with assets less than $1 billion that do not meet any of the definitions above, they have significant lending activity with no identified asset concentrations.\n",
    "\n",
    "9 - All Other > $1 Billion � Institutions with assets greater than $1 billion that do not meet any of the definitions above, they have significant lending activity with no identified asset concentrations."
   ]
  },
  {
   "cell_type": "markdown",
   "metadata": {},
   "source": [
    "Test ANOVA assumptions <br>\n",
    "Shapiro-Wilk test: can be used to check the normal distribution of residuals . Null hypothesis: data is drawn from normal distribution. <br>\n",
    "Bartlett’s test: As the data is drawn from normal distribution, use Bartlett’s test to check the Homogeneity of variances. Null hypothesis: samples from populations have equal variances.<br>\n",
    "Levene test can be used to check the Homogeneity of variances when the data is not drawn from normal distribution."
   ]
  },
  {
   "cell_type": "code",
   "execution_count": 31,
   "metadata": {},
   "outputs": [
    {
     "name": "stdout",
     "output_type": "stream",
     "text": [
      "0.8495645523071289 0.002145778387784958\n"
     ]
    }
   ],
   "source": [
    "# load packages\n",
    "import scipy.stats as stats\n",
    "w, pvalue = stats.shapiro(model.resid)\n",
    "print(w, pvalue)"
   ]
  },
  {
   "cell_type": "code",
   "execution_count": 32,
   "metadata": {},
   "outputs": [
    {
     "name": "stdout",
     "output_type": "stream",
     "text": [
      "1.3954746245557403 0.2733428367785623\n"
     ]
    }
   ],
   "source": [
    "w, pvalue = stats.levene(nongroupdf['2'], nongroupdf['3'], nongroupdf['4'], nongroupdf['5'],nongroupdf['6'],\\\n",
    "                                nongroupdf['7'],nongroupdf['8'],nongroupdf['9'])\n",
    "print(w, pvalue)"
   ]
  },
  {
   "cell_type": "code",
   "execution_count": 33,
   "metadata": {},
   "outputs": [
    {
     "name": "stdout",
     "output_type": "stream",
     "text": [
      "35.813786570246236 7.859956223721087e-06\n"
     ]
    }
   ],
   "source": [
    "w, pvalue = stats.bartlett(nongroupdf['2'], nongroupdf['3'], nongroupdf['4'], nongroupdf['5'],nongroupdf['6'],\\\n",
    "                                nongroupdf['7'],nongroupdf['8'],nongroupdf['9'])\n",
    "print(w, pvalue)"
   ]
  },
  {
   "cell_type": "markdown",
   "metadata": {},
   "source": [
    "Since Shapiro-Wilk test shows we should reject null that data is normal distribution, we should then use Levene test to test the homogeneity of variances. From Levene test it shows that we could not reject null that samples have equal variances, therefore the data meets the ANOVA assumptions."
   ]
  },
  {
   "cell_type": "markdown",
   "metadata": {},
   "source": [
    "#### Outlier"
   ]
  },
  {
   "cell_type": "code",
   "execution_count": null,
   "metadata": {},
   "outputs": [],
   "source": [
    "#Clean the data by removing orders with 0 items or having more items than 99.5th percentile orders\n",
    "print(df3.netasset.quantile(.995))\n",
    "print(nonpubgroup.netasset.quantile(.995))\n",
    "nonpubgroup_clean = nonpubgroup.netasset.apply(lambda x : x>0) & nonpubgroup.netasset.apply(lambda x : x<x.quantile(.995))\n",
    "nonpubgroup_clean.count()"
   ]
  },
  {
   "cell_type": "code",
   "execution_count": null,
   "metadata": {},
   "outputs": [],
   "source": [
    "# outlier = nonpubgroup['netasset'].transform(lambda x : x>1000000)\n",
    "# outlier"
   ]
  },
  {
   "cell_type": "code",
   "execution_count": null,
   "metadata": {},
   "outputs": [],
   "source": []
  },
  {
   "cell_type": "code",
   "execution_count": null,
   "metadata": {},
   "outputs": [],
   "source": [
    "# nonpubgroup = df3.groupby('specgrp')\n",
    "# # Plot\n",
    "# fig, ax = plt.subplots()\n",
    "# ax.margins(0.05) # Optional, just adds 5% padding to the autoscaling\n",
    "# for name, group in nonpubgroup:\n",
    "#     ax.plot(group.repdte, group.netasset, marker='o', linestyle='', ms=12, label=name)\n",
    "# ax.legend()\n",
    "# plt.show()"
   ]
  },
  {
   "cell_type": "code",
   "execution_count": null,
   "metadata": {},
   "outputs": [],
   "source": [
    "def abplot(N_A, N_B, bcr, d_hat, sig_level=0.05, show_power=False,\n",
    "           show_alpha=False, show_beta=False, show_p_value=False,\n",
    "           show_legend=True):\n",
    "    \"\"\"Example plot of AB test\n",
    "    Example:\n",
    "        abplot(n=4000, bcr=0.11, d_hat=0.03)\n",
    "    Parameters:\n",
    "        n (int): total sample size for both control and test groups (N_A + N_B)\n",
    "        bcr (float): base conversion rate; conversion rate of control\n",
    "        d_hat: difference in conversion rate between the control and test\n",
    "            groups, sometimes referred to as **minimal detectable effect** when\n",
    "            calculating minimum sample size or **lift** when discussing\n",
    "            positive improvement desired from launching a change.\n",
    "    Returns:\n",
    "        None: the function plots an AB test as two distributions for\n",
    "        visualization purposes\n",
    "    \"\"\"\n",
    "    # create a plot object\n",
    "    fig, ax = plt.subplots(figsize=(12, 6))\n",
    "\n",
    "    # define parameters to find pooled standard error\n",
    "    X_A = bcr * N_A\n",
    "    X_B = (bcr + d_hat) * N_B\n",
    "    stderr = pooled_SE(N_A, N_B, X_A, X_B)\n",
    "\n",
    "    # plot the distribution of the null and alternative hypothesis\n",
    "    plot_null(ax, stderr)\n",
    "    plot_alt(ax, stderr, d_hat)\n",
    "\n",
    "    # set extent of plot area\n",
    "    ax.set_xlim(-8 * stderr, 8 * stderr)\n",
    "\n",
    "    # shade areas according to user input\n",
    "    if show_power:\n",
    "        show_area(ax, d_hat, stderr, sig_level, area_type='power')\n",
    "    if show_alpha:\n",
    "        show_area(ax, d_hat, stderr, sig_level, area_type='alpha')\n",
    "    if show_beta:\n",
    "        show_area(ax, d_hat, stderr, sig_level, area_type='beta')\n",
    "\n",
    "    # show p_value based on the binomial distributions for the two groups\n",
    "    if show_p_value:\n",
    "        null = ab_dist(stderr, 'control')\n",
    "        p_value = p_val(N_A, N_B, bcr, bcr+d_hat)\n",
    "        ax.text(3 * stderr, null.pdf(0),\n",
    "                'p-value = {0:.3f}'.format(p_value),\n",
    "                fontsize=12, ha='left')\n",
    "\n",
    "    # option to show legend\n",
    "    if show_legend:\n",
    "        plt.legend()\n",
    "\n",
    "    plt.xlabel('d')\n",
    "    plt.ylabel('PDF')\n",
    "    plt.show()"
   ]
  },
  {
   "cell_type": "code",
   "execution_count": null,
   "metadata": {},
   "outputs": [],
   "source": [
    "# n = public.count()+allbank[:2998].count()\n",
    "# bcr = allbank[:2998]\n",
    "# d_hat = public - allbank[:2998]\n",
    "# abplot(n, bcr, d_hat)"
   ]
  },
  {
   "cell_type": "code",
   "execution_count": null,
   "metadata": {},
   "outputs": [],
   "source": []
  }
 ],
 "metadata": {
  "kernelspec": {
   "display_name": "Python 3.6 - AzureML",
   "language": "python",
   "name": "python3-azureml"
  },
  "language_info": {
   "codemirror_mode": {
    "name": "ipython",
    "version": 3
   },
   "file_extension": ".py",
   "mimetype": "text/x-python",
   "name": "python",
   "nbconvert_exporter": "python",
   "pygments_lexer": "ipython3",
   "version": "3.6.9"
  }
 },
 "nbformat": 4,
 "nbformat_minor": 2
}
