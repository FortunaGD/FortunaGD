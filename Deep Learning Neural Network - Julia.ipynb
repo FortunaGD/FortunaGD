{
 "cells": [
  {
   "cell_type": "markdown",
   "metadata": {},
   "source": [
    "# Deep learning Neural Network\n",
    "## Fortuna Zhang"
   ]
  },
  {
   "cell_type": "markdown",
   "metadata": {},
   "source": [
    "This project is to apply various neural network models for image recognition prediction by simulation study of the impact of network architects on prediction accuracy. \n",
    "\n",
    "### 1: Baseline model\n",
    "First build up the baseline (first) neural network used to classify MNIST digits images.\n",
    "Out-of-sample accuracy of the trained model is around 0.686."
   ]
  },
  {
   "cell_type": "code",
   "execution_count": 1,
   "metadata": {},
   "outputs": [
    {
     "name": "stdout",
     "output_type": "stream",
     "text": [
      "loaded\n"
     ]
    }
   ],
   "source": [
    "using Dates, Plots, GLM, Distributions, CSV, InfoZIP\n",
    "using Flux, Flux.Data.MNIST, Statistics\n",
    "using Flux: onehotbatch, onecold, crossentropy, throttle\n",
    "using Base.Iterators: repeated, partition\n",
    "using Images, ImageMagick, Random\n"
   ]
  },
  {
   "cell_type": "code",
   "execution_count": 2,
   "metadata": {},
   "outputs": [
    {
     "data": {
      "text/plain": [
       "10×60000 Flux.OneHotMatrix{Array{Flux.OneHotVector,1}}:\n",
       " false   true  false  false  false  …  false  false  false  false  false\n",
       " false  false  false   true  false     false  false  false  false  false\n",
       " false  false  false  false  false     false  false  false  false  false\n",
       " false  false  false  false  false     false   true  false  false  false\n",
       " false  false   true  false  false     false  false  false  false  false\n",
       "  true  false  false  false  false  …  false  false   true  false  false\n",
       " false  false  false  false  false     false  false  false   true  false\n",
       " false  false  false  false  false     false  false  false  false  false\n",
       " false  false  false  false  false      true  false  false  false   true\n",
       " false  false  false  false   true     false  false  false  false  false"
      ]
     },
     "execution_count": 2,
     "metadata": {},
     "output_type": "execute_result"
    }
   ],
   "source": [
    "imgs = MNIST.images(:train)\n",
    "labels = onehotbatch(MNIST.labels(:train), 0:9)"
   ]
  },
  {
   "cell_type": "code",
   "execution_count": 3,
   "metadata": {},
   "outputs": [
    {
     "data": {
      "text/plain": [
       "60-element Array{Tuple{Array{Float64,4},Flux.OneHotMatrix{Array{Flux.OneHotVector,1}}},1}:\n",
       " ([0.0 0.0 … 0.0 0.0; 0.0 0.0 … 0.0 0.0; … ; 0.0 0.0 … 0.0 0.0; 0.0 0.0 … 0.0 0.0]\n",
       "\n",
       "[0.0 0.0 … 0.0 0.0; 0.0 0.0 … 0.0 0.0; … ; 0.0 0.0 … 0.0 0.0; 0.0 0.0 … 0.0 0.0]\n",
       "\n",
       "[0.0 0.0 … 0.0 0.0; 0.0 0.0 … 0.0 0.0; … ; 0.0 0.0 … 0.0 0.0; 0.0 0.0 … 0.0 0.0]\n",
       "\n",
       "...\n",
       "\n",
       "[0.0 0.0 … 0.0 0.0; 0.0 0.0 … 0.0 0.0; … ; 0.0 0.0 … 0.0 0.0; 0.0 0.0 … 0.0 0.0]\n",
       "\n",
       "[0.0 0.0 … 0.0 0.0; 0.0 0.0 … 0.0 0.0; … ; 0.0 0.0 … 0.0 0.0; 0.0 0.0 … 0.0 0.0]\n",
       "\n",
       "[0.0 0.0 … 0.0 0.0; 0.0 0.0 … 0.0 0.0; … ; 0.0 0.0 … 0.0 0.0; 0.0 0.0 … 0.0 0.0], [false true … false false; false false … false false; … ; false false … false false; false false … false false]) \n",
       " ([0.0 0.0 … 0.0 0.0; 0.0 0.0 … 0.0 0.0; … ; 0.0 0.0 … 0.0 0.0; 0.0 0.0 … 0.0 0.0]\n",
       "\n",
       "[0.0 0.0 … 0.0 0.0; 0.0 0.0 … 0.0 0.0; … ; 0.0 0.0 … 0.0 0.0; 0.0 0.0 … 0.0 0.0]\n",
       "\n",
       "[0.0 0.0 … 0.0 0.0; 0.0 0.0 … 0.0 0.0; … ; 0.0 0.0 … 0.0 0.0; 0.0 0.0 … 0.0 0.0]\n",
       "\n",
       "...\n",
       "\n",
       "[0.0 0.0 … 0.0 0.0; 0.0 0.0 … 0.0 0.0; … ; 0.0 0.0 … 0.0 0.0; 0.0 0.0 … 0.0 0.0]\n",
       "\n",
       "[0.0 0.0 … 0.0 0.0; 0.0 0.0 … 0.0 0.0; … ; 0.0 0.0 … 0.0 0.0; 0.0 0.0 … 0.0 0.0]\n",
       "\n",
       "[0.0 0.0 … 0.0 0.0; 0.0 0.0 … 0.0 0.0; … ; 0.0 0.0 … 0.0 0.0; 0.0 0.0 … 0.0 0.0], [true false … false true; false false … false false; … ; false false … false false; false false … false false])  \n",
       " ([0.0 0.0 … 0.0 0.0; 0.0 0.0 … 0.0 0.0; … ; 0.0 0.0 … 0.0 0.0; 0.0 0.0 … 0.0 0.0]\n",
       "\n",
       "[0.0 0.0 … 0.0 0.0; 0.0 0.0 … 0.0 0.0; … ; 0.0 0.0 … 0.0 0.0; 0.0 0.0 … 0.0 0.0]\n",
       "\n",
       "[0.0 0.0 … 0.0 0.0; 0.0 0.0 … 0.0 0.0; … ; 0.0 0.0 … 0.0 0.0; 0.0 0.0 … 0.0 0.0]\n",
       "\n",
       "...\n",
       "\n",
       "[0.0 0.0 … 0.0 0.0; 0.0 0.0 … 0.0 0.0; … ; 0.0 0.0 … 0.0 0.0; 0.0 0.0 … 0.0 0.0]\n",
       "\n",
       "[0.0 0.0 … 0.0 0.0; 0.0 0.0 … 0.0 0.0; … ; 0.0 0.0 … 0.0 0.0; 0.0 0.0 … 0.0 0.0]\n",
       "\n",
       "[0.0 0.0 … 0.0 0.0; 0.0 0.0 … 0.0 0.0; … ; 0.0 0.0 … 0.0 0.0; 0.0 0.0 … 0.0 0.0], [false false … false false; false false … true false; … ; false true … false false; false false … false false])  \n",
       " ([0.0 0.0 … 0.0 0.0; 0.0 0.0 … 0.0 0.0; … ; 0.0 0.0 … 0.0 0.0; 0.0 0.0 … 0.0 0.0]\n",
       "\n",
       "[0.0 0.0 … 0.0 0.0; 0.0 0.0 … 0.0 0.0; … ; 0.0 0.0 … 0.0 0.0; 0.0 0.0 … 0.0 0.0]\n",
       "\n",
       "[0.0 0.0 … 0.0 0.0; 0.0 0.0 … 0.0 0.0; … ; 0.0 0.0 … 0.0 0.0; 0.0 0.0 … 0.0 0.0]\n",
       "\n",
       "...\n",
       "\n",
       "[0.0 0.0 … 0.0 0.0; 0.0 0.0 … 0.0 0.0; … ; 0.0 0.0 … 0.0 0.0; 0.0 0.0 … 0.0 0.0]\n",
       "\n",
       "[0.0 0.0 … 0.0 0.0; 0.0 0.0 … 0.0 0.0; … ; 0.0 0.0 … 0.0 0.0; 0.0 0.0 … 0.0 0.0]\n",
       "\n",
       "[0.0 0.0 … 0.0 0.0; 0.0 0.0 … 0.0 0.0; … ; 0.0 0.0 … 0.0 0.0; 0.0 0.0 … 0.0 0.0], [false true … false false; false false … false false; … ; false false … false false; true false … true false])   \n",
       " ([0.0 0.0 … 0.0 0.0; 0.0 0.0 … 0.0 0.0; … ; 0.0 0.0 … 0.0 0.0; 0.0 0.0 … 0.0 0.0]\n",
       "\n",
       "[0.0 0.0 … 0.0 0.0; 0.0 0.0 … 0.0 0.0; … ; 0.0 0.0 … 0.0 0.0; 0.0 0.0 … 0.0 0.0]\n",
       "\n",
       "[0.0 0.0 … 0.0 0.0; 0.0 0.0 … 0.0 0.0; … ; 0.0 0.0 … 0.0 0.0; 0.0 0.0 … 0.0 0.0]\n",
       "\n",
       "...\n",
       "\n",
       "[0.0 0.0 … 0.0 0.0; 0.0 0.0 … 0.0 0.0; … ; 0.0 0.0 … 0.0 0.0; 0.0 0.0 … 0.0 0.0]\n",
       "\n",
       "[0.0 0.0 … 0.0 0.0; 0.0 0.0 … 0.0 0.0; … ; 0.0 0.0 … 0.0 0.0; 0.0 0.0 … 0.0 0.0]\n",
       "\n",
       "[0.0 0.0 … 0.0 0.0; 0.0 0.0 … 0.0 0.0; … ; 0.0 0.0 … 0.0 0.0; 0.0 0.0 … 0.0 0.0], [false false … false false; false false … true false; … ; false false … false false; false false … false false]) \n",
       " ([0.0 0.0 … 0.0 0.0; 0.0 0.0 … 0.0 0.0; … ; 0.0 0.0 … 0.0 0.0; 0.0 0.0 … 0.0 0.0]\n",
       "\n",
       "[0.0 0.0 … 0.0 0.0; 0.0 0.0 … 0.0 0.0; … ; 0.0 0.0 … 0.0 0.0; 0.0 0.0 … 0.0 0.0]\n",
       "\n",
       "[0.0 0.0 … 0.0 0.0; 0.0 0.0 … 0.0 0.0; … ; 0.0 0.0 … 0.0 0.0; 0.0 0.0 … 0.0 0.0]\n",
       "\n",
       "...\n",
       "\n",
       "[0.0 0.0 … 0.0 0.0; 0.0 0.0 … 0.0 0.0; … ; 0.0 0.0 … 0.0 0.0; 0.0 0.0 … 0.0 0.0]\n",
       "\n",
       "[0.0 0.0 … 0.0 0.0; 0.0 0.0 … 0.0 0.0; … ; 0.0 0.0 … 0.0 0.0; 0.0 0.0 … 0.0 0.0]\n",
       "\n",
       "[0.0 0.0 … 0.0 0.0; 0.0 0.0 … 0.0 0.0; … ; 0.0 0.0 … 0.0 0.0; 0.0 0.0 … 0.0 0.0], [false false … false false; false false … false false; … ; false false … false false; false false … false true]) \n",
       " ([0.0 0.0 … 0.0 0.0; 0.0 0.0 … 0.0 0.0; … ; 0.0 0.0 … 0.0 0.0; 0.0 0.0 … 0.0 0.0]\n",
       "\n",
       "[0.0 0.0 … 0.0 0.0; 0.0 0.0 … 0.0 0.0; … ; 0.0 0.0 … 0.0 0.0; 0.0 0.0 … 0.0 0.0]\n",
       "\n",
       "[0.0 0.0 … 0.0 0.0; 0.0 0.0 … 0.0 0.0; … ; 0.0 0.0 … 0.0 0.0; 0.0 0.0 … 0.0 0.0]\n",
       "\n",
       "...\n",
       "\n",
       "[0.0 0.0 … 0.0 0.0; 0.0 0.0 … 0.0 0.0; … ; 0.0 0.0 … 0.0 0.0; 0.0 0.0 … 0.0 0.0]\n",
       "\n",
       "[0.0 0.0 … 0.0 0.0; 0.0 0.0 … 0.0 0.0; … ; 0.0 0.0 … 0.0 0.0; 0.0 0.0 … 0.0 0.0]\n",
       "\n",
       "[0.0 0.0 … 0.0 0.0; 0.0 0.0 … 0.0 0.0; … ; 0.0 0.0 … 0.0 0.0; 0.0 0.0 … 0.0 0.0], [false true … false false; false false … true false; … ; false false … false false; false false … false true])   \n",
       " ([0.0 0.0 … 0.0 0.0; 0.0 0.0 … 0.0 0.0; … ; 0.0 0.0 … 0.0 0.0; 0.0 0.0 … 0.0 0.0]\n",
       "\n",
       "[0.0 0.0 … 0.0 0.0; 0.0 0.0 … 0.0 0.0; … ; 0.0 0.0 … 0.0 0.0; 0.0 0.0 … 0.0 0.0]\n",
       "\n",
       "[0.0 0.0 … 0.0 0.0; 0.0 0.0 … 0.0 0.0; … ; 0.0 0.0 … 0.0 0.0; 0.0 0.0 … 0.0 0.0]\n",
       "\n",
       "...\n",
       "\n",
       "[0.0 0.0 … 0.0 0.0; 0.0 0.0 … 0.0 0.0; … ; 0.0 0.0 … 0.0 0.0; 0.0 0.0 … 0.0 0.0]\n",
       "\n",
       "[0.0 0.0 … 0.0 0.0; 0.0 0.0 … 0.0 0.0; … ; 0.0 0.0 … 0.0 0.0; 0.0 0.0 … 0.0 0.0]\n",
       "\n",
       "[0.0 0.0 … 0.0 0.0; 0.0 0.0 … 0.0 0.0; … ; 0.0 0.0 … 0.0 0.0; 0.0 0.0 … 0.0 0.0], [false false … false false; false false … false false; … ; true false … false false; false false … false false]) \n",
       " ([0.0 0.0 … 0.0 0.0; 0.0 0.0 … 0.0 0.0; … ; 0.0 0.0 … 0.0 0.0; 0.0 0.0 … 0.0 0.0]\n",
       "\n",
       "[0.0 0.0 … 0.0 0.0; 0.0 0.0 … 0.0 0.0; … ; 0.0 0.0 … 0.0 0.0; 0.0 0.0 … 0.0 0.0]\n",
       "\n",
       "[0.0 0.0 … 0.0 0.0; 0.0 0.0 … 0.0 0.0; … ; 0.0 0.0 … 0.0 0.0; 0.0 0.0 … 0.0 0.0]\n",
       "\n",
       "...\n",
       "\n",
       "[0.0 0.0 … 0.0 0.0; 0.0 0.0 … 0.0 0.0; … ; 0.0 0.0 … 0.0 0.0; 0.0 0.0 … 0.0 0.0]\n",
       "\n",
       "[0.0 0.0 … 0.0 0.0; 0.0 0.0 … 0.0 0.0; … ; 0.0 0.0 … 0.0 0.0; 0.0 0.0 … 0.0 0.0]\n",
       "\n",
       "[0.0 0.0 … 0.0 0.0; 0.0 0.0 … 0.0 0.0; … ; 0.0 0.0 … 0.0 0.0; 0.0 0.0 … 0.0 0.0], [true false … false false; false false … false false; … ; false false … false false; false false … true true])   \n",
       " ([0.0 0.0 … 0.0 0.0; 0.0 0.0 … 0.0 0.0; … ; 0.0 0.0 … 0.0 0.0; 0.0 0.0 … 0.0 0.0]\n",
       "\n",
       "[0.0 0.0 … 0.0 0.0; 0.0 0.0 … 0.0 0.0; … ; 0.0 0.0 … 0.0 0.0; 0.0 0.0 … 0.0 0.0]\n",
       "\n",
       "[0.0 0.0 … 0.0 0.0; 0.0 0.0 … 0.0 0.0; … ; 0.0 0.0 … 0.0 0.0; 0.0 0.0 … 0.0 0.0]\n",
       "\n",
       "...\n",
       "\n",
       "[0.0 0.0 … 0.0 0.0; 0.0 0.0 … 0.0 0.0; … ; 0.0 0.0 … 0.0 0.0; 0.0 0.0 … 0.0 0.0]\n",
       "\n",
       "[0.0 0.0 … 0.0 0.0; 0.0 0.0 … 0.0 0.0; … ; 0.0 0.0 … 0.0 0.0; 0.0 0.0 … 0.0 0.0]\n",
       "\n",
       "[0.0 0.0 … 0.0 0.0; 0.0 0.0 … 0.0 0.0; … ; 0.0 0.0 … 0.0 0.0; 0.0 0.0 … 0.0 0.0], [false false … false false; false false … false false; … ; false false … false false; false false … true false]) \n",
       " ([0.0 0.0 … 0.0 0.0; 0.0 0.0 … 0.0 0.0; … ; 0.0 0.0 … 0.0 0.0; 0.0 0.0 … 0.0 0.0]\n",
       "\n",
       "[0.0 0.0 … 0.0 0.0; 0.0 0.0 … 0.0 0.0; … ; 0.0 0.0 … 0.0 0.0; 0.0 0.0 … 0.0 0.0]\n",
       "\n",
       "[0.0 0.0 … 0.0 0.0; 0.0 0.0 … 0.0 0.0; … ; 0.0 0.0 … 0.0 0.0; 0.0 0.0 … 0.0 0.0]\n",
       "\n",
       "...\n",
       "\n",
       "[0.0 0.0 … 0.0 0.0; 0.0 0.0 … 0.0 0.0; … ; 0.0 0.0 … 0.0 0.0; 0.0 0.0 … 0.0 0.0]\n",
       "\n",
       "[0.0 0.0 … 0.0 0.0; 0.0 0.0 … 0.0 0.0; … ; 0.0 0.0 … 0.0 0.0; 0.0 0.0 … 0.0 0.0]\n",
       "\n",
       "[0.0 0.0 … 0.0 0.0; 0.0 0.0 … 0.0 0.0; … ; 0.0 0.0 … 0.0 0.0; 0.0 0.0 … 0.0 0.0], [false false … false false; false false … false false; … ; false true … false false; false false … false false]) \n",
       " ([0.0 0.0 … 0.0 0.0; 0.0 0.0 … 0.0 0.0; … ; 0.0 0.0 … 0.0 0.0; 0.0 0.0 … 0.0 0.0]\n",
       "\n",
       "[0.0 0.0 … 0.0 0.0; 0.0 0.0 … 0.0 0.0; … ; 0.0 0.0 … 0.0 0.0; 0.0 0.0 … 0.0 0.0]\n",
       "\n",
       "[0.0 0.0 … 0.0 0.0; 0.0 0.0 … 0.0 0.0; … ; 0.0 0.0 … 0.0 0.0; 0.0 0.0 … 0.0 0.0]\n",
       "\n",
       "...\n",
       "\n",
       "[0.0 0.0 … 0.0 0.0; 0.0 0.0 … 0.0 0.0; … ; 0.0 0.0 … 0.0 0.0; 0.0 0.0 … 0.0 0.0]\n",
       "\n",
       "[0.0 0.0 … 0.0 0.0; 0.0 0.0 … 0.0 0.0; … ; 0.0 0.0 … 0.0 0.0; 0.0 0.0 … 0.0 0.0]\n",
       "\n",
       "[0.0 0.0 … 0.0 0.0; 0.0 0.0 … 0.0 0.0; … ; 0.0 0.0 … 0.0 0.0; 0.0 0.0 … 0.0 0.0], [false false … false false; false false … false false; … ; false false … true false; false true … false false])  \n",
       " ([0.0 0.0 … 0.0 0.0; 0.0 0.0 … 0.0 0.0; … ; 0.0 0.0 … 0.0 0.0; 0.0 0.0 … 0.0 0.0]\n",
       "\n",
       "[0.0 0.0 … 0.0 0.0; 0.0 0.0 … 0.0 0.0; … ; 0.0 0.0 … 0.0 0.0; 0.0 0.0 … 0.0 0.0]\n",
       "\n",
       "[0.0 0.0 … 0.0 0.0; 0.0 0.0 … 0.0 0.0; … ; 0.0 0.0 … 0.0 0.0; 0.0 0.0 … 0.0 0.0]\n",
       "\n",
       "...\n",
       "\n",
       "[0.0 0.0 … 0.0 0.0; 0.0 0.0 … 0.0 0.0; … ; 0.0 0.0 … 0.0 0.0; 0.0 0.0 … 0.0 0.0]\n",
       "\n",
       "[0.0 0.0 … 0.0 0.0; 0.0 0.0 … 0.0 0.0; … ; 0.0 0.0 … 0.0 0.0; 0.0 0.0 … 0.0 0.0]\n",
       "\n",
       "[0.0 0.0 … 0.0 0.0; 0.0 0.0 … 0.0 0.0; … ; 0.0 0.0 … 0.0 0.0; 0.0 0.0 … 0.0 0.0], [false false … false false; false false … false false; … ; false false … false false; false false … false true]) \n",
       " ⋮                                                                                                                                                                                                                                                                                                                                                                                                                                                                                                                                                                                                                                  \n",
       " ([0.0 0.0 … 0.0 0.0; 0.0 0.0 … 0.0 0.0; … ; 0.0 0.0 … 0.0 0.0; 0.0 0.0 … 0.0 0.0]\n",
       "\n",
       "[0.0 0.0 … 0.0 0.0; 0.0 0.0 … 0.0 0.0; … ; 0.0 0.0 … 0.0 0.0; 0.0 0.0 … 0.0 0.0]\n",
       "\n",
       "[0.0 0.0 … 0.0 0.0; 0.0 0.0 … 0.0 0.0; … ; 0.0 0.0 … 0.0 0.0; 0.0 0.0 … 0.0 0.0]\n",
       "\n",
       "...\n",
       "\n",
       "[0.0 0.0 … 0.0 0.0; 0.0 0.0 … 0.0 0.0; … ; 0.0 0.0 … 0.0 0.0; 0.0 0.0 … 0.0 0.0]\n",
       "\n",
       "[0.0 0.0 … 0.0 0.0; 0.0 0.0 … 0.0 0.0; … ; 0.0 0.0 … 0.0 0.0; 0.0 0.0 … 0.0 0.0]\n",
       "\n",
       "[0.0 0.0 … 0.0 0.0; 0.0 0.0 … 0.0 0.0; … ; 0.0 0.0 … 0.0 0.0; 0.0 0.0 … 0.0 0.0], [false false … false false; false false … false false; … ; false false … false false; false false … false false])\n",
       " ([0.0 0.0 … 0.0 0.0; 0.0 0.0 … 0.0 0.0; … ; 0.0 0.0 … 0.0 0.0; 0.0 0.0 … 0.0 0.0]\n",
       "\n",
       "[0.0 0.0 … 0.0 0.0; 0.0 0.0 … 0.0 0.0; … ; 0.0 0.0 … 0.0 0.0; 0.0 0.0 … 0.0 0.0]\n",
       "\n",
       "[0.0 0.0 … 0.0 0.0; 0.0 0.0 … 0.0 0.0; … ; 0.0 0.0 … 0.0 0.0; 0.0 0.0 … 0.0 0.0]\n",
       "\n",
       "...\n",
       "\n",
       "[0.0 0.0 … 0.0 0.0; 0.0 0.0 … 0.0 0.0; … ; 0.0 0.0 … 0.0 0.0; 0.0 0.0 … 0.0 0.0]\n",
       "\n",
       "[0.0 0.0 … 0.0 0.0; 0.0 0.0 … 0.0 0.0; … ; 0.0 0.0 … 0.0 0.0; 0.0 0.0 … 0.0 0.0]\n",
       "\n",
       "[0.0 0.0 … 0.0 0.0; 0.0 0.0 … 0.0 0.0; … ; 0.0 0.0 … 0.0 0.0; 0.0 0.0 … 0.0 0.0], [false false … false false; false false … false false; … ; false false … false true; false false … false false]) \n",
       " ([0.0 0.0 … 0.0 0.0; 0.0 0.0 … 0.0 0.0; … ; 0.0 0.0 … 0.0 0.0; 0.0 0.0 … 0.0 0.0]\n",
       "\n",
       "[0.0 0.0 … 0.0 0.0; 0.0 0.0 … 0.0 0.0; … ; 0.0 0.0 … 0.0 0.0; 0.0 0.0 … 0.0 0.0]\n",
       "\n",
       "[0.0 0.0 … 0.0 0.0; 0.0 0.0 … 0.0 0.0; … ; 0.0 0.0 … 0.0 0.0; 0.0 0.0 … 0.0 0.0]\n",
       "\n",
       "...\n",
       "\n",
       "[0.0 0.0 … 0.0 0.0; 0.0 0.0 … 0.0 0.0; … ; 0.0 0.0 … 0.0 0.0; 0.0 0.0 … 0.0 0.0]\n",
       "\n",
       "[0.0 0.0 … 0.0 0.0; 0.0 0.0 … 0.0 0.0; … ; 0.0 0.0 … 0.0 0.0; 0.0 0.0 … 0.0 0.0]\n",
       "\n",
       "[0.0 0.0 … 0.0 0.0; 0.0 0.0 … 0.0 0.0; … ; 0.0 0.0 … 0.0 0.0; 0.0 0.0 … 0.0 0.0], [false false … false false; false false … false false; … ; false true … false false; false false … false false]) \n",
       " ([0.0 0.0 … 0.0 0.0; 0.0 0.0 … 0.0 0.0; … ; 0.0 0.0 … 0.0 0.0; 0.0 0.0 … 0.0 0.0]\n",
       "\n",
       "[0.0 0.0 … 0.0 0.0; 0.0 0.0 … 0.0 0.0; … ; 0.0 0.0 … 0.0 0.0; 0.0 0.0 … 0.0 0.0]\n",
       "\n",
       "[0.0 0.0 … 0.0 0.0; 0.0 0.0 … 0.0 0.0; … ; 0.0 0.0 … 0.0 0.0; 0.0 0.0 … 0.0 0.0]\n",
       "\n",
       "...\n",
       "\n",
       "[0.0 0.0 … 0.0 0.0; 0.0 0.0 … 0.0 0.0; … ; 0.0 0.0 … 0.0 0.0; 0.0 0.0 … 0.0 0.0]\n",
       "\n",
       "[0.0 0.0 … 0.0 0.0; 0.0 0.0 … 0.0 0.0; … ; 0.0 0.0 … 0.0 0.0; 0.0 0.0 … 0.0 0.0]\n",
       "\n",
       "[0.0 0.0 … 0.0 0.0; 0.0 0.0 … 0.0 0.0; … ; 0.0 0.0 … 0.0 0.0; 0.0 0.0 … 0.0 0.0], [false false … false true; false false … false false; … ; false false … false false; false false … false false]) \n",
       " ([0.0 0.0 … 0.0 0.0; 0.0 0.0 … 0.0 0.0; … ; 0.0 0.0 … 0.0 0.0; 0.0 0.0 … 0.0 0.0]\n",
       "\n",
       "[0.0 0.0 … 0.0 0.0; 0.0 0.0 … 0.0 0.0; … ; 0.0 0.0 … 0.0 0.0; 0.0 0.0 … 0.0 0.0]\n",
       "\n",
       "[0.0 0.0 … 0.0 0.0; 0.0 0.0 … 0.0 0.0; … ; 0.0 0.0 … 0.0 0.0; 0.0 0.0 … 0.0 0.0]\n",
       "\n",
       "...\n",
       "\n",
       "[0.0 0.0 … 0.0 0.0; 0.0 0.0 … 0.0 0.0; … ; 0.0 0.0 … 0.0 0.0; 0.0 0.0 … 0.0 0.0]\n",
       "\n",
       "[0.0 0.0 … 0.0 0.0; 0.0 0.0 … 0.0 0.0; … ; 0.0 0.0 … 0.0 0.0; 0.0 0.0 … 0.0 0.0]\n",
       "\n",
       "[0.0 0.0 … 0.0 0.0; 0.0 0.0 … 0.0 0.0; … ; 0.0 0.0 … 0.0 0.0; 0.0 0.0 … 0.0 0.0], [false false … false false; false false … false false; … ; false false … false false; false false … false false])\n",
       " ([0.0 0.0 … 0.0 0.0; 0.0 0.0 … 0.0 0.0; … ; 0.0 0.0 … 0.0 0.0; 0.0 0.0 … 0.0 0.0]\n",
       "\n",
       "[0.0 0.0 … 0.0 0.0; 0.0 0.0 … 0.0 0.0; … ; 0.0 0.0 … 0.0 0.0; 0.0 0.0 … 0.0 0.0]\n",
       "\n",
       "[0.0 0.0 … 0.0 0.0; 0.0 0.0 … 0.0 0.0; … ; 0.0 0.0 … 0.0 0.0; 0.0 0.0 … 0.0 0.0]\n",
       "\n",
       "...\n",
       "\n",
       "[0.0 0.0 … 0.0 0.0; 0.0 0.0 … 0.0 0.0; … ; 0.0 0.0 … 0.0 0.0; 0.0 0.0 … 0.0 0.0]\n",
       "\n",
       "[0.0 0.0 … 0.0 0.0; 0.0 0.0 … 0.0 0.0; … ; 0.0 0.0 … 0.0 0.0; 0.0 0.0 … 0.0 0.0]\n",
       "\n",
       "[0.0 0.0 … 0.0 0.0; 0.0 0.0 … 0.0 0.0; … ; 0.0 0.0 … 0.0 0.0; 0.0 0.0 … 0.0 0.0], [false false … false false; false true … false false; … ; false false … false true; false false … true false])   \n",
       " ([0.0 0.0 … 0.0 0.0; 0.0 0.0 … 0.0 0.0; … ; 0.0 0.0 … 0.0 0.0; 0.0 0.0 … 0.0 0.0]\n",
       "\n",
       "[0.0 0.0 … 0.0 0.0; 0.0 0.0 … 0.0 0.0; … ; 0.0 0.0 … 0.0 0.0; 0.0 0.0 … 0.0 0.0]\n",
       "\n",
       "[0.0 0.0 … 0.0 0.0; 0.0 0.0 … 0.0 0.0; … ; 0.0 0.0 … 0.0 0.0; 0.0 0.0 … 0.0 0.0]\n",
       "\n",
       "...\n",
       "\n",
       "[0.0 0.0 … 0.0 0.0; 0.0 0.0 … 0.0 0.0; … ; 0.0 0.0 … 0.0 0.0; 0.0 0.0 … 0.0 0.0]\n",
       "\n",
       "[0.0 0.0 … 0.0 0.0; 0.0 0.0 … 0.0 0.0; … ; 0.0 0.0 … 0.0 0.0; 0.0 0.0 … 0.0 0.0]\n",
       "\n",
       "[0.0 0.0 … 0.0 0.0; 0.0 0.0 … 0.0 0.0; … ; 0.0 0.0 … 0.0 0.0; 0.0 0.0 … 0.0 0.0], [false false … false true; false false … false false; … ; false false … false false; false false … false false]) \n",
       " ([0.0 0.0 … 0.0 0.0; 0.0 0.0 … 0.0 0.0; … ; 0.0 0.0 … 0.0 0.0; 0.0 0.0 … 0.0 0.0]\n",
       "\n",
       "[0.0 0.0 … 0.0 0.0; 0.0 0.0 … 0.0 0.0; … ; 0.0 0.0 … 0.0 0.0; 0.0 0.0 … 0.0 0.0]\n",
       "\n",
       "[0.0 0.0 … 0.0 0.0; 0.0 0.0 … 0.0 0.0; … ; 0.0 0.0 … 0.0 0.0; 0.0 0.0 … 0.0 0.0]\n",
       "\n",
       "...\n",
       "\n",
       "[0.0 0.0 … 0.0 0.0; 0.0 0.0 … 0.0 0.0; … ; 0.0 0.0 … 0.0 0.0; 0.0 0.0 … 0.0 0.0]\n",
       "\n",
       "[0.0 0.0 … 0.0 0.0; 0.0 0.0 … 0.0 0.0; … ; 0.0 0.0 … 0.0 0.0; 0.0 0.0 … 0.0 0.0]\n",
       "\n",
       "[0.0 0.0 … 0.0 0.0; 0.0 0.0 … 0.0 0.0; … ; 0.0 0.0 … 0.0 0.0; 0.0 0.0 … 0.0 0.0], [false false … false false; true false … false false; … ; false false … false false; false false … false false]) \n",
       " ([0.0 0.0 … 0.0 0.0; 0.0 0.0 … 0.0 0.0; … ; 0.0 0.0 … 0.0 0.0; 0.0 0.0 … 0.0 0.0]\n",
       "\n",
       "[0.0 0.0 … 0.0 0.0; 0.0 0.0 … 0.0 0.0; … ; 0.0 0.0 … 0.0 0.0; 0.0 0.0 … 0.0 0.0]\n",
       "\n",
       "[0.0 0.0 … 0.0 0.0; 0.0 0.0 … 0.0 0.0; … ; 0.0 0.0 … 0.0 0.0; 0.0 0.0 … 0.0 0.0]\n",
       "\n",
       "...\n",
       "\n",
       "[0.0 0.0 … 0.0 0.0; 0.0 0.0 … 0.0 0.0; … ; 0.0 0.0 … 0.0 0.0; 0.0 0.0 … 0.0 0.0]\n",
       "\n",
       "[0.0 0.0 … 0.0 0.0; 0.0 0.0 … 0.0 0.0; … ; 0.0 0.0 … 0.0 0.0; 0.0 0.0 … 0.0 0.0]\n",
       "\n",
       "[0.0 0.0 … 0.0 0.0; 0.0 0.0 … 0.0 0.0; … ; 0.0 0.0 … 0.0 0.0; 0.0 0.0 … 0.0 0.0], [false false … false false; true false … false false; … ; false true … false false; false false … false false])  \n",
       " ([0.0 0.0 … 0.0 0.0; 0.0 0.0 … 0.0 0.0; … ; 0.0 0.0 … 0.0 0.0; 0.0 0.0 … 0.0 0.0]\n",
       "\n",
       "[0.0 0.0 … 0.0 0.0; 0.0 0.0 … 0.0 0.0; … ; 0.0 0.0 … 0.0 0.0; 0.0 0.0 … 0.0 0.0]\n",
       "\n",
       "[0.0 0.0 … 0.0 0.0; 0.0 0.0 … 0.0 0.0; … ; 0.0 0.0 … 0.0 0.0; 0.0 0.0 … 0.0 0.0]\n",
       "\n",
       "...\n",
       "\n",
       "[0.0 0.0 … 0.0 0.0; 0.0 0.0 … 0.0 0.0; … ; 0.0 0.0 … 0.0 0.0; 0.0 0.0 … 0.0 0.0]\n",
       "\n",
       "[0.0 0.0 … 0.0 0.0; 0.0 0.0 … 0.0 0.0; … ; 0.0 0.0 … 0.0 0.0; 0.0 0.0 … 0.0 0.0]\n",
       "\n",
       "[0.0 0.0 … 0.0 0.0; 0.0 0.0 … 0.0 0.0; … ; 0.0 0.0 … 0.0 0.0; 0.0 0.0 … 0.0 0.0], [true false … false false; false false … true false; … ; false true … false false; false false … false false])   \n",
       " ([0.0 0.0 … 0.0 0.0; 0.0 0.0 … 0.0 0.0; … ; 0.0 0.0 … 0.0 0.0; 0.0 0.0 … 0.0 0.0]\n",
       "\n",
       "[0.0 0.0 … 0.0 0.0; 0.0 0.0 … 0.0 0.0; … ; 0.0 0.0 … 0.0 0.0; 0.0 0.0 … 0.0 0.0]\n",
       "\n",
       "[0.0 0.0 … 0.0 0.0; 0.0 0.0 … 0.0 0.0; … ; 0.0 0.0 … 0.0 0.0; 0.0 0.0 … 0.0 0.0]\n",
       "\n",
       "...\n",
       "\n",
       "[0.0 0.0 … 0.0 0.0; 0.0 0.0 … 0.0 0.0; … ; 0.0 0.0 … 0.0 0.0; 0.0 0.0 … 0.0 0.0]\n",
       "\n",
       "[0.0 0.0 … 0.0 0.0; 0.0 0.0 … 0.0 0.0; … ; 0.0 0.0 … 0.0 0.0; 0.0 0.0 … 0.0 0.0]\n",
       "\n",
       "[0.0 0.0 … 0.0 0.0; 0.0 0.0 … 0.0 0.0; … ; 0.0 0.0 … 0.0 0.0; 0.0 0.0 … 0.0 0.0], [false false … false false; false false … false false; … ; false false … false false; false false … false false])\n",
       " ([0.0 0.0 … 0.0 0.0; 0.0 0.0 … 0.0 0.0; … ; 0.0 0.0 … 0.0 0.0; 0.0 0.0 … 0.0 0.0]\n",
       "\n",
       "[0.0 0.0 … 0.0 0.0; 0.0 0.0 … 0.0 0.0; … ; 0.0 0.0 … 0.0 0.0; 0.0 0.0 … 0.0 0.0]\n",
       "\n",
       "[0.0 0.0 … 0.0 0.0; 0.0 0.0 … 0.0 0.0; … ; 0.0 0.0 … 0.0 0.0; 0.0 0.0 … 0.0 0.0]\n",
       "\n",
       "...\n",
       "\n",
       "[0.0 0.0 … 0.0 0.0; 0.0 0.0 … 0.0 0.0; … ; 0.0 0.0 … 0.0 0.0; 0.0 0.0 … 0.0 0.0]\n",
       "\n",
       "[0.0 0.0 … 0.0 0.0; 0.0 0.0 … 0.0 0.0; … ; 0.0 0.0 … 0.0 0.0; 0.0 0.0 … 0.0 0.0]\n",
       "\n",
       "[0.0 0.0 … 0.0 0.0; 0.0 0.0 … 0.0 0.0; … ; 0.0 0.0 … 0.0 0.0; 0.0 0.0 … 0.0 0.0], [false false … false false; false false … false false; … ; false false … false true; false false … false false]) "
      ]
     },
     "execution_count": 3,
     "metadata": {},
     "output_type": "execute_result"
    }
   ],
   "source": [
    "train = [(cat(float.(imgs[i])..., dims = 4), labels[:,i])\n",
    "         for i in partition(1:60_000, 1000)]\n",
    "\n",
    "train = gpu.(train)"
   ]
  },
  {
   "cell_type": "code",
   "execution_count": 4,
   "metadata": {},
   "outputs": [
    {
     "data": {
      "text/plain": [
       "10×1000 Flux.OneHotMatrix{Array{Flux.OneHotVector,1}}:\n",
       " false  false  false   true  false  …  false  false   true  false  false\n",
       " false  false   true  false  false     false  false  false  false  false\n",
       " false   true  false  false  false      true   true  false  false  false\n",
       " false  false  false  false  false     false  false  false  false  false\n",
       " false  false  false  false   true     false  false  false  false  false\n",
       " false  false  false  false  false  …  false  false  false  false  false\n",
       " false  false  false  false  false     false  false  false  false  false\n",
       "  true  false  false  false  false     false  false  false  false  false\n",
       " false  false  false  false  false     false  false  false   true  false\n",
       " false  false  false  false  false     false  false  false  false   true"
      ]
     },
     "execution_count": 4,
     "metadata": {},
     "output_type": "execute_result"
    }
   ],
   "source": [
    "tX = cat(float.(MNIST.images(:test)[1:1000])..., dims = 4) |> gpu\n",
    "tY = onehotbatch(MNIST.labels(:test)[1:1000], 0:9) |> gpu"
   ]
  },
  {
   "cell_type": "code",
   "execution_count": 8,
   "metadata": {},
   "outputs": [
    {
     "data": {
      "text/plain": [
       "Tracked 10×1000 Array{Float64,2}:\n",
       " 0.10002    0.100101   0.0999629  …  0.10005    0.100067   0.100019 \n",
       " 0.0999298  0.0998407  0.0999342     0.0999373  0.0998701  0.0998891\n",
       " 0.100047   0.100129   0.100049      0.100026   0.100032   0.100046 \n",
       " 0.100011   0.0999342  0.0999962     0.100004   0.0999719  0.100022 \n",
       " 0.100021   0.10002    0.100055      0.0999087  0.099998   0.100009 \n",
       " 0.099952   0.100042   0.0999979  …  0.0999673  0.0999717  0.0999784\n",
       " 0.099991   0.099881   0.0998949     0.0999484  0.0999842  0.09999  \n",
       " 0.100133   0.100222   0.100116      0.100198   0.100235   0.10021  \n",
       " 0.0999289  0.0999117  0.100016      0.100004   0.0999234  0.0999119\n",
       " 0.0999673  0.0999178  0.0999772     0.0999566  0.0999467  0.0999254"
      ]
     },
     "execution_count": 8,
     "metadata": {},
     "output_type": "execute_result"
    }
   ],
   "source": [
    "m = Chain(\n",
    "        Conv((2,2), 1=>16, relu),\n",
    "        x -> maxpool(x, (2,2)),\n",
    "        Conv((2,2), 16=>8, relu),\n",
    "        x -> maxpool(x, (2,2)),\n",
    "        x -> reshape(x, :, size(x, 4)),\n",
    "        Dense(288, 10),  \n",
    "        softmax   \n",
    "    ) |> gpu\n",
    "\n",
    "m(tX)  "
   ]
  },
  {
   "cell_type": "code",
   "execution_count": 9,
   "metadata": {},
   "outputs": [
    {
     "data": {
      "text/plain": [
       "#43 (generic function with 1 method)"
      ]
     },
     "execution_count": 9,
     "metadata": {},
     "output_type": "execute_result"
    }
   ],
   "source": [
    "loss(x, y) = crossentropy(m(x), y)  \n",
    "\n",
    "accuracy(x, y) = mean(onecold(m(x)) .== onecold(y))\n",
    "\n",
    "evalcb = throttle(() -> @show(accuracy(tX, tY)), 10)\n",
    "\n",
    "opt = ADAM(Flux.params(m))"
   ]
  },
  {
   "cell_type": "code",
   "execution_count": 10,
   "metadata": {},
   "outputs": [
    {
     "name": "stdout",
     "output_type": "stream",
     "text": [
      "accuracy(tX, tY) = 0.099\n",
      "accuracy(tX, tY) = 0.175\n",
      "accuracy(tX, tY) = 0.252\n",
      "accuracy(tX, tY) = 0.36\n",
      "accuracy(tX, tY) = 0.531\n",
      "accuracy(tX, tY) = 0.621\n"
     ]
    }
   ],
   "source": [
    "Flux.train!(loss, train, opt, cb = evalcb)"
   ]
  },
  {
   "cell_type": "code",
   "execution_count": 11,
   "metadata": {},
   "outputs": [
    {
     "data": {
      "text/plain": [
       "0.654"
      ]
     },
     "execution_count": 11,
     "metadata": {},
     "output_type": "execute_result"
    }
   ],
   "source": [
    "accuracy(tX, tY) # on test set"
   ]
  },
  {
   "cell_type": "markdown",
   "metadata": {},
   "source": [
    "### 2: Depth of network\n",
    "Increase the *depth* of the network by 1, 2, 3, 4, and 5 additional Dense(288, 288) layers.\n",
    "Plot the out-of-sample accuracy of each model as a function of the number of extra layers, starting with 0 (the baseline model) all the way up to 5."
   ]
  },
  {
   "cell_type": "code",
   "execution_count": 13,
   "metadata": {},
   "outputs": [
    {
     "name": "stdout",
     "output_type": "stream",
     "text": [
      "accuracy0(tX, tY) = 0.106\n",
      "accuracy0(tX, tY) = 0.218\n",
      "accuracy0(tX, tY) = 0.271\n",
      "accuracy0(tX, tY) = 0.429\n",
      "accuracy0(tX, tY) = 0.568\n",
      "accuracy0(tX, tY) = 0.621\n"
     ]
    },
    {
     "data": {
      "text/plain": [
       "0.668"
      ]
     },
     "execution_count": 13,
     "metadata": {},
     "output_type": "execute_result"
    }
   ],
   "source": [
    "m0 = Chain(\n",
    "        Conv((2,2), 1=>16, relu),\n",
    "        x -> maxpool(x, (2,2)),\n",
    "        Conv((2,2), 16=>8, relu),\n",
    "        x -> maxpool(x, (2,2)),\n",
    "        x -> reshape(x, :, size(x, 4)),  \n",
    "        Dense(288, 10),\n",
    "        softmax   \n",
    "    ) |> gpu\n",
    "\n",
    "loss0(x, y) = crossentropy(m0(x), y)\n",
    "\n",
    "accuracy0(x, y) = mean(onecold(m0(x)) .== onecold(y))\n",
    "\n",
    "evalcb0 = throttle(() -> @show(accuracy0(tX, tY)), 10)\n",
    "opt0 = ADAM(Flux.params(m0))\n",
    "Flux.train!(loss0, train, opt0, cb = evalcb0)\n",
    "accuracy0(tX, tY)"
   ]
  },
  {
   "cell_type": "code",
   "execution_count": 14,
   "metadata": {},
   "outputs": [
    {
     "name": "stdout",
     "output_type": "stream",
     "text": [
      "accuracy1(tX, tY) = 0.088\n",
      "accuracy1(tX, tY) = 0.126\n",
      "accuracy1(tX, tY) = 0.126\n",
      "accuracy1(tX, tY) = 0.536\n",
      "accuracy1(tX, tY) = 0.686\n",
      "accuracy1(tX, tY) = 0.755\n",
      "accuracy1(tX, tY) = 0.789\n"
     ]
    },
    {
     "data": {
      "text/plain": [
       "0.793"
      ]
     },
     "execution_count": 14,
     "metadata": {},
     "output_type": "execute_result"
    }
   ],
   "source": [
    "m1 = Chain(\n",
    "  Conv((2,2), 1=>16, relu),\n",
    "  x -> maxpool(x, (2,2)),\n",
    "  Conv((2,2), 16=>8, relu),\n",
    "  x -> maxpool(x, (2,2)),\n",
    "  x -> reshape(x, :, size(x, 4)),\n",
    "  Dense(288, 288), \n",
    "  Dense(288, 10), softmax) |> gpu\n",
    "\n",
    "loss1(x, y) = crossentropy(m1(x), y)\n",
    "\n",
    "accuracy1(x, y) = mean(onecold(m1(x)) .== onecold(y))\n",
    "\n",
    "evalcb1 = throttle(() -> @show(accuracy1(tX, tY)), 10)\n",
    "opt1 = ADAM(Flux.params(m1))\n",
    "Flux.train!(loss1, train, opt1, cb = evalcb1)\n",
    "accuracy1(tX, tY)"
   ]
  },
  {
   "cell_type": "code",
   "execution_count": 15,
   "metadata": {},
   "outputs": [
    {
     "name": "stdout",
     "output_type": "stream",
     "text": [
      "accuracy2(tX, tY) = 0.099\n",
      "accuracy2(tX, tY) = 0.126\n",
      "accuracy2(tX, tY) = 0.312\n",
      "accuracy2(tX, tY) = 0.618\n",
      "accuracy2(tX, tY) = 0.72\n",
      "accuracy2(tX, tY) = 0.787\n",
      "accuracy2(tX, tY) = 0.81\n"
     ]
    },
    {
     "data": {
      "text/plain": [
       "0.828"
      ]
     },
     "execution_count": 15,
     "metadata": {},
     "output_type": "execute_result"
    }
   ],
   "source": [
    "m2 = Chain(\n",
    "  Conv((2,2), 1=>16, relu),\n",
    "  x -> maxpool(x, (2,2)),\n",
    "  Conv((2,2), 16=>8, relu),\n",
    "  x -> maxpool(x, (2,2)),\n",
    "  x -> reshape(x, :, size(x, 4)),\n",
    "  Dense(288, 288), \n",
    "  Dense(288, 288),\n",
    "  Dense(288, 10), softmax) |> gpu\n",
    "\n",
    "loss2(x, y) = crossentropy(m2(x), y)\n",
    "\n",
    "accuracy2(x, y) = mean(onecold(m2(x)) .== onecold(y))\n",
    "\n",
    "evalcb2 = throttle(() -> @show(accuracy2(tX, tY)), 10)\n",
    "opt2 = ADAM(Flux.params(m2))\n",
    "Flux.train!(loss2, train, opt2, cb = evalcb2)\n",
    "accuracy2(tX, tY)"
   ]
  },
  {
   "cell_type": "code",
   "execution_count": 16,
   "metadata": {},
   "outputs": [
    {
     "name": "stdout",
     "output_type": "stream",
     "text": [
      "accuracy3(tX, tY) = 0.099\n",
      "accuracy3(tX, tY) = 0.126\n",
      "accuracy3(tX, tY) = 0.424\n",
      "accuracy3(tX, tY) = 0.637\n",
      "accuracy3(tX, tY) = 0.753\n",
      "accuracy3(tX, tY) = 0.781\n",
      "accuracy3(tX, tY) = 0.801\n"
     ]
    },
    {
     "data": {
      "text/plain": [
       "0.828"
      ]
     },
     "execution_count": 16,
     "metadata": {},
     "output_type": "execute_result"
    }
   ],
   "source": [
    "m3 = Chain(\n",
    "  Conv((2,2), 1=>16, relu),\n",
    "  x -> maxpool(x, (2,2)),\n",
    "  Conv((2,2), 16=>8, relu),\n",
    "  x -> maxpool(x, (2,2)),\n",
    "  x -> reshape(x, :, size(x, 4)),\n",
    "  Dense(288, 288), \n",
    "  Dense(288, 288),\n",
    "  Dense(288, 288),\n",
    "  Dense(288, 10), softmax) |> gpu\n",
    "\n",
    "loss3(x, y) = crossentropy(m3(x), y)\n",
    "\n",
    "accuracy3(x, y) = mean(onecold(m3(x)) .== onecold(y))\n",
    "\n",
    "evalcb3 = throttle(() -> @show(accuracy3(tX, tY)), 10)\n",
    "opt3 = ADAM(Flux.params(m3))\n",
    "Flux.train!(loss3, train, opt3, cb = evalcb3)\n",
    "accuracy3(tX, tY)"
   ]
  },
  {
   "cell_type": "code",
   "execution_count": 17,
   "metadata": {},
   "outputs": [
    {
     "name": "stdout",
     "output_type": "stream",
     "text": [
      "accuracy4(tX, tY) = 0.099\n",
      "accuracy4(tX, tY) = 0.126\n",
      "accuracy4(tX, tY) = 0.126\n",
      "accuracy4(tX, tY) = 0.436\n",
      "accuracy4(tX, tY) = 0.664\n",
      "accuracy4(tX, tY) = 0.772\n",
      "accuracy4(tX, tY) = 0.839\n"
     ]
    },
    {
     "data": {
      "text/plain": [
       "0.853"
      ]
     },
     "execution_count": 17,
     "metadata": {},
     "output_type": "execute_result"
    }
   ],
   "source": [
    "m4 = Chain(\n",
    "  Conv((2,2), 1=>16, relu),\n",
    "  x -> maxpool(x, (2,2)),\n",
    "  Conv((2,2), 16=>8, relu),\n",
    "  x -> maxpool(x, (2,2)),\n",
    "  x -> reshape(x, :, size(x, 4)),\n",
    "  Dense(288, 288), \n",
    "  Dense(288, 288),\n",
    "  Dense(288, 288),\n",
    "  Dense(288, 288),\n",
    "  Dense(288, 10), softmax) |> gpu\n",
    "\n",
    "loss4(x, y) = crossentropy(m4(x), y)\n",
    "\n",
    "accuracy4(x, y) = mean(onecold(m4(x)) .== onecold(y))\n",
    "\n",
    "evalcb4 = throttle(() -> @show(accuracy4(tX, tY)), 10)\n",
    "opt4 = ADAM(Flux.params(m4))\n",
    "Flux.train!(loss4, train, opt4, cb = evalcb4)\n",
    "accuracy4(tX, tY)"
   ]
  },
  {
   "cell_type": "code",
   "execution_count": 18,
   "metadata": {
    "scrolled": true
   },
   "outputs": [
    {
     "name": "stdout",
     "output_type": "stream",
     "text": [
      "accuracy5(tX, tY) = 0.099\n",
      "accuracy5(tX, tY) = 0.126\n",
      "accuracy5(tX, tY) = 0.406\n",
      "accuracy5(tX, tY) = 0.57\n",
      "accuracy5(tX, tY) = 0.735\n",
      "accuracy5(tX, tY) = 0.764\n",
      "accuracy5(tX, tY) = 0.808\n"
     ]
    },
    {
     "data": {
      "text/plain": [
       "0.831"
      ]
     },
     "execution_count": 18,
     "metadata": {},
     "output_type": "execute_result"
    }
   ],
   "source": [
    "m5 = Chain(\n",
    "  Conv((2,2), 1=>16, relu),\n",
    "  x -> maxpool(x, (2,2)),\n",
    "  Conv((2,2), 16=>8, relu),\n",
    "  x -> maxpool(x, (2,2)),\n",
    "  x -> reshape(x, :, size(x, 4)),\n",
    "  Dense(288, 288), \n",
    "  Dense(288, 288),\n",
    "  Dense(288, 288),\n",
    "  Dense(288, 288),\n",
    "  Dense(288, 288),\n",
    "  Dense(288, 10), softmax) |> gpu\n",
    "\n",
    "loss5(x, y) = crossentropy(m5(x), y)\n",
    "\n",
    "accuracy5(x, y) = mean(onecold(m5(x)) .== onecold(y))\n",
    "\n",
    "evalcb5 = throttle(() -> @show(accuracy5(tX, tY)), 10)\n",
    "opt5 = ADAM(Flux.params(m5))\n",
    "Flux.train!(loss5, train, opt5, cb = evalcb5)\n",
    "accuracy5(tX, tY)"
   ]
  },
  {
   "cell_type": "code",
   "execution_count": 19,
   "metadata": {},
   "outputs": [
    {
     "data": {
      "image/svg+xml": [
       "<?xml version=\"1.0\" encoding=\"utf-8\"?>\n",
       "<svg xmlns=\"http://www.w3.org/2000/svg\" xmlns:xlink=\"http://www.w3.org/1999/xlink\" width=\"600\" height=\"400\" viewBox=\"0 0 2400 1600\">\n",
       "<defs>\n",
       "  <clipPath id=\"clip9300\">\n",
       "    <rect x=\"0\" y=\"0\" width=\"2000\" height=\"2000\"/>\n",
       "  </clipPath>\n",
       "</defs>\n",
       "<defs>\n",
       "  <clipPath id=\"clip9301\">\n",
       "    <rect x=\"0\" y=\"0\" width=\"2400\" height=\"1600\"/>\n",
       "  </clipPath>\n",
       "</defs>\n",
       "<polygon clip-path=\"url(#clip9301)\" points=\"\n",
       "0,1600 2400,1600 2400,0 0,0 \n",
       "  \" fill=\"#ffffff\" fill-rule=\"evenodd\" fill-opacity=\"1\"/>\n",
       "<defs>\n",
       "  <clipPath id=\"clip9302\">\n",
       "    <rect x=\"480\" y=\"0\" width=\"1681\" height=\"1600\"/>\n",
       "  </clipPath>\n",
       "</defs>\n",
       "<polygon clip-path=\"url(#clip9301)\" points=\"\n",
       "188.156,1503.47 2321.26,1503.47 2321.26,125.984 188.156,125.984 \n",
       "  \" fill=\"#ffffff\" fill-rule=\"evenodd\" fill-opacity=\"1\"/>\n",
       "<defs>\n",
       "  <clipPath id=\"clip9303\">\n",
       "    <rect x=\"188\" y=\"125\" width=\"2134\" height=\"1378\"/>\n",
       "  </clipPath>\n",
       "</defs>\n",
       "<polyline clip-path=\"url(#clip9303)\" style=\"stroke:#000000; stroke-width:2; stroke-opacity:0.1; fill:none\" points=\"\n",
       "  248.527,1503.47 248.527,125.984 \n",
       "  \"/>\n",
       "<polyline clip-path=\"url(#clip9303)\" style=\"stroke:#000000; stroke-width:2; stroke-opacity:0.1; fill:none\" points=\"\n",
       "  651,1503.47 651,125.984 \n",
       "  \"/>\n",
       "<polyline clip-path=\"url(#clip9303)\" style=\"stroke:#000000; stroke-width:2; stroke-opacity:0.1; fill:none\" points=\"\n",
       "  1053.47,1503.47 1053.47,125.984 \n",
       "  \"/>\n",
       "<polyline clip-path=\"url(#clip9303)\" style=\"stroke:#000000; stroke-width:2; stroke-opacity:0.1; fill:none\" points=\"\n",
       "  1455.94,1503.47 1455.94,125.984 \n",
       "  \"/>\n",
       "<polyline clip-path=\"url(#clip9303)\" style=\"stroke:#000000; stroke-width:2; stroke-opacity:0.1; fill:none\" points=\"\n",
       "  1858.42,1503.47 1858.42,125.984 \n",
       "  \"/>\n",
       "<polyline clip-path=\"url(#clip9303)\" style=\"stroke:#000000; stroke-width:2; stroke-opacity:0.1; fill:none\" points=\"\n",
       "  2260.89,1503.47 2260.89,125.984 \n",
       "  \"/>\n",
       "<polyline clip-path=\"url(#clip9303)\" style=\"stroke:#000000; stroke-width:2; stroke-opacity:0.1; fill:none\" points=\"\n",
       "  188.156,1239.71 2321.26,1239.71 \n",
       "  \"/>\n",
       "<polyline clip-path=\"url(#clip9303)\" style=\"stroke:#000000; stroke-width:2; stroke-opacity:0.1; fill:none\" points=\"\n",
       "  188.156,888.486 2321.26,888.486 \n",
       "  \"/>\n",
       "<polyline clip-path=\"url(#clip9303)\" style=\"stroke:#000000; stroke-width:2; stroke-opacity:0.1; fill:none\" points=\"\n",
       "  188.156,537.265 2321.26,537.265 \n",
       "  \"/>\n",
       "<polyline clip-path=\"url(#clip9303)\" style=\"stroke:#000000; stroke-width:2; stroke-opacity:0.1; fill:none\" points=\"\n",
       "  188.156,186.043 2321.26,186.043 \n",
       "  \"/>\n",
       "<polyline clip-path=\"url(#clip9301)\" style=\"stroke:#000000; stroke-width:4; stroke-opacity:1; fill:none\" points=\"\n",
       "  188.156,1503.47 2321.26,1503.47 \n",
       "  \"/>\n",
       "<polyline clip-path=\"url(#clip9301)\" style=\"stroke:#000000; stroke-width:4; stroke-opacity:1; fill:none\" points=\"\n",
       "  188.156,1503.47 188.156,125.984 \n",
       "  \"/>\n",
       "<polyline clip-path=\"url(#clip9301)\" style=\"stroke:#000000; stroke-width:4; stroke-opacity:1; fill:none\" points=\"\n",
       "  248.527,1503.47 248.527,1482.81 \n",
       "  \"/>\n",
       "<polyline clip-path=\"url(#clip9301)\" style=\"stroke:#000000; stroke-width:4; stroke-opacity:1; fill:none\" points=\"\n",
       "  651,1503.47 651,1482.81 \n",
       "  \"/>\n",
       "<polyline clip-path=\"url(#clip9301)\" style=\"stroke:#000000; stroke-width:4; stroke-opacity:1; fill:none\" points=\"\n",
       "  1053.47,1503.47 1053.47,1482.81 \n",
       "  \"/>\n",
       "<polyline clip-path=\"url(#clip9301)\" style=\"stroke:#000000; stroke-width:4; stroke-opacity:1; fill:none\" points=\"\n",
       "  1455.94,1503.47 1455.94,1482.81 \n",
       "  \"/>\n",
       "<polyline clip-path=\"url(#clip9301)\" style=\"stroke:#000000; stroke-width:4; stroke-opacity:1; fill:none\" points=\"\n",
       "  1858.42,1503.47 1858.42,1482.81 \n",
       "  \"/>\n",
       "<polyline clip-path=\"url(#clip9301)\" style=\"stroke:#000000; stroke-width:4; stroke-opacity:1; fill:none\" points=\"\n",
       "  2260.89,1503.47 2260.89,1482.81 \n",
       "  \"/>\n",
       "<polyline clip-path=\"url(#clip9301)\" style=\"stroke:#000000; stroke-width:4; stroke-opacity:1; fill:none\" points=\"\n",
       "  188.156,1239.71 220.153,1239.71 \n",
       "  \"/>\n",
       "<polyline clip-path=\"url(#clip9301)\" style=\"stroke:#000000; stroke-width:4; stroke-opacity:1; fill:none\" points=\"\n",
       "  188.156,888.486 220.153,888.486 \n",
       "  \"/>\n",
       "<polyline clip-path=\"url(#clip9301)\" style=\"stroke:#000000; stroke-width:4; stroke-opacity:1; fill:none\" points=\"\n",
       "  188.156,537.265 220.153,537.265 \n",
       "  \"/>\n",
       "<polyline clip-path=\"url(#clip9301)\" style=\"stroke:#000000; stroke-width:4; stroke-opacity:1; fill:none\" points=\"\n",
       "  188.156,186.043 220.153,186.043 \n",
       "  \"/>\n",
       "<g clip-path=\"url(#clip9301)\">\n",
       "<text style=\"fill:#000000; fill-opacity:1; font-family:Arial,Helvetica Neue,Helvetica,sans-serif; font-size:48px; text-anchor:middle;\" transform=\"rotate(0, 248.527, 1557.47)\" x=\"248.527\" y=\"1557.47\">0</text>\n",
       "</g>\n",
       "<g clip-path=\"url(#clip9301)\">\n",
       "<text style=\"fill:#000000; fill-opacity:1; font-family:Arial,Helvetica Neue,Helvetica,sans-serif; font-size:48px; text-anchor:middle;\" transform=\"rotate(0, 651, 1557.47)\" x=\"651\" y=\"1557.47\">1</text>\n",
       "</g>\n",
       "<g clip-path=\"url(#clip9301)\">\n",
       "<text style=\"fill:#000000; fill-opacity:1; font-family:Arial,Helvetica Neue,Helvetica,sans-serif; font-size:48px; text-anchor:middle;\" transform=\"rotate(0, 1053.47, 1557.47)\" x=\"1053.47\" y=\"1557.47\">2</text>\n",
       "</g>\n",
       "<g clip-path=\"url(#clip9301)\">\n",
       "<text style=\"fill:#000000; fill-opacity:1; font-family:Arial,Helvetica Neue,Helvetica,sans-serif; font-size:48px; text-anchor:middle;\" transform=\"rotate(0, 1455.94, 1557.47)\" x=\"1455.94\" y=\"1557.47\">3</text>\n",
       "</g>\n",
       "<g clip-path=\"url(#clip9301)\">\n",
       "<text style=\"fill:#000000; fill-opacity:1; font-family:Arial,Helvetica Neue,Helvetica,sans-serif; font-size:48px; text-anchor:middle;\" transform=\"rotate(0, 1858.42, 1557.47)\" x=\"1858.42\" y=\"1557.47\">4</text>\n",
       "</g>\n",
       "<g clip-path=\"url(#clip9301)\">\n",
       "<text style=\"fill:#000000; fill-opacity:1; font-family:Arial,Helvetica Neue,Helvetica,sans-serif; font-size:48px; text-anchor:middle;\" transform=\"rotate(0, 2260.89, 1557.47)\" x=\"2260.89\" y=\"1557.47\">5</text>\n",
       "</g>\n",
       "<g clip-path=\"url(#clip9301)\">\n",
       "<text style=\"fill:#000000; fill-opacity:1; font-family:Arial,Helvetica Neue,Helvetica,sans-serif; font-size:48px; text-anchor:end;\" transform=\"rotate(0, 164.156, 1257.21)\" x=\"164.156\" y=\"1257.21\">0.70</text>\n",
       "</g>\n",
       "<g clip-path=\"url(#clip9301)\">\n",
       "<text style=\"fill:#000000; fill-opacity:1; font-family:Arial,Helvetica Neue,Helvetica,sans-serif; font-size:48px; text-anchor:end;\" transform=\"rotate(0, 164.156, 905.986)\" x=\"164.156\" y=\"905.986\">0.75</text>\n",
       "</g>\n",
       "<g clip-path=\"url(#clip9301)\">\n",
       "<text style=\"fill:#000000; fill-opacity:1; font-family:Arial,Helvetica Neue,Helvetica,sans-serif; font-size:48px; text-anchor:end;\" transform=\"rotate(0, 164.156, 554.765)\" x=\"164.156\" y=\"554.765\">0.80</text>\n",
       "</g>\n",
       "<g clip-path=\"url(#clip9301)\">\n",
       "<text style=\"fill:#000000; fill-opacity:1; font-family:Arial,Helvetica Neue,Helvetica,sans-serif; font-size:48px; text-anchor:end;\" transform=\"rotate(0, 164.156, 203.543)\" x=\"164.156\" y=\"203.543\">0.85</text>\n",
       "</g>\n",
       "<g clip-path=\"url(#clip9301)\">\n",
       "<text style=\"fill:#000000; fill-opacity:1; font-family:Arial,Helvetica Neue,Helvetica,sans-serif; font-size:59px; text-anchor:middle;\" transform=\"rotate(0, 1254.71, 51.6)\" x=\"1254.71\" y=\"51.6\">Accuracy with depth</text>\n",
       "</g>\n",
       "<polyline clip-path=\"url(#clip9303)\" style=\"stroke:#0000ff; stroke-width:4; stroke-opacity:1; fill:none\" points=\"\n",
       "  248.527,1464.49 651,586.436 1053.47,340.581 1455.94,340.581 1858.42,164.97 2260.89,319.507 \n",
       "  \"/>\n",
       "</svg>\n"
      ]
     },
     "execution_count": 19,
     "metadata": {},
     "output_type": "execute_result"
    }
   ],
   "source": [
    "numlayer=0:1:5\n",
    "y=[accuracy0(tX, tY),accuracy1(tX, tY),accuracy2(tX, tY),accuracy3(tX, tY),accuracy4(tX, tY),accuracy5(tX, tY)]\n",
    "p1 = plot(numlayer,y,color=:blue,legend=false)\n",
    "title!(\"Accuracy with depth\",titlefont=font(10))"
   ]
  },
  {
   "cell_type": "markdown",
   "metadata": {},
   "source": [
    "### 3: Width of network\n",
    "Increase the *width* of the network by increasing the width of the Dense(288, 288) layer by 5, 10, 15, 20, and 25 percent relative to the baseline model.\n",
    "\n",
    "Plot the out-of-sample accuracy of each model as a function of the percent increase in width, starting with 0 (the baseline model) all the way up to 25."
   ]
  },
  {
   "cell_type": "code",
   "execution_count": 11,
   "metadata": {},
   "outputs": [
    {
     "name": "stdout",
     "output_type": "stream",
     "text": [
      "accuracy0(tX, tY) = 0.173\n",
      "accuracy0(tX, tY) = 0.143\n",
      "accuracy0(tX, tY) = 0.173\n",
      "accuracy0(tX, tY) = 0.31\n",
      "accuracy0(tX, tY) = 0.507\n",
      "accuracy0(tX, tY) = 0.603\n"
     ]
    },
    {
     "data": {
      "text/plain": [
       "0.685"
      ]
     },
     "execution_count": 11,
     "metadata": {},
     "output_type": "execute_result"
    }
   ],
   "source": [
    "m0 = Chain(\n",
    "        Conv((2,2), 1=>16, relu),\n",
    "        x -> maxpool(x, (2,2)),\n",
    "        Conv((2,2), 16=>8, relu),\n",
    "        x -> maxpool(x, (2,2)),\n",
    "        x -> reshape(x, :, size(x, 4)),  \n",
    "        Dense(288, 10),\n",
    "        softmax   \n",
    "    ) |> gpu\n",
    "\n",
    "loss0(x, y) = crossentropy(m0(x), y)\n",
    "\n",
    "accuracy0(x, y) = mean(onecold(m0(x)) .== onecold(y))\n",
    "\n",
    "evalcb0 = throttle(() -> @show(accuracy0(tX, tY)), 10)\n",
    "opt0 = ADAM(Flux.params(m0))\n",
    "Flux.train!(loss0, train, opt0, cb = evalcb0)\n",
    "accuracy0(tX, tY)"
   ]
  },
  {
   "cell_type": "code",
   "execution_count": 5,
   "metadata": {},
   "outputs": [
    {
     "name": "stdout",
     "output_type": "stream",
     "text": [
      "accuracy5(tX, tY) = 0.099\n",
      "accuracy5(tX, tY) = 0.126\n",
      "accuracy5(tX, tY) = 0.127\n",
      "accuracy5(tX, tY) = 0.482\n",
      "accuracy5(tX, tY) = 0.655\n",
      "accuracy5(tX, tY) = 0.74\n"
     ]
    },
    {
     "data": {
      "text/plain": [
       "0.778"
      ]
     },
     "execution_count": 5,
     "metadata": {},
     "output_type": "execute_result"
    }
   ],
   "source": [
    "m5 = Chain(\n",
    "  Conv((2,2), 1=>16, relu),\n",
    "  x -> maxpool(x, (2,2)),\n",
    "  Conv((2,2), 16=>8, relu),\n",
    "  x -> maxpool(x, (2,2)),\n",
    "  x -> reshape(x,:, size(x, 4)),\n",
    "  Dense(288, 302), \n",
    "  Dense(302, 10), softmax) |> gpu\n",
    "\n",
    "loss5(x, y) = crossentropy(m5(x), y)\n",
    "\n",
    "accuracy5(x, y) = mean(onecold(m5(x)) .== onecold(y))\n",
    "\n",
    "evalcb5 = throttle(() -> @show(accuracy5(tX, tY)), 10)\n",
    "opt5 = ADAM(Flux.params(m5))\n",
    "\n",
    "Flux.train!(loss5, train, opt5, cb = evalcb5)\n",
    "accuracy5(tX, tY)"
   ]
  },
  {
   "cell_type": "code",
   "execution_count": 6,
   "metadata": {},
   "outputs": [
    {
     "name": "stdout",
     "output_type": "stream",
     "text": [
      "accuracy10(tX, tY) = 0.126\n",
      "accuracy10(tX, tY) = 0.126\n",
      "accuracy10(tX, tY) = 0.287\n",
      "accuracy10(tX, tY) = 0.615\n",
      "accuracy10(tX, tY) = 0.693\n",
      "accuracy10(tX, tY) = 0.766\n"
     ]
    },
    {
     "data": {
      "text/plain": [
       "0.797"
      ]
     },
     "execution_count": 6,
     "metadata": {},
     "output_type": "execute_result"
    }
   ],
   "source": [
    "m10 = Chain(\n",
    "  Conv((2,2), 1=>16, relu),\n",
    "  x -> maxpool(x, (2,2)),\n",
    "  Conv((2,2), 16=>8, relu),\n",
    "  x -> maxpool(x, (2,2)),\n",
    "  x -> reshape(x,:, size(x, 4)),\n",
    "  Dense(288, 317), \n",
    "  Dense(317, 10), softmax) |> gpu\n",
    "\n",
    "loss10(x, y) = crossentropy(m10(x), y)\n",
    "\n",
    "accuracy10(x, y) = mean(onecold(m10(x)) .== onecold(y))\n",
    "\n",
    "evalcb10 = throttle(() -> @show(accuracy10(tX, tY)), 10)\n",
    "opt10 = ADAM(Flux.params(m10))\n",
    "\n",
    "Flux.train!(loss10, train, opt10, cb = evalcb10)\n",
    "accuracy10(tX, tY)"
   ]
  },
  {
   "cell_type": "code",
   "execution_count": 7,
   "metadata": {},
   "outputs": [
    {
     "name": "stdout",
     "output_type": "stream",
     "text": [
      "accuracy15(tX, tY) = 0.126\n",
      "accuracy15(tX, tY) = 0.126\n",
      "accuracy15(tX, tY) = 0.129\n",
      "accuracy15(tX, tY) = 0.597\n",
      "accuracy15(tX, tY) = 0.631\n",
      "accuracy15(tX, tY) = 0.743\n"
     ]
    },
    {
     "data": {
      "text/plain": [
       "0.774"
      ]
     },
     "execution_count": 7,
     "metadata": {},
     "output_type": "execute_result"
    }
   ],
   "source": [
    "m15 = Chain(\n",
    "  Conv((2,2), 1=>16, relu),\n",
    "  x -> maxpool(x, (2,2)),\n",
    "  Conv((2,2), 16=>8, relu),\n",
    "  x -> maxpool(x, (2,2)),\n",
    "  x -> reshape(x,:, size(x, 4)),\n",
    "  Dense(288, 331), \n",
    "  Dense(331, 10), softmax) |> gpu\n",
    "\n",
    "loss15(x, y) = crossentropy(m15(x), y)\n",
    "\n",
    "accuracy15(x, y) = mean(onecold(m15(x)) .== onecold(y))\n",
    "\n",
    "evalcb15 = throttle(() -> @show(accuracy15(tX, tY)), 10)\n",
    "opt15 = ADAM(Flux.params(m15))\n",
    "\n",
    "Flux.train!(loss15, train, opt15, cb = evalcb15)\n",
    "accuracy15(tX, tY)"
   ]
  },
  {
   "cell_type": "code",
   "execution_count": 8,
   "metadata": {},
   "outputs": [
    {
     "name": "stdout",
     "output_type": "stream",
     "text": [
      "accuracy20(tX, tY) = 0.048\n",
      "accuracy20(tX, tY) = 0.126\n",
      "accuracy20(tX, tY) = 0.28\n",
      "accuracy20(tX, tY) = 0.638\n",
      "accuracy20(tX, tY) = 0.683\n",
      "accuracy20(tX, tY) = 0.764\n"
     ]
    },
    {
     "data": {
      "text/plain": [
       "0.814"
      ]
     },
     "execution_count": 8,
     "metadata": {},
     "output_type": "execute_result"
    }
   ],
   "source": [
    "m20 = Chain(\n",
    "  Conv((2,2), 1=>16, relu),\n",
    "  x -> maxpool(x, (2,2)),\n",
    "  Conv((2,2), 16=>8, relu),\n",
    "  x -> maxpool(x, (2,2)),\n",
    "  x -> reshape(x,:, size(x, 4)),\n",
    "  Dense(288, 346), \n",
    "  Dense(346, 10), softmax) |> gpu\n",
    "\n",
    "loss20(x, y) = crossentropy(m20(x), y)\n",
    "\n",
    "accuracy20(x, y) = mean(onecold(m20(x)) .== onecold(y))\n",
    "\n",
    "evalcb20 = throttle(() -> @show(accuracy20(tX, tY)), 10)\n",
    "opt20 = ADAM(Flux.params(m20))\n",
    "\n",
    "Flux.train!(loss20, train, opt20, cb = evalcb20)\n",
    "accuracy20(tX, tY)"
   ]
  },
  {
   "cell_type": "code",
   "execution_count": 9,
   "metadata": {},
   "outputs": [
    {
     "name": "stdout",
     "output_type": "stream",
     "text": [
      "accuracy25(tX, tY) = 0.126\n",
      "accuracy25(tX, tY) = 0.126\n",
      "accuracy25(tX, tY) = 0.131\n",
      "accuracy25(tX, tY) = 0.611\n",
      "accuracy25(tX, tY) = 0.686\n",
      "accuracy25(tX, tY) = 0.758\n"
     ]
    },
    {
     "data": {
      "text/plain": [
       "0.802"
      ]
     },
     "execution_count": 9,
     "metadata": {},
     "output_type": "execute_result"
    }
   ],
   "source": [
    "m25 = Chain(\n",
    "  Conv((2,2), 1=>16, relu),\n",
    "  x -> maxpool(x, (2,2)),\n",
    "  Conv((2,2), 16=>8, relu),\n",
    "  x -> maxpool(x, (2,2)),\n",
    "  x -> reshape(x,:, size(x, 4)),\n",
    "  Dense(288, 360), \n",
    "  Dense(360, 10), softmax) |> gpu\n",
    "\n",
    "loss25(x, y) = crossentropy(m25(x), y)\n",
    "\n",
    "accuracy25(x, y) = mean(onecold(m25(x)) .== onecold(y))\n",
    "\n",
    "evalcb25 = throttle(() -> @show(accuracy25(tX, tY)), 10)\n",
    "opt25 = ADAM(Flux.params(m25))\n",
    "\n",
    "Flux.train!(loss25, train, opt25, cb = evalcb25)\n",
    "accuracy25(tX, tY)"
   ]
  },
  {
   "cell_type": "code",
   "execution_count": 12,
   "metadata": {},
   "outputs": [
    {
     "data": {
      "image/svg+xml": [
       "<?xml version=\"1.0\" encoding=\"utf-8\"?>\n",
       "<svg xmlns=\"http://www.w3.org/2000/svg\" xmlns:xlink=\"http://www.w3.org/1999/xlink\" width=\"600\" height=\"400\" viewBox=\"0 0 2400 1600\">\n",
       "<defs>\n",
       "  <clipPath id=\"clip9100\">\n",
       "    <rect x=\"0\" y=\"0\" width=\"2000\" height=\"2000\"/>\n",
       "  </clipPath>\n",
       "</defs>\n",
       "<defs>\n",
       "  <clipPath id=\"clip9101\">\n",
       "    <rect x=\"0\" y=\"0\" width=\"2400\" height=\"1600\"/>\n",
       "  </clipPath>\n",
       "</defs>\n",
       "<polygon clip-path=\"url(#clip9101)\" points=\"\n",
       "0,1600 2400,1600 2400,0 0,0 \n",
       "  \" fill=\"#ffffff\" fill-rule=\"evenodd\" fill-opacity=\"1\"/>\n",
       "<defs>\n",
       "  <clipPath id=\"clip9102\">\n",
       "    <rect x=\"480\" y=\"0\" width=\"1681\" height=\"1600\"/>\n",
       "  </clipPath>\n",
       "</defs>\n",
       "<polygon clip-path=\"url(#clip9101)\" points=\"\n",
       "214.919,1503.47 2321.26,1503.47 2321.26,125.984 214.919,125.984 \n",
       "  \" fill=\"#ffffff\" fill-rule=\"evenodd\" fill-opacity=\"1\"/>\n",
       "<defs>\n",
       "  <clipPath id=\"clip9103\">\n",
       "    <rect x=\"214\" y=\"125\" width=\"2107\" height=\"1378\"/>\n",
       "  </clipPath>\n",
       "</defs>\n",
       "<polyline clip-path=\"url(#clip9103)\" style=\"stroke:#000000; stroke-width:2; stroke-opacity:0.1; fill:none\" points=\"\n",
       "  274.532,1503.47 274.532,125.984 \n",
       "  \"/>\n",
       "<polyline clip-path=\"url(#clip9103)\" style=\"stroke:#000000; stroke-width:2; stroke-opacity:0.1; fill:none\" points=\"\n",
       "  671.955,1503.47 671.955,125.984 \n",
       "  \"/>\n",
       "<polyline clip-path=\"url(#clip9103)\" style=\"stroke:#000000; stroke-width:2; stroke-opacity:0.1; fill:none\" points=\"\n",
       "  1069.38,1503.47 1069.38,125.984 \n",
       "  \"/>\n",
       "<polyline clip-path=\"url(#clip9103)\" style=\"stroke:#000000; stroke-width:2; stroke-opacity:0.1; fill:none\" points=\"\n",
       "  1466.8,1503.47 1466.8,125.984 \n",
       "  \"/>\n",
       "<polyline clip-path=\"url(#clip9103)\" style=\"stroke:#000000; stroke-width:2; stroke-opacity:0.1; fill:none\" points=\"\n",
       "  1864.22,1503.47 1864.22,125.984 \n",
       "  \"/>\n",
       "<polyline clip-path=\"url(#clip9103)\" style=\"stroke:#000000; stroke-width:2; stroke-opacity:0.1; fill:none\" points=\"\n",
       "  2261.65,1503.47 2261.65,125.984 \n",
       "  \"/>\n",
       "<polyline clip-path=\"url(#clip9103)\" style=\"stroke:#000000; stroke-width:2; stroke-opacity:0.1; fill:none\" points=\"\n",
       "  214.919,1313.38 2321.26,1313.38 \n",
       "  \"/>\n",
       "<polyline clip-path=\"url(#clip9103)\" style=\"stroke:#000000; stroke-width:2; stroke-opacity:0.1; fill:none\" points=\"\n",
       "  214.919,1061.54 2321.26,1061.54 \n",
       "  \"/>\n",
       "<polyline clip-path=\"url(#clip9103)\" style=\"stroke:#000000; stroke-width:2; stroke-opacity:0.1; fill:none\" points=\"\n",
       "  214.919,809.693 2321.26,809.693 \n",
       "  \"/>\n",
       "<polyline clip-path=\"url(#clip9103)\" style=\"stroke:#000000; stroke-width:2; stroke-opacity:0.1; fill:none\" points=\"\n",
       "  214.919,557.848 2321.26,557.848 \n",
       "  \"/>\n",
       "<polyline clip-path=\"url(#clip9103)\" style=\"stroke:#000000; stroke-width:2; stroke-opacity:0.1; fill:none\" points=\"\n",
       "  214.919,306.003 2321.26,306.003 \n",
       "  \"/>\n",
       "<polyline clip-path=\"url(#clip9101)\" style=\"stroke:#000000; stroke-width:4; stroke-opacity:1; fill:none\" points=\"\n",
       "  214.919,1503.47 2321.26,1503.47 \n",
       "  \"/>\n",
       "<polyline clip-path=\"url(#clip9101)\" style=\"stroke:#000000; stroke-width:4; stroke-opacity:1; fill:none\" points=\"\n",
       "  214.919,1503.47 214.919,125.984 \n",
       "  \"/>\n",
       "<polyline clip-path=\"url(#clip9101)\" style=\"stroke:#000000; stroke-width:4; stroke-opacity:1; fill:none\" points=\"\n",
       "  274.532,1503.47 274.532,1482.81 \n",
       "  \"/>\n",
       "<polyline clip-path=\"url(#clip9101)\" style=\"stroke:#000000; stroke-width:4; stroke-opacity:1; fill:none\" points=\"\n",
       "  671.955,1503.47 671.955,1482.81 \n",
       "  \"/>\n",
       "<polyline clip-path=\"url(#clip9101)\" style=\"stroke:#000000; stroke-width:4; stroke-opacity:1; fill:none\" points=\"\n",
       "  1069.38,1503.47 1069.38,1482.81 \n",
       "  \"/>\n",
       "<polyline clip-path=\"url(#clip9101)\" style=\"stroke:#000000; stroke-width:4; stroke-opacity:1; fill:none\" points=\"\n",
       "  1466.8,1503.47 1466.8,1482.81 \n",
       "  \"/>\n",
       "<polyline clip-path=\"url(#clip9101)\" style=\"stroke:#000000; stroke-width:4; stroke-opacity:1; fill:none\" points=\"\n",
       "  1864.22,1503.47 1864.22,1482.81 \n",
       "  \"/>\n",
       "<polyline clip-path=\"url(#clip9101)\" style=\"stroke:#000000; stroke-width:4; stroke-opacity:1; fill:none\" points=\"\n",
       "  2261.65,1503.47 2261.65,1482.81 \n",
       "  \"/>\n",
       "<polyline clip-path=\"url(#clip9101)\" style=\"stroke:#000000; stroke-width:4; stroke-opacity:1; fill:none\" points=\"\n",
       "  214.919,1313.38 246.514,1313.38 \n",
       "  \"/>\n",
       "<polyline clip-path=\"url(#clip9101)\" style=\"stroke:#000000; stroke-width:4; stroke-opacity:1; fill:none\" points=\"\n",
       "  214.919,1061.54 246.514,1061.54 \n",
       "  \"/>\n",
       "<polyline clip-path=\"url(#clip9101)\" style=\"stroke:#000000; stroke-width:4; stroke-opacity:1; fill:none\" points=\"\n",
       "  214.919,809.693 246.514,809.693 \n",
       "  \"/>\n",
       "<polyline clip-path=\"url(#clip9101)\" style=\"stroke:#000000; stroke-width:4; stroke-opacity:1; fill:none\" points=\"\n",
       "  214.919,557.848 246.514,557.848 \n",
       "  \"/>\n",
       "<polyline clip-path=\"url(#clip9101)\" style=\"stroke:#000000; stroke-width:4; stroke-opacity:1; fill:none\" points=\"\n",
       "  214.919,306.003 246.514,306.003 \n",
       "  \"/>\n",
       "<g clip-path=\"url(#clip9101)\">\n",
       "<text style=\"fill:#000000; fill-opacity:1; font-family:Arial,Helvetica Neue,Helvetica,sans-serif; font-size:48px; text-anchor:middle;\" transform=\"rotate(0, 274.532, 1557.47)\" x=\"274.532\" y=\"1557.47\">0</text>\n",
       "</g>\n",
       "<g clip-path=\"url(#clip9101)\">\n",
       "<text style=\"fill:#000000; fill-opacity:1; font-family:Arial,Helvetica Neue,Helvetica,sans-serif; font-size:48px; text-anchor:middle;\" transform=\"rotate(0, 671.955, 1557.47)\" x=\"671.955\" y=\"1557.47\">5</text>\n",
       "</g>\n",
       "<g clip-path=\"url(#clip9101)\">\n",
       "<text style=\"fill:#000000; fill-opacity:1; font-family:Arial,Helvetica Neue,Helvetica,sans-serif; font-size:48px; text-anchor:middle;\" transform=\"rotate(0, 1069.38, 1557.47)\" x=\"1069.38\" y=\"1557.47\">10</text>\n",
       "</g>\n",
       "<g clip-path=\"url(#clip9101)\">\n",
       "<text style=\"fill:#000000; fill-opacity:1; font-family:Arial,Helvetica Neue,Helvetica,sans-serif; font-size:48px; text-anchor:middle;\" transform=\"rotate(0, 1466.8, 1557.47)\" x=\"1466.8\" y=\"1557.47\">15</text>\n",
       "</g>\n",
       "<g clip-path=\"url(#clip9101)\">\n",
       "<text style=\"fill:#000000; fill-opacity:1; font-family:Arial,Helvetica Neue,Helvetica,sans-serif; font-size:48px; text-anchor:middle;\" transform=\"rotate(0, 1864.22, 1557.47)\" x=\"1864.22\" y=\"1557.47\">20</text>\n",
       "</g>\n",
       "<g clip-path=\"url(#clip9101)\">\n",
       "<text style=\"fill:#000000; fill-opacity:1; font-family:Arial,Helvetica Neue,Helvetica,sans-serif; font-size:48px; text-anchor:middle;\" transform=\"rotate(0, 2261.65, 1557.47)\" x=\"2261.65\" y=\"1557.47\">25</text>\n",
       "</g>\n",
       "<g clip-path=\"url(#clip9101)\">\n",
       "<text style=\"fill:#000000; fill-opacity:1; font-family:Arial,Helvetica Neue,Helvetica,sans-serif; font-size:48px; text-anchor:end;\" transform=\"rotate(0, 190.919, 1330.88)\" x=\"190.919\" y=\"1330.88\">0.700</text>\n",
       "</g>\n",
       "<g clip-path=\"url(#clip9101)\">\n",
       "<text style=\"fill:#000000; fill-opacity:1; font-family:Arial,Helvetica Neue,Helvetica,sans-serif; font-size:48px; text-anchor:end;\" transform=\"rotate(0, 190.919, 1079.04)\" x=\"190.919\" y=\"1079.04\">0.725</text>\n",
       "</g>\n",
       "<g clip-path=\"url(#clip9101)\">\n",
       "<text style=\"fill:#000000; fill-opacity:1; font-family:Arial,Helvetica Neue,Helvetica,sans-serif; font-size:48px; text-anchor:end;\" transform=\"rotate(0, 190.919, 827.193)\" x=\"190.919\" y=\"827.193\">0.750</text>\n",
       "</g>\n",
       "<g clip-path=\"url(#clip9101)\">\n",
       "<text style=\"fill:#000000; fill-opacity:1; font-family:Arial,Helvetica Neue,Helvetica,sans-serif; font-size:48px; text-anchor:end;\" transform=\"rotate(0, 190.919, 575.348)\" x=\"190.919\" y=\"575.348\">0.775</text>\n",
       "</g>\n",
       "<g clip-path=\"url(#clip9101)\">\n",
       "<text style=\"fill:#000000; fill-opacity:1; font-family:Arial,Helvetica Neue,Helvetica,sans-serif; font-size:48px; text-anchor:end;\" transform=\"rotate(0, 190.919, 323.503)\" x=\"190.919\" y=\"323.503\">0.800</text>\n",
       "</g>\n",
       "<g clip-path=\"url(#clip9101)\">\n",
       "<text style=\"fill:#000000; fill-opacity:1; font-family:Arial,Helvetica Neue,Helvetica,sans-serif; font-size:59px; text-anchor:middle;\" transform=\"rotate(0, 1268.09, 51.6)\" x=\"1268.09\" y=\"51.6\">Accuracy with width</text>\n",
       "</g>\n",
       "<polyline clip-path=\"url(#clip9103)\" style=\"stroke:#0000ff; stroke-width:4; stroke-opacity:1; fill:none\" points=\"\n",
       "  274.532,1464.49 671.955,527.626 1069.38,336.224 1466.8,567.922 1864.22,164.97 2261.65,285.855 \n",
       "  \"/>\n",
       "</svg>\n"
      ]
     },
     "execution_count": 12,
     "metadata": {},
     "output_type": "execute_result"
    }
   ],
   "source": [
    "width=0:5:25\n",
    "y=[accuracy0(tX, tY),accuracy5(tX, tY),accuracy10(tX, tY),accuracy15(tX, tY),accuracy20(tX, tY),accuracy25(tX, tY)]\n",
    "p2 = plot(width,y,color=:blue,legend=false)\n",
    "title!(\"Accuracy with width\",titlefont=font(10))"
   ]
  },
  {
   "cell_type": "markdown",
   "metadata": {},
   "source": [
    "### 4: Loops of network\n",
    "Increase the number of times the model is trained on the same data. Run 1-10 epochs using @epochs. \n",
    "\n",
    "Plot the out-of-sample accuracy of each model as a function of the number epochs, starting with 1 (the baseline model) all the way up to 10."
   ]
  },
  {
   "cell_type": "code",
   "execution_count": 22,
   "metadata": {},
   "outputs": [
    {
     "name": "stdout",
     "output_type": "stream",
     "text": [
      "accuracy0(tX, tY) = 0.089\n",
      "accuracy0(tX, tY) = 0.159\n",
      "accuracy0(tX, tY) = 0.244\n",
      "accuracy0(tX, tY) = 0.298\n",
      "accuracy0(tX, tY) = 0.476\n",
      "accuracy0(tX, tY) = 0.557\n",
      "accuracy0(tX, tY) = 0.615\n"
     ]
    },
    {
     "data": {
      "text/plain": [
       "0.641"
      ]
     },
     "execution_count": 22,
     "metadata": {},
     "output_type": "execute_result"
    }
   ],
   "source": [
    "m0 = Chain(\n",
    "        Conv((2,2), 1=>16, relu),\n",
    "        x -> maxpool(x, (2,2)),\n",
    "        Conv((2,2), 16=>8, relu),\n",
    "        x -> maxpool(x, (2,2)),\n",
    "        x -> reshape(x, :, size(x, 4)),  \n",
    "        Dense(288, 10),\n",
    "        softmax   \n",
    "    ) |> gpu\n",
    "\n",
    "loss0(x, y) = crossentropy(m0(x), y)\n",
    "\n",
    "accuracy0(x, y) = mean(onecold(m0(x)) .== onecold(y))\n",
    "\n",
    "evalcb0 = throttle(() -> @show(accuracy0(tX, tY)), 10)\n",
    "opt0 = ADAM(Flux.params(m0))\n",
    "Flux.train!(loss0, train, opt0, cb = evalcb0)\n",
    "epoch1 = accuracy0(tX, tY)"
   ]
  },
  {
   "cell_type": "code",
   "execution_count": 20,
   "metadata": {},
   "outputs": [
    {
     "name": "stderr",
     "output_type": "stream",
     "text": [
      "┌ Info: Epoch 1\n",
      "└ @ Main /home/jrun/.julia/packages/Flux/oN61x/src/optimise/train.jl:93\n"
     ]
    },
    {
     "name": "stdout",
     "output_type": "stream",
     "text": [
      "accuracy0(tX, tY) = 0.667\n",
      "accuracy0(tX, tY) = 0.693\n",
      "accuracy0(tX, tY) = 0.733\n",
      "accuracy0(tX, tY) = 0.771\n",
      "accuracy0(tX, tY) = 0.79\n",
      "accuracy0(tX, tY) = 0.813\n"
     ]
    },
    {
     "name": "stderr",
     "output_type": "stream",
     "text": [
      "┌ Info: Epoch 2\n",
      "└ @ Main /home/jrun/.julia/packages/Flux/oN61x/src/optimise/train.jl:93\n"
     ]
    },
    {
     "name": "stdout",
     "output_type": "stream",
     "text": [
      "accuracy0(tX, tY) = 0.831\n",
      "accuracy0(tX, tY) = 0.835\n",
      "accuracy0(tX, tY) = 0.842\n",
      "accuracy0(tX, tY) = 0.855\n",
      "accuracy0(tX, tY) = 0.869\n",
      "accuracy0(tX, tY) = 0.871\n"
     ]
    },
    {
     "name": "stderr",
     "output_type": "stream",
     "text": [
      "┌ Info: Epoch 1\n",
      "└ @ Main /home/jrun/.julia/packages/Flux/oN61x/src/optimise/train.jl:93\n"
     ]
    },
    {
     "name": "stdout",
     "output_type": "stream",
     "text": [
      "accuracy0(tX, tY) = 0.874\n",
      "accuracy0(tX, tY) = 0.878\n",
      "accuracy0(tX, tY) = 0.879\n",
      "accuracy0(tX, tY) = 0.888\n",
      "accuracy0(tX, tY) = 0.899\n",
      "accuracy0(tX, tY) = 0.895\n",
      "accuracy0(tX, tY) = 0.899\n"
     ]
    },
    {
     "name": "stderr",
     "output_type": "stream",
     "text": [
      "┌ Info: Epoch 2\n",
      "└ @ Main /home/jrun/.julia/packages/Flux/oN61x/src/optimise/train.jl:93\n"
     ]
    },
    {
     "name": "stdout",
     "output_type": "stream",
     "text": [
      "accuracy0(tX, tY) = 0.897\n",
      "accuracy0(tX, tY) = 0.9\n",
      "accuracy0(tX, tY) = 0.906\n",
      "accuracy0(tX, tY) = 0.904\n",
      "accuracy0(tX, tY) = 0.905\n",
      "accuracy0(tX, tY) = 0.914\n"
     ]
    },
    {
     "name": "stderr",
     "output_type": "stream",
     "text": [
      "┌ Info: Epoch 3\n",
      "└ @ Main /home/jrun/.julia/packages/Flux/oN61x/src/optimise/train.jl:93\n"
     ]
    },
    {
     "name": "stdout",
     "output_type": "stream",
     "text": [
      "accuracy0(tX, tY) = 0.912\n",
      "accuracy0(tX, tY) = 0.915\n",
      "accuracy0(tX, tY) = 0.918\n",
      "accuracy0(tX, tY) = 0.919\n",
      "accuracy0(tX, tY) = 0.926\n",
      "accuracy0(tX, tY) = 0.928\n"
     ]
    },
    {
     "name": "stderr",
     "output_type": "stream",
     "text": [
      "┌ Info: Epoch 1\n",
      "└ @ Main /home/jrun/.julia/packages/Flux/oN61x/src/optimise/train.jl:93\n"
     ]
    },
    {
     "name": "stdout",
     "output_type": "stream",
     "text": [
      "accuracy0(tX, tY) = 0.928\n",
      "accuracy0(tX, tY) = 0.927\n",
      "accuracy0(tX, tY) = 0.934\n",
      "accuracy0(tX, tY) = 0.932\n",
      "accuracy0(tX, tY) = 0.935\n",
      "accuracy0(tX, tY) = 0.941\n"
     ]
    },
    {
     "name": "stderr",
     "output_type": "stream",
     "text": [
      "┌ Info: Epoch 2\n",
      "└ @ Main /home/jrun/.julia/packages/Flux/oN61x/src/optimise/train.jl:93\n"
     ]
    },
    {
     "name": "stdout",
     "output_type": "stream",
     "text": [
      "accuracy0(tX, tY) = 0.937\n",
      "accuracy0(tX, tY) = 0.937\n",
      "accuracy0(tX, tY) = 0.942\n",
      "accuracy0(tX, tY) = 0.939\n",
      "accuracy0(tX, tY) = 0.944\n",
      "accuracy0(tX, tY) = 0.947\n"
     ]
    },
    {
     "name": "stderr",
     "output_type": "stream",
     "text": [
      "┌ Info: Epoch 3\n",
      "└ @ Main /home/jrun/.julia/packages/Flux/oN61x/src/optimise/train.jl:93\n"
     ]
    },
    {
     "name": "stdout",
     "output_type": "stream",
     "text": [
      "accuracy0(tX, tY) = 0.945\n",
      "accuracy0(tX, tY) = 0.945\n",
      "accuracy0(tX, tY) = 0.947\n",
      "accuracy0(tX, tY) = 0.946\n",
      "accuracy0(tX, tY) = 0.947\n",
      "accuracy0(tX, tY) = 0.952\n"
     ]
    },
    {
     "name": "stderr",
     "output_type": "stream",
     "text": [
      "┌ Info: Epoch 4\n",
      "└ @ Main /home/jrun/.julia/packages/Flux/oN61x/src/optimise/train.jl:93\n"
     ]
    },
    {
     "name": "stdout",
     "output_type": "stream",
     "text": [
      "accuracy0(tX, tY) = 0.949\n",
      "accuracy0(tX, tY) = 0.951\n",
      "accuracy0(tX, tY) = 0.953\n",
      "accuracy0(tX, tY) = 0.952\n",
      "accuracy0(tX, tY) = 0.953\n",
      "accuracy0(tX, tY) = 0.953\n"
     ]
    },
    {
     "name": "stderr",
     "output_type": "stream",
     "text": [
      "┌ Info: Epoch 1\n",
      "└ @ Main /home/jrun/.julia/packages/Flux/oN61x/src/optimise/train.jl:93\n"
     ]
    },
    {
     "name": "stdout",
     "output_type": "stream",
     "text": [
      "accuracy0(tX, tY) = 0.954\n",
      "accuracy0(tX, tY) = 0.953\n",
      "accuracy0(tX, tY) = 0.957\n",
      "accuracy0(tX, tY) = 0.956\n",
      "accuracy0(tX, tY) = 0.956\n",
      "accuracy0(tX, tY) = 0.956\n"
     ]
    },
    {
     "name": "stderr",
     "output_type": "stream",
     "text": [
      "┌ Info: Epoch 2\n",
      "└ @ Main /home/jrun/.julia/packages/Flux/oN61x/src/optimise/train.jl:93\n"
     ]
    },
    {
     "name": "stdout",
     "output_type": "stream",
     "text": [
      "accuracy0(tX, tY) = 0.957\n",
      "accuracy0(tX, tY) = 0.955\n",
      "accuracy0(tX, tY) = 0.958\n",
      "accuracy0(tX, tY) = 0.958\n",
      "accuracy0(tX, tY) = 0.961\n",
      "accuracy0(tX, tY) = 0.96\n"
     ]
    },
    {
     "name": "stderr",
     "output_type": "stream",
     "text": [
      "┌ Info: Epoch 3\n",
      "└ @ Main /home/jrun/.julia/packages/Flux/oN61x/src/optimise/train.jl:93\n"
     ]
    },
    {
     "name": "stdout",
     "output_type": "stream",
     "text": [
      "accuracy0(tX, tY) = 0.96\n",
      "accuracy0(tX, tY) = 0.958\n",
      "accuracy0(tX, tY) = 0.959\n",
      "accuracy0(tX, tY) = 0.961\n",
      "accuracy0(tX, tY) = 0.964\n",
      "accuracy0(tX, tY) = 0.961\n"
     ]
    },
    {
     "name": "stderr",
     "output_type": "stream",
     "text": [
      "┌ Info: Epoch 4\n",
      "└ @ Main /home/jrun/.julia/packages/Flux/oN61x/src/optimise/train.jl:93\n"
     ]
    },
    {
     "name": "stdout",
     "output_type": "stream",
     "text": [
      "accuracy0(tX, tY) = 0.962\n",
      "accuracy0(tX, tY) = 0.961\n",
      "accuracy0(tX, tY) = 0.962\n",
      "accuracy0(tX, tY) = 0.963\n",
      "accuracy0(tX, tY) = 0.965\n",
      "accuracy0(tX, tY) = 0.962\n"
     ]
    },
    {
     "name": "stderr",
     "output_type": "stream",
     "text": [
      "┌ Info: Epoch 5\n",
      "└ @ Main /home/jrun/.julia/packages/Flux/oN61x/src/optimise/train.jl:93\n"
     ]
    },
    {
     "name": "stdout",
     "output_type": "stream",
     "text": [
      "accuracy0(tX, tY) = 0.966\n",
      "accuracy0(tX, tY) = 0.964\n",
      "accuracy0(tX, tY) = 0.967\n",
      "accuracy0(tX, tY) = 0.964\n",
      "accuracy0(tX, tY) = 0.965\n",
      "accuracy0(tX, tY) = 0.961\n"
     ]
    },
    {
     "name": "stderr",
     "output_type": "stream",
     "text": [
      "┌ Info: Epoch 1\n",
      "└ @ Main /home/jrun/.julia/packages/Flux/oN61x/src/optimise/train.jl:93\n"
     ]
    },
    {
     "name": "stdout",
     "output_type": "stream",
     "text": [
      "accuracy0(tX, tY) = 0.968\n",
      "accuracy0(tX, tY) = 0.966\n",
      "accuracy0(tX, tY) = 0.966\n",
      "accuracy0(tX, tY) = 0.966\n",
      "accuracy0(tX, tY) = 0.965\n",
      "accuracy0(tX, tY) = 0.964\n"
     ]
    },
    {
     "name": "stderr",
     "output_type": "stream",
     "text": [
      "┌ Info: Epoch 2\n",
      "└ @ Main /home/jrun/.julia/packages/Flux/oN61x/src/optimise/train.jl:93\n"
     ]
    },
    {
     "name": "stdout",
     "output_type": "stream",
     "text": [
      "accuracy0(tX, tY) = 0.969\n",
      "accuracy0(tX, tY) = 0.965\n",
      "accuracy0(tX, tY) = 0.968\n",
      "accuracy0(tX, tY) = 0.968\n",
      "accuracy0(tX, tY) = 0.967\n",
      "accuracy0(tX, tY) = 0.966\n"
     ]
    },
    {
     "name": "stderr",
     "output_type": "stream",
     "text": [
      "┌ Info: Epoch 3\n",
      "└ @ Main /home/jrun/.julia/packages/Flux/oN61x/src/optimise/train.jl:93\n"
     ]
    },
    {
     "name": "stdout",
     "output_type": "stream",
     "text": [
      "accuracy0(tX, tY) = 0.969\n",
      "accuracy0(tX, tY) = 0.967\n",
      "accuracy0(tX, tY) = 0.967\n",
      "accuracy0(tX, tY) = 0.97\n",
      "accuracy0(tX, tY) = 0.967\n",
      "accuracy0(tX, tY) = 0.969\n"
     ]
    },
    {
     "name": "stderr",
     "output_type": "stream",
     "text": [
      "┌ Info: Epoch 4\n",
      "└ @ Main /home/jrun/.julia/packages/Flux/oN61x/src/optimise/train.jl:93\n"
     ]
    },
    {
     "name": "stdout",
     "output_type": "stream",
     "text": [
      "accuracy0(tX, tY) = 0.97\n",
      "accuracy0(tX, tY) = 0.968\n",
      "accuracy0(tX, tY) = 0.969\n",
      "accuracy0(tX, tY) = 0.971\n",
      "accuracy0(tX, tY) = 0.967\n",
      "accuracy0(tX, tY) = 0.971\n"
     ]
    },
    {
     "name": "stderr",
     "output_type": "stream",
     "text": [
      "┌ Info: Epoch 5\n",
      "└ @ Main /home/jrun/.julia/packages/Flux/oN61x/src/optimise/train.jl:93\n"
     ]
    },
    {
     "name": "stdout",
     "output_type": "stream",
     "text": [
      "accuracy0(tX, tY) = 0.97\n",
      "accuracy0(tX, tY) = 0.969\n",
      "accuracy0(tX, tY) = 0.969\n",
      "accuracy0(tX, tY) = 0.972\n",
      "accuracy0(tX, tY) = 0.967\n",
      "accuracy0(tX, tY) = 0.972\n"
     ]
    },
    {
     "name": "stderr",
     "output_type": "stream",
     "text": [
      "┌ Info: Epoch 6\n",
      "└ @ Main /home/jrun/.julia/packages/Flux/oN61x/src/optimise/train.jl:93\n"
     ]
    },
    {
     "name": "stdout",
     "output_type": "stream",
     "text": [
      "accuracy0(tX, tY) = 0.97\n",
      "accuracy0(tX, tY) = 0.971\n",
      "accuracy0(tX, tY) = 0.968\n",
      "accuracy0(tX, tY) = 0.972\n",
      "accuracy0(tX, tY) = 0.968\n",
      "accuracy0(tX, tY) = 0.972\n"
     ]
    },
    {
     "name": "stderr",
     "output_type": "stream",
     "text": [
      "┌ Info: Epoch 1\n",
      "└ @ Main /home/jrun/.julia/packages/Flux/oN61x/src/optimise/train.jl:93\n"
     ]
    },
    {
     "name": "stdout",
     "output_type": "stream",
     "text": [
      "accuracy0(tX, tY) = 0.97\n",
      "accuracy0(tX, tY) = 0.971\n",
      "accuracy0(tX, tY) = 0.967\n",
      "accuracy0(tX, tY) = 0.972\n",
      "accuracy0(tX, tY) = 0.97\n",
      "accuracy0(tX, tY) = 0.971\n"
     ]
    },
    {
     "name": "stderr",
     "output_type": "stream",
     "text": [
      "┌ Info: Epoch 2\n",
      "└ @ Main /home/jrun/.julia/packages/Flux/oN61x/src/optimise/train.jl:93\n"
     ]
    },
    {
     "name": "stdout",
     "output_type": "stream",
     "text": [
      "accuracy0(tX, tY) = 0.97\n",
      "accuracy0(tX, tY) = 0.971\n",
      "accuracy0(tX, tY) = 0.968\n",
      "accuracy0(tX, tY) = 0.972\n",
      "accuracy0(tX, tY) = 0.97\n",
      "accuracy0(tX, tY) = 0.97\n"
     ]
    },
    {
     "name": "stderr",
     "output_type": "stream",
     "text": [
      "┌ Info: Epoch 3\n",
      "└ @ Main /home/jrun/.julia/packages/Flux/oN61x/src/optimise/train.jl:93\n"
     ]
    },
    {
     "name": "stdout",
     "output_type": "stream",
     "text": [
      "accuracy0(tX, tY) = 0.973\n",
      "accuracy0(tX, tY) = 0.97\n",
      "accuracy0(tX, tY) = 0.969\n",
      "accuracy0(tX, tY) = 0.972\n",
      "accuracy0(tX, tY) = 0.97\n",
      "accuracy0(tX, tY) = 0.97\n"
     ]
    },
    {
     "name": "stderr",
     "output_type": "stream",
     "text": [
      "┌ Info: Epoch 4\n",
      "└ @ Main /home/jrun/.julia/packages/Flux/oN61x/src/optimise/train.jl:93\n"
     ]
    },
    {
     "name": "stdout",
     "output_type": "stream",
     "text": [
      "accuracy0(tX, tY) = 0.973\n",
      "accuracy0(tX, tY) = 0.97\n",
      "accuracy0(tX, tY) = 0.969\n",
      "accuracy0(tX, tY) = 0.972\n",
      "accuracy0(tX, tY) = 0.97\n",
      "accuracy0(tX, tY) = 0.97\n"
     ]
    },
    {
     "name": "stderr",
     "output_type": "stream",
     "text": [
      "┌ Info: Epoch 5\n",
      "└ @ Main /home/jrun/.julia/packages/Flux/oN61x/src/optimise/train.jl:93\n"
     ]
    },
    {
     "name": "stdout",
     "output_type": "stream",
     "text": [
      "accuracy0(tX, tY) = 0.971\n",
      "accuracy0(tX, tY) = 0.97\n",
      "accuracy0(tX, tY) = 0.968\n",
      "accuracy0(tX, tY) = 0.972\n",
      "accuracy0(tX, tY) = 0.971\n",
      "accuracy0(tX, tY) = 0.97\n"
     ]
    },
    {
     "name": "stderr",
     "output_type": "stream",
     "text": [
      "┌ Info: Epoch 6\n",
      "└ @ Main /home/jrun/.julia/packages/Flux/oN61x/src/optimise/train.jl:93\n"
     ]
    },
    {
     "name": "stdout",
     "output_type": "stream",
     "text": [
      "accuracy0(tX, tY) = 0.971\n",
      "accuracy0(tX, tY) = 0.971\n",
      "accuracy0(tX, tY) = 0.968\n",
      "accuracy0(tX, tY) = 0.972\n",
      "accuracy0(tX, tY) = 0.972\n",
      "accuracy0(tX, tY) = 0.971\n"
     ]
    },
    {
     "name": "stderr",
     "output_type": "stream",
     "text": [
      "┌ Info: Epoch 7\n",
      "└ @ Main /home/jrun/.julia/packages/Flux/oN61x/src/optimise/train.jl:93\n"
     ]
    },
    {
     "name": "stdout",
     "output_type": "stream",
     "text": [
      "accuracy0(tX, tY) = 0.971\n",
      "accuracy0(tX, tY) = 0.97\n",
      "accuracy0(tX, tY) = 0.968\n",
      "accuracy0(tX, tY) = 0.972\n",
      "accuracy0(tX, tY) = 0.971\n",
      "accuracy0(tX, tY) = 0.972\n"
     ]
    },
    {
     "name": "stderr",
     "output_type": "stream",
     "text": [
      "┌ Info: Epoch 1\n",
      "└ @ Main /home/jrun/.julia/packages/Flux/oN61x/src/optimise/train.jl:93\n"
     ]
    },
    {
     "name": "stdout",
     "output_type": "stream",
     "text": [
      "accuracy0(tX, tY) = 0.973\n",
      "accuracy0(tX, tY) = 0.971\n",
      "accuracy0(tX, tY) = 0.97\n",
      "accuracy0(tX, tY) = 0.971\n",
      "accuracy0(tX, tY) = 0.97\n",
      "accuracy0(tX, tY) = 0.971\n"
     ]
    },
    {
     "name": "stderr",
     "output_type": "stream",
     "text": [
      "┌ Info: Epoch 2\n",
      "└ @ Main /home/jrun/.julia/packages/Flux/oN61x/src/optimise/train.jl:93\n"
     ]
    },
    {
     "name": "stdout",
     "output_type": "stream",
     "text": [
      "accuracy0(tX, tY) = 0.973\n",
      "accuracy0(tX, tY) = 0.97\n",
      "accuracy0(tX, tY) = 0.97\n",
      "accuracy0(tX, tY) = 0.97\n",
      "accuracy0(tX, tY) = 0.97\n",
      "accuracy0(tX, tY) = 0.972\n"
     ]
    },
    {
     "name": "stderr",
     "output_type": "stream",
     "text": [
      "┌ Info: Epoch 3\n",
      "└ @ Main /home/jrun/.julia/packages/Flux/oN61x/src/optimise/train.jl:93\n"
     ]
    },
    {
     "name": "stdout",
     "output_type": "stream",
     "text": [
      "accuracy0(tX, tY) = 0.973\n",
      "accuracy0(tX, tY) = 0.97\n",
      "accuracy0(tX, tY) = 0.97\n",
      "accuracy0(tX, tY) = 0.97\n",
      "accuracy0(tX, tY) = 0.97\n",
      "accuracy0(tX, tY) = 0.971\n"
     ]
    },
    {
     "name": "stderr",
     "output_type": "stream",
     "text": [
      "┌ Info: Epoch 4\n",
      "└ @ Main /home/jrun/.julia/packages/Flux/oN61x/src/optimise/train.jl:93\n"
     ]
    },
    {
     "name": "stdout",
     "output_type": "stream",
     "text": [
      "accuracy0(tX, tY) = 0.973\n",
      "accuracy0(tX, tY) = 0.97\n",
      "accuracy0(tX, tY) = 0.97\n",
      "accuracy0(tX, tY) = 0.97\n",
      "accuracy0(tX, tY) = 0.97\n",
      "accuracy0(tX, tY) = 0.972\n"
     ]
    },
    {
     "name": "stderr",
     "output_type": "stream",
     "text": [
      "┌ Info: Epoch 5\n",
      "└ @ Main /home/jrun/.julia/packages/Flux/oN61x/src/optimise/train.jl:93\n"
     ]
    },
    {
     "name": "stdout",
     "output_type": "stream",
     "text": [
      "accuracy0(tX, tY) = 0.971\n",
      "accuracy0(tX, tY) = 0.97\n",
      "accuracy0(tX, tY) = 0.97\n",
      "accuracy0(tX, tY) = 0.972\n",
      "accuracy0(tX, tY) = 0.97\n",
      "accuracy0(tX, tY) = 0.974\n",
      "accuracy0(tX, tY) = 0.971\n"
     ]
    },
    {
     "name": "stderr",
     "output_type": "stream",
     "text": [
      "┌ Info: Epoch 6\n",
      "└ @ Main /home/jrun/.julia/packages/Flux/oN61x/src/optimise/train.jl:93\n"
     ]
    },
    {
     "name": "stdout",
     "output_type": "stream",
     "text": [
      "accuracy0(tX, tY) = 0.971\n",
      "accuracy0(tX, tY) = 0.969\n",
      "accuracy0(tX, tY) = 0.973\n",
      "accuracy0(tX, tY) = 0.972\n",
      "accuracy0(tX, tY) = 0.972\n",
      "accuracy0(tX, tY) = 0.971\n"
     ]
    },
    {
     "name": "stderr",
     "output_type": "stream",
     "text": [
      "┌ Info: Epoch 7\n",
      "└ @ Main /home/jrun/.julia/packages/Flux/oN61x/src/optimise/train.jl:93\n"
     ]
    },
    {
     "name": "stdout",
     "output_type": "stream",
     "text": [
      "accuracy0(tX, tY) = 0.97\n",
      "accuracy0(tX, tY) = 0.969\n",
      "accuracy0(tX, tY) = 0.973\n",
      "accuracy0(tX, tY) = 0.971\n",
      "accuracy0(tX, tY) = 0.972\n",
      "accuracy0(tX, tY) = 0.971\n"
     ]
    },
    {
     "name": "stderr",
     "output_type": "stream",
     "text": [
      "┌ Info: Epoch 8\n",
      "└ @ Main /home/jrun/.julia/packages/Flux/oN61x/src/optimise/train.jl:93\n"
     ]
    },
    {
     "name": "stdout",
     "output_type": "stream",
     "text": [
      "accuracy0(tX, tY) = 0.971\n",
      "accuracy0(tX, tY) = 0.969\n",
      "accuracy0(tX, tY) = 0.972\n",
      "accuracy0(tX, tY) = 0.971\n",
      "accuracy0(tX, tY) = 0.972\n",
      "accuracy0(tX, tY) = 0.97\n"
     ]
    },
    {
     "name": "stderr",
     "output_type": "stream",
     "text": [
      "┌ Info: Epoch 1\n",
      "└ @ Main /home/jrun/.julia/packages/Flux/oN61x/src/optimise/train.jl:93\n"
     ]
    },
    {
     "name": "stdout",
     "output_type": "stream",
     "text": [
      "accuracy0(tX, tY) = 0.972\n",
      "accuracy0(tX, tY) = 0.971\n",
      "accuracy0(tX, tY) = 0.971\n",
      "accuracy0(tX, tY) = 0.971\n",
      "accuracy0(tX, tY) = 0.97\n",
      "accuracy0(tX, tY) = 0.974\n"
     ]
    },
    {
     "name": "stderr",
     "output_type": "stream",
     "text": [
      "┌ Info: Epoch 2\n",
      "└ @ Main /home/jrun/.julia/packages/Flux/oN61x/src/optimise/train.jl:93\n"
     ]
    },
    {
     "name": "stdout",
     "output_type": "stream",
     "text": [
      "accuracy0(tX, tY) = 0.97\n",
      "accuracy0(tX, tY) = 0.968\n",
      "accuracy0(tX, tY) = 0.972\n",
      "accuracy0(tX, tY) = 0.972\n",
      "accuracy0(tX, tY) = 0.972\n",
      "accuracy0(tX, tY) = 0.975\n"
     ]
    },
    {
     "name": "stderr",
     "output_type": "stream",
     "text": [
      "┌ Info: Epoch 3\n",
      "└ @ Main /home/jrun/.julia/packages/Flux/oN61x/src/optimise/train.jl:93\n"
     ]
    },
    {
     "name": "stdout",
     "output_type": "stream",
     "text": [
      "accuracy0(tX, tY) = 0.97\n",
      "accuracy0(tX, tY) = 0.967\n",
      "accuracy0(tX, tY) = 0.971\n",
      "accuracy0(tX, tY) = 0.971\n",
      "accuracy0(tX, tY) = 0.972\n",
      "accuracy0(tX, tY) = 0.976\n"
     ]
    },
    {
     "name": "stderr",
     "output_type": "stream",
     "text": [
      "┌ Info: Epoch 4\n",
      "└ @ Main /home/jrun/.julia/packages/Flux/oN61x/src/optimise/train.jl:93\n"
     ]
    },
    {
     "name": "stdout",
     "output_type": "stream",
     "text": [
      "accuracy0(tX, tY) = 0.971\n",
      "accuracy0(tX, tY) = 0.967\n",
      "accuracy0(tX, tY) = 0.971\n",
      "accuracy0(tX, tY) = 0.971\n",
      "accuracy0(tX, tY) = 0.972\n",
      "accuracy0(tX, tY) = 0.976\n"
     ]
    },
    {
     "name": "stderr",
     "output_type": "stream",
     "text": [
      "┌ Info: Epoch 5\n",
      "└ @ Main /home/jrun/.julia/packages/Flux/oN61x/src/optimise/train.jl:93\n"
     ]
    },
    {
     "name": "stdout",
     "output_type": "stream",
     "text": [
      "accuracy0(tX, tY) = 0.971\n",
      "accuracy0(tX, tY) = 0.967\n",
      "accuracy0(tX, tY) = 0.971\n",
      "accuracy0(tX, tY) = 0.971\n",
      "accuracy0(tX, tY) = 0.973\n",
      "accuracy0(tX, tY) = 0.976\n"
     ]
    },
    {
     "name": "stderr",
     "output_type": "stream",
     "text": [
      "┌ Info: Epoch 6\n",
      "└ @ Main /home/jrun/.julia/packages/Flux/oN61x/src/optimise/train.jl:93\n"
     ]
    },
    {
     "name": "stdout",
     "output_type": "stream",
     "text": [
      "accuracy0(tX, tY) = 0.971\n",
      "accuracy0(tX, tY) = 0.968\n",
      "accuracy0(tX, tY) = 0.971\n",
      "accuracy0(tX, tY) = 0.971\n",
      "accuracy0(tX, tY) = 0.972\n",
      "accuracy0(tX, tY) = 0.976\n"
     ]
    },
    {
     "name": "stderr",
     "output_type": "stream",
     "text": [
      "┌ Info: Epoch 7\n",
      "└ @ Main /home/jrun/.julia/packages/Flux/oN61x/src/optimise/train.jl:93\n"
     ]
    },
    {
     "name": "stdout",
     "output_type": "stream",
     "text": [
      "accuracy0(tX, tY) = 0.971\n",
      "accuracy0(tX, tY) = 0.968\n",
      "accuracy0(tX, tY) = 0.971\n",
      "accuracy0(tX, tY) = 0.971\n",
      "accuracy0(tX, tY) = 0.972\n",
      "accuracy0(tX, tY) = 0.976\n"
     ]
    },
    {
     "name": "stderr",
     "output_type": "stream",
     "text": [
      "┌ Info: Epoch 8\n",
      "└ @ Main /home/jrun/.julia/packages/Flux/oN61x/src/optimise/train.jl:93\n"
     ]
    },
    {
     "name": "stdout",
     "output_type": "stream",
     "text": [
      "accuracy0(tX, tY) = 0.971\n",
      "accuracy0(tX, tY) = 0.969\n",
      "accuracy0(tX, tY) = 0.971\n",
      "accuracy0(tX, tY) = 0.972\n",
      "accuracy0(tX, tY) = 0.973\n",
      "accuracy0(tX, tY) = 0.975\n",
      "accuracy0(tX, tY) = 0.97\n"
     ]
    },
    {
     "name": "stderr",
     "output_type": "stream",
     "text": [
      "┌ Info: Epoch 9\n",
      "└ @ Main /home/jrun/.julia/packages/Flux/oN61x/src/optimise/train.jl:93\n"
     ]
    },
    {
     "name": "stdout",
     "output_type": "stream",
     "text": [
      "accuracy0(tX, tY) = 0.972\n",
      "accuracy0(tX, tY) = 0.971\n",
      "accuracy0(tX, tY) = 0.971\n",
      "accuracy0(tX, tY) = 0.973\n",
      "accuracy0(tX, tY) = 0.976\n",
      "accuracy0(tX, tY) = 0.971\n"
     ]
    },
    {
     "name": "stderr",
     "output_type": "stream",
     "text": [
      "┌ Info: Epoch 1\n",
      "└ @ Main /home/jrun/.julia/packages/Flux/oN61x/src/optimise/train.jl:93\n"
     ]
    },
    {
     "name": "stdout",
     "output_type": "stream",
     "text": [
      "accuracy0(tX, tY) = 0.972\n",
      "accuracy0(tX, tY) = 0.97\n",
      "accuracy0(tX, tY) = 0.971\n",
      "accuracy0(tX, tY) = 0.971\n",
      "accuracy0(tX, tY) = 0.977\n",
      "accuracy0(tX, tY) = 0.97\n"
     ]
    },
    {
     "name": "stderr",
     "output_type": "stream",
     "text": [
      "┌ Info: Epoch 2\n",
      "└ @ Main /home/jrun/.julia/packages/Flux/oN61x/src/optimise/train.jl:93\n"
     ]
    },
    {
     "name": "stdout",
     "output_type": "stream",
     "text": [
      "accuracy0(tX, tY) = 0.972\n",
      "accuracy0(tX, tY) = 0.971\n",
      "accuracy0(tX, tY) = 0.972\n",
      "accuracy0(tX, tY) = 0.969\n",
      "accuracy0(tX, tY) = 0.975\n",
      "accuracy0(tX, tY) = 0.968\n"
     ]
    },
    {
     "name": "stderr",
     "output_type": "stream",
     "text": [
      "┌ Info: Epoch 3\n",
      "└ @ Main /home/jrun/.julia/packages/Flux/oN61x/src/optimise/train.jl:93\n"
     ]
    },
    {
     "name": "stdout",
     "output_type": "stream",
     "text": [
      "accuracy0(tX, tY) = 0.972\n",
      "accuracy0(tX, tY) = 0.971\n",
      "accuracy0(tX, tY) = 0.972\n",
      "accuracy0(tX, tY) = 0.969\n",
      "accuracy0(tX, tY) = 0.975\n",
      "accuracy0(tX, tY) = 0.97\n"
     ]
    },
    {
     "name": "stderr",
     "output_type": "stream",
     "text": [
      "┌ Info: Epoch 4\n",
      "└ @ Main /home/jrun/.julia/packages/Flux/oN61x/src/optimise/train.jl:93\n"
     ]
    },
    {
     "name": "stdout",
     "output_type": "stream",
     "text": [
      "accuracy0(tX, tY) = 0.972\n",
      "accuracy0(tX, tY) = 0.969\n",
      "accuracy0(tX, tY) = 0.975\n",
      "accuracy0(tX, tY) = 0.969\n",
      "accuracy0(tX, tY) = 0.972\n",
      "accuracy0(tX, tY) = 0.974\n",
      "accuracy0(tX, tY) = 0.972\n"
     ]
    },
    {
     "name": "stderr",
     "output_type": "stream",
     "text": [
      "┌ Info: Epoch 5\n",
      "└ @ Main /home/jrun/.julia/packages/Flux/oN61x/src/optimise/train.jl:93\n"
     ]
    },
    {
     "name": "stdout",
     "output_type": "stream",
     "text": [
      "accuracy0(tX, tY) = 0.974\n",
      "accuracy0(tX, tY) = 0.973\n",
      "accuracy0(tX, tY) = 0.971\n",
      "accuracy0(tX, tY) = 0.973\n",
      "accuracy0(tX, tY) = 0.976\n",
      "accuracy0(tX, tY) = 0.971\n"
     ]
    },
    {
     "name": "stderr",
     "output_type": "stream",
     "text": [
      "┌ Info: Epoch 6\n",
      "└ @ Main /home/jrun/.julia/packages/Flux/oN61x/src/optimise/train.jl:93\n"
     ]
    },
    {
     "name": "stdout",
     "output_type": "stream",
     "text": [
      "accuracy0(tX, tY) = 0.973\n",
      "accuracy0(tX, tY) = 0.972\n",
      "accuracy0(tX, tY) = 0.97\n",
      "accuracy0(tX, tY) = 0.969\n",
      "accuracy0(tX, tY) = 0.976\n",
      "accuracy0(tX, tY) = 0.969\n"
     ]
    },
    {
     "name": "stderr",
     "output_type": "stream",
     "text": [
      "┌ Info: Epoch 7\n",
      "└ @ Main /home/jrun/.julia/packages/Flux/oN61x/src/optimise/train.jl:93\n"
     ]
    },
    {
     "name": "stdout",
     "output_type": "stream",
     "text": [
      "accuracy0(tX, tY) = 0.971\n",
      "accuracy0(tX, tY) = 0.971\n",
      "accuracy0(tX, tY) = 0.971\n",
      "accuracy0(tX, tY) = 0.969\n",
      "accuracy0(tX, tY) = 0.973\n",
      "accuracy0(tX, tY) = 0.972\n"
     ]
    },
    {
     "name": "stderr",
     "output_type": "stream",
     "text": [
      "┌ Info: Epoch 8\n",
      "└ @ Main /home/jrun/.julia/packages/Flux/oN61x/src/optimise/train.jl:93\n"
     ]
    },
    {
     "name": "stdout",
     "output_type": "stream",
     "text": [
      "accuracy0(tX, tY) = 0.972\n",
      "accuracy0(tX, tY) = 0.973\n",
      "accuracy0(tX, tY) = 0.974\n",
      "accuracy0(tX, tY) = 0.972\n",
      "accuracy0(tX, tY) = 0.973\n",
      "accuracy0(tX, tY) = 0.978\n",
      "accuracy0(tX, tY) = 0.971\n"
     ]
    },
    {
     "name": "stderr",
     "output_type": "stream",
     "text": [
      "┌ Info: Epoch 9\n",
      "└ @ Main /home/jrun/.julia/packages/Flux/oN61x/src/optimise/train.jl:93\n"
     ]
    },
    {
     "name": "stdout",
     "output_type": "stream",
     "text": [
      "accuracy0(tX, tY) = 0.973\n",
      "accuracy0(tX, tY) = 0.972\n",
      "accuracy0(tX, tY) = 0.971\n",
      "accuracy0(tX, tY) = 0.969\n",
      "accuracy0(tX, tY) = 0.977\n",
      "accuracy0(tX, tY) = 0.972\n"
     ]
    },
    {
     "name": "stderr",
     "output_type": "stream",
     "text": [
      "┌ Info: Epoch 10\n",
      "└ @ Main /home/jrun/.julia/packages/Flux/oN61x/src/optimise/train.jl:93\n"
     ]
    },
    {
     "name": "stdout",
     "output_type": "stream",
     "text": [
      "accuracy0(tX, tY) = 0.972\n",
      "accuracy0(tX, tY) = 0.971\n",
      "accuracy0(tX, tY) = 0.971\n",
      "accuracy0(tX, tY) = 0.969\n",
      "accuracy0(tX, tY) = 0.974\n",
      "accuracy0(tX, tY) = 0.973\n"
     ]
    },
    {
     "data": {
      "text/plain": [
       "0.972"
      ]
     },
     "execution_count": 20,
     "metadata": {},
     "output_type": "execute_result"
    }
   ],
   "source": [
    "using Flux: @epochs\n",
    "@epochs 2 Flux.train!(loss0, train, opt0, cb = evalcb0)\n",
    "epoch2 = accuracy0(tX, tY)\n",
    "@epochs 3 Flux.train!(loss0, train, opt0, cb = evalcb0)\n",
    "epoch3 = accuracy0(tX, tY)\n",
    "@epochs 4 Flux.train!(loss0, train, opt0, cb = evalcb0)\n",
    "epoch4 = accuracy0(tX, tY)\n",
    "@epochs 5 Flux.train!(loss0, train, opt0, cb = evalcb0)\n",
    "epoch5 = accuracy0(tX, tY)\n",
    "@epochs 6 Flux.train!(loss0, train, opt0, cb = evalcb0)\n",
    "epoch6 = accuracy0(tX, tY)\n",
    "@epochs 7 Flux.train!(loss0, train, opt0, cb = evalcb0)\n",
    "epoch7 = accuracy0(tX, tY)\n",
    "@epochs 8 Flux.train!(loss0, train, opt0, cb = evalcb0)\n",
    "epoch8 = accuracy0(tX, tY)\n",
    "@epochs 9 Flux.train!(loss0, train, opt0, cb = evalcb0)\n",
    "epoch9 = accuracy0(tX, tY)\n",
    "@epochs 10 Flux.train!(loss0, train, opt0, cb = evalcb0)\n",
    "epoch10 = accuracy0(tX, tY)"
   ]
  },
  {
   "cell_type": "code",
   "execution_count": 25,
   "metadata": {},
   "outputs": [
    {
     "data": {
      "image/svg+xml": [
       "<?xml version=\"1.0\" encoding=\"utf-8\"?>\n",
       "<svg xmlns=\"http://www.w3.org/2000/svg\" xmlns:xlink=\"http://www.w3.org/1999/xlink\" width=\"600\" height=\"400\" viewBox=\"0 0 2400 1600\">\n",
       "<defs>\n",
       "  <clipPath id=\"clip9700\">\n",
       "    <rect x=\"0\" y=\"0\" width=\"2000\" height=\"2000\"/>\n",
       "  </clipPath>\n",
       "</defs>\n",
       "<defs>\n",
       "  <clipPath id=\"clip9701\">\n",
       "    <rect x=\"0\" y=\"0\" width=\"2400\" height=\"1600\"/>\n",
       "  </clipPath>\n",
       "</defs>\n",
       "<polygon clip-path=\"url(#clip9701)\" points=\"\n",
       "0,1600 2400,1600 2400,0 0,0 \n",
       "  \" fill=\"#ffffff\" fill-rule=\"evenodd\" fill-opacity=\"1\"/>\n",
       "<defs>\n",
       "  <clipPath id=\"clip9702\">\n",
       "    <rect x=\"480\" y=\"0\" width=\"1681\" height=\"1600\"/>\n",
       "  </clipPath>\n",
       "</defs>\n",
       "<polygon clip-path=\"url(#clip9701)\" points=\"\n",
       "188.156,1503.47 2321.26,1503.47 2321.26,125.984 188.156,125.984 \n",
       "  \" fill=\"#ffffff\" fill-rule=\"evenodd\" fill-opacity=\"1\"/>\n",
       "<defs>\n",
       "  <clipPath id=\"clip9703\">\n",
       "    <rect x=\"188\" y=\"125\" width=\"2134\" height=\"1378\"/>\n",
       "  </clipPath>\n",
       "</defs>\n",
       "<polyline clip-path=\"url(#clip9703)\" style=\"stroke:#000000; stroke-width:2; stroke-opacity:0.1; fill:none\" points=\"\n",
       "  248.527,1503.47 248.527,125.984 \n",
       "  \"/>\n",
       "<polyline clip-path=\"url(#clip9703)\" style=\"stroke:#000000; stroke-width:2; stroke-opacity:0.1; fill:none\" points=\"\n",
       "  695.719,1503.47 695.719,125.984 \n",
       "  \"/>\n",
       "<polyline clip-path=\"url(#clip9703)\" style=\"stroke:#000000; stroke-width:2; stroke-opacity:0.1; fill:none\" points=\"\n",
       "  1142.91,1503.47 1142.91,125.984 \n",
       "  \"/>\n",
       "<polyline clip-path=\"url(#clip9703)\" style=\"stroke:#000000; stroke-width:2; stroke-opacity:0.1; fill:none\" points=\"\n",
       "  1590.1,1503.47 1590.1,125.984 \n",
       "  \"/>\n",
       "<polyline clip-path=\"url(#clip9703)\" style=\"stroke:#000000; stroke-width:2; stroke-opacity:0.1; fill:none\" points=\"\n",
       "  2037.29,1503.47 2037.29,125.984 \n",
       "  \"/>\n",
       "<polyline clip-path=\"url(#clip9703)\" style=\"stroke:#000000; stroke-width:2; stroke-opacity:0.1; fill:none\" points=\"\n",
       "  188.156,1429.15 2321.26,1429.15 \n",
       "  \"/>\n",
       "<polyline clip-path=\"url(#clip9703)\" style=\"stroke:#000000; stroke-width:2; stroke-opacity:0.1; fill:none\" points=\"\n",
       "  188.156,1232.85 2321.26,1232.85 \n",
       "  \"/>\n",
       "<polyline clip-path=\"url(#clip9703)\" style=\"stroke:#000000; stroke-width:2; stroke-opacity:0.1; fill:none\" points=\"\n",
       "  188.156,1036.55 2321.26,1036.55 \n",
       "  \"/>\n",
       "<polyline clip-path=\"url(#clip9703)\" style=\"stroke:#000000; stroke-width:2; stroke-opacity:0.1; fill:none\" points=\"\n",
       "  188.156,840.249 2321.26,840.249 \n",
       "  \"/>\n",
       "<polyline clip-path=\"url(#clip9703)\" style=\"stroke:#000000; stroke-width:2; stroke-opacity:0.1; fill:none\" points=\"\n",
       "  188.156,643.947 2321.26,643.947 \n",
       "  \"/>\n",
       "<polyline clip-path=\"url(#clip9703)\" style=\"stroke:#000000; stroke-width:2; stroke-opacity:0.1; fill:none\" points=\"\n",
       "  188.156,447.645 2321.26,447.645 \n",
       "  \"/>\n",
       "<polyline clip-path=\"url(#clip9703)\" style=\"stroke:#000000; stroke-width:2; stroke-opacity:0.1; fill:none\" points=\"\n",
       "  188.156,251.343 2321.26,251.343 \n",
       "  \"/>\n",
       "<polyline clip-path=\"url(#clip9701)\" style=\"stroke:#000000; stroke-width:4; stroke-opacity:1; fill:none\" points=\"\n",
       "  188.156,1503.47 2321.26,1503.47 \n",
       "  \"/>\n",
       "<polyline clip-path=\"url(#clip9701)\" style=\"stroke:#000000; stroke-width:4; stroke-opacity:1; fill:none\" points=\"\n",
       "  188.156,1503.47 188.156,125.984 \n",
       "  \"/>\n",
       "<polyline clip-path=\"url(#clip9701)\" style=\"stroke:#000000; stroke-width:4; stroke-opacity:1; fill:none\" points=\"\n",
       "  248.527,1503.47 248.527,1482.81 \n",
       "  \"/>\n",
       "<polyline clip-path=\"url(#clip9701)\" style=\"stroke:#000000; stroke-width:4; stroke-opacity:1; fill:none\" points=\"\n",
       "  695.719,1503.47 695.719,1482.81 \n",
       "  \"/>\n",
       "<polyline clip-path=\"url(#clip9701)\" style=\"stroke:#000000; stroke-width:4; stroke-opacity:1; fill:none\" points=\"\n",
       "  1142.91,1503.47 1142.91,1482.81 \n",
       "  \"/>\n",
       "<polyline clip-path=\"url(#clip9701)\" style=\"stroke:#000000; stroke-width:4; stroke-opacity:1; fill:none\" points=\"\n",
       "  1590.1,1503.47 1590.1,1482.81 \n",
       "  \"/>\n",
       "<polyline clip-path=\"url(#clip9701)\" style=\"stroke:#000000; stroke-width:4; stroke-opacity:1; fill:none\" points=\"\n",
       "  2037.29,1503.47 2037.29,1482.81 \n",
       "  \"/>\n",
       "<polyline clip-path=\"url(#clip9701)\" style=\"stroke:#000000; stroke-width:4; stroke-opacity:1; fill:none\" points=\"\n",
       "  188.156,1429.15 220.153,1429.15 \n",
       "  \"/>\n",
       "<polyline clip-path=\"url(#clip9701)\" style=\"stroke:#000000; stroke-width:4; stroke-opacity:1; fill:none\" points=\"\n",
       "  188.156,1232.85 220.153,1232.85 \n",
       "  \"/>\n",
       "<polyline clip-path=\"url(#clip9701)\" style=\"stroke:#000000; stroke-width:4; stroke-opacity:1; fill:none\" points=\"\n",
       "  188.156,1036.55 220.153,1036.55 \n",
       "  \"/>\n",
       "<polyline clip-path=\"url(#clip9701)\" style=\"stroke:#000000; stroke-width:4; stroke-opacity:1; fill:none\" points=\"\n",
       "  188.156,840.249 220.153,840.249 \n",
       "  \"/>\n",
       "<polyline clip-path=\"url(#clip9701)\" style=\"stroke:#000000; stroke-width:4; stroke-opacity:1; fill:none\" points=\"\n",
       "  188.156,643.947 220.153,643.947 \n",
       "  \"/>\n",
       "<polyline clip-path=\"url(#clip9701)\" style=\"stroke:#000000; stroke-width:4; stroke-opacity:1; fill:none\" points=\"\n",
       "  188.156,447.645 220.153,447.645 \n",
       "  \"/>\n",
       "<polyline clip-path=\"url(#clip9701)\" style=\"stroke:#000000; stroke-width:4; stroke-opacity:1; fill:none\" points=\"\n",
       "  188.156,251.343 220.153,251.343 \n",
       "  \"/>\n",
       "<g clip-path=\"url(#clip9701)\">\n",
       "<text style=\"fill:#000000; fill-opacity:1; font-family:Arial,Helvetica Neue,Helvetica,sans-serif; font-size:48px; text-anchor:middle;\" transform=\"rotate(0, 248.527, 1557.47)\" x=\"248.527\" y=\"1557.47\">0</text>\n",
       "</g>\n",
       "<g clip-path=\"url(#clip9701)\">\n",
       "<text style=\"fill:#000000; fill-opacity:1; font-family:Arial,Helvetica Neue,Helvetica,sans-serif; font-size:48px; text-anchor:middle;\" transform=\"rotate(0, 695.719, 1557.47)\" x=\"695.719\" y=\"1557.47\">2</text>\n",
       "</g>\n",
       "<g clip-path=\"url(#clip9701)\">\n",
       "<text style=\"fill:#000000; fill-opacity:1; font-family:Arial,Helvetica Neue,Helvetica,sans-serif; font-size:48px; text-anchor:middle;\" transform=\"rotate(0, 1142.91, 1557.47)\" x=\"1142.91\" y=\"1557.47\">4</text>\n",
       "</g>\n",
       "<g clip-path=\"url(#clip9701)\">\n",
       "<text style=\"fill:#000000; fill-opacity:1; font-family:Arial,Helvetica Neue,Helvetica,sans-serif; font-size:48px; text-anchor:middle;\" transform=\"rotate(0, 1590.1, 1557.47)\" x=\"1590.1\" y=\"1557.47\">6</text>\n",
       "</g>\n",
       "<g clip-path=\"url(#clip9701)\">\n",
       "<text style=\"fill:#000000; fill-opacity:1; font-family:Arial,Helvetica Neue,Helvetica,sans-serif; font-size:48px; text-anchor:middle;\" transform=\"rotate(0, 2037.29, 1557.47)\" x=\"2037.29\" y=\"1557.47\">8</text>\n",
       "</g>\n",
       "<g clip-path=\"url(#clip9701)\">\n",
       "<text style=\"fill:#000000; fill-opacity:1; font-family:Arial,Helvetica Neue,Helvetica,sans-serif; font-size:48px; text-anchor:end;\" transform=\"rotate(0, 164.156, 1446.65)\" x=\"164.156\" y=\"1446.65\">0.65</text>\n",
       "</g>\n",
       "<g clip-path=\"url(#clip9701)\">\n",
       "<text style=\"fill:#000000; fill-opacity:1; font-family:Arial,Helvetica Neue,Helvetica,sans-serif; font-size:48px; text-anchor:end;\" transform=\"rotate(0, 164.156, 1250.35)\" x=\"164.156\" y=\"1250.35\">0.70</text>\n",
       "</g>\n",
       "<g clip-path=\"url(#clip9701)\">\n",
       "<text style=\"fill:#000000; fill-opacity:1; font-family:Arial,Helvetica Neue,Helvetica,sans-serif; font-size:48px; text-anchor:end;\" transform=\"rotate(0, 164.156, 1054.05)\" x=\"164.156\" y=\"1054.05\">0.75</text>\n",
       "</g>\n",
       "<g clip-path=\"url(#clip9701)\">\n",
       "<text style=\"fill:#000000; fill-opacity:1; font-family:Arial,Helvetica Neue,Helvetica,sans-serif; font-size:48px; text-anchor:end;\" transform=\"rotate(0, 164.156, 857.749)\" x=\"164.156\" y=\"857.749\">0.80</text>\n",
       "</g>\n",
       "<g clip-path=\"url(#clip9701)\">\n",
       "<text style=\"fill:#000000; fill-opacity:1; font-family:Arial,Helvetica Neue,Helvetica,sans-serif; font-size:48px; text-anchor:end;\" transform=\"rotate(0, 164.156, 661.447)\" x=\"164.156\" y=\"661.447\">0.85</text>\n",
       "</g>\n",
       "<g clip-path=\"url(#clip9701)\">\n",
       "<text style=\"fill:#000000; fill-opacity:1; font-family:Arial,Helvetica Neue,Helvetica,sans-serif; font-size:48px; text-anchor:end;\" transform=\"rotate(0, 164.156, 465.145)\" x=\"164.156\" y=\"465.145\">0.90</text>\n",
       "</g>\n",
       "<g clip-path=\"url(#clip9701)\">\n",
       "<text style=\"fill:#000000; fill-opacity:1; font-family:Arial,Helvetica Neue,Helvetica,sans-serif; font-size:48px; text-anchor:end;\" transform=\"rotate(0, 164.156, 268.843)\" x=\"164.156\" y=\"268.843\">0.95</text>\n",
       "</g>\n",
       "<g clip-path=\"url(#clip9701)\">\n",
       "<text style=\"fill:#000000; fill-opacity:1; font-family:Arial,Helvetica Neue,Helvetica,sans-serif; font-size:59px; text-anchor:middle;\" transform=\"rotate(0, 1254.71, 51.6)\" x=\"1254.71\" y=\"51.6\">Accuracy with number epochs</text>\n",
       "</g>\n",
       "<polyline clip-path=\"url(#clip9703)\" style=\"stroke:#0000ff; stroke-width:4; stroke-opacity:1; fill:none\" points=\"\n",
       "  248.527,1464.49 472.123,549.722 695.719,341.642 919.314,235.639 1142.91,184.6 1366.51,168.896 1590.1,168.896 1813.7,172.822 2037.29,168.896 2260.89,164.97 \n",
       "  \n",
       "  \"/>\n",
       "</svg>\n"
      ]
     },
     "execution_count": 25,
     "metadata": {},
     "output_type": "execute_result"
    }
   ],
   "source": [
    "numepoch=0:9\n",
    "y=[epoch1,epoch2,epoch3,epoch4,epoch5,epoch6,epoch7,epoch8,epoch9,epoch10]\n",
    "p3 = plot(numepoch,y,color=:blue,legend=false)\n",
    "title!(\"Accuracy with number epochs\",titlefont=font(10))"
   ]
  },
  {
   "cell_type": "markdown",
   "metadata": {},
   "source": [
    "### Conclusion\n"
   ]
  },
  {
   "cell_type": "markdown",
   "metadata": {},
   "source": [
    "Comparing prediction results of various depth, width or epochs, we can find that \"Epochs\" make the largest improvement in out-of-sample accuracy that more loops of neural network dramatically enhance the prediction accuracy of image recognition. "
   ]
  },
  {
   "cell_type": "code",
   "execution_count": null,
   "metadata": {},
   "outputs": [],
   "source": []
  }
 ],
 "metadata": {
  "@webio": {
   "lastCommId": "500f4e05dac843c68a548c0ae30123ab",
   "lastKernelId": "78d17201-90f0-45c5-a787-74caa19edbdb"
  },
  "kernelspec": {
   "display_name": "Julia 1.0.2",
   "language": "julia",
   "name": "julia-1.0"
  },
  "language_info": {
   "file_extension": ".jl",
   "mimetype": "application/julia",
   "name": "julia",
   "version": "1.0.2"
  }
 },
 "nbformat": 4,
 "nbformat_minor": 2
}
